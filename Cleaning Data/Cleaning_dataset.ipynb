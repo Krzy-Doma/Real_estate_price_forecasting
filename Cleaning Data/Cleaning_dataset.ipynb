{
 "cells": [
  {
   "cell_type": "code",
   "execution_count": 24,
   "id": "initial_id",
   "metadata": {
    "collapsed": true,
    "ExecuteTime": {
     "end_time": "2024-12-03T19:37:39.251521Z",
     "start_time": "2024-12-03T19:37:39.164635Z"
    }
   },
   "outputs": [],
   "source": [
    "from bs4 import BeautifulSoup\n",
    "from bs4 import ResultSet\n",
    "import numpy as np\n",
    "import pandas as pd\n",
    "import requests\n",
    "import re\n",
    "import matplotlib.pyplot as plt\n",
    "from scipy import stats"
   ]
  },
  {
   "cell_type": "code",
   "execution_count": 25,
   "outputs": [],
   "source": [
    "dataset = pd.read_csv('dataset.csv', delimiter='|')"
   ],
   "metadata": {
    "collapsed": false,
    "ExecuteTime": {
     "end_time": "2024-12-03T19:37:39.602813500Z",
     "start_time": "2024-12-03T19:37:39.418144Z"
    }
   },
   "id": "dac63d627837e8ba"
  },
  {
   "cell_type": "code",
   "execution_count": 26,
   "outputs": [
    {
     "data": {
      "text/plain": "                                                   title  overall_price  \\\n0      4-pokojowe mieszkanie 65m2 + ogródek Bezpośrednio      819900.00   \n1       1 pokojowe + balkon INWESTYCYJNIe na DNI OTWARTE      412024.00   \n2               Kompleks 5 apartamentów. Wysoki standard     2990000.00   \n3      Apartament inwestycyjny, ostatnie piętro, k/Sk...      416907.00   \n4       Apartament inwestycyjny Śląska 12 z umową najmu!      475820.00   \n...                                                  ...            ...   \n15188   INPRO S.A. - OPTIMA - mieszkanie 3-pok. 56.33 m2      584029.44   \n15189   INPRO S.A. - OPTIMA - mieszkanie 3-pok. 61.44 m2      637009.92   \n15190  INPRO S.A. - OPTIMA - mieszkanie 2-pok. 47.22 ...      497448.00   \n15191  INPRO S.A. - OPTIMA - mieszkanie 2-pok. 46.30 ...      490039.20   \n15192  INPRO S.A. - OPTIMA - mieszkanie 3-pok. 65.17 ...      668644.20   \n\n         area number_of_rooms floor type_of_market  parking  elevator  \\\n0       65.57               4     0            NaN        1         0   \n1       26.01               1     2        primary        1         1   \n2      150.00               8     4      secondary        1         0   \n3       24.89               1     5      secondary        0         1   \n4       25.72               1     0      secondary        0         1   \n...       ...             ...   ...            ...      ...       ...   \n15188   56.33               3   2.0        primary        1         0   \n15189   61.44               3   3.0        primary        1         0   \n15190   47.00               2   1.0        primary        1         0   \n15191   46.30               2   1.0        primary        1         0   \n15192   65.17               3   1.0        primary        1         0   \n\n       year_of_creation  internet  ... basement  price_for_m2_in_PLN  balcony  \\\n0                   NaN       NaN  ...      NaN             12504.19        0   \n1                   NaN       0.0  ...      0.0             15840.98        1   \n2                1929.0       1.0  ...      1.0             19933.33        1   \n3                2022.0       1.0  ...      0.0             16749.98        0   \n4                2022.0       1.0  ...      0.0             18500.00        0   \n...                 ...       ...  ...      ...                  ...      ...   \n15188            2024.0       1.0  ...      1.0             10368.00        1   \n15189            2024.0       1.0  ...      1.0             10368.00        1   \n15190            2025.0       1.0  ...      1.0             10584.00        1   \n15191            2025.0       1.0  ...      1.0             10584.00        1   \n15192            2025.0       1.0  ...      1.0             10260.00        1   \n\n       garden  terrace              street        district    city   latitude  \\\n0           1        1          ul. Zakole           Stogi  Gdańsk  54.362472   \n1           0        0                 NaN     Śródmieście  Gdańsk  54.349020   \n2           0        0  ul. Wójta Radtkego     Śródmieście  Gdynia  54.522236   \n3           0        0       ul. Śląska 12  Przymorze Małe  Gdańsk  54.406171   \n4           0        0       ul. Śląska 12  Przymorze Małe  Gdańsk  54.406171   \n...       ...      ...                 ...             ...     ...        ...   \n15188       0        0       Serdecznikowa         Dąbrowa  gdynia  54.471546   \n15189       0        0       Serdecznikowa         Dąbrowa  gdynia  54.471546   \n15190       0        0       Serdecznikowa         Dąbrowa  gdynia  54.471546   \n15191       0        0       Serdecznikowa         Dąbrowa  gdynia  54.471546   \n15192       0        0       Serdecznikowa         Dąbrowa  gdynia  54.471546   \n\n       longtitude  \n0       18.709969  \n1       18.651800  \n2       18.537335  \n3       18.576846  \n4       18.576846  \n...           ...  \n15188   18.467438  \n15189   18.467438  \n15190   18.467438  \n15191   18.467438  \n15192   18.467438  \n\n[15193 rows x 21 columns]",
      "text/html": "<div>\n<style scoped>\n    .dataframe tbody tr th:only-of-type {\n        vertical-align: middle;\n    }\n\n    .dataframe tbody tr th {\n        vertical-align: top;\n    }\n\n    .dataframe thead th {\n        text-align: right;\n    }\n</style>\n<table border=\"1\" class=\"dataframe\">\n  <thead>\n    <tr style=\"text-align: right;\">\n      <th></th>\n      <th>title</th>\n      <th>overall_price</th>\n      <th>area</th>\n      <th>number_of_rooms</th>\n      <th>floor</th>\n      <th>type_of_market</th>\n      <th>parking</th>\n      <th>elevator</th>\n      <th>year_of_creation</th>\n      <th>internet</th>\n      <th>...</th>\n      <th>basement</th>\n      <th>price_for_m2_in_PLN</th>\n      <th>balcony</th>\n      <th>garden</th>\n      <th>terrace</th>\n      <th>street</th>\n      <th>district</th>\n      <th>city</th>\n      <th>latitude</th>\n      <th>longtitude</th>\n    </tr>\n  </thead>\n  <tbody>\n    <tr>\n      <th>0</th>\n      <td>4-pokojowe mieszkanie 65m2 + ogródek Bezpośrednio</td>\n      <td>819900.00</td>\n      <td>65.57</td>\n      <td>4</td>\n      <td>0</td>\n      <td>NaN</td>\n      <td>1</td>\n      <td>0</td>\n      <td>NaN</td>\n      <td>NaN</td>\n      <td>...</td>\n      <td>NaN</td>\n      <td>12504.19</td>\n      <td>0</td>\n      <td>1</td>\n      <td>1</td>\n      <td>ul. Zakole</td>\n      <td>Stogi</td>\n      <td>Gdańsk</td>\n      <td>54.362472</td>\n      <td>18.709969</td>\n    </tr>\n    <tr>\n      <th>1</th>\n      <td>1 pokojowe + balkon INWESTYCYJNIe na DNI OTWARTE</td>\n      <td>412024.00</td>\n      <td>26.01</td>\n      <td>1</td>\n      <td>2</td>\n      <td>primary</td>\n      <td>1</td>\n      <td>1</td>\n      <td>NaN</td>\n      <td>0.0</td>\n      <td>...</td>\n      <td>0.0</td>\n      <td>15840.98</td>\n      <td>1</td>\n      <td>0</td>\n      <td>0</td>\n      <td>NaN</td>\n      <td>Śródmieście</td>\n      <td>Gdańsk</td>\n      <td>54.349020</td>\n      <td>18.651800</td>\n    </tr>\n    <tr>\n      <th>2</th>\n      <td>Kompleks 5 apartamentów. Wysoki standard</td>\n      <td>2990000.00</td>\n      <td>150.00</td>\n      <td>8</td>\n      <td>4</td>\n      <td>secondary</td>\n      <td>1</td>\n      <td>0</td>\n      <td>1929.0</td>\n      <td>1.0</td>\n      <td>...</td>\n      <td>1.0</td>\n      <td>19933.33</td>\n      <td>1</td>\n      <td>0</td>\n      <td>0</td>\n      <td>ul. Wójta Radtkego</td>\n      <td>Śródmieście</td>\n      <td>Gdynia</td>\n      <td>54.522236</td>\n      <td>18.537335</td>\n    </tr>\n    <tr>\n      <th>3</th>\n      <td>Apartament inwestycyjny, ostatnie piętro, k/Sk...</td>\n      <td>416907.00</td>\n      <td>24.89</td>\n      <td>1</td>\n      <td>5</td>\n      <td>secondary</td>\n      <td>0</td>\n      <td>1</td>\n      <td>2022.0</td>\n      <td>1.0</td>\n      <td>...</td>\n      <td>0.0</td>\n      <td>16749.98</td>\n      <td>0</td>\n      <td>0</td>\n      <td>0</td>\n      <td>ul. Śląska 12</td>\n      <td>Przymorze Małe</td>\n      <td>Gdańsk</td>\n      <td>54.406171</td>\n      <td>18.576846</td>\n    </tr>\n    <tr>\n      <th>4</th>\n      <td>Apartament inwestycyjny Śląska 12 z umową najmu!</td>\n      <td>475820.00</td>\n      <td>25.72</td>\n      <td>1</td>\n      <td>0</td>\n      <td>secondary</td>\n      <td>0</td>\n      <td>1</td>\n      <td>2022.0</td>\n      <td>1.0</td>\n      <td>...</td>\n      <td>0.0</td>\n      <td>18500.00</td>\n      <td>0</td>\n      <td>0</td>\n      <td>0</td>\n      <td>ul. Śląska 12</td>\n      <td>Przymorze Małe</td>\n      <td>Gdańsk</td>\n      <td>54.406171</td>\n      <td>18.576846</td>\n    </tr>\n    <tr>\n      <th>...</th>\n      <td>...</td>\n      <td>...</td>\n      <td>...</td>\n      <td>...</td>\n      <td>...</td>\n      <td>...</td>\n      <td>...</td>\n      <td>...</td>\n      <td>...</td>\n      <td>...</td>\n      <td>...</td>\n      <td>...</td>\n      <td>...</td>\n      <td>...</td>\n      <td>...</td>\n      <td>...</td>\n      <td>...</td>\n      <td>...</td>\n      <td>...</td>\n      <td>...</td>\n      <td>...</td>\n    </tr>\n    <tr>\n      <th>15188</th>\n      <td>INPRO S.A. - OPTIMA - mieszkanie 3-pok. 56.33 m2</td>\n      <td>584029.44</td>\n      <td>56.33</td>\n      <td>3</td>\n      <td>2.0</td>\n      <td>primary</td>\n      <td>1</td>\n      <td>0</td>\n      <td>2024.0</td>\n      <td>1.0</td>\n      <td>...</td>\n      <td>1.0</td>\n      <td>10368.00</td>\n      <td>1</td>\n      <td>0</td>\n      <td>0</td>\n      <td>Serdecznikowa</td>\n      <td>Dąbrowa</td>\n      <td>gdynia</td>\n      <td>54.471546</td>\n      <td>18.467438</td>\n    </tr>\n    <tr>\n      <th>15189</th>\n      <td>INPRO S.A. - OPTIMA - mieszkanie 3-pok. 61.44 m2</td>\n      <td>637009.92</td>\n      <td>61.44</td>\n      <td>3</td>\n      <td>3.0</td>\n      <td>primary</td>\n      <td>1</td>\n      <td>0</td>\n      <td>2024.0</td>\n      <td>1.0</td>\n      <td>...</td>\n      <td>1.0</td>\n      <td>10368.00</td>\n      <td>1</td>\n      <td>0</td>\n      <td>0</td>\n      <td>Serdecznikowa</td>\n      <td>Dąbrowa</td>\n      <td>gdynia</td>\n      <td>54.471546</td>\n      <td>18.467438</td>\n    </tr>\n    <tr>\n      <th>15190</th>\n      <td>INPRO S.A. - OPTIMA - mieszkanie 2-pok. 47.22 ...</td>\n      <td>497448.00</td>\n      <td>47.00</td>\n      <td>2</td>\n      <td>1.0</td>\n      <td>primary</td>\n      <td>1</td>\n      <td>0</td>\n      <td>2025.0</td>\n      <td>1.0</td>\n      <td>...</td>\n      <td>1.0</td>\n      <td>10584.00</td>\n      <td>1</td>\n      <td>0</td>\n      <td>0</td>\n      <td>Serdecznikowa</td>\n      <td>Dąbrowa</td>\n      <td>gdynia</td>\n      <td>54.471546</td>\n      <td>18.467438</td>\n    </tr>\n    <tr>\n      <th>15191</th>\n      <td>INPRO S.A. - OPTIMA - mieszkanie 2-pok. 46.30 ...</td>\n      <td>490039.20</td>\n      <td>46.30</td>\n      <td>2</td>\n      <td>1.0</td>\n      <td>primary</td>\n      <td>1</td>\n      <td>0</td>\n      <td>2025.0</td>\n      <td>1.0</td>\n      <td>...</td>\n      <td>1.0</td>\n      <td>10584.00</td>\n      <td>1</td>\n      <td>0</td>\n      <td>0</td>\n      <td>Serdecznikowa</td>\n      <td>Dąbrowa</td>\n      <td>gdynia</td>\n      <td>54.471546</td>\n      <td>18.467438</td>\n    </tr>\n    <tr>\n      <th>15192</th>\n      <td>INPRO S.A. - OPTIMA - mieszkanie 3-pok. 65.17 ...</td>\n      <td>668644.20</td>\n      <td>65.17</td>\n      <td>3</td>\n      <td>1.0</td>\n      <td>primary</td>\n      <td>1</td>\n      <td>0</td>\n      <td>2025.0</td>\n      <td>1.0</td>\n      <td>...</td>\n      <td>1.0</td>\n      <td>10260.00</td>\n      <td>1</td>\n      <td>0</td>\n      <td>0</td>\n      <td>Serdecznikowa</td>\n      <td>Dąbrowa</td>\n      <td>gdynia</td>\n      <td>54.471546</td>\n      <td>18.467438</td>\n    </tr>\n  </tbody>\n</table>\n<p>15193 rows × 21 columns</p>\n</div>"
     },
     "metadata": {},
     "output_type": "display_data"
    }
   ],
   "source": [
    "display(dataset)"
   ],
   "metadata": {
    "collapsed": false,
    "ExecuteTime": {
     "end_time": "2024-12-03T19:37:40.032331900Z",
     "start_time": "2024-12-03T19:37:39.712730100Z"
    }
   },
   "id": "d4f6474f0ba65623"
  },
  {
   "cell_type": "markdown",
   "source": [
    "## Sprawdzanie wartości unikalnych w kolumnie 'number_of_rooms'"
   ],
   "metadata": {
    "collapsed": false
   },
   "id": "4322f51929872cc4"
  },
  {
   "cell_type": "code",
   "execution_count": 27,
   "outputs": [
    {
     "data": {
      "text/plain": "number_of_rooms\n2                5510\n3                5307\n4                2371\n1                1030\n5                 537\n6                 208\n7                  86\n8                  52\n9                  30\n10                 23\n12                  9\nwięcej niż 10       8\n16                  3\n13                  3\n11                  2\n20                  2\n14                  2\n18                  2\n24                  2\n17                  1\n50                  1\n35                  1\n15                  1\n19                  1\n30                  1\nName: count, dtype: int64"
     },
     "execution_count": 27,
     "metadata": {},
     "output_type": "execute_result"
    }
   ],
   "source": [
    "dataset['number_of_rooms'].value_counts()"
   ],
   "metadata": {
    "collapsed": false,
    "ExecuteTime": {
     "end_time": "2024-12-03T19:37:40.587070500Z",
     "start_time": "2024-12-03T19:37:40.154657900Z"
    }
   },
   "id": "936d879e310342a6"
  },
  {
   "cell_type": "markdown",
   "source": [
    "### Usuwanie wierszy z wartością 'więcej niż 10'"
   ],
   "metadata": {
    "collapsed": false
   },
   "id": "8fe39c3a1d5031a0"
  },
  {
   "cell_type": "code",
   "execution_count": 28,
   "outputs": [],
   "source": [
    "dataset.drop(dataset[dataset['number_of_rooms'] == 'więcej niż 10'].index, inplace=True)"
   ],
   "metadata": {
    "collapsed": false,
    "ExecuteTime": {
     "end_time": "2024-12-03T19:37:41.409831400Z",
     "start_time": "2024-12-03T19:37:40.743394200Z"
    }
   },
   "id": "71507a191e047d45"
  },
  {
   "cell_type": "code",
   "execution_count": 29,
   "outputs": [
    {
     "data": {
      "text/plain": "number_of_rooms\n2     5510\n3     5307\n4     2371\n1     1030\n5      537\n6      208\n7       86\n8       52\n9       30\n10      23\n12       9\n16       3\n13       3\n11       2\n20       2\n14       2\n18       2\n24       2\n17       1\n50       1\n35       1\n15       1\n19       1\n30       1\nName: count, dtype: int64"
     },
     "execution_count": 29,
     "metadata": {},
     "output_type": "execute_result"
    }
   ],
   "source": [
    "dataset['number_of_rooms'].value_counts()"
   ],
   "metadata": {
    "collapsed": false,
    "ExecuteTime": {
     "end_time": "2024-12-03T19:37:41.578436200Z",
     "start_time": "2024-12-03T19:37:40.917760100Z"
    }
   },
   "id": "ff0fedda6bb88bb"
  },
  {
   "cell_type": "markdown",
   "source": [
    "## Sprawdzanie wartości unikalnych w kolumnie 'floor'"
   ],
   "metadata": {
    "collapsed": false
   },
   "id": "905e756cd8641b42"
  },
  {
   "cell_type": "code",
   "execution_count": 30,
   "outputs": [
    {
     "data": {
      "text/plain": "floor\n1           1799\n1.0         1675\n0           1363\n2           1335\n0.0         1321\n2.0         1271\n3.0         1157\n3           1148\n4            760\n4.0          729\n5            292\n5.0          270\n6            145\n> 10         139\n7.0          119\n6.0          116\n7            113\n8.0          102\n8             93\n10            68\n10.0          68\n9.0           66\n9             56\n11.0          25\n17.0          20\n12.0          19\n14.0          13\n13.0          11\n15.0          11\n16.0          10\n18.0           4\nsuterena       3\npoddasze       1\n23.0           1\n27.0           1\n25.0           1\nName: count, dtype: int64"
     },
     "execution_count": 30,
     "metadata": {},
     "output_type": "execute_result"
    }
   ],
   "source": [
    "dataset['floor'].value_counts()"
   ],
   "metadata": {
    "collapsed": false,
    "ExecuteTime": {
     "end_time": "2024-12-03T19:37:41.865860600Z",
     "start_time": "2024-12-03T19:37:41.371701100Z"
    }
   },
   "id": "dfaaf436a0c2b910"
  },
  {
   "cell_type": "code",
   "execution_count": 31,
   "outputs": [
    {
     "name": "stdout",
     "output_type": "stream",
     "text": [
      "title                   object\n",
      "overall_price          float64\n",
      "area                   float64\n",
      "number_of_rooms         object\n",
      "floor                   object\n",
      "type_of_market          object\n",
      "parking                  int64\n",
      "elevator                 int64\n",
      "year_of_creation       float64\n",
      "internet               float64\n",
      "type_of_building        object\n",
      "basement               float64\n",
      "price_for_m2_in_PLN    float64\n",
      "balcony                  int64\n",
      "garden                   int64\n",
      "terrace                  int64\n",
      "street                  object\n",
      "district                object\n",
      "city                    object\n",
      "latitude               float64\n",
      "longtitude             float64\n",
      "dtype: object\n"
     ]
    }
   ],
   "source": [
    "print(dataset.dtypes)"
   ],
   "metadata": {
    "collapsed": false,
    "ExecuteTime": {
     "end_time": "2024-12-03T19:37:42.205202Z",
     "start_time": "2024-12-03T19:37:41.530832500Z"
    }
   },
   "id": "6eb69ee934cf0b79"
  },
  {
   "cell_type": "markdown",
   "source": [
    "### Usuwanie wierszy z wartością '> 10', 'suterena', 'poddasze'"
   ],
   "metadata": {
    "collapsed": false
   },
   "id": "a96a5d689f3b132a"
  },
  {
   "cell_type": "code",
   "execution_count": 32,
   "outputs": [],
   "source": [
    "dataset.drop(dataset[dataset['floor'] == '> 10'].index, inplace=True)\n",
    "dataset.drop(dataset[dataset['floor'] == 'suterena'].index, inplace=True)\n",
    "dataset.drop(dataset[dataset['floor'] == 'poddasze'].index, inplace=True)"
   ],
   "metadata": {
    "collapsed": false,
    "ExecuteTime": {
     "end_time": "2024-12-03T19:37:42.705396700Z",
     "start_time": "2024-12-03T19:37:42.006875900Z"
    }
   },
   "id": "6d4921c1d9c84f84"
  },
  {
   "cell_type": "code",
   "execution_count": 33,
   "outputs": [
    {
     "data": {
      "text/plain": "floor\n1       1799\n1.0     1675\n0       1363\n2       1335\n0.0     1321\n2.0     1271\n3.0     1157\n3       1148\n4        760\n4.0      729\n5        292\n5.0      270\n6        145\n7.0      119\n6.0      116\n7        113\n8.0      102\n8         93\n10.0      68\n10        68\n9.0       66\n9         56\n11.0      25\n17.0      20\n12.0      19\n14.0      13\n13.0      11\n15.0      11\n16.0      10\n18.0       4\n23.0       1\n27.0       1\n25.0       1\nName: count, dtype: int64"
     },
     "execution_count": 33,
     "metadata": {},
     "output_type": "execute_result"
    }
   ],
   "source": [
    "dataset['floor'].value_counts()"
   ],
   "metadata": {
    "collapsed": false,
    "ExecuteTime": {
     "end_time": "2024-12-03T19:37:42.935449400Z",
     "start_time": "2024-12-03T19:37:42.168060500Z"
    }
   },
   "id": "29d506101ea476ac"
  },
  {
   "cell_type": "markdown",
   "source": [
    "## Sprawdzanie czy są oferty bez podanej ceny"
   ],
   "metadata": {
    "collapsed": false
   },
   "id": "af2ace1c0e12eda"
  },
  {
   "cell_type": "code",
   "execution_count": 34,
   "outputs": [
    {
     "data": {
      "text/plain": "                                               title  overall_price  area  \\\n8255           Hit! Kawalerka po remoncie na Chełmie            NaN   NaN   \n9812                       Sopot  Al. Niepodległości            NaN   NaN   \n10249  Designerskie mieszkanie w kamienicy, Wrzeszcz            NaN  63.0   \n11950                Inwestycyjna nieruchomość Sopot            NaN  90.0   \n\n      number_of_rooms floor type_of_market  parking  elevator  \\\n8255                1   0.0      secondary        0         0   \n9812                1   2.0      secondary        1         0   \n10249               3   1.0      secondary        0         0   \n11950               5   NaN      secondary        1         0   \n\n       year_of_creation  internet  ... basement  price_for_m2_in_PLN  balcony  \\\n8255             1990.0       0.0  ...      0.0              12273.0        0   \n9812             2021.0       0.0  ...      0.0              27227.0        1   \n10249            1904.0       0.0  ...      1.0                  NaN        0   \n11950            1967.0       0.0  ...      1.0                  NaN        1   \n\n       garden  terrace                          street             district  \\\n8255        0        0                         Łużycka                Chełm   \n9812        0        0                  Niepodległości          Dolny Sopot   \n10249       0        0   Ks. Józefa Zator-Przytockiego             Wrzeszcz   \n11950       1        0                            null  Wyścigi / Karlikowo   \n\n         city   latitude  longtitude  \n8255   gdansk  54.340363   18.627950  \n9812    sopot  54.440964   18.561271  \n10249  gdansk  54.380035   18.609767  \n11950   sopot  54.433407   18.579679  \n\n[4 rows x 21 columns]",
      "text/html": "<div>\n<style scoped>\n    .dataframe tbody tr th:only-of-type {\n        vertical-align: middle;\n    }\n\n    .dataframe tbody tr th {\n        vertical-align: top;\n    }\n\n    .dataframe thead th {\n        text-align: right;\n    }\n</style>\n<table border=\"1\" class=\"dataframe\">\n  <thead>\n    <tr style=\"text-align: right;\">\n      <th></th>\n      <th>title</th>\n      <th>overall_price</th>\n      <th>area</th>\n      <th>number_of_rooms</th>\n      <th>floor</th>\n      <th>type_of_market</th>\n      <th>parking</th>\n      <th>elevator</th>\n      <th>year_of_creation</th>\n      <th>internet</th>\n      <th>...</th>\n      <th>basement</th>\n      <th>price_for_m2_in_PLN</th>\n      <th>balcony</th>\n      <th>garden</th>\n      <th>terrace</th>\n      <th>street</th>\n      <th>district</th>\n      <th>city</th>\n      <th>latitude</th>\n      <th>longtitude</th>\n    </tr>\n  </thead>\n  <tbody>\n    <tr>\n      <th>8255</th>\n      <td>Hit! Kawalerka po remoncie na Chełmie</td>\n      <td>NaN</td>\n      <td>NaN</td>\n      <td>1</td>\n      <td>0.0</td>\n      <td>secondary</td>\n      <td>0</td>\n      <td>0</td>\n      <td>1990.0</td>\n      <td>0.0</td>\n      <td>...</td>\n      <td>0.0</td>\n      <td>12273.0</td>\n      <td>0</td>\n      <td>0</td>\n      <td>0</td>\n      <td>Łużycka</td>\n      <td>Chełm</td>\n      <td>gdansk</td>\n      <td>54.340363</td>\n      <td>18.627950</td>\n    </tr>\n    <tr>\n      <th>9812</th>\n      <td>Sopot  Al. Niepodległości</td>\n      <td>NaN</td>\n      <td>NaN</td>\n      <td>1</td>\n      <td>2.0</td>\n      <td>secondary</td>\n      <td>1</td>\n      <td>0</td>\n      <td>2021.0</td>\n      <td>0.0</td>\n      <td>...</td>\n      <td>0.0</td>\n      <td>27227.0</td>\n      <td>1</td>\n      <td>0</td>\n      <td>0</td>\n      <td>Niepodległości</td>\n      <td>Dolny Sopot</td>\n      <td>sopot</td>\n      <td>54.440964</td>\n      <td>18.561271</td>\n    </tr>\n    <tr>\n      <th>10249</th>\n      <td>Designerskie mieszkanie w kamienicy, Wrzeszcz</td>\n      <td>NaN</td>\n      <td>63.0</td>\n      <td>3</td>\n      <td>1.0</td>\n      <td>secondary</td>\n      <td>0</td>\n      <td>0</td>\n      <td>1904.0</td>\n      <td>0.0</td>\n      <td>...</td>\n      <td>1.0</td>\n      <td>NaN</td>\n      <td>0</td>\n      <td>0</td>\n      <td>0</td>\n      <td>Ks. Józefa Zator-Przytockiego</td>\n      <td>Wrzeszcz</td>\n      <td>gdansk</td>\n      <td>54.380035</td>\n      <td>18.609767</td>\n    </tr>\n    <tr>\n      <th>11950</th>\n      <td>Inwestycyjna nieruchomość Sopot</td>\n      <td>NaN</td>\n      <td>90.0</td>\n      <td>5</td>\n      <td>NaN</td>\n      <td>secondary</td>\n      <td>1</td>\n      <td>0</td>\n      <td>1967.0</td>\n      <td>0.0</td>\n      <td>...</td>\n      <td>1.0</td>\n      <td>NaN</td>\n      <td>1</td>\n      <td>1</td>\n      <td>0</td>\n      <td>null</td>\n      <td>Wyścigi / Karlikowo</td>\n      <td>sopot</td>\n      <td>54.433407</td>\n      <td>18.579679</td>\n    </tr>\n  </tbody>\n</table>\n<p>4 rows × 21 columns</p>\n</div>"
     },
     "execution_count": 34,
     "metadata": {},
     "output_type": "execute_result"
    }
   ],
   "source": [
    "dataset[dataset['overall_price'].isnull()]"
   ],
   "metadata": {
    "collapsed": false,
    "ExecuteTime": {
     "end_time": "2024-12-03T19:37:43.225869100Z",
     "start_time": "2024-12-03T19:37:42.581105Z"
    }
   },
   "id": "bde9ffbd47ddc1e7"
  },
  {
   "cell_type": "markdown",
   "source": [
    "### Usuwanie wierszy z brakującą ceną"
   ],
   "metadata": {
    "collapsed": false
   },
   "id": "7e72102b5cd8fd81"
  },
  {
   "cell_type": "code",
   "execution_count": 35,
   "outputs": [],
   "source": [
    "dataset.drop(dataset[dataset['overall_price'].isnull()].index, inplace=True)"
   ],
   "metadata": {
    "collapsed": false,
    "ExecuteTime": {
     "end_time": "2024-12-03T19:37:43.681252Z",
     "start_time": "2024-12-03T19:37:43.079605700Z"
    }
   },
   "id": "2f6f19b006d1dc3c"
  },
  {
   "cell_type": "code",
   "execution_count": 36,
   "outputs": [
    {
     "data": {
      "text/plain": "                                                   title  overall_price  \\\n0      4-pokojowe mieszkanie 65m2 + ogródek Bezpośrednio      819900.00   \n1       1 pokojowe + balkon INWESTYCYJNIe na DNI OTWARTE      412024.00   \n2               Kompleks 5 apartamentów. Wysoki standard     2990000.00   \n3      Apartament inwestycyjny, ostatnie piętro, k/Sk...      416907.00   \n4       Apartament inwestycyjny Śląska 12 z umową najmu!      475820.00   \n...                                                  ...            ...   \n15188   INPRO S.A. - OPTIMA - mieszkanie 3-pok. 56.33 m2      584029.44   \n15189   INPRO S.A. - OPTIMA - mieszkanie 3-pok. 61.44 m2      637009.92   \n15190  INPRO S.A. - OPTIMA - mieszkanie 2-pok. 47.22 ...      497448.00   \n15191  INPRO S.A. - OPTIMA - mieszkanie 2-pok. 46.30 ...      490039.20   \n15192  INPRO S.A. - OPTIMA - mieszkanie 3-pok. 65.17 ...      668644.20   \n\n         area number_of_rooms floor type_of_market  parking  elevator  \\\n0       65.57               4     0            NaN        1         0   \n1       26.01               1     2        primary        1         1   \n2      150.00               8     4      secondary        1         0   \n3       24.89               1     5      secondary        0         1   \n4       25.72               1     0      secondary        0         1   \n...       ...             ...   ...            ...      ...       ...   \n15188   56.33               3   2.0        primary        1         0   \n15189   61.44               3   3.0        primary        1         0   \n15190   47.00               2   1.0        primary        1         0   \n15191   46.30               2   1.0        primary        1         0   \n15192   65.17               3   1.0        primary        1         0   \n\n       year_of_creation  internet  ... basement  price_for_m2_in_PLN  balcony  \\\n0                   NaN       NaN  ...      NaN             12504.19        0   \n1                   NaN       0.0  ...      0.0             15840.98        1   \n2                1929.0       1.0  ...      1.0             19933.33        1   \n3                2022.0       1.0  ...      0.0             16749.98        0   \n4                2022.0       1.0  ...      0.0             18500.00        0   \n...                 ...       ...  ...      ...                  ...      ...   \n15188            2024.0       1.0  ...      1.0             10368.00        1   \n15189            2024.0       1.0  ...      1.0             10368.00        1   \n15190            2025.0       1.0  ...      1.0             10584.00        1   \n15191            2025.0       1.0  ...      1.0             10584.00        1   \n15192            2025.0       1.0  ...      1.0             10260.00        1   \n\n       garden  terrace              street        district    city   latitude  \\\n0           1        1          ul. Zakole           Stogi  Gdańsk  54.362472   \n1           0        0                 NaN     Śródmieście  Gdańsk  54.349020   \n2           0        0  ul. Wójta Radtkego     Śródmieście  Gdynia  54.522236   \n3           0        0       ul. Śląska 12  Przymorze Małe  Gdańsk  54.406171   \n4           0        0       ul. Śląska 12  Przymorze Małe  Gdańsk  54.406171   \n...       ...      ...                 ...             ...     ...        ...   \n15188       0        0       Serdecznikowa         Dąbrowa  gdynia  54.471546   \n15189       0        0       Serdecznikowa         Dąbrowa  gdynia  54.471546   \n15190       0        0       Serdecznikowa         Dąbrowa  gdynia  54.471546   \n15191       0        0       Serdecznikowa         Dąbrowa  gdynia  54.471546   \n15192       0        0       Serdecznikowa         Dąbrowa  gdynia  54.471546   \n\n       longtitude  \n0       18.709969  \n1       18.651800  \n2       18.537335  \n3       18.576846  \n4       18.576846  \n...           ...  \n15188   18.467438  \n15189   18.467438  \n15190   18.467438  \n15191   18.467438  \n15192   18.467438  \n\n[15038 rows x 21 columns]",
      "text/html": "<div>\n<style scoped>\n    .dataframe tbody tr th:only-of-type {\n        vertical-align: middle;\n    }\n\n    .dataframe tbody tr th {\n        vertical-align: top;\n    }\n\n    .dataframe thead th {\n        text-align: right;\n    }\n</style>\n<table border=\"1\" class=\"dataframe\">\n  <thead>\n    <tr style=\"text-align: right;\">\n      <th></th>\n      <th>title</th>\n      <th>overall_price</th>\n      <th>area</th>\n      <th>number_of_rooms</th>\n      <th>floor</th>\n      <th>type_of_market</th>\n      <th>parking</th>\n      <th>elevator</th>\n      <th>year_of_creation</th>\n      <th>internet</th>\n      <th>...</th>\n      <th>basement</th>\n      <th>price_for_m2_in_PLN</th>\n      <th>balcony</th>\n      <th>garden</th>\n      <th>terrace</th>\n      <th>street</th>\n      <th>district</th>\n      <th>city</th>\n      <th>latitude</th>\n      <th>longtitude</th>\n    </tr>\n  </thead>\n  <tbody>\n    <tr>\n      <th>0</th>\n      <td>4-pokojowe mieszkanie 65m2 + ogródek Bezpośrednio</td>\n      <td>819900.00</td>\n      <td>65.57</td>\n      <td>4</td>\n      <td>0</td>\n      <td>NaN</td>\n      <td>1</td>\n      <td>0</td>\n      <td>NaN</td>\n      <td>NaN</td>\n      <td>...</td>\n      <td>NaN</td>\n      <td>12504.19</td>\n      <td>0</td>\n      <td>1</td>\n      <td>1</td>\n      <td>ul. Zakole</td>\n      <td>Stogi</td>\n      <td>Gdańsk</td>\n      <td>54.362472</td>\n      <td>18.709969</td>\n    </tr>\n    <tr>\n      <th>1</th>\n      <td>1 pokojowe + balkon INWESTYCYJNIe na DNI OTWARTE</td>\n      <td>412024.00</td>\n      <td>26.01</td>\n      <td>1</td>\n      <td>2</td>\n      <td>primary</td>\n      <td>1</td>\n      <td>1</td>\n      <td>NaN</td>\n      <td>0.0</td>\n      <td>...</td>\n      <td>0.0</td>\n      <td>15840.98</td>\n      <td>1</td>\n      <td>0</td>\n      <td>0</td>\n      <td>NaN</td>\n      <td>Śródmieście</td>\n      <td>Gdańsk</td>\n      <td>54.349020</td>\n      <td>18.651800</td>\n    </tr>\n    <tr>\n      <th>2</th>\n      <td>Kompleks 5 apartamentów. Wysoki standard</td>\n      <td>2990000.00</td>\n      <td>150.00</td>\n      <td>8</td>\n      <td>4</td>\n      <td>secondary</td>\n      <td>1</td>\n      <td>0</td>\n      <td>1929.0</td>\n      <td>1.0</td>\n      <td>...</td>\n      <td>1.0</td>\n      <td>19933.33</td>\n      <td>1</td>\n      <td>0</td>\n      <td>0</td>\n      <td>ul. Wójta Radtkego</td>\n      <td>Śródmieście</td>\n      <td>Gdynia</td>\n      <td>54.522236</td>\n      <td>18.537335</td>\n    </tr>\n    <tr>\n      <th>3</th>\n      <td>Apartament inwestycyjny, ostatnie piętro, k/Sk...</td>\n      <td>416907.00</td>\n      <td>24.89</td>\n      <td>1</td>\n      <td>5</td>\n      <td>secondary</td>\n      <td>0</td>\n      <td>1</td>\n      <td>2022.0</td>\n      <td>1.0</td>\n      <td>...</td>\n      <td>0.0</td>\n      <td>16749.98</td>\n      <td>0</td>\n      <td>0</td>\n      <td>0</td>\n      <td>ul. Śląska 12</td>\n      <td>Przymorze Małe</td>\n      <td>Gdańsk</td>\n      <td>54.406171</td>\n      <td>18.576846</td>\n    </tr>\n    <tr>\n      <th>4</th>\n      <td>Apartament inwestycyjny Śląska 12 z umową najmu!</td>\n      <td>475820.00</td>\n      <td>25.72</td>\n      <td>1</td>\n      <td>0</td>\n      <td>secondary</td>\n      <td>0</td>\n      <td>1</td>\n      <td>2022.0</td>\n      <td>1.0</td>\n      <td>...</td>\n      <td>0.0</td>\n      <td>18500.00</td>\n      <td>0</td>\n      <td>0</td>\n      <td>0</td>\n      <td>ul. Śląska 12</td>\n      <td>Przymorze Małe</td>\n      <td>Gdańsk</td>\n      <td>54.406171</td>\n      <td>18.576846</td>\n    </tr>\n    <tr>\n      <th>...</th>\n      <td>...</td>\n      <td>...</td>\n      <td>...</td>\n      <td>...</td>\n      <td>...</td>\n      <td>...</td>\n      <td>...</td>\n      <td>...</td>\n      <td>...</td>\n      <td>...</td>\n      <td>...</td>\n      <td>...</td>\n      <td>...</td>\n      <td>...</td>\n      <td>...</td>\n      <td>...</td>\n      <td>...</td>\n      <td>...</td>\n      <td>...</td>\n      <td>...</td>\n      <td>...</td>\n    </tr>\n    <tr>\n      <th>15188</th>\n      <td>INPRO S.A. - OPTIMA - mieszkanie 3-pok. 56.33 m2</td>\n      <td>584029.44</td>\n      <td>56.33</td>\n      <td>3</td>\n      <td>2.0</td>\n      <td>primary</td>\n      <td>1</td>\n      <td>0</td>\n      <td>2024.0</td>\n      <td>1.0</td>\n      <td>...</td>\n      <td>1.0</td>\n      <td>10368.00</td>\n      <td>1</td>\n      <td>0</td>\n      <td>0</td>\n      <td>Serdecznikowa</td>\n      <td>Dąbrowa</td>\n      <td>gdynia</td>\n      <td>54.471546</td>\n      <td>18.467438</td>\n    </tr>\n    <tr>\n      <th>15189</th>\n      <td>INPRO S.A. - OPTIMA - mieszkanie 3-pok. 61.44 m2</td>\n      <td>637009.92</td>\n      <td>61.44</td>\n      <td>3</td>\n      <td>3.0</td>\n      <td>primary</td>\n      <td>1</td>\n      <td>0</td>\n      <td>2024.0</td>\n      <td>1.0</td>\n      <td>...</td>\n      <td>1.0</td>\n      <td>10368.00</td>\n      <td>1</td>\n      <td>0</td>\n      <td>0</td>\n      <td>Serdecznikowa</td>\n      <td>Dąbrowa</td>\n      <td>gdynia</td>\n      <td>54.471546</td>\n      <td>18.467438</td>\n    </tr>\n    <tr>\n      <th>15190</th>\n      <td>INPRO S.A. - OPTIMA - mieszkanie 2-pok. 47.22 ...</td>\n      <td>497448.00</td>\n      <td>47.00</td>\n      <td>2</td>\n      <td>1.0</td>\n      <td>primary</td>\n      <td>1</td>\n      <td>0</td>\n      <td>2025.0</td>\n      <td>1.0</td>\n      <td>...</td>\n      <td>1.0</td>\n      <td>10584.00</td>\n      <td>1</td>\n      <td>0</td>\n      <td>0</td>\n      <td>Serdecznikowa</td>\n      <td>Dąbrowa</td>\n      <td>gdynia</td>\n      <td>54.471546</td>\n      <td>18.467438</td>\n    </tr>\n    <tr>\n      <th>15191</th>\n      <td>INPRO S.A. - OPTIMA - mieszkanie 2-pok. 46.30 ...</td>\n      <td>490039.20</td>\n      <td>46.30</td>\n      <td>2</td>\n      <td>1.0</td>\n      <td>primary</td>\n      <td>1</td>\n      <td>0</td>\n      <td>2025.0</td>\n      <td>1.0</td>\n      <td>...</td>\n      <td>1.0</td>\n      <td>10584.00</td>\n      <td>1</td>\n      <td>0</td>\n      <td>0</td>\n      <td>Serdecznikowa</td>\n      <td>Dąbrowa</td>\n      <td>gdynia</td>\n      <td>54.471546</td>\n      <td>18.467438</td>\n    </tr>\n    <tr>\n      <th>15192</th>\n      <td>INPRO S.A. - OPTIMA - mieszkanie 3-pok. 65.17 ...</td>\n      <td>668644.20</td>\n      <td>65.17</td>\n      <td>3</td>\n      <td>1.0</td>\n      <td>primary</td>\n      <td>1</td>\n      <td>0</td>\n      <td>2025.0</td>\n      <td>1.0</td>\n      <td>...</td>\n      <td>1.0</td>\n      <td>10260.00</td>\n      <td>1</td>\n      <td>0</td>\n      <td>0</td>\n      <td>Serdecznikowa</td>\n      <td>Dąbrowa</td>\n      <td>gdynia</td>\n      <td>54.471546</td>\n      <td>18.467438</td>\n    </tr>\n  </tbody>\n</table>\n<p>15038 rows × 21 columns</p>\n</div>"
     },
     "metadata": {},
     "output_type": "display_data"
    }
   ],
   "source": [
    "display(dataset)"
   ],
   "metadata": {
    "collapsed": false,
    "ExecuteTime": {
     "end_time": "2024-12-03T19:37:44.058316800Z",
     "start_time": "2024-12-03T19:37:43.286864700Z"
    }
   },
   "id": "1bfa1b95dacf0795"
  },
  {
   "cell_type": "code",
   "execution_count": 37,
   "outputs": [
    {
     "name": "stderr",
     "output_type": "stream",
     "text": [
      "C:\\Users\\kubak\\AppData\\Local\\Temp\\ipykernel_14312\\1886226568.py:1: FutureWarning: A value is trying to be set on a copy of a DataFrame or Series through chained assignment using an inplace method.\n",
      "The behavior will change in pandas 3.0. This inplace method will never work because the intermediate object on which we are setting values always behaves as a copy.\n",
      "\n",
      "For example, when doing 'df[col].method(value, inplace=True)', try using 'df.method({col: value}, inplace=True)' or df[col] = df[col].method(value) instead, to perform the operation inplace on the original object.\n",
      "\n",
      "\n",
      "  dataset['street'].replace('ul. ', '', regex=True, inplace=True)\n"
     ]
    },
    {
     "data": {
      "text/plain": "                                                   title  overall_price  \\\n0      4-pokojowe mieszkanie 65m2 + ogródek Bezpośrednio      819900.00   \n1       1 pokojowe + balkon INWESTYCYJNIe na DNI OTWARTE      412024.00   \n2               Kompleks 5 apartamentów. Wysoki standard     2990000.00   \n3      Apartament inwestycyjny, ostatnie piętro, k/Sk...      416907.00   \n4       Apartament inwestycyjny Śląska 12 z umową najmu!      475820.00   \n...                                                  ...            ...   \n15188   INPRO S.A. - OPTIMA - mieszkanie 3-pok. 56.33 m2      584029.44   \n15189   INPRO S.A. - OPTIMA - mieszkanie 3-pok. 61.44 m2      637009.92   \n15190  INPRO S.A. - OPTIMA - mieszkanie 2-pok. 47.22 ...      497448.00   \n15191  INPRO S.A. - OPTIMA - mieszkanie 2-pok. 46.30 ...      490039.20   \n15192  INPRO S.A. - OPTIMA - mieszkanie 3-pok. 65.17 ...      668644.20   \n\n         area number_of_rooms floor type_of_market  parking  elevator  \\\n0       65.57               4     0            NaN        1         0   \n1       26.01               1     2        primary        1         1   \n2      150.00               8     4      secondary        1         0   \n3       24.89               1     5      secondary        0         1   \n4       25.72               1     0      secondary        0         1   \n...       ...             ...   ...            ...      ...       ...   \n15188   56.33               3   2.0        primary        1         0   \n15189   61.44               3   3.0        primary        1         0   \n15190   47.00               2   1.0        primary        1         0   \n15191   46.30               2   1.0        primary        1         0   \n15192   65.17               3   1.0        primary        1         0   \n\n       year_of_creation  internet  ... basement  price_for_m2_in_PLN  balcony  \\\n0                   NaN       NaN  ...      NaN             12504.19        0   \n1                   NaN       0.0  ...      0.0             15840.98        1   \n2                1929.0       1.0  ...      1.0             19933.33        1   \n3                2022.0       1.0  ...      0.0             16749.98        0   \n4                2022.0       1.0  ...      0.0             18500.00        0   \n...                 ...       ...  ...      ...                  ...      ...   \n15188            2024.0       1.0  ...      1.0             10368.00        1   \n15189            2024.0       1.0  ...      1.0             10368.00        1   \n15190            2025.0       1.0  ...      1.0             10584.00        1   \n15191            2025.0       1.0  ...      1.0             10584.00        1   \n15192            2025.0       1.0  ...      1.0             10260.00        1   \n\n       garden  terrace          street        district    city   latitude  \\\n0           1        1          Zakole           Stogi  Gdańsk  54.362472   \n1           0        0             NaN     Śródmieście  Gdańsk  54.349020   \n2           0        0  Wójta Radtkego     Śródmieście  Gdynia  54.522236   \n3           0        0       Śląska 12  Przymorze Małe  Gdańsk  54.406171   \n4           0        0       Śląska 12  Przymorze Małe  Gdańsk  54.406171   \n...       ...      ...             ...             ...     ...        ...   \n15188       0        0   Serdecznikowa         Dąbrowa  gdynia  54.471546   \n15189       0        0   Serdecznikowa         Dąbrowa  gdynia  54.471546   \n15190       0        0   Serdecznikowa         Dąbrowa  gdynia  54.471546   \n15191       0        0   Serdecznikowa         Dąbrowa  gdynia  54.471546   \n15192       0        0   Serdecznikowa         Dąbrowa  gdynia  54.471546   \n\n       longtitude  \n0       18.709969  \n1       18.651800  \n2       18.537335  \n3       18.576846  \n4       18.576846  \n...           ...  \n15188   18.467438  \n15189   18.467438  \n15190   18.467438  \n15191   18.467438  \n15192   18.467438  \n\n[15038 rows x 21 columns]",
      "text/html": "<div>\n<style scoped>\n    .dataframe tbody tr th:only-of-type {\n        vertical-align: middle;\n    }\n\n    .dataframe tbody tr th {\n        vertical-align: top;\n    }\n\n    .dataframe thead th {\n        text-align: right;\n    }\n</style>\n<table border=\"1\" class=\"dataframe\">\n  <thead>\n    <tr style=\"text-align: right;\">\n      <th></th>\n      <th>title</th>\n      <th>overall_price</th>\n      <th>area</th>\n      <th>number_of_rooms</th>\n      <th>floor</th>\n      <th>type_of_market</th>\n      <th>parking</th>\n      <th>elevator</th>\n      <th>year_of_creation</th>\n      <th>internet</th>\n      <th>...</th>\n      <th>basement</th>\n      <th>price_for_m2_in_PLN</th>\n      <th>balcony</th>\n      <th>garden</th>\n      <th>terrace</th>\n      <th>street</th>\n      <th>district</th>\n      <th>city</th>\n      <th>latitude</th>\n      <th>longtitude</th>\n    </tr>\n  </thead>\n  <tbody>\n    <tr>\n      <th>0</th>\n      <td>4-pokojowe mieszkanie 65m2 + ogródek Bezpośrednio</td>\n      <td>819900.00</td>\n      <td>65.57</td>\n      <td>4</td>\n      <td>0</td>\n      <td>NaN</td>\n      <td>1</td>\n      <td>0</td>\n      <td>NaN</td>\n      <td>NaN</td>\n      <td>...</td>\n      <td>NaN</td>\n      <td>12504.19</td>\n      <td>0</td>\n      <td>1</td>\n      <td>1</td>\n      <td>Zakole</td>\n      <td>Stogi</td>\n      <td>Gdańsk</td>\n      <td>54.362472</td>\n      <td>18.709969</td>\n    </tr>\n    <tr>\n      <th>1</th>\n      <td>1 pokojowe + balkon INWESTYCYJNIe na DNI OTWARTE</td>\n      <td>412024.00</td>\n      <td>26.01</td>\n      <td>1</td>\n      <td>2</td>\n      <td>primary</td>\n      <td>1</td>\n      <td>1</td>\n      <td>NaN</td>\n      <td>0.0</td>\n      <td>...</td>\n      <td>0.0</td>\n      <td>15840.98</td>\n      <td>1</td>\n      <td>0</td>\n      <td>0</td>\n      <td>NaN</td>\n      <td>Śródmieście</td>\n      <td>Gdańsk</td>\n      <td>54.349020</td>\n      <td>18.651800</td>\n    </tr>\n    <tr>\n      <th>2</th>\n      <td>Kompleks 5 apartamentów. Wysoki standard</td>\n      <td>2990000.00</td>\n      <td>150.00</td>\n      <td>8</td>\n      <td>4</td>\n      <td>secondary</td>\n      <td>1</td>\n      <td>0</td>\n      <td>1929.0</td>\n      <td>1.0</td>\n      <td>...</td>\n      <td>1.0</td>\n      <td>19933.33</td>\n      <td>1</td>\n      <td>0</td>\n      <td>0</td>\n      <td>Wójta Radtkego</td>\n      <td>Śródmieście</td>\n      <td>Gdynia</td>\n      <td>54.522236</td>\n      <td>18.537335</td>\n    </tr>\n    <tr>\n      <th>3</th>\n      <td>Apartament inwestycyjny, ostatnie piętro, k/Sk...</td>\n      <td>416907.00</td>\n      <td>24.89</td>\n      <td>1</td>\n      <td>5</td>\n      <td>secondary</td>\n      <td>0</td>\n      <td>1</td>\n      <td>2022.0</td>\n      <td>1.0</td>\n      <td>...</td>\n      <td>0.0</td>\n      <td>16749.98</td>\n      <td>0</td>\n      <td>0</td>\n      <td>0</td>\n      <td>Śląska 12</td>\n      <td>Przymorze Małe</td>\n      <td>Gdańsk</td>\n      <td>54.406171</td>\n      <td>18.576846</td>\n    </tr>\n    <tr>\n      <th>4</th>\n      <td>Apartament inwestycyjny Śląska 12 z umową najmu!</td>\n      <td>475820.00</td>\n      <td>25.72</td>\n      <td>1</td>\n      <td>0</td>\n      <td>secondary</td>\n      <td>0</td>\n      <td>1</td>\n      <td>2022.0</td>\n      <td>1.0</td>\n      <td>...</td>\n      <td>0.0</td>\n      <td>18500.00</td>\n      <td>0</td>\n      <td>0</td>\n      <td>0</td>\n      <td>Śląska 12</td>\n      <td>Przymorze Małe</td>\n      <td>Gdańsk</td>\n      <td>54.406171</td>\n      <td>18.576846</td>\n    </tr>\n    <tr>\n      <th>...</th>\n      <td>...</td>\n      <td>...</td>\n      <td>...</td>\n      <td>...</td>\n      <td>...</td>\n      <td>...</td>\n      <td>...</td>\n      <td>...</td>\n      <td>...</td>\n      <td>...</td>\n      <td>...</td>\n      <td>...</td>\n      <td>...</td>\n      <td>...</td>\n      <td>...</td>\n      <td>...</td>\n      <td>...</td>\n      <td>...</td>\n      <td>...</td>\n      <td>...</td>\n      <td>...</td>\n    </tr>\n    <tr>\n      <th>15188</th>\n      <td>INPRO S.A. - OPTIMA - mieszkanie 3-pok. 56.33 m2</td>\n      <td>584029.44</td>\n      <td>56.33</td>\n      <td>3</td>\n      <td>2.0</td>\n      <td>primary</td>\n      <td>1</td>\n      <td>0</td>\n      <td>2024.0</td>\n      <td>1.0</td>\n      <td>...</td>\n      <td>1.0</td>\n      <td>10368.00</td>\n      <td>1</td>\n      <td>0</td>\n      <td>0</td>\n      <td>Serdecznikowa</td>\n      <td>Dąbrowa</td>\n      <td>gdynia</td>\n      <td>54.471546</td>\n      <td>18.467438</td>\n    </tr>\n    <tr>\n      <th>15189</th>\n      <td>INPRO S.A. - OPTIMA - mieszkanie 3-pok. 61.44 m2</td>\n      <td>637009.92</td>\n      <td>61.44</td>\n      <td>3</td>\n      <td>3.0</td>\n      <td>primary</td>\n      <td>1</td>\n      <td>0</td>\n      <td>2024.0</td>\n      <td>1.0</td>\n      <td>...</td>\n      <td>1.0</td>\n      <td>10368.00</td>\n      <td>1</td>\n      <td>0</td>\n      <td>0</td>\n      <td>Serdecznikowa</td>\n      <td>Dąbrowa</td>\n      <td>gdynia</td>\n      <td>54.471546</td>\n      <td>18.467438</td>\n    </tr>\n    <tr>\n      <th>15190</th>\n      <td>INPRO S.A. - OPTIMA - mieszkanie 2-pok. 47.22 ...</td>\n      <td>497448.00</td>\n      <td>47.00</td>\n      <td>2</td>\n      <td>1.0</td>\n      <td>primary</td>\n      <td>1</td>\n      <td>0</td>\n      <td>2025.0</td>\n      <td>1.0</td>\n      <td>...</td>\n      <td>1.0</td>\n      <td>10584.00</td>\n      <td>1</td>\n      <td>0</td>\n      <td>0</td>\n      <td>Serdecznikowa</td>\n      <td>Dąbrowa</td>\n      <td>gdynia</td>\n      <td>54.471546</td>\n      <td>18.467438</td>\n    </tr>\n    <tr>\n      <th>15191</th>\n      <td>INPRO S.A. - OPTIMA - mieszkanie 2-pok. 46.30 ...</td>\n      <td>490039.20</td>\n      <td>46.30</td>\n      <td>2</td>\n      <td>1.0</td>\n      <td>primary</td>\n      <td>1</td>\n      <td>0</td>\n      <td>2025.0</td>\n      <td>1.0</td>\n      <td>...</td>\n      <td>1.0</td>\n      <td>10584.00</td>\n      <td>1</td>\n      <td>0</td>\n      <td>0</td>\n      <td>Serdecznikowa</td>\n      <td>Dąbrowa</td>\n      <td>gdynia</td>\n      <td>54.471546</td>\n      <td>18.467438</td>\n    </tr>\n    <tr>\n      <th>15192</th>\n      <td>INPRO S.A. - OPTIMA - mieszkanie 3-pok. 65.17 ...</td>\n      <td>668644.20</td>\n      <td>65.17</td>\n      <td>3</td>\n      <td>1.0</td>\n      <td>primary</td>\n      <td>1</td>\n      <td>0</td>\n      <td>2025.0</td>\n      <td>1.0</td>\n      <td>...</td>\n      <td>1.0</td>\n      <td>10260.00</td>\n      <td>1</td>\n      <td>0</td>\n      <td>0</td>\n      <td>Serdecznikowa</td>\n      <td>Dąbrowa</td>\n      <td>gdynia</td>\n      <td>54.471546</td>\n      <td>18.467438</td>\n    </tr>\n  </tbody>\n</table>\n<p>15038 rows × 21 columns</p>\n</div>"
     },
     "metadata": {},
     "output_type": "display_data"
    }
   ],
   "source": [
    "dataset['street'].replace('ul. ', '', regex=True, inplace=True)\n",
    "display(dataset)"
   ],
   "metadata": {
    "collapsed": false,
    "ExecuteTime": {
     "end_time": "2024-12-03T19:37:44.551010300Z",
     "start_time": "2024-12-03T19:37:43.566248100Z"
    }
   },
   "id": "b9fbc9186c44e604"
  },
  {
   "cell_type": "markdown",
   "source": [
    "## Sprawdzanie wartości unikalnych w kolumnie 'street'"
   ],
   "metadata": {
    "collapsed": false
   },
   "id": "11c0384958a12112"
  },
  {
   "cell_type": "code",
   "execution_count": 38,
   "outputs": [
    {
     "data": {
      "text/plain": "street\n Serdecznikowa             3036\n null                       373\nStarowiejska                101\nWielkopolska                 89\nKartuska                     83\n                           ... \n Nowowiczlińska               1\n Wąsowicza                    1\n Chylońska 51                 1\n Głogowska                    1\n Józefa Korzeniowskiego       1\nName: count, Length: 2286, dtype: int64"
     },
     "execution_count": 38,
     "metadata": {},
     "output_type": "execute_result"
    }
   ],
   "source": [
    "dataset['street'].value_counts()"
   ],
   "metadata": {
    "collapsed": false,
    "ExecuteTime": {
     "end_time": "2024-12-03T19:37:44.871212700Z",
     "start_time": "2024-12-03T19:37:43.987197600Z"
    }
   },
   "id": "56da330774b11b22"
  },
  {
   "cell_type": "markdown",
   "source": [
    "### Zamiana wartości na małe litery"
   ],
   "metadata": {
    "collapsed": false
   },
   "id": "9552ac623c778e65"
  },
  {
   "cell_type": "code",
   "execution_count": 39,
   "outputs": [
    {
     "data": {
      "text/plain": "street\n serdecznikowa              3036\n null                        373\nstarowiejska                 101\nwielkopolska                  89\nkartuska                      83\n                            ... \n kilińskiego jana              1\n kazimierza małkowskiego       1\n żywiecka                      1\n zbigniewa herberta            1\n poziomkowa                    1\nName: count, Length: 2275, dtype: int64"
     },
     "execution_count": 39,
     "metadata": {},
     "output_type": "execute_result"
    }
   ],
   "source": [
    "dataset['street'] = dataset['street'].apply(lambda x: x.lower() if isinstance(x, str) else x)\n",
    "dataset['street'].value_counts()"
   ],
   "metadata": {
    "collapsed": false,
    "ExecuteTime": {
     "end_time": "2024-12-03T19:37:45.112215100Z",
     "start_time": "2024-12-03T19:37:44.442759900Z"
    }
   },
   "id": "265cfa3e7d118470"
  },
  {
   "cell_type": "markdown",
   "source": [
    "## Sprawdzanie wartości unikalnych w kolumnie 'city'"
   ],
   "metadata": {
    "collapsed": false
   },
   "id": "8f15eeecb8c1f4de"
  },
  {
   "cell_type": "code",
   "execution_count": 40,
   "outputs": [
    {
     "data": {
      "text/plain": "city\nGdańsk     5134\ngdynia     4381\ngdansk     3012\nGdynia     1769\nsopot       372\nSopot       362\npucki         5\ngdański       3\nName: count, dtype: int64"
     },
     "execution_count": 40,
     "metadata": {},
     "output_type": "execute_result"
    }
   ],
   "source": [
    "dataset['city'].value_counts()"
   ],
   "metadata": {
    "collapsed": false,
    "ExecuteTime": {
     "end_time": "2024-12-03T19:37:45.610551100Z",
     "start_time": "2024-12-03T19:37:44.799106500Z"
    }
   },
   "id": "cbf9f24ac01f79a5"
  },
  {
   "cell_type": "markdown",
   "source": [
    "### Zamiana wartości na małe litery"
   ],
   "metadata": {
    "collapsed": false
   },
   "id": "9e654fe8b5ad0c09"
  },
  {
   "cell_type": "code",
   "execution_count": 41,
   "outputs": [
    {
     "data": {
      "text/plain": "city\ngdynia     6150\ngdańsk     5134\ngdansk     3012\nsopot       734\npucki         5\ngdański       3\nName: count, dtype: int64"
     },
     "execution_count": 41,
     "metadata": {},
     "output_type": "execute_result"
    }
   ],
   "source": [
    "dataset['city'] = dataset['city'].apply(lambda x: x.lower() if isinstance(x, str) else x)\n",
    "dataset['city'].value_counts()"
   ],
   "metadata": {
    "collapsed": false,
    "ExecuteTime": {
     "end_time": "2024-12-03T19:37:45.831129800Z",
     "start_time": "2024-12-03T19:37:45.222321700Z"
    }
   },
   "id": "a45c81fed0df90c1"
  },
  {
   "cell_type": "markdown",
   "source": [
    "### Zamiana wartości 'gdańsk' na 'gdansk'"
   ],
   "metadata": {
    "collapsed": false
   },
   "id": "59d62022d43eb932"
  },
  {
   "cell_type": "code",
   "execution_count": 42,
   "outputs": [
    {
     "name": "stderr",
     "output_type": "stream",
     "text": [
      "C:\\Users\\kubak\\AppData\\Local\\Temp\\ipykernel_14312\\526403375.py:1: FutureWarning: A value is trying to be set on a copy of a DataFrame or Series through chained assignment using an inplace method.\n",
      "The behavior will change in pandas 3.0. This inplace method will never work because the intermediate object on which we are setting values always behaves as a copy.\n",
      "\n",
      "For example, when doing 'df[col].method(value, inplace=True)', try using 'df.method({col: value}, inplace=True)' or df[col] = df[col].method(value) instead, to perform the operation inplace on the original object.\n",
      "\n",
      "\n",
      "  dataset['city'].replace('gdańsk', 'gdansk', inplace=True)\n"
     ]
    }
   ],
   "source": [
    "dataset['city'].replace('gdańsk', 'gdansk', inplace=True)"
   ],
   "metadata": {
    "collapsed": false,
    "ExecuteTime": {
     "end_time": "2024-12-03T19:37:45.926015Z",
     "start_time": "2024-12-03T19:37:45.602848100Z"
    }
   },
   "id": "99ecfe5625dfddef"
  },
  {
   "cell_type": "code",
   "execution_count": 43,
   "outputs": [
    {
     "data": {
      "text/plain": "city\ngdansk     8146\ngdynia     6150\nsopot       734\npucki         5\ngdański       3\nName: count, dtype: int64"
     },
     "execution_count": 43,
     "metadata": {},
     "output_type": "execute_result"
    }
   ],
   "source": [
    "dataset['city'].value_counts()"
   ],
   "metadata": {
    "collapsed": false,
    "ExecuteTime": {
     "end_time": "2024-12-03T19:37:46.140517Z",
     "start_time": "2024-12-03T19:37:45.785547800Z"
    }
   },
   "id": "73837c361915f127"
  },
  {
   "cell_type": "code",
   "execution_count": 44,
   "outputs": [
    {
     "data": {
      "text/plain": "                                                   title  overall_price  \\\n0      4-pokojowe mieszkanie 65m2 + ogródek Bezpośrednio      819900.00   \n1       1 pokojowe + balkon INWESTYCYJNIe na DNI OTWARTE      412024.00   \n2               Kompleks 5 apartamentów. Wysoki standard     2990000.00   \n3      Apartament inwestycyjny, ostatnie piętro, k/Sk...      416907.00   \n4       Apartament inwestycyjny Śląska 12 z umową najmu!      475820.00   \n...                                                  ...            ...   \n15188   INPRO S.A. - OPTIMA - mieszkanie 3-pok. 56.33 m2      584029.44   \n15189   INPRO S.A. - OPTIMA - mieszkanie 3-pok. 61.44 m2      637009.92   \n15190  INPRO S.A. - OPTIMA - mieszkanie 2-pok. 47.22 ...      497448.00   \n15191  INPRO S.A. - OPTIMA - mieszkanie 2-pok. 46.30 ...      490039.20   \n15192  INPRO S.A. - OPTIMA - mieszkanie 3-pok. 65.17 ...      668644.20   \n\n         area number_of_rooms floor type_of_market  parking  elevator  \\\n0       65.57               4     0            NaN        1         0   \n1       26.01               1     2        primary        1         1   \n2      150.00               8     4      secondary        1         0   \n3       24.89               1     5      secondary        0         1   \n4       25.72               1     0      secondary        0         1   \n...       ...             ...   ...            ...      ...       ...   \n15188   56.33               3   2.0        primary        1         0   \n15189   61.44               3   3.0        primary        1         0   \n15190   47.00               2   1.0        primary        1         0   \n15191   46.30               2   1.0        primary        1         0   \n15192   65.17               3   1.0        primary        1         0   \n\n       year_of_creation  internet  ... basement  price_for_m2_in_PLN  balcony  \\\n0                   NaN       NaN  ...      NaN             12504.19        0   \n1                   NaN       0.0  ...      0.0             15840.98        1   \n2                1929.0       1.0  ...      1.0             19933.33        1   \n3                2022.0       1.0  ...      0.0             16749.98        0   \n4                2022.0       1.0  ...      0.0             18500.00        0   \n...                 ...       ...  ...      ...                  ...      ...   \n15188            2024.0       1.0  ...      1.0             10368.00        1   \n15189            2024.0       1.0  ...      1.0             10368.00        1   \n15190            2025.0       1.0  ...      1.0             10584.00        1   \n15191            2025.0       1.0  ...      1.0             10584.00        1   \n15192            2025.0       1.0  ...      1.0             10260.00        1   \n\n       garden  terrace          street        district    city   latitude  \\\n0           1        1          zakole           Stogi  gdansk  54.362472   \n1           0        0             NaN     Śródmieście  gdansk  54.349020   \n2           0        0  wójta radtkego     Śródmieście  gdynia  54.522236   \n3           0        0       śląska 12  Przymorze Małe  gdansk  54.406171   \n4           0        0       śląska 12  Przymorze Małe  gdansk  54.406171   \n...       ...      ...             ...             ...     ...        ...   \n15188       0        0   serdecznikowa         Dąbrowa  gdynia  54.471546   \n15189       0        0   serdecznikowa         Dąbrowa  gdynia  54.471546   \n15190       0        0   serdecznikowa         Dąbrowa  gdynia  54.471546   \n15191       0        0   serdecznikowa         Dąbrowa  gdynia  54.471546   \n15192       0        0   serdecznikowa         Dąbrowa  gdynia  54.471546   \n\n       longtitude  \n0       18.709969  \n1       18.651800  \n2       18.537335  \n3       18.576846  \n4       18.576846  \n...           ...  \n15188   18.467438  \n15189   18.467438  \n15190   18.467438  \n15191   18.467438  \n15192   18.467438  \n\n[15038 rows x 21 columns]",
      "text/html": "<div>\n<style scoped>\n    .dataframe tbody tr th:only-of-type {\n        vertical-align: middle;\n    }\n\n    .dataframe tbody tr th {\n        vertical-align: top;\n    }\n\n    .dataframe thead th {\n        text-align: right;\n    }\n</style>\n<table border=\"1\" class=\"dataframe\">\n  <thead>\n    <tr style=\"text-align: right;\">\n      <th></th>\n      <th>title</th>\n      <th>overall_price</th>\n      <th>area</th>\n      <th>number_of_rooms</th>\n      <th>floor</th>\n      <th>type_of_market</th>\n      <th>parking</th>\n      <th>elevator</th>\n      <th>year_of_creation</th>\n      <th>internet</th>\n      <th>...</th>\n      <th>basement</th>\n      <th>price_for_m2_in_PLN</th>\n      <th>balcony</th>\n      <th>garden</th>\n      <th>terrace</th>\n      <th>street</th>\n      <th>district</th>\n      <th>city</th>\n      <th>latitude</th>\n      <th>longtitude</th>\n    </tr>\n  </thead>\n  <tbody>\n    <tr>\n      <th>0</th>\n      <td>4-pokojowe mieszkanie 65m2 + ogródek Bezpośrednio</td>\n      <td>819900.00</td>\n      <td>65.57</td>\n      <td>4</td>\n      <td>0</td>\n      <td>NaN</td>\n      <td>1</td>\n      <td>0</td>\n      <td>NaN</td>\n      <td>NaN</td>\n      <td>...</td>\n      <td>NaN</td>\n      <td>12504.19</td>\n      <td>0</td>\n      <td>1</td>\n      <td>1</td>\n      <td>zakole</td>\n      <td>Stogi</td>\n      <td>gdansk</td>\n      <td>54.362472</td>\n      <td>18.709969</td>\n    </tr>\n    <tr>\n      <th>1</th>\n      <td>1 pokojowe + balkon INWESTYCYJNIe na DNI OTWARTE</td>\n      <td>412024.00</td>\n      <td>26.01</td>\n      <td>1</td>\n      <td>2</td>\n      <td>primary</td>\n      <td>1</td>\n      <td>1</td>\n      <td>NaN</td>\n      <td>0.0</td>\n      <td>...</td>\n      <td>0.0</td>\n      <td>15840.98</td>\n      <td>1</td>\n      <td>0</td>\n      <td>0</td>\n      <td>NaN</td>\n      <td>Śródmieście</td>\n      <td>gdansk</td>\n      <td>54.349020</td>\n      <td>18.651800</td>\n    </tr>\n    <tr>\n      <th>2</th>\n      <td>Kompleks 5 apartamentów. Wysoki standard</td>\n      <td>2990000.00</td>\n      <td>150.00</td>\n      <td>8</td>\n      <td>4</td>\n      <td>secondary</td>\n      <td>1</td>\n      <td>0</td>\n      <td>1929.0</td>\n      <td>1.0</td>\n      <td>...</td>\n      <td>1.0</td>\n      <td>19933.33</td>\n      <td>1</td>\n      <td>0</td>\n      <td>0</td>\n      <td>wójta radtkego</td>\n      <td>Śródmieście</td>\n      <td>gdynia</td>\n      <td>54.522236</td>\n      <td>18.537335</td>\n    </tr>\n    <tr>\n      <th>3</th>\n      <td>Apartament inwestycyjny, ostatnie piętro, k/Sk...</td>\n      <td>416907.00</td>\n      <td>24.89</td>\n      <td>1</td>\n      <td>5</td>\n      <td>secondary</td>\n      <td>0</td>\n      <td>1</td>\n      <td>2022.0</td>\n      <td>1.0</td>\n      <td>...</td>\n      <td>0.0</td>\n      <td>16749.98</td>\n      <td>0</td>\n      <td>0</td>\n      <td>0</td>\n      <td>śląska 12</td>\n      <td>Przymorze Małe</td>\n      <td>gdansk</td>\n      <td>54.406171</td>\n      <td>18.576846</td>\n    </tr>\n    <tr>\n      <th>4</th>\n      <td>Apartament inwestycyjny Śląska 12 z umową najmu!</td>\n      <td>475820.00</td>\n      <td>25.72</td>\n      <td>1</td>\n      <td>0</td>\n      <td>secondary</td>\n      <td>0</td>\n      <td>1</td>\n      <td>2022.0</td>\n      <td>1.0</td>\n      <td>...</td>\n      <td>0.0</td>\n      <td>18500.00</td>\n      <td>0</td>\n      <td>0</td>\n      <td>0</td>\n      <td>śląska 12</td>\n      <td>Przymorze Małe</td>\n      <td>gdansk</td>\n      <td>54.406171</td>\n      <td>18.576846</td>\n    </tr>\n    <tr>\n      <th>...</th>\n      <td>...</td>\n      <td>...</td>\n      <td>...</td>\n      <td>...</td>\n      <td>...</td>\n      <td>...</td>\n      <td>...</td>\n      <td>...</td>\n      <td>...</td>\n      <td>...</td>\n      <td>...</td>\n      <td>...</td>\n      <td>...</td>\n      <td>...</td>\n      <td>...</td>\n      <td>...</td>\n      <td>...</td>\n      <td>...</td>\n      <td>...</td>\n      <td>...</td>\n      <td>...</td>\n    </tr>\n    <tr>\n      <th>15188</th>\n      <td>INPRO S.A. - OPTIMA - mieszkanie 3-pok. 56.33 m2</td>\n      <td>584029.44</td>\n      <td>56.33</td>\n      <td>3</td>\n      <td>2.0</td>\n      <td>primary</td>\n      <td>1</td>\n      <td>0</td>\n      <td>2024.0</td>\n      <td>1.0</td>\n      <td>...</td>\n      <td>1.0</td>\n      <td>10368.00</td>\n      <td>1</td>\n      <td>0</td>\n      <td>0</td>\n      <td>serdecznikowa</td>\n      <td>Dąbrowa</td>\n      <td>gdynia</td>\n      <td>54.471546</td>\n      <td>18.467438</td>\n    </tr>\n    <tr>\n      <th>15189</th>\n      <td>INPRO S.A. - OPTIMA - mieszkanie 3-pok. 61.44 m2</td>\n      <td>637009.92</td>\n      <td>61.44</td>\n      <td>3</td>\n      <td>3.0</td>\n      <td>primary</td>\n      <td>1</td>\n      <td>0</td>\n      <td>2024.0</td>\n      <td>1.0</td>\n      <td>...</td>\n      <td>1.0</td>\n      <td>10368.00</td>\n      <td>1</td>\n      <td>0</td>\n      <td>0</td>\n      <td>serdecznikowa</td>\n      <td>Dąbrowa</td>\n      <td>gdynia</td>\n      <td>54.471546</td>\n      <td>18.467438</td>\n    </tr>\n    <tr>\n      <th>15190</th>\n      <td>INPRO S.A. - OPTIMA - mieszkanie 2-pok. 47.22 ...</td>\n      <td>497448.00</td>\n      <td>47.00</td>\n      <td>2</td>\n      <td>1.0</td>\n      <td>primary</td>\n      <td>1</td>\n      <td>0</td>\n      <td>2025.0</td>\n      <td>1.0</td>\n      <td>...</td>\n      <td>1.0</td>\n      <td>10584.00</td>\n      <td>1</td>\n      <td>0</td>\n      <td>0</td>\n      <td>serdecznikowa</td>\n      <td>Dąbrowa</td>\n      <td>gdynia</td>\n      <td>54.471546</td>\n      <td>18.467438</td>\n    </tr>\n    <tr>\n      <th>15191</th>\n      <td>INPRO S.A. - OPTIMA - mieszkanie 2-pok. 46.30 ...</td>\n      <td>490039.20</td>\n      <td>46.30</td>\n      <td>2</td>\n      <td>1.0</td>\n      <td>primary</td>\n      <td>1</td>\n      <td>0</td>\n      <td>2025.0</td>\n      <td>1.0</td>\n      <td>...</td>\n      <td>1.0</td>\n      <td>10584.00</td>\n      <td>1</td>\n      <td>0</td>\n      <td>0</td>\n      <td>serdecznikowa</td>\n      <td>Dąbrowa</td>\n      <td>gdynia</td>\n      <td>54.471546</td>\n      <td>18.467438</td>\n    </tr>\n    <tr>\n      <th>15192</th>\n      <td>INPRO S.A. - OPTIMA - mieszkanie 3-pok. 65.17 ...</td>\n      <td>668644.20</td>\n      <td>65.17</td>\n      <td>3</td>\n      <td>1.0</td>\n      <td>primary</td>\n      <td>1</td>\n      <td>0</td>\n      <td>2025.0</td>\n      <td>1.0</td>\n      <td>...</td>\n      <td>1.0</td>\n      <td>10260.00</td>\n      <td>1</td>\n      <td>0</td>\n      <td>0</td>\n      <td>serdecznikowa</td>\n      <td>Dąbrowa</td>\n      <td>gdynia</td>\n      <td>54.471546</td>\n      <td>18.467438</td>\n    </tr>\n  </tbody>\n</table>\n<p>15038 rows × 21 columns</p>\n</div>"
     },
     "metadata": {},
     "output_type": "display_data"
    }
   ],
   "source": [
    "display(dataset)"
   ],
   "metadata": {
    "collapsed": false,
    "ExecuteTime": {
     "end_time": "2024-12-03T19:37:46.492329200Z",
     "start_time": "2024-12-03T19:37:46.056989200Z"
    }
   },
   "id": "ead455c16ab3237c"
  },
  {
   "cell_type": "markdown",
   "source": [
    "## Sprawdzanie wartości unikalnych w kolumnie 'district'"
   ],
   "metadata": {
    "collapsed": false
   },
   "id": "eb09f15a7eb03a15"
  },
  {
   "cell_type": "code",
   "execution_count": 45,
   "outputs": [
    {
     "data": {
      "text/plain": "district\nDąbrowa                           3255\nŚródmieście                       1498\nJasień                             820\nUjeścisko-Łostowice                558\nOrunia Górna - Gdańsk Południe     503\n                                  ... \nOrunia Dolna                         1\nWILLOWA                              1\n Grabówek                            1\nChwarzno - Wiczlino                  1\nBernadowo                            1\nName: count, Length: 177, dtype: int64"
     },
     "execution_count": 45,
     "metadata": {},
     "output_type": "execute_result"
    }
   ],
   "source": [
    "dataset['district'].value_counts()"
   ],
   "metadata": {
    "collapsed": false,
    "ExecuteTime": {
     "end_time": "2024-12-03T19:37:46.642186900Z",
     "start_time": "2024-12-03T19:37:46.390369100Z"
    }
   },
   "id": "efb6cb6599329c55"
  },
  {
   "cell_type": "code",
   "execution_count": 46,
   "outputs": [
    {
     "data": {
      "text/plain": "district\ndąbrowa                           3255\nśródmieście                       1504\njasień                             824\nujeścisko-łostowice                558\norunia górna - gdańsk południe     503\n                                  ... \nchwarzno wiczlino                    1\norunia dolna                         1\nwillowa                              1\nchwarzno - wiczlino                  1\nbernadowo                            1\nName: count, Length: 141, dtype: int64"
     },
     "execution_count": 46,
     "metadata": {},
     "output_type": "execute_result"
    }
   ],
   "source": [
    "dataset['district'] = dataset['district'].apply(lambda x: x.lower().strip() if isinstance(x, str) else x)\n",
    "dataset['district'].value_counts()"
   ],
   "metadata": {
    "collapsed": false,
    "ExecuteTime": {
     "end_time": "2024-12-03T19:37:46.873293600Z",
     "start_time": "2024-12-03T19:37:46.593353700Z"
    }
   },
   "id": "4adc262b30000c2"
  },
  {
   "cell_type": "markdown",
   "source": [
    "### Uporządkowanie wartości w kolumnie 'district' - część 1 (Przymorze i Chwarzno-Wiczlino)"
   ],
   "metadata": {
    "collapsed": false
   },
   "id": "75680b9a5dea83ab"
  },
  {
   "cell_type": "code",
   "execution_count": 47,
   "outputs": [
    {
     "name": "stderr",
     "output_type": "stream",
     "text": [
      "C:\\Users\\kubak\\AppData\\Local\\Temp\\ipykernel_14312\\2155384658.py:1: FutureWarning: A value is trying to be set on a copy of a DataFrame or Series through chained assignment using an inplace method.\n",
      "The behavior will change in pandas 3.0. This inplace method will never work because the intermediate object on which we are setting values always behaves as a copy.\n",
      "\n",
      "For example, when doing 'df[col].method(value, inplace=True)', try using 'df.method({col: value}, inplace=True)' or df[col] = df[col].method(value) instead, to perform the operation inplace on the original object.\n",
      "\n",
      "\n",
      "  dataset['district'].replace('przymorze wielkie', 'przymorze', inplace=True)\n",
      "C:\\Users\\kubak\\AppData\\Local\\Temp\\ipykernel_14312\\2155384658.py:2: FutureWarning: A value is trying to be set on a copy of a DataFrame or Series through chained assignment using an inplace method.\n",
      "The behavior will change in pandas 3.0. This inplace method will never work because the intermediate object on which we are setting values always behaves as a copy.\n",
      "\n",
      "For example, when doing 'df[col].method(value, inplace=True)', try using 'df.method({col: value}, inplace=True)' or df[col] = df[col].method(value) instead, to perform the operation inplace on the original object.\n",
      "\n",
      "\n",
      "  dataset['district'].replace('przymorze małe', 'przymorze', inplace=True)\n",
      "C:\\Users\\kubak\\AppData\\Local\\Temp\\ipykernel_14312\\2155384658.py:3: FutureWarning: A value is trying to be set on a copy of a DataFrame or Series through chained assignment using an inplace method.\n",
      "The behavior will change in pandas 3.0. This inplace method will never work because the intermediate object on which we are setting values always behaves as a copy.\n",
      "\n",
      "For example, when doing 'df[col].method(value, inplace=True)', try using 'df.method({col: value}, inplace=True)' or df[col] = df[col].method(value) instead, to perform the operation inplace on the original object.\n",
      "\n",
      "\n",
      "  dataset['district'].replace('wreszcz', 'wrzeszcz', inplace=True)\n",
      "C:\\Users\\kubak\\AppData\\Local\\Temp\\ipykernel_14312\\2155384658.py:4: FutureWarning: A value is trying to be set on a copy of a DataFrame or Series through chained assignment using an inplace method.\n",
      "The behavior will change in pandas 3.0. This inplace method will never work because the intermediate object on which we are setting values always behaves as a copy.\n",
      "\n",
      "For example, when doing 'df[col].method(value, inplace=True)', try using 'df.method({col: value}, inplace=True)' or df[col] = df[col].method(value) instead, to perform the operation inplace on the original object.\n",
      "\n",
      "\n",
      "  dataset['district'].replace('wiczlino', 'chwarzno-wiczlino', inplace=True)\n",
      "C:\\Users\\kubak\\AppData\\Local\\Temp\\ipykernel_14312\\2155384658.py:5: FutureWarning: A value is trying to be set on a copy of a DataFrame or Series through chained assignment using an inplace method.\n",
      "The behavior will change in pandas 3.0. This inplace method will never work because the intermediate object on which we are setting values always behaves as a copy.\n",
      "\n",
      "For example, when doing 'df[col].method(value, inplace=True)', try using 'df.method({col: value}, inplace=True)' or df[col] = df[col].method(value) instead, to perform the operation inplace on the original object.\n",
      "\n",
      "\n",
      "  dataset['district'].replace('chwarzno', 'chwarzno-wiczlino', inplace=True)\n",
      "C:\\Users\\kubak\\AppData\\Local\\Temp\\ipykernel_14312\\2155384658.py:6: FutureWarning: A value is trying to be set on a copy of a DataFrame or Series through chained assignment using an inplace method.\n",
      "The behavior will change in pandas 3.0. This inplace method will never work because the intermediate object on which we are setting values always behaves as a copy.\n",
      "\n",
      "For example, when doing 'df[col].method(value, inplace=True)', try using 'df.method({col: value}, inplace=True)' or df[col] = df[col].method(value) instead, to perform the operation inplace on the original object.\n",
      "\n",
      "\n",
      "  dataset['district'].replace('wiczlino ogród', 'chwarzno-wiczlino', inplace=True)\n",
      "C:\\Users\\kubak\\AppData\\Local\\Temp\\ipykernel_14312\\2155384658.py:7: FutureWarning: A value is trying to be set on a copy of a DataFrame or Series through chained assignment using an inplace method.\n",
      "The behavior will change in pandas 3.0. This inplace method will never work because the intermediate object on which we are setting values always behaves as a copy.\n",
      "\n",
      "For example, when doing 'df[col].method(value, inplace=True)', try using 'df.method({col: value}, inplace=True)' or df[col] = df[col].method(value) instead, to perform the operation inplace on the original object.\n",
      "\n",
      "\n",
      "  dataset['district'].replace('chwarzno wiczlino', 'chwarzno-wiczlino', inplace=True)\n",
      "C:\\Users\\kubak\\AppData\\Local\\Temp\\ipykernel_14312\\2155384658.py:8: FutureWarning: A value is trying to be set on a copy of a DataFrame or Series through chained assignment using an inplace method.\n",
      "The behavior will change in pandas 3.0. This inplace method will never work because the intermediate object on which we are setting values always behaves as a copy.\n",
      "\n",
      "For example, when doing 'df[col].method(value, inplace=True)', try using 'df.method({col: value}, inplace=True)' or df[col] = df[col].method(value) instead, to perform the operation inplace on the original object.\n",
      "\n",
      "\n",
      "  dataset['district'].replace('chwarzno - wiczlino', 'chwarzno-wiczlino', inplace=True)\n"
     ]
    }
   ],
   "source": [
    "dataset['district'].replace('przymorze wielkie', 'przymorze', inplace=True)\n",
    "dataset['district'].replace('przymorze małe', 'przymorze', inplace=True)\n",
    "dataset['district'].replace('wreszcz', 'wrzeszcz', inplace=True)\n",
    "dataset['district'].replace('wiczlino', 'chwarzno-wiczlino', inplace=True)\n",
    "dataset['district'].replace('chwarzno', 'chwarzno-wiczlino', inplace=True)\n",
    "dataset['district'].replace('wiczlino ogród', 'chwarzno-wiczlino', inplace=True)\n",
    "dataset['district'].replace('chwarzno wiczlino', 'chwarzno-wiczlino', inplace=True)\n",
    "dataset['district'].replace('chwarzno - wiczlino', 'chwarzno-wiczlino', inplace=True)"
   ],
   "metadata": {
    "collapsed": false,
    "ExecuteTime": {
     "end_time": "2024-12-03T19:37:47.654755900Z",
     "start_time": "2024-12-03T19:37:46.979391600Z"
    }
   },
   "id": "520e5c61fc5b12bf"
  },
  {
   "cell_type": "code",
   "execution_count": 48,
   "outputs": [
    {
     "data": {
      "text/plain": "district\ndąbrowa                3255\nśródmieście            1504\njasień                  824\nujeścisko-łostowice     558\nprzymorze               523\n                       ... \nłostwice                  1\nzabianka                  1\norunia dolna              1\nwillowa                   1\nbernadowo                 1\nName: count, Length: 133, dtype: int64"
     },
     "execution_count": 48,
     "metadata": {},
     "output_type": "execute_result"
    }
   ],
   "source": [
    "dataset['district'].value_counts()"
   ],
   "metadata": {
    "collapsed": false,
    "ExecuteTime": {
     "end_time": "2024-12-03T19:37:47.702460300Z",
     "start_time": "2024-12-03T19:37:47.129949400Z"
    }
   },
   "id": "a873d5264336440e"
  },
  {
   "cell_type": "markdown",
   "source": [
    "### Uporządkowanie wartości w kolumnie 'district' - część 2 (Ujeścisko-Łostowice)"
   ],
   "metadata": {
    "collapsed": false
   },
   "id": "f88efd9c5733478c"
  },
  {
   "cell_type": "code",
   "execution_count": 49,
   "outputs": [
    {
     "name": "stderr",
     "output_type": "stream",
     "text": [
      "C:\\Users\\kubak\\AppData\\Local\\Temp\\ipykernel_14312\\2657957644.py:1: FutureWarning: A value is trying to be set on a copy of a DataFrame or Series through chained assignment using an inplace method.\n",
      "The behavior will change in pandas 3.0. This inplace method will never work because the intermediate object on which we are setting values always behaves as a copy.\n",
      "\n",
      "For example, when doing 'df[col].method(value, inplace=True)', try using 'df.method({col: value}, inplace=True)' or df[col] = df[col].method(value) instead, to perform the operation inplace on the original object.\n",
      "\n",
      "\n",
      "  dataset['district'].replace('łostowice', 'ujeścisko-łostowice', inplace=True)\n",
      "C:\\Users\\kubak\\AppData\\Local\\Temp\\ipykernel_14312\\2657957644.py:2: FutureWarning: A value is trying to be set on a copy of a DataFrame or Series through chained assignment using an inplace method.\n",
      "The behavior will change in pandas 3.0. This inplace method will never work because the intermediate object on which we are setting values always behaves as a copy.\n",
      "\n",
      "For example, when doing 'df[col].method(value, inplace=True)', try using 'df.method({col: value}, inplace=True)' or df[col] = df[col].method(value) instead, to perform the operation inplace on the original object.\n",
      "\n",
      "\n",
      "  dataset['district'].replace('ujeścisko', 'ujeścisko-łostowice', inplace=True)\n",
      "C:\\Users\\kubak\\AppData\\Local\\Temp\\ipykernel_14312\\2657957644.py:3: FutureWarning: A value is trying to be set on a copy of a DataFrame or Series through chained assignment using an inplace method.\n",
      "The behavior will change in pandas 3.0. This inplace method will never work because the intermediate object on which we are setting values always behaves as a copy.\n",
      "\n",
      "For example, when doing 'df[col].method(value, inplace=True)', try using 'df.method({col: value}, inplace=True)' or df[col] = df[col].method(value) instead, to perform the operation inplace on the original object.\n",
      "\n",
      "\n",
      "  dataset['district'].replace('ujeścisko - łostowice', 'ujeścisko-łostowice', inplace=True)\n",
      "C:\\Users\\kubak\\AppData\\Local\\Temp\\ipykernel_14312\\2657957644.py:4: FutureWarning: A value is trying to be set on a copy of a DataFrame or Series through chained assignment using an inplace method.\n",
      "The behavior will change in pandas 3.0. This inplace method will never work because the intermediate object on which we are setting values always behaves as a copy.\n",
      "\n",
      "For example, when doing 'df[col].method(value, inplace=True)', try using 'df.method({col: value}, inplace=True)' or df[col] = df[col].method(value) instead, to perform the operation inplace on the original object.\n",
      "\n",
      "\n",
      "  dataset['district'].replace('ujeścisko łostowice', 'ujeścisko-łostowice', inplace=True)\n",
      "C:\\Users\\kubak\\AppData\\Local\\Temp\\ipykernel_14312\\2657957644.py:5: FutureWarning: A value is trying to be set on a copy of a DataFrame or Series through chained assignment using an inplace method.\n",
      "The behavior will change in pandas 3.0. This inplace method will never work because the intermediate object on which we are setting values always behaves as a copy.\n",
      "\n",
      "For example, when doing 'df[col].method(value, inplace=True)', try using 'df.method({col: value}, inplace=True)' or df[col] = df[col].method(value) instead, to perform the operation inplace on the original object.\n",
      "\n",
      "\n",
      "  dataset['district'].replace('łostwice', 'ujeścisko-łostowice', inplace=True)\n",
      "C:\\Users\\kubak\\AppData\\Local\\Temp\\ipykernel_14312\\2657957644.py:6: FutureWarning: A value is trying to be set on a copy of a DataFrame or Series through chained assignment using an inplace method.\n",
      "The behavior will change in pandas 3.0. This inplace method will never work because the intermediate object on which we are setting values always behaves as a copy.\n",
      "\n",
      "For example, when doing 'df[col].method(value, inplace=True)', try using 'df.method({col: value}, inplace=True)' or df[col] = df[col].method(value) instead, to perform the operation inplace on the original object.\n",
      "\n",
      "\n",
      "  dataset['district'].replace('zakoniczyn', 'ujeścisko-łostowice', inplace=True)\n",
      "C:\\Users\\kubak\\AppData\\Local\\Temp\\ipykernel_14312\\2657957644.py:7: FutureWarning: A value is trying to be set on a copy of a DataFrame or Series through chained assignment using an inplace method.\n",
      "The behavior will change in pandas 3.0. This inplace method will never work because the intermediate object on which we are setting values always behaves as a copy.\n",
      "\n",
      "For example, when doing 'df[col].method(value, inplace=True)', try using 'df.method({col: value}, inplace=True)' or df[col] = df[col].method(value) instead, to perform the operation inplace on the original object.\n",
      "\n",
      "\n",
      "  dataset['district'].replace('kowale', 'ujeścisko-łostowice', inplace=True)\n"
     ]
    }
   ],
   "source": [
    "dataset['district'].replace('łostowice', 'ujeścisko-łostowice', inplace=True)\n",
    "dataset['district'].replace('ujeścisko', 'ujeścisko-łostowice', inplace=True)\n",
    "dataset['district'].replace('ujeścisko - łostowice', 'ujeścisko-łostowice', inplace=True)\n",
    "dataset['district'].replace('ujeścisko łostowice', 'ujeścisko-łostowice', inplace=True)\n",
    "dataset['district'].replace('łostwice', 'ujeścisko-łostowice', inplace=True)\n",
    "dataset['district'].replace('zakoniczyn', 'ujeścisko-łostowice', inplace=True)\n",
    "dataset['district'].replace('kowale', 'ujeścisko-łostowice', inplace=True)"
   ],
   "metadata": {
    "collapsed": false,
    "ExecuteTime": {
     "end_time": "2024-12-03T19:37:48.573209900Z",
     "start_time": "2024-12-03T19:37:47.620672400Z"
    }
   },
   "id": "9439018bbc016119"
  },
  {
   "cell_type": "code",
   "execution_count": 50,
   "outputs": [
    {
     "data": {
      "text/plain": "district\ndąbrowa                3255\nśródmieście            1504\nujeścisko-łostowice     937\njasień                  824\nprzymorze               523\n                       ... \nmorenowe wzgórze          1\nzabianka                  1\norunia dolna              1\nwillowa                   1\nbernadowo                 1\nName: count, Length: 126, dtype: int64"
     },
     "execution_count": 50,
     "metadata": {},
     "output_type": "execute_result"
    }
   ],
   "source": [
    "dataset['district'].value_counts()"
   ],
   "metadata": {
    "collapsed": false,
    "ExecuteTime": {
     "end_time": "2024-12-03T19:37:49.164486500Z",
     "start_time": "2024-12-03T19:37:47.870171300Z"
    }
   },
   "id": "592ec880a0fce3d8"
  },
  {
   "cell_type": "markdown",
   "source": [
    "### Uporządkowanie wartości w kolumnie 'district' - część 3 (Witomino)"
   ],
   "metadata": {
    "collapsed": false
   },
   "id": "f0d7401dd10d79d2"
  },
  {
   "cell_type": "code",
   "execution_count": 51,
   "outputs": [
    {
     "name": "stderr",
     "output_type": "stream",
     "text": [
      "C:\\Users\\kubak\\AppData\\Local\\Temp\\ipykernel_14312\\824679263.py:1: FutureWarning: A value is trying to be set on a copy of a DataFrame or Series through chained assignment using an inplace method.\n",
      "The behavior will change in pandas 3.0. This inplace method will never work because the intermediate object on which we are setting values always behaves as a copy.\n",
      "\n",
      "For example, when doing 'df[col].method(value, inplace=True)', try using 'df.method({col: value}, inplace=True)' or df[col] = df[col].method(value) instead, to perform the operation inplace on the original object.\n",
      "\n",
      "\n",
      "  dataset['district'].replace('witomino-radiostacja', 'witomino', inplace=True)\n",
      "C:\\Users\\kubak\\AppData\\Local\\Temp\\ipykernel_14312\\824679263.py:2: FutureWarning: A value is trying to be set on a copy of a DataFrame or Series through chained assignment using an inplace method.\n",
      "The behavior will change in pandas 3.0. This inplace method will never work because the intermediate object on which we are setting values always behaves as a copy.\n",
      "\n",
      "For example, when doing 'df[col].method(value, inplace=True)', try using 'df.method({col: value}, inplace=True)' or df[col] = df[col].method(value) instead, to perform the operation inplace on the original object.\n",
      "\n",
      "\n",
      "  dataset['district'].replace('witomino-leśniczówka', 'witomino', inplace=True)\n",
      "C:\\Users\\kubak\\AppData\\Local\\Temp\\ipykernel_14312\\824679263.py:3: FutureWarning: A value is trying to be set on a copy of a DataFrame or Series through chained assignment using an inplace method.\n",
      "The behavior will change in pandas 3.0. This inplace method will never work because the intermediate object on which we are setting values always behaves as a copy.\n",
      "\n",
      "For example, when doing 'df[col].method(value, inplace=True)', try using 'df.method({col: value}, inplace=True)' or df[col] = df[col].method(value) instead, to perform the operation inplace on the original object.\n",
      "\n",
      "\n",
      "  dataset['district'].replace('witonino', 'witomino', inplace=True)\n"
     ]
    }
   ],
   "source": [
    "dataset['district'].replace('witomino-radiostacja', 'witomino', inplace=True)\n",
    "dataset['district'].replace('witomino-leśniczówka', 'witomino', inplace=True)\n",
    "dataset['district'].replace('witonino', 'witomino', inplace=True)"
   ],
   "metadata": {
    "collapsed": false,
    "ExecuteTime": {
     "end_time": "2024-12-03T19:37:49.738654400Z",
     "start_time": "2024-12-03T19:37:48.230281Z"
    }
   },
   "id": "1ce9992e3d40c6ca"
  },
  {
   "cell_type": "code",
   "execution_count": 52,
   "outputs": [
    {
     "data": {
      "text/plain": "district\ndąbrowa                3255\nśródmieście            1504\nujeścisko-łostowice     937\njasień                  824\nprzymorze               523\n                       ... \nmorenowe wzgórze          1\nzabianka                  1\norunia dolna              1\nwillowa                   1\nbernadowo                 1\nName: count, Length: 123, dtype: int64"
     },
     "execution_count": 52,
     "metadata": {},
     "output_type": "execute_result"
    }
   ],
   "source": [
    "dataset['district'].value_counts()"
   ],
   "metadata": {
    "collapsed": false,
    "ExecuteTime": {
     "end_time": "2024-12-03T19:37:49.972959800Z",
     "start_time": "2024-12-03T19:37:48.471217Z"
    }
   },
   "id": "67ce5a95ca142f5b"
  },
  {
   "cell_type": "markdown",
   "source": [
    "### Uporządkowanie wartości w kolumnie 'district' - część 4 (Orunie)"
   ],
   "metadata": {
    "collapsed": false
   },
   "id": "7602d12dc0250ec"
  },
  {
   "cell_type": "code",
   "execution_count": 53,
   "outputs": [
    {
     "name": "stderr",
     "output_type": "stream",
     "text": [
      "C:\\Users\\kubak\\AppData\\Local\\Temp\\ipykernel_14312\\4183681516.py:1: FutureWarning: A value is trying to be set on a copy of a DataFrame or Series through chained assignment using an inplace method.\n",
      "The behavior will change in pandas 3.0. This inplace method will never work because the intermediate object on which we are setting values always behaves as a copy.\n",
      "\n",
      "For example, when doing 'df[col].method(value, inplace=True)', try using 'df.method({col: value}, inplace=True)' or df[col] = df[col].method(value) instead, to perform the operation inplace on the original object.\n",
      "\n",
      "\n",
      "  dataset['district'].replace('orunia górna', 'orunia górna - gdańsk południe', inplace=True)\n",
      "C:\\Users\\kubak\\AppData\\Local\\Temp\\ipykernel_14312\\4183681516.py:2: FutureWarning: A value is trying to be set on a copy of a DataFrame or Series through chained assignment using an inplace method.\n",
      "The behavior will change in pandas 3.0. This inplace method will never work because the intermediate object on which we are setting values always behaves as a copy.\n",
      "\n",
      "For example, when doing 'df[col].method(value, inplace=True)', try using 'df.method({col: value}, inplace=True)' or df[col] = df[col].method(value) instead, to perform the operation inplace on the original object.\n",
      "\n",
      "\n",
      "  dataset['district'].replace('orunia górna gdańsk południe', 'orunia górna - gdańsk południe', inplace=True)\n",
      "C:\\Users\\kubak\\AppData\\Local\\Temp\\ipykernel_14312\\4183681516.py:3: FutureWarning: A value is trying to be set on a copy of a DataFrame or Series through chained assignment using an inplace method.\n",
      "The behavior will change in pandas 3.0. This inplace method will never work because the intermediate object on which we are setting values always behaves as a copy.\n",
      "\n",
      "For example, when doing 'df[col].method(value, inplace=True)', try using 'df.method({col: value}, inplace=True)' or df[col] = df[col].method(value) instead, to perform the operation inplace on the original object.\n",
      "\n",
      "\n",
      "  dataset['district'].replace('orunia górna poludnie', 'orunia górna - gdańsk południe', inplace=True)\n",
      "C:\\Users\\kubak\\AppData\\Local\\Temp\\ipykernel_14312\\4183681516.py:4: FutureWarning: A value is trying to be set on a copy of a DataFrame or Series through chained assignment using an inplace method.\n",
      "The behavior will change in pandas 3.0. This inplace method will never work because the intermediate object on which we are setting values always behaves as a copy.\n",
      "\n",
      "For example, when doing 'df[col].method(value, inplace=True)', try using 'df.method({col: value}, inplace=True)' or df[col] = df[col].method(value) instead, to perform the operation inplace on the original object.\n",
      "\n",
      "\n",
      "  dataset['district'].replace('maćkowy', 'orunia górna - gdańsk południe', inplace=True)\n",
      "C:\\Users\\kubak\\AppData\\Local\\Temp\\ipykernel_14312\\4183681516.py:5: FutureWarning: A value is trying to be set on a copy of a DataFrame or Series through chained assignment using an inplace method.\n",
      "The behavior will change in pandas 3.0. This inplace method will never work because the intermediate object on which we are setting values always behaves as a copy.\n",
      "\n",
      "For example, when doing 'df[col].method(value, inplace=True)', try using 'df.method({col: value}, inplace=True)' or df[col] = df[col].method(value) instead, to perform the operation inplace on the original object.\n",
      "\n",
      "\n",
      "  dataset['district'].replace('orunia', 'orunia-św. wojciech-lipce', inplace=True)\n",
      "C:\\Users\\kubak\\AppData\\Local\\Temp\\ipykernel_14312\\4183681516.py:6: FutureWarning: A value is trying to be set on a copy of a DataFrame or Series through chained assignment using an inplace method.\n",
      "The behavior will change in pandas 3.0. This inplace method will never work because the intermediate object on which we are setting values always behaves as a copy.\n",
      "\n",
      "For example, when doing 'df[col].method(value, inplace=True)', try using 'df.method({col: value}, inplace=True)' or df[col] = df[col].method(value) instead, to perform the operation inplace on the original object.\n",
      "\n",
      "\n",
      "  dataset['district'].replace('świętego wojciecha', 'orunia-św. wojciech-lipce', inplace=True)\n",
      "C:\\Users\\kubak\\AppData\\Local\\Temp\\ipykernel_14312\\4183681516.py:7: FutureWarning: A value is trying to be set on a copy of a DataFrame or Series through chained assignment using an inplace method.\n",
      "The behavior will change in pandas 3.0. This inplace method will never work because the intermediate object on which we are setting values always behaves as a copy.\n",
      "\n",
      "For example, when doing 'df[col].method(value, inplace=True)', try using 'df.method({col: value}, inplace=True)' or df[col] = df[col].method(value) instead, to perform the operation inplace on the original object.\n",
      "\n",
      "\n",
      "  dataset['district'].replace('orunia dolna', 'orunia-św. wojciech-lipce', inplace=True)\n",
      "C:\\Users\\kubak\\AppData\\Local\\Temp\\ipykernel_14312\\4183681516.py:8: FutureWarning: A value is trying to be set on a copy of a DataFrame or Series through chained assignment using an inplace method.\n",
      "The behavior will change in pandas 3.0. This inplace method will never work because the intermediate object on which we are setting values always behaves as a copy.\n",
      "\n",
      "For example, when doing 'df[col].method(value, inplace=True)', try using 'df.method({col: value}, inplace=True)' or df[col] = df[col].method(value) instead, to perform the operation inplace on the original object.\n",
      "\n",
      "\n",
      "  dataset['district'].replace('św. wojciech', 'orunia-św. wojciech-lipce', inplace=True)\n",
      "C:\\Users\\kubak\\AppData\\Local\\Temp\\ipykernel_14312\\4183681516.py:9: FutureWarning: A value is trying to be set on a copy of a DataFrame or Series through chained assignment using an inplace method.\n",
      "The behavior will change in pandas 3.0. This inplace method will never work because the intermediate object on which we are setting values always behaves as a copy.\n",
      "\n",
      "For example, when doing 'df[col].method(value, inplace=True)', try using 'df.method({col: value}, inplace=True)' or df[col] = df[col].method(value) instead, to perform the operation inplace on the original object.\n",
      "\n",
      "\n",
      "  dataset['district'].replace('lipce', 'orunia-św. wojciech-lipce', inplace=True)\n"
     ]
    }
   ],
   "source": [
    "dataset['district'].replace('orunia górna', 'orunia górna - gdańsk południe', inplace=True)\n",
    "dataset['district'].replace('orunia górna gdańsk południe', 'orunia górna - gdańsk południe', inplace=True)\n",
    "dataset['district'].replace('orunia górna poludnie', 'orunia górna - gdańsk południe', inplace=True)\n",
    "dataset['district'].replace('maćkowy', 'orunia górna - gdańsk południe', inplace=True)\n",
    "dataset['district'].replace('orunia', 'orunia-św. wojciech-lipce', inplace=True)\n",
    "dataset['district'].replace('świętego wojciecha', 'orunia-św. wojciech-lipce', inplace=True)\n",
    "dataset['district'].replace('orunia dolna', 'orunia-św. wojciech-lipce', inplace=True)\n",
    "dataset['district'].replace('św. wojciech', 'orunia-św. wojciech-lipce', inplace=True)\n",
    "dataset['district'].replace('lipce', 'orunia-św. wojciech-lipce', inplace=True)"
   ],
   "metadata": {
    "collapsed": false,
    "ExecuteTime": {
     "end_time": "2024-12-03T19:37:50.135217400Z",
     "start_time": "2024-12-03T19:37:48.807211Z"
    }
   },
   "id": "e10f6af29b910ebf"
  },
  {
   "cell_type": "code",
   "execution_count": 54,
   "outputs": [
    {
     "data": {
      "text/plain": "district\ndąbrowa                           3255\nśródmieście                       1504\nujeścisko-łostowice                937\njasień                             824\norunia górna - gdańsk południe     558\n                                  ... \nświemierowo                          1\nwzgórze świętego maksymiliana        1\nzabianka                             1\nwillowa                              1\nbernadowo                            1\nName: count, Length: 114, dtype: int64"
     },
     "execution_count": 54,
     "metadata": {},
     "output_type": "execute_result"
    }
   ],
   "source": [
    "dataset['district'].value_counts()"
   ],
   "metadata": {
    "collapsed": false,
    "ExecuteTime": {
     "end_time": "2024-12-03T19:37:50.450033200Z",
     "start_time": "2024-12-03T19:37:48.996939800Z"
    }
   },
   "id": "1813aa6091aca90f"
  },
  {
   "cell_type": "markdown",
   "source": [
    "### Uporządkowanie wartości w kolumnie 'district' - część 5 (Sobieszewo, żabianka i matarnia)"
   ],
   "metadata": {
    "collapsed": false
   },
   "id": "58580d88ee283255"
  },
  {
   "cell_type": "code",
   "execution_count": 55,
   "outputs": [
    {
     "name": "stderr",
     "output_type": "stream",
     "text": [
      "C:\\Users\\kubak\\AppData\\Local\\Temp\\ipykernel_14312\\3674908971.py:1: FutureWarning: A value is trying to be set on a copy of a DataFrame or Series through chained assignment using an inplace method.\n",
      "The behavior will change in pandas 3.0. This inplace method will never work because the intermediate object on which we are setting values always behaves as a copy.\n",
      "\n",
      "For example, when doing 'df[col].method(value, inplace=True)', try using 'df.method({col: value}, inplace=True)' or df[col] = df[col].method(value) instead, to perform the operation inplace on the original object.\n",
      "\n",
      "\n",
      "  dataset['district'].replace('sobieszewo', 'wyspa sobieszewska', inplace=True)\n",
      "C:\\Users\\kubak\\AppData\\Local\\Temp\\ipykernel_14312\\3674908971.py:2: FutureWarning: A value is trying to be set on a copy of a DataFrame or Series through chained assignment using an inplace method.\n",
      "The behavior will change in pandas 3.0. This inplace method will never work because the intermediate object on which we are setting values always behaves as a copy.\n",
      "\n",
      "For example, when doing 'df[col].method(value, inplace=True)', try using 'df.method({col: value}, inplace=True)' or df[col] = df[col].method(value) instead, to perform the operation inplace on the original object.\n",
      "\n",
      "\n",
      "  dataset['district'].replace('sobieszewo', 'wyspa sobieszewska', inplace=True)\n",
      "C:\\Users\\kubak\\AppData\\Local\\Temp\\ipykernel_14312\\3674908971.py:3: FutureWarning: A value is trying to be set on a copy of a DataFrame or Series through chained assignment using an inplace method.\n",
      "The behavior will change in pandas 3.0. This inplace method will never work because the intermediate object on which we are setting values always behaves as a copy.\n",
      "\n",
      "For example, when doing 'df[col].method(value, inplace=True)', try using 'df.method({col: value}, inplace=True)' or df[col] = df[col].method(value) instead, to perform the operation inplace on the original object.\n",
      "\n",
      "\n",
      "  dataset['district'].replace('żabianka', 'żabianka-wejhera-jelitkowo-tysiąclecia', inplace=True)\n",
      "C:\\Users\\kubak\\AppData\\Local\\Temp\\ipykernel_14312\\3674908971.py:4: FutureWarning: A value is trying to be set on a copy of a DataFrame or Series through chained assignment using an inplace method.\n",
      "The behavior will change in pandas 3.0. This inplace method will never work because the intermediate object on which we are setting values always behaves as a copy.\n",
      "\n",
      "For example, when doing 'df[col].method(value, inplace=True)', try using 'df.method({col: value}, inplace=True)' or df[col] = df[col].method(value) instead, to perform the operation inplace on the original object.\n",
      "\n",
      "\n",
      "  dataset['district'].replace('jelitkowo', 'żabianka-wejhera-jelitkowo-tysiąclecia', inplace=True)\n",
      "C:\\Users\\kubak\\AppData\\Local\\Temp\\ipykernel_14312\\3674908971.py:5: FutureWarning: A value is trying to be set on a copy of a DataFrame or Series through chained assignment using an inplace method.\n",
      "The behavior will change in pandas 3.0. This inplace method will never work because the intermediate object on which we are setting values always behaves as a copy.\n",
      "\n",
      "For example, when doing 'df[col].method(value, inplace=True)', try using 'df.method({col: value}, inplace=True)' or df[col] = df[col].method(value) instead, to perform the operation inplace on the original object.\n",
      "\n",
      "\n",
      "  dataset['district'].replace('tysiąclecia', 'żabianka-wejhera-jelitkowo-tysiąclecia', inplace=True)\n",
      "C:\\Users\\kubak\\AppData\\Local\\Temp\\ipykernel_14312\\3674908971.py:6: FutureWarning: A value is trying to be set on a copy of a DataFrame or Series through chained assignment using an inplace method.\n",
      "The behavior will change in pandas 3.0. This inplace method will never work because the intermediate object on which we are setting values always behaves as a copy.\n",
      "\n",
      "For example, when doing 'df[col].method(value, inplace=True)', try using 'df.method({col: value}, inplace=True)' or df[col] = df[col].method(value) instead, to perform the operation inplace on the original object.\n",
      "\n",
      "\n",
      "  dataset['district'].replace('wejhera', 'żabianka-wejhera-jelitkowo-tysiąclecia', inplace=True)\n",
      "C:\\Users\\kubak\\AppData\\Local\\Temp\\ipykernel_14312\\3674908971.py:7: FutureWarning: A value is trying to be set on a copy of a DataFrame or Series through chained assignment using an inplace method.\n",
      "The behavior will change in pandas 3.0. This inplace method will never work because the intermediate object on which we are setting values always behaves as a copy.\n",
      "\n",
      "For example, when doing 'df[col].method(value, inplace=True)', try using 'df.method({col: value}, inplace=True)' or df[col] = df[col].method(value) instead, to perform the operation inplace on the original object.\n",
      "\n",
      "\n",
      "  dataset['district'].replace('zabianka', 'żabianka-wejhera-jelitkowo-tysiąclecia', inplace=True)\n",
      "C:\\Users\\kubak\\AppData\\Local\\Temp\\ipykernel_14312\\3674908971.py:8: FutureWarning: A value is trying to be set on a copy of a DataFrame or Series through chained assignment using an inplace method.\n",
      "The behavior will change in pandas 3.0. This inplace method will never work because the intermediate object on which we are setting values always behaves as a copy.\n",
      "\n",
      "For example, when doing 'df[col].method(value, inplace=True)', try using 'df.method({col: value}, inplace=True)' or df[col] = df[col].method(value) instead, to perform the operation inplace on the original object.\n",
      "\n",
      "\n",
      "  dataset['district'].replace('matarnia - rębiechowo', 'matarnia', inplace=True)\n"
     ]
    }
   ],
   "source": [
    "dataset['district'].replace('sobieszewo', 'wyspa sobieszewska', inplace=True)\n",
    "dataset['district'].replace('sobieszewo', 'wyspa sobieszewska', inplace=True)\n",
    "dataset['district'].replace('żabianka', 'żabianka-wejhera-jelitkowo-tysiąclecia', inplace=True)\n",
    "dataset['district'].replace('jelitkowo', 'żabianka-wejhera-jelitkowo-tysiąclecia', inplace=True)\n",
    "dataset['district'].replace('tysiąclecia', 'żabianka-wejhera-jelitkowo-tysiąclecia', inplace=True)\n",
    "dataset['district'].replace('wejhera', 'żabianka-wejhera-jelitkowo-tysiąclecia', inplace=True)\n",
    "dataset['district'].replace('zabianka', 'żabianka-wejhera-jelitkowo-tysiąclecia', inplace=True)\n",
    "dataset['district'].replace('matarnia - rębiechowo', 'matarnia', inplace=True)"
   ],
   "metadata": {
    "collapsed": false,
    "ExecuteTime": {
     "end_time": "2024-12-03T19:37:50.605256100Z",
     "start_time": "2024-12-03T19:37:49.414136900Z"
    }
   },
   "id": "3a5d2bb5c71431d"
  },
  {
   "cell_type": "code",
   "execution_count": 56,
   "outputs": [
    {
     "data": {
      "text/plain": "district\ndąbrowa                           3255\nśródmieście                       1504\nujeścisko-łostowice                937\njasień                             824\norunia górna - gdańsk południe     558\n                                  ... \nchelm                                1\nmorenowe wzgórze                     1\nwzgórze świętego maksymiliana        1\nwillowa                              1\nbernadowo                            1\nName: count, Length: 108, dtype: int64"
     },
     "execution_count": 56,
     "metadata": {},
     "output_type": "execute_result"
    }
   ],
   "source": [
    "dataset['district'].value_counts()"
   ],
   "metadata": {
    "collapsed": false,
    "ExecuteTime": {
     "end_time": "2024-12-03T19:37:50.680588100Z",
     "start_time": "2024-12-03T19:37:49.650987100Z"
    }
   },
   "id": "2682f82e7e38e6f"
  },
  {
   "cell_type": "markdown",
   "source": [
    "### Usuwanie wierszy które mają dzielnicę która powtarza się mniej niż 10 razy"
   ],
   "metadata": {
    "collapsed": false
   },
   "id": "53cbd6a0508c3e53"
  },
  {
   "cell_type": "code",
   "execution_count": 57,
   "outputs": [
    {
     "data": {
      "text/plain": "district\ndąbrowa                           3255\nśródmieście                       1504\nujeścisko-łostowice                937\njasień                             824\norunia górna - gdańsk południe     558\n                                  ... \nolszynka                            18\nrudniki                             14\nbabie doły                          13\ndemptowo                            11\nprzeróbka                           10\nName: count, Length: 71, dtype: int64"
     },
     "execution_count": 57,
     "metadata": {},
     "output_type": "execute_result"
    }
   ],
   "source": [
    "dataset = dataset.groupby('district').filter(lambda x: len(x) > 9)\n",
    "dataset['district'].value_counts()"
   ],
   "metadata": {
    "collapsed": false,
    "ExecuteTime": {
     "end_time": "2024-12-03T19:37:50.863663Z",
     "start_time": "2024-12-03T19:37:50.068967Z"
    }
   },
   "id": "25ec9f2dfa7e4830"
  },
  {
   "cell_type": "markdown",
   "source": [
    "### Uporządkowanie wartości w kolumnie 'district' - część 6 (pustki Cisowskie i Gdańsk Śródmieście)"
   ],
   "metadata": {
    "collapsed": false
   },
   "id": "bfb0891436657c74"
  },
  {
   "cell_type": "code",
   "execution_count": 58,
   "outputs": [
    {
     "name": "stderr",
     "output_type": "stream",
     "text": [
      "C:\\Users\\kubak\\AppData\\Local\\Temp\\ipykernel_14312\\380936052.py:1: FutureWarning: A value is trying to be set on a copy of a DataFrame or Series through chained assignment using an inplace method.\n",
      "The behavior will change in pandas 3.0. This inplace method will never work because the intermediate object on which we are setting values always behaves as a copy.\n",
      "\n",
      "For example, when doing 'df[col].method(value, inplace=True)', try using 'df.method({col: value}, inplace=True)' or df[col] = df[col].method(value) instead, to perform the operation inplace on the original object.\n",
      "\n",
      "\n",
      "  dataset['district'].replace('pustki cisowskie', 'pustki cisowskie-demptowo', inplace=True)\n",
      "C:\\Users\\kubak\\AppData\\Local\\Temp\\ipykernel_14312\\380936052.py:2: FutureWarning: A value is trying to be set on a copy of a DataFrame or Series through chained assignment using an inplace method.\n",
      "The behavior will change in pandas 3.0. This inplace method will never work because the intermediate object on which we are setting values always behaves as a copy.\n",
      "\n",
      "For example, when doing 'df[col].method(value, inplace=True)', try using 'df.method({col: value}, inplace=True)' or df[col] = df[col].method(value) instead, to perform the operation inplace on the original object.\n",
      "\n",
      "\n",
      "  dataset['district'].replace('demptowo', 'pustki cisowskie-demptowo', inplace=True)\n",
      "C:\\Users\\kubak\\AppData\\Local\\Temp\\ipykernel_14312\\380936052.py:3: FutureWarning: A value is trying to be set on a copy of a DataFrame or Series through chained assignment using an inplace method.\n",
      "The behavior will change in pandas 3.0. This inplace method will never work because the intermediate object on which we are setting values always behaves as a copy.\n",
      "\n",
      "For example, when doing 'df[col].method(value, inplace=True)', try using 'df.method({col: value}, inplace=True)' or df[col] = df[col].method(value) instead, to perform the operation inplace on the original object.\n",
      "\n",
      "\n",
      "  dataset['district'].replace('wyścigi / karlikowo', 'karlikowo', inplace=True)\n",
      "C:\\Users\\kubak\\AppData\\Local\\Temp\\ipykernel_14312\\380936052.py:4: FutureWarning: A value is trying to be set on a copy of a DataFrame or Series through chained assignment using an inplace method.\n",
      "The behavior will change in pandas 3.0. This inplace method will never work because the intermediate object on which we are setting values always behaves as a copy.\n",
      "\n",
      "For example, when doing 'df[col].method(value, inplace=True)', try using 'df.method({col: value}, inplace=True)' or df[col] = df[col].method(value) instead, to perform the operation inplace on the original object.\n",
      "\n",
      "\n",
      "  dataset['district'].replace('długie ogrody', 'śródmieście', inplace=True)\n",
      "C:\\Users\\kubak\\AppData\\Local\\Temp\\ipykernel_14312\\380936052.py:5: FutureWarning: A value is trying to be set on a copy of a DataFrame or Series through chained assignment using an inplace method.\n",
      "The behavior will change in pandas 3.0. This inplace method will never work because the intermediate object on which we are setting values always behaves as a copy.\n",
      "\n",
      "For example, when doing 'df[col].method(value, inplace=True)', try using 'df.method({col: value}, inplace=True)' or df[col] = df[col].method(value) instead, to perform the operation inplace on the original object.\n",
      "\n",
      "\n",
      "  dataset['district'].replace('stare przedmieście', 'śródmieście', inplace=True)\n",
      "C:\\Users\\kubak\\AppData\\Local\\Temp\\ipykernel_14312\\380936052.py:6: FutureWarning: A value is trying to be set on a copy of a DataFrame or Series through chained assignment using an inplace method.\n",
      "The behavior will change in pandas 3.0. This inplace method will never work because the intermediate object on which we are setting values always behaves as a copy.\n",
      "\n",
      "For example, when doing 'df[col].method(value, inplace=True)', try using 'df.method({col: value}, inplace=True)' or df[col] = df[col].method(value) instead, to perform the operation inplace on the original object.\n",
      "\n",
      "\n",
      "  dataset['district'].replace('gdańsk śródmieście', 'śródmieście', inplace=True)\n",
      "C:\\Users\\kubak\\AppData\\Local\\Temp\\ipykernel_14312\\380936052.py:7: FutureWarning: A value is trying to be set on a copy of a DataFrame or Series through chained assignment using an inplace method.\n",
      "The behavior will change in pandas 3.0. This inplace method will never work because the intermediate object on which we are setting values always behaves as a copy.\n",
      "\n",
      "For example, when doing 'df[col].method(value, inplace=True)', try using 'df.method({col: value}, inplace=True)' or df[col] = df[col].method(value) instead, to perform the operation inplace on the original object.\n",
      "\n",
      "\n",
      "  dataset['district'].replace('dolne miasto', 'śródmieście', inplace=True)\n",
      "C:\\Users\\kubak\\AppData\\Local\\Temp\\ipykernel_14312\\380936052.py:8: FutureWarning: A value is trying to be set on a copy of a DataFrame or Series through chained assignment using an inplace method.\n",
      "The behavior will change in pandas 3.0. This inplace method will never work because the intermediate object on which we are setting values always behaves as a copy.\n",
      "\n",
      "For example, when doing 'df[col].method(value, inplace=True)', try using 'df.method({col: value}, inplace=True)' or df[col] = df[col].method(value) instead, to perform the operation inplace on the original object.\n",
      "\n",
      "\n",
      "  dataset['district'].replace('młode miasto', 'śródmieście', inplace=True)\n",
      "C:\\Users\\kubak\\AppData\\Local\\Temp\\ipykernel_14312\\380936052.py:9: FutureWarning: A value is trying to be set on a copy of a DataFrame or Series through chained assignment using an inplace method.\n",
      "The behavior will change in pandas 3.0. This inplace method will never work because the intermediate object on which we are setting values always behaves as a copy.\n",
      "\n",
      "For example, when doing 'df[col].method(value, inplace=True)', try using 'df.method({col: value}, inplace=True)' or df[col] = df[col].method(value) instead, to perform the operation inplace on the original object.\n",
      "\n",
      "\n",
      "  dataset['district'].replace('karczemki', 'kokoszki', inplace=True)\n",
      "C:\\Users\\kubak\\AppData\\Local\\Temp\\ipykernel_14312\\380936052.py:10: FutureWarning: A value is trying to be set on a copy of a DataFrame or Series through chained assignment using an inplace method.\n",
      "The behavior will change in pandas 3.0. This inplace method will never work because the intermediate object on which we are setting values always behaves as a copy.\n",
      "\n",
      "For example, when doing 'df[col].method(value, inplace=True)', try using 'df.method({col: value}, inplace=True)' or df[col] = df[col].method(value) instead, to perform the operation inplace on the original object.\n",
      "\n",
      "\n",
      "  dataset['district'].replace('kiełpinek', 'jasień', inplace=True)\n"
     ]
    }
   ],
   "source": [
    "dataset['district'].replace('pustki cisowskie', 'pustki cisowskie-demptowo', inplace=True)\n",
    "dataset['district'].replace('demptowo', 'pustki cisowskie-demptowo', inplace=True)\n",
    "dataset['district'].replace('wyścigi / karlikowo', 'karlikowo', inplace=True)\n",
    "dataset['district'].replace('długie ogrody', 'śródmieście', inplace=True)\n",
    "dataset['district'].replace('stare przedmieście', 'śródmieście', inplace=True)\n",
    "dataset['district'].replace('gdańsk śródmieście', 'śródmieście', inplace=True)\n",
    "dataset['district'].replace('dolne miasto', 'śródmieście', inplace=True)\n",
    "dataset['district'].replace('młode miasto', 'śródmieście', inplace=True)\n",
    "dataset['district'].replace('karczemki', 'kokoszki', inplace=True)\n",
    "dataset['district'].replace('kiełpinek', 'jasień', inplace=True)"
   ],
   "metadata": {
    "collapsed": false,
    "ExecuteTime": {
     "end_time": "2024-12-03T19:37:51.151712900Z",
     "start_time": "2024-12-03T19:37:50.437022500Z"
    }
   },
   "id": "cca17ed7cad3b0d7"
  },
  {
   "cell_type": "code",
   "execution_count": 59,
   "outputs": [
    {
     "data": {
      "text/plain": "district\ndąbrowa                           3255\nśródmieście                       1732\nujeścisko-łostowice                937\njasień                             845\norunia górna - gdańsk południe     558\n                                  ... \nvii dwór                            19\nolszynka                            18\nrudniki                             14\nbabie doły                          13\nprzeróbka                           10\nName: count, Length: 63, dtype: int64"
     },
     "execution_count": 59,
     "metadata": {},
     "output_type": "execute_result"
    }
   ],
   "source": [
    "dataset['district'].value_counts()"
   ],
   "metadata": {
    "collapsed": false,
    "ExecuteTime": {
     "end_time": "2024-12-03T19:37:51.240593800Z",
     "start_time": "2024-12-03T19:37:50.585370100Z"
    }
   },
   "id": "ee43760121109bd3"
  },
  {
   "cell_type": "markdown",
   "source": [],
   "metadata": {
    "collapsed": false
   },
   "id": "83feb42bd62feb86"
  },
  {
   "cell_type": "markdown",
   "source": [
    "### Uporządkowanie wartości w kolumnie 'district' - część 7 (Zaspa)"
   ],
   "metadata": {
    "collapsed": false
   },
   "id": "c34bb823c2558073"
  },
  {
   "cell_type": "code",
   "execution_count": 60,
   "outputs": [
    {
     "name": "stderr",
     "output_type": "stream",
     "text": [
      "C:\\Users\\kubak\\AppData\\Local\\Temp\\ipykernel_14312\\4108432915.py:1: FutureWarning: A value is trying to be set on a copy of a DataFrame or Series through chained assignment using an inplace method.\n",
      "The behavior will change in pandas 3.0. This inplace method will never work because the intermediate object on which we are setting values always behaves as a copy.\n",
      "\n",
      "For example, when doing 'df[col].method(value, inplace=True)', try using 'df.method({col: value}, inplace=True)' or df[col] = df[col].method(value) instead, to perform the operation inplace on the original object.\n",
      "\n",
      "\n",
      "  dataset['district'].replace('zaspa-młyniec', 'zaspa', inplace=True)\n",
      "C:\\Users\\kubak\\AppData\\Local\\Temp\\ipykernel_14312\\4108432915.py:2: FutureWarning: A value is trying to be set on a copy of a DataFrame or Series through chained assignment using an inplace method.\n",
      "The behavior will change in pandas 3.0. This inplace method will never work because the intermediate object on which we are setting values always behaves as a copy.\n",
      "\n",
      "For example, when doing 'df[col].method(value, inplace=True)', try using 'df.method({col: value}, inplace=True)' or df[col] = df[col].method(value) instead, to perform the operation inplace on the original object.\n",
      "\n",
      "\n",
      "  dataset['district'].replace('zaspa-rozstaje', 'zaspa', inplace=True)\n"
     ]
    }
   ],
   "source": [
    "dataset['district'].replace('zaspa-młyniec', 'zaspa', inplace=True)\n",
    "dataset['district'].replace('zaspa-rozstaje', 'zaspa', inplace=True)"
   ],
   "metadata": {
    "collapsed": false,
    "ExecuteTime": {
     "end_time": "2024-12-03T19:37:51.613232600Z",
     "start_time": "2024-12-03T19:37:51.197028100Z"
    }
   },
   "id": "5c1264c3ceddebfd"
  },
  {
   "cell_type": "code",
   "execution_count": 61,
   "outputs": [
    {
     "data": {
      "text/plain": "district\ndąbrowa                           3255\nśródmieście                       1732\nujeścisko-łostowice                937\njasień                             845\norunia górna - gdańsk południe     558\n                                  ... \nvii dwór                            19\nolszynka                            18\nrudniki                             14\nbabie doły                          13\nprzeróbka                           10\nName: count, Length: 61, dtype: int64"
     },
     "execution_count": 61,
     "metadata": {},
     "output_type": "execute_result"
    }
   ],
   "source": [
    "dataset['district'].value_counts()"
   ],
   "metadata": {
    "collapsed": false,
    "ExecuteTime": {
     "end_time": "2024-12-03T19:37:51.678234200Z",
     "start_time": "2024-12-03T19:37:51.463630Z"
    }
   },
   "id": "8d5b21cef2f0230f"
  },
  {
   "cell_type": "markdown",
   "source": [
    "### Uporządkowanie wartości w kolumnie 'district' - część 8 (Piecki-Migowo)"
   ],
   "metadata": {
    "collapsed": false
   },
   "id": "260b621998a1a6a5"
  },
  {
   "cell_type": "code",
   "execution_count": 62,
   "outputs": [
    {
     "name": "stderr",
     "output_type": "stream",
     "text": [
      "C:\\Users\\kubak\\AppData\\Local\\Temp\\ipykernel_14312\\1474457062.py:1: FutureWarning: A value is trying to be set on a copy of a DataFrame or Series through chained assignment using an inplace method.\n",
      "The behavior will change in pandas 3.0. This inplace method will never work because the intermediate object on which we are setting values always behaves as a copy.\n",
      "\n",
      "For example, when doing 'df[col].method(value, inplace=True)', try using 'df.method({col: value}, inplace=True)' or df[col] = df[col].method(value) instead, to perform the operation inplace on the original object.\n",
      "\n",
      "\n",
      "  dataset['district'].replace('morena', 'piecki-migowo', inplace=True)\n"
     ]
    }
   ],
   "source": [
    "dataset['district'].replace('morena', 'piecki-migowo', inplace=True)"
   ],
   "metadata": {
    "collapsed": false,
    "ExecuteTime": {
     "end_time": "2024-12-03T19:37:52.591679500Z",
     "start_time": "2024-12-03T19:37:51.891449Z"
    }
   },
   "id": "a50c8a1a36e5e4bc"
  },
  {
   "cell_type": "code",
   "execution_count": 63,
   "outputs": [
    {
     "data": {
      "text/plain": "district\ndąbrowa                                   3255\nśródmieście                               1732\nujeścisko-łostowice                        937\njasień                                     845\norunia górna - gdańsk południe             558\nprzymorze                                  523\npiecki-migowo                              396\nletnica                                    353\noliwa                                      332\nsiedlce                                    307\nwrzeszcz górny                             269\nchwarzno-wiczlino                          262\nwrzeszcz                                   255\nosowa                                      232\nmały kack                                  212\nchylonia                                   209\nwyspa sobieszewska                         205\nżabianka-wejhera-jelitkowo-tysiąclecia     195\ngórny sopot                                187\nchełm                                      185\norunia-św. wojciech-lipce                  171\ncisowa                                     166\ndolny sopot                                164\nredłowo                                    160\nwielki kack                                159\ndziałki leśne                              158\nbrzeźno                                    157\nwzgórze św. maksymiliana                   149\nwrzeszcz dolny                             140\norłowo                                     138\noksywie                                    135\nkokoszki                                   133\nkarlikowo                                  130\nobłuże                                     119\nwitomino                                   117\nzaspa                                      111\nsuchanino                                  107\ngrabówek                                    94\npogórze                                     90\naniołki                                     79\nstogi                                       78\nkarwiny                                     68\nkamienny potok                              67\nprzylesie                                   64\nleszczynki                                  59\nkamienna góra                               57\nmatarnia                                    53\nnowy port                                   50\nświemirowo                                  42\npustki cisowskie-demptowo                   40\nosiedle mickiewicza                         33\nmłyniska                                    32\nstrzyża                                     32\nbrodwino                                    24\nbrętowo                                     20\nvii dwór                                    19\nolszynka                                    18\nrudniki                                     14\nbabie doły                                  13\nprzeróbka                                   10\nName: count, dtype: int64"
     },
     "execution_count": 63,
     "metadata": {},
     "output_type": "execute_result"
    }
   ],
   "source": [
    "dataset['district'].value_counts()"
   ],
   "metadata": {
    "collapsed": false,
    "ExecuteTime": {
     "end_time": "2024-12-03T19:37:53.302787100Z",
     "start_time": "2024-12-03T19:37:52.283767400Z"
    }
   },
   "id": "91cd3ff29b6f3f05"
  },
  {
   "cell_type": "code",
   "execution_count": 64,
   "outputs": [
    {
     "data": {
      "text/plain": "Empty DataFrame\nColumns: [title, overall_price, area, number_of_rooms, floor, type_of_market, parking, elevator, year_of_creation, internet, type_of_building, basement, price_for_m2_in_PLN, balcony, garden, terrace, street, district, city, latitude, longtitude]\nIndex: []\n\n[0 rows x 21 columns]",
      "text/html": "<div>\n<style scoped>\n    .dataframe tbody tr th:only-of-type {\n        vertical-align: middle;\n    }\n\n    .dataframe tbody tr th {\n        vertical-align: top;\n    }\n\n    .dataframe thead th {\n        text-align: right;\n    }\n</style>\n<table border=\"1\" class=\"dataframe\">\n  <thead>\n    <tr style=\"text-align: right;\">\n      <th></th>\n      <th>title</th>\n      <th>overall_price</th>\n      <th>area</th>\n      <th>number_of_rooms</th>\n      <th>floor</th>\n      <th>type_of_market</th>\n      <th>parking</th>\n      <th>elevator</th>\n      <th>year_of_creation</th>\n      <th>internet</th>\n      <th>...</th>\n      <th>basement</th>\n      <th>price_for_m2_in_PLN</th>\n      <th>balcony</th>\n      <th>garden</th>\n      <th>terrace</th>\n      <th>street</th>\n      <th>district</th>\n      <th>city</th>\n      <th>latitude</th>\n      <th>longtitude</th>\n    </tr>\n  </thead>\n  <tbody>\n  </tbody>\n</table>\n<p>0 rows × 21 columns</p>\n</div>"
     },
     "execution_count": 64,
     "metadata": {},
     "output_type": "execute_result"
    }
   ],
   "source": [
    "dataset[dataset['district'] == 'maćkowy']"
   ],
   "metadata": {
    "collapsed": false,
    "ExecuteTime": {
     "end_time": "2024-12-03T19:37:53.610518100Z",
     "start_time": "2024-12-03T19:37:52.539418100Z"
    }
   },
   "id": "5e4f14e409fd77a3"
  },
  {
   "cell_type": "code",
   "execution_count": 65,
   "outputs": [
    {
     "data": {
      "text/plain": "district\ndąbrowa                                   3255\nśródmieście                               1732\nujeścisko-łostowice                        937\njasień                                     845\norunia górna - gdańsk południe             558\nprzymorze                                  523\npiecki-migowo                              396\nletnica                                    353\noliwa                                      332\nsiedlce                                    307\nwrzeszcz górny                             269\nchwarzno-wiczlino                          262\nwrzeszcz                                   255\nosowa                                      232\nmały kack                                  212\nchylonia                                   209\nwyspa sobieszewska                         205\nżabianka-wejhera-jelitkowo-tysiąclecia     195\ngórny sopot                                187\nchełm                                      185\norunia-św. wojciech-lipce                  171\ncisowa                                     166\ndolny sopot                                164\nredłowo                                    160\nwielki kack                                159\ndziałki leśne                              158\nbrzeźno                                    157\nwzgórze św. maksymiliana                   149\nwrzeszcz dolny                             140\norłowo                                     138\noksywie                                    135\nkokoszki                                   133\nkarlikowo                                  130\nobłuże                                     119\nwitomino                                   117\nzaspa                                      111\nsuchanino                                  107\ngrabówek                                    94\npogórze                                     90\naniołki                                     79\nstogi                                       78\nkarwiny                                     68\nkamienny potok                              67\nprzylesie                                   64\nleszczynki                                  59\nkamienna góra                               57\nmatarnia                                    53\nnowy port                                   50\nświemirowo                                  42\npustki cisowskie-demptowo                   40\nosiedle mickiewicza                         33\nmłyniska                                    32\nstrzyża                                     32\nbrodwino                                    24\nbrętowo                                     20\nvii dwór                                    19\nolszynka                                    18\nrudniki                                     14\nbabie doły                                  13\nprzeróbka                                   10\nName: count, dtype: int64"
     },
     "execution_count": 65,
     "metadata": {},
     "output_type": "execute_result"
    }
   ],
   "source": [
    "dataset['district'].value_counts()"
   ],
   "metadata": {
    "collapsed": false,
    "ExecuteTime": {
     "end_time": "2024-12-03T19:37:53.877604Z",
     "start_time": "2024-12-03T19:37:52.712884700Z"
    }
   },
   "id": "26904e264b54a2d8"
  },
  {
   "cell_type": "code",
   "execution_count": 66,
   "outputs": [
    {
     "data": {
      "text/plain": "                                                   title  overall_price  \\\n0      4-pokojowe mieszkanie 65m2 + ogródek Bezpośrednio      819900.00   \n1       1 pokojowe + balkon INWESTYCYJNIe na DNI OTWARTE      412024.00   \n2               Kompleks 5 apartamentów. Wysoki standard     2990000.00   \n3      Apartament inwestycyjny, ostatnie piętro, k/Sk...      416907.00   \n4       Apartament inwestycyjny Śląska 12 z umową najmu!      475820.00   \n...                                                  ...            ...   \n15188   INPRO S.A. - OPTIMA - mieszkanie 3-pok. 56.33 m2      584029.44   \n15189   INPRO S.A. - OPTIMA - mieszkanie 3-pok. 61.44 m2      637009.92   \n15190  INPRO S.A. - OPTIMA - mieszkanie 2-pok. 47.22 ...      497448.00   \n15191  INPRO S.A. - OPTIMA - mieszkanie 2-pok. 46.30 ...      490039.20   \n15192  INPRO S.A. - OPTIMA - mieszkanie 3-pok. 65.17 ...      668644.20   \n\n         area number_of_rooms floor type_of_market  parking  elevator  \\\n0       65.57               4     0            NaN        1         0   \n1       26.01               1     2        primary        1         1   \n2      150.00               8     4      secondary        1         0   \n3       24.89               1     5      secondary        0         1   \n4       25.72               1     0      secondary        0         1   \n...       ...             ...   ...            ...      ...       ...   \n15188   56.33               3   2.0        primary        1         0   \n15189   61.44               3   3.0        primary        1         0   \n15190   47.00               2   1.0        primary        1         0   \n15191   46.30               2   1.0        primary        1         0   \n15192   65.17               3   1.0        primary        1         0   \n\n       year_of_creation  internet  ... basement  price_for_m2_in_PLN  balcony  \\\n0                   NaN       NaN  ...      NaN             12504.19        0   \n1                   NaN       0.0  ...      0.0             15840.98        1   \n2                1929.0       1.0  ...      1.0             19933.33        1   \n3                2022.0       1.0  ...      0.0             16749.98        0   \n4                2022.0       1.0  ...      0.0             18500.00        0   \n...                 ...       ...  ...      ...                  ...      ...   \n15188            2024.0       1.0  ...      1.0             10368.00        1   \n15189            2024.0       1.0  ...      1.0             10368.00        1   \n15190            2025.0       1.0  ...      1.0             10584.00        1   \n15191            2025.0       1.0  ...      1.0             10584.00        1   \n15192            2025.0       1.0  ...      1.0             10260.00        1   \n\n       garden  terrace          street     district    city   latitude  \\\n0           1        1          zakole        stogi  gdansk  54.362472   \n1           0        0             NaN  śródmieście  gdansk  54.349020   \n2           0        0  wójta radtkego  śródmieście  gdynia  54.522236   \n3           0        0       śląska 12    przymorze  gdansk  54.406171   \n4           0        0       śląska 12    przymorze  gdansk  54.406171   \n...       ...      ...             ...          ...     ...        ...   \n15188       0        0   serdecznikowa      dąbrowa  gdynia  54.471546   \n15189       0        0   serdecznikowa      dąbrowa  gdynia  54.471546   \n15190       0        0   serdecznikowa      dąbrowa  gdynia  54.471546   \n15191       0        0   serdecznikowa      dąbrowa  gdynia  54.471546   \n15192       0        0   serdecznikowa      dąbrowa  gdynia  54.471546   \n\n       longtitude  \n0       18.709969  \n1       18.651800  \n2       18.537335  \n3       18.576846  \n4       18.576846  \n...           ...  \n15188   18.467438  \n15189   18.467438  \n15190   18.467438  \n15191   18.467438  \n15192   18.467438  \n\n[14919 rows x 21 columns]",
      "text/html": "<div>\n<style scoped>\n    .dataframe tbody tr th:only-of-type {\n        vertical-align: middle;\n    }\n\n    .dataframe tbody tr th {\n        vertical-align: top;\n    }\n\n    .dataframe thead th {\n        text-align: right;\n    }\n</style>\n<table border=\"1\" class=\"dataframe\">\n  <thead>\n    <tr style=\"text-align: right;\">\n      <th></th>\n      <th>title</th>\n      <th>overall_price</th>\n      <th>area</th>\n      <th>number_of_rooms</th>\n      <th>floor</th>\n      <th>type_of_market</th>\n      <th>parking</th>\n      <th>elevator</th>\n      <th>year_of_creation</th>\n      <th>internet</th>\n      <th>...</th>\n      <th>basement</th>\n      <th>price_for_m2_in_PLN</th>\n      <th>balcony</th>\n      <th>garden</th>\n      <th>terrace</th>\n      <th>street</th>\n      <th>district</th>\n      <th>city</th>\n      <th>latitude</th>\n      <th>longtitude</th>\n    </tr>\n  </thead>\n  <tbody>\n    <tr>\n      <th>0</th>\n      <td>4-pokojowe mieszkanie 65m2 + ogródek Bezpośrednio</td>\n      <td>819900.00</td>\n      <td>65.57</td>\n      <td>4</td>\n      <td>0</td>\n      <td>NaN</td>\n      <td>1</td>\n      <td>0</td>\n      <td>NaN</td>\n      <td>NaN</td>\n      <td>...</td>\n      <td>NaN</td>\n      <td>12504.19</td>\n      <td>0</td>\n      <td>1</td>\n      <td>1</td>\n      <td>zakole</td>\n      <td>stogi</td>\n      <td>gdansk</td>\n      <td>54.362472</td>\n      <td>18.709969</td>\n    </tr>\n    <tr>\n      <th>1</th>\n      <td>1 pokojowe + balkon INWESTYCYJNIe na DNI OTWARTE</td>\n      <td>412024.00</td>\n      <td>26.01</td>\n      <td>1</td>\n      <td>2</td>\n      <td>primary</td>\n      <td>1</td>\n      <td>1</td>\n      <td>NaN</td>\n      <td>0.0</td>\n      <td>...</td>\n      <td>0.0</td>\n      <td>15840.98</td>\n      <td>1</td>\n      <td>0</td>\n      <td>0</td>\n      <td>NaN</td>\n      <td>śródmieście</td>\n      <td>gdansk</td>\n      <td>54.349020</td>\n      <td>18.651800</td>\n    </tr>\n    <tr>\n      <th>2</th>\n      <td>Kompleks 5 apartamentów. Wysoki standard</td>\n      <td>2990000.00</td>\n      <td>150.00</td>\n      <td>8</td>\n      <td>4</td>\n      <td>secondary</td>\n      <td>1</td>\n      <td>0</td>\n      <td>1929.0</td>\n      <td>1.0</td>\n      <td>...</td>\n      <td>1.0</td>\n      <td>19933.33</td>\n      <td>1</td>\n      <td>0</td>\n      <td>0</td>\n      <td>wójta radtkego</td>\n      <td>śródmieście</td>\n      <td>gdynia</td>\n      <td>54.522236</td>\n      <td>18.537335</td>\n    </tr>\n    <tr>\n      <th>3</th>\n      <td>Apartament inwestycyjny, ostatnie piętro, k/Sk...</td>\n      <td>416907.00</td>\n      <td>24.89</td>\n      <td>1</td>\n      <td>5</td>\n      <td>secondary</td>\n      <td>0</td>\n      <td>1</td>\n      <td>2022.0</td>\n      <td>1.0</td>\n      <td>...</td>\n      <td>0.0</td>\n      <td>16749.98</td>\n      <td>0</td>\n      <td>0</td>\n      <td>0</td>\n      <td>śląska 12</td>\n      <td>przymorze</td>\n      <td>gdansk</td>\n      <td>54.406171</td>\n      <td>18.576846</td>\n    </tr>\n    <tr>\n      <th>4</th>\n      <td>Apartament inwestycyjny Śląska 12 z umową najmu!</td>\n      <td>475820.00</td>\n      <td>25.72</td>\n      <td>1</td>\n      <td>0</td>\n      <td>secondary</td>\n      <td>0</td>\n      <td>1</td>\n      <td>2022.0</td>\n      <td>1.0</td>\n      <td>...</td>\n      <td>0.0</td>\n      <td>18500.00</td>\n      <td>0</td>\n      <td>0</td>\n      <td>0</td>\n      <td>śląska 12</td>\n      <td>przymorze</td>\n      <td>gdansk</td>\n      <td>54.406171</td>\n      <td>18.576846</td>\n    </tr>\n    <tr>\n      <th>...</th>\n      <td>...</td>\n      <td>...</td>\n      <td>...</td>\n      <td>...</td>\n      <td>...</td>\n      <td>...</td>\n      <td>...</td>\n      <td>...</td>\n      <td>...</td>\n      <td>...</td>\n      <td>...</td>\n      <td>...</td>\n      <td>...</td>\n      <td>...</td>\n      <td>...</td>\n      <td>...</td>\n      <td>...</td>\n      <td>...</td>\n      <td>...</td>\n      <td>...</td>\n      <td>...</td>\n    </tr>\n    <tr>\n      <th>15188</th>\n      <td>INPRO S.A. - OPTIMA - mieszkanie 3-pok. 56.33 m2</td>\n      <td>584029.44</td>\n      <td>56.33</td>\n      <td>3</td>\n      <td>2.0</td>\n      <td>primary</td>\n      <td>1</td>\n      <td>0</td>\n      <td>2024.0</td>\n      <td>1.0</td>\n      <td>...</td>\n      <td>1.0</td>\n      <td>10368.00</td>\n      <td>1</td>\n      <td>0</td>\n      <td>0</td>\n      <td>serdecznikowa</td>\n      <td>dąbrowa</td>\n      <td>gdynia</td>\n      <td>54.471546</td>\n      <td>18.467438</td>\n    </tr>\n    <tr>\n      <th>15189</th>\n      <td>INPRO S.A. - OPTIMA - mieszkanie 3-pok. 61.44 m2</td>\n      <td>637009.92</td>\n      <td>61.44</td>\n      <td>3</td>\n      <td>3.0</td>\n      <td>primary</td>\n      <td>1</td>\n      <td>0</td>\n      <td>2024.0</td>\n      <td>1.0</td>\n      <td>...</td>\n      <td>1.0</td>\n      <td>10368.00</td>\n      <td>1</td>\n      <td>0</td>\n      <td>0</td>\n      <td>serdecznikowa</td>\n      <td>dąbrowa</td>\n      <td>gdynia</td>\n      <td>54.471546</td>\n      <td>18.467438</td>\n    </tr>\n    <tr>\n      <th>15190</th>\n      <td>INPRO S.A. - OPTIMA - mieszkanie 2-pok. 47.22 ...</td>\n      <td>497448.00</td>\n      <td>47.00</td>\n      <td>2</td>\n      <td>1.0</td>\n      <td>primary</td>\n      <td>1</td>\n      <td>0</td>\n      <td>2025.0</td>\n      <td>1.0</td>\n      <td>...</td>\n      <td>1.0</td>\n      <td>10584.00</td>\n      <td>1</td>\n      <td>0</td>\n      <td>0</td>\n      <td>serdecznikowa</td>\n      <td>dąbrowa</td>\n      <td>gdynia</td>\n      <td>54.471546</td>\n      <td>18.467438</td>\n    </tr>\n    <tr>\n      <th>15191</th>\n      <td>INPRO S.A. - OPTIMA - mieszkanie 2-pok. 46.30 ...</td>\n      <td>490039.20</td>\n      <td>46.30</td>\n      <td>2</td>\n      <td>1.0</td>\n      <td>primary</td>\n      <td>1</td>\n      <td>0</td>\n      <td>2025.0</td>\n      <td>1.0</td>\n      <td>...</td>\n      <td>1.0</td>\n      <td>10584.00</td>\n      <td>1</td>\n      <td>0</td>\n      <td>0</td>\n      <td>serdecznikowa</td>\n      <td>dąbrowa</td>\n      <td>gdynia</td>\n      <td>54.471546</td>\n      <td>18.467438</td>\n    </tr>\n    <tr>\n      <th>15192</th>\n      <td>INPRO S.A. - OPTIMA - mieszkanie 3-pok. 65.17 ...</td>\n      <td>668644.20</td>\n      <td>65.17</td>\n      <td>3</td>\n      <td>1.0</td>\n      <td>primary</td>\n      <td>1</td>\n      <td>0</td>\n      <td>2025.0</td>\n      <td>1.0</td>\n      <td>...</td>\n      <td>1.0</td>\n      <td>10260.00</td>\n      <td>1</td>\n      <td>0</td>\n      <td>0</td>\n      <td>serdecznikowa</td>\n      <td>dąbrowa</td>\n      <td>gdynia</td>\n      <td>54.471546</td>\n      <td>18.467438</td>\n    </tr>\n  </tbody>\n</table>\n<p>14919 rows × 21 columns</p>\n</div>"
     },
     "metadata": {},
     "output_type": "display_data"
    }
   ],
   "source": [
    "display(dataset)"
   ],
   "metadata": {
    "collapsed": false,
    "ExecuteTime": {
     "end_time": "2024-12-03T19:37:54.154002500Z",
     "start_time": "2024-12-03T19:37:52.963793200Z"
    }
   },
   "id": "b50e63eb04c2615c"
  },
  {
   "cell_type": "code",
   "execution_count": 67,
   "outputs": [
    {
     "data": {
      "text/plain": "city\ngdansk    8072\ngdynia    6136\nsopot      711\nName: count, dtype: int64"
     },
     "execution_count": 67,
     "metadata": {},
     "output_type": "execute_result"
    }
   ],
   "source": [
    "dataset['city'].value_counts()"
   ],
   "metadata": {
    "collapsed": false,
    "ExecuteTime": {
     "end_time": "2024-12-03T19:37:54.180002800Z",
     "start_time": "2024-12-03T19:37:53.200413900Z"
    }
   },
   "id": "fb5585b3ec87da4e"
  },
  {
   "cell_type": "code",
   "execution_count": 68,
   "outputs": [
    {
     "data": {
      "text/plain": "                                                   title  overall_price  \\\n0      4-pokojowe mieszkanie 65m2 + ogródek Bezpośrednio      819900.00   \n1       1 pokojowe + balkon INWESTYCYJNIe na DNI OTWARTE      412024.00   \n2               Kompleks 5 apartamentów. Wysoki standard     2990000.00   \n3      Apartament inwestycyjny, ostatnie piętro, k/Sk...      416907.00   \n4       Apartament inwestycyjny Śląska 12 z umową najmu!      475820.00   \n...                                                  ...            ...   \n15188   INPRO S.A. - OPTIMA - mieszkanie 3-pok. 56.33 m2      584029.44   \n15189   INPRO S.A. - OPTIMA - mieszkanie 3-pok. 61.44 m2      637009.92   \n15190  INPRO S.A. - OPTIMA - mieszkanie 2-pok. 47.22 ...      497448.00   \n15191  INPRO S.A. - OPTIMA - mieszkanie 2-pok. 46.30 ...      490039.20   \n15192  INPRO S.A. - OPTIMA - mieszkanie 3-pok. 65.17 ...      668644.20   \n\n         area number_of_rooms floor type_of_market  parking  elevator  \\\n0       65.57               4     0            NaN        1         0   \n1       26.01               1     2        primary        1         1   \n2      150.00               8     4      secondary        1         0   \n3       24.89               1     5      secondary        0         1   \n4       25.72               1     0      secondary        0         1   \n...       ...             ...   ...            ...      ...       ...   \n15188   56.33               3   2.0        primary        1         0   \n15189   61.44               3   3.0        primary        1         0   \n15190   47.00               2   1.0        primary        1         0   \n15191   46.30               2   1.0        primary        1         0   \n15192   65.17               3   1.0        primary        1         0   \n\n       year_of_creation  internet  ... basement  price_for_m2_in_PLN  balcony  \\\n0                   NaN       NaN  ...      NaN             12504.19        0   \n1                   NaN       0.0  ...      0.0             15840.98        1   \n2                1929.0       1.0  ...      1.0             19933.33        1   \n3                2022.0       1.0  ...      0.0             16749.98        0   \n4                2022.0       1.0  ...      0.0             18500.00        0   \n...                 ...       ...  ...      ...                  ...      ...   \n15188            2024.0       1.0  ...      1.0             10368.00        1   \n15189            2024.0       1.0  ...      1.0             10368.00        1   \n15190            2025.0       1.0  ...      1.0             10584.00        1   \n15191            2025.0       1.0  ...      1.0             10584.00        1   \n15192            2025.0       1.0  ...      1.0             10260.00        1   \n\n       garden  terrace          street     district    city   latitude  \\\n0           1        1          zakole        stogi  gdansk  54.362472   \n1           0        0             NaN  śródmieście  gdansk  54.349020   \n2           0        0  wójta radtkego  śródmieście  gdynia  54.522236   \n3           0        0       śląska 12    przymorze  gdansk  54.406171   \n4           0        0       śląska 12    przymorze  gdansk  54.406171   \n...       ...      ...             ...          ...     ...        ...   \n15188       0        0   serdecznikowa      dąbrowa  gdynia  54.471546   \n15189       0        0   serdecznikowa      dąbrowa  gdynia  54.471546   \n15190       0        0   serdecznikowa      dąbrowa  gdynia  54.471546   \n15191       0        0   serdecznikowa      dąbrowa  gdynia  54.471546   \n15192       0        0   serdecznikowa      dąbrowa  gdynia  54.471546   \n\n       longtitude  \n0       18.709969  \n1       18.651800  \n2       18.537335  \n3       18.576846  \n4       18.576846  \n...           ...  \n15188   18.467438  \n15189   18.467438  \n15190   18.467438  \n15191   18.467438  \n15192   18.467438  \n\n[14919 rows x 21 columns]",
      "text/html": "<div>\n<style scoped>\n    .dataframe tbody tr th:only-of-type {\n        vertical-align: middle;\n    }\n\n    .dataframe tbody tr th {\n        vertical-align: top;\n    }\n\n    .dataframe thead th {\n        text-align: right;\n    }\n</style>\n<table border=\"1\" class=\"dataframe\">\n  <thead>\n    <tr style=\"text-align: right;\">\n      <th></th>\n      <th>title</th>\n      <th>overall_price</th>\n      <th>area</th>\n      <th>number_of_rooms</th>\n      <th>floor</th>\n      <th>type_of_market</th>\n      <th>parking</th>\n      <th>elevator</th>\n      <th>year_of_creation</th>\n      <th>internet</th>\n      <th>...</th>\n      <th>basement</th>\n      <th>price_for_m2_in_PLN</th>\n      <th>balcony</th>\n      <th>garden</th>\n      <th>terrace</th>\n      <th>street</th>\n      <th>district</th>\n      <th>city</th>\n      <th>latitude</th>\n      <th>longtitude</th>\n    </tr>\n  </thead>\n  <tbody>\n    <tr>\n      <th>0</th>\n      <td>4-pokojowe mieszkanie 65m2 + ogródek Bezpośrednio</td>\n      <td>819900.00</td>\n      <td>65.57</td>\n      <td>4</td>\n      <td>0</td>\n      <td>NaN</td>\n      <td>1</td>\n      <td>0</td>\n      <td>NaN</td>\n      <td>NaN</td>\n      <td>...</td>\n      <td>NaN</td>\n      <td>12504.19</td>\n      <td>0</td>\n      <td>1</td>\n      <td>1</td>\n      <td>zakole</td>\n      <td>stogi</td>\n      <td>gdansk</td>\n      <td>54.362472</td>\n      <td>18.709969</td>\n    </tr>\n    <tr>\n      <th>1</th>\n      <td>1 pokojowe + balkon INWESTYCYJNIe na DNI OTWARTE</td>\n      <td>412024.00</td>\n      <td>26.01</td>\n      <td>1</td>\n      <td>2</td>\n      <td>primary</td>\n      <td>1</td>\n      <td>1</td>\n      <td>NaN</td>\n      <td>0.0</td>\n      <td>...</td>\n      <td>0.0</td>\n      <td>15840.98</td>\n      <td>1</td>\n      <td>0</td>\n      <td>0</td>\n      <td>NaN</td>\n      <td>śródmieście</td>\n      <td>gdansk</td>\n      <td>54.349020</td>\n      <td>18.651800</td>\n    </tr>\n    <tr>\n      <th>2</th>\n      <td>Kompleks 5 apartamentów. Wysoki standard</td>\n      <td>2990000.00</td>\n      <td>150.00</td>\n      <td>8</td>\n      <td>4</td>\n      <td>secondary</td>\n      <td>1</td>\n      <td>0</td>\n      <td>1929.0</td>\n      <td>1.0</td>\n      <td>...</td>\n      <td>1.0</td>\n      <td>19933.33</td>\n      <td>1</td>\n      <td>0</td>\n      <td>0</td>\n      <td>wójta radtkego</td>\n      <td>śródmieście</td>\n      <td>gdynia</td>\n      <td>54.522236</td>\n      <td>18.537335</td>\n    </tr>\n    <tr>\n      <th>3</th>\n      <td>Apartament inwestycyjny, ostatnie piętro, k/Sk...</td>\n      <td>416907.00</td>\n      <td>24.89</td>\n      <td>1</td>\n      <td>5</td>\n      <td>secondary</td>\n      <td>0</td>\n      <td>1</td>\n      <td>2022.0</td>\n      <td>1.0</td>\n      <td>...</td>\n      <td>0.0</td>\n      <td>16749.98</td>\n      <td>0</td>\n      <td>0</td>\n      <td>0</td>\n      <td>śląska 12</td>\n      <td>przymorze</td>\n      <td>gdansk</td>\n      <td>54.406171</td>\n      <td>18.576846</td>\n    </tr>\n    <tr>\n      <th>4</th>\n      <td>Apartament inwestycyjny Śląska 12 z umową najmu!</td>\n      <td>475820.00</td>\n      <td>25.72</td>\n      <td>1</td>\n      <td>0</td>\n      <td>secondary</td>\n      <td>0</td>\n      <td>1</td>\n      <td>2022.0</td>\n      <td>1.0</td>\n      <td>...</td>\n      <td>0.0</td>\n      <td>18500.00</td>\n      <td>0</td>\n      <td>0</td>\n      <td>0</td>\n      <td>śląska 12</td>\n      <td>przymorze</td>\n      <td>gdansk</td>\n      <td>54.406171</td>\n      <td>18.576846</td>\n    </tr>\n    <tr>\n      <th>...</th>\n      <td>...</td>\n      <td>...</td>\n      <td>...</td>\n      <td>...</td>\n      <td>...</td>\n      <td>...</td>\n      <td>...</td>\n      <td>...</td>\n      <td>...</td>\n      <td>...</td>\n      <td>...</td>\n      <td>...</td>\n      <td>...</td>\n      <td>...</td>\n      <td>...</td>\n      <td>...</td>\n      <td>...</td>\n      <td>...</td>\n      <td>...</td>\n      <td>...</td>\n      <td>...</td>\n    </tr>\n    <tr>\n      <th>15188</th>\n      <td>INPRO S.A. - OPTIMA - mieszkanie 3-pok. 56.33 m2</td>\n      <td>584029.44</td>\n      <td>56.33</td>\n      <td>3</td>\n      <td>2.0</td>\n      <td>primary</td>\n      <td>1</td>\n      <td>0</td>\n      <td>2024.0</td>\n      <td>1.0</td>\n      <td>...</td>\n      <td>1.0</td>\n      <td>10368.00</td>\n      <td>1</td>\n      <td>0</td>\n      <td>0</td>\n      <td>serdecznikowa</td>\n      <td>dąbrowa</td>\n      <td>gdynia</td>\n      <td>54.471546</td>\n      <td>18.467438</td>\n    </tr>\n    <tr>\n      <th>15189</th>\n      <td>INPRO S.A. - OPTIMA - mieszkanie 3-pok. 61.44 m2</td>\n      <td>637009.92</td>\n      <td>61.44</td>\n      <td>3</td>\n      <td>3.0</td>\n      <td>primary</td>\n      <td>1</td>\n      <td>0</td>\n      <td>2024.0</td>\n      <td>1.0</td>\n      <td>...</td>\n      <td>1.0</td>\n      <td>10368.00</td>\n      <td>1</td>\n      <td>0</td>\n      <td>0</td>\n      <td>serdecznikowa</td>\n      <td>dąbrowa</td>\n      <td>gdynia</td>\n      <td>54.471546</td>\n      <td>18.467438</td>\n    </tr>\n    <tr>\n      <th>15190</th>\n      <td>INPRO S.A. - OPTIMA - mieszkanie 2-pok. 47.22 ...</td>\n      <td>497448.00</td>\n      <td>47.00</td>\n      <td>2</td>\n      <td>1.0</td>\n      <td>primary</td>\n      <td>1</td>\n      <td>0</td>\n      <td>2025.0</td>\n      <td>1.0</td>\n      <td>...</td>\n      <td>1.0</td>\n      <td>10584.00</td>\n      <td>1</td>\n      <td>0</td>\n      <td>0</td>\n      <td>serdecznikowa</td>\n      <td>dąbrowa</td>\n      <td>gdynia</td>\n      <td>54.471546</td>\n      <td>18.467438</td>\n    </tr>\n    <tr>\n      <th>15191</th>\n      <td>INPRO S.A. - OPTIMA - mieszkanie 2-pok. 46.30 ...</td>\n      <td>490039.20</td>\n      <td>46.30</td>\n      <td>2</td>\n      <td>1.0</td>\n      <td>primary</td>\n      <td>1</td>\n      <td>0</td>\n      <td>2025.0</td>\n      <td>1.0</td>\n      <td>...</td>\n      <td>1.0</td>\n      <td>10584.00</td>\n      <td>1</td>\n      <td>0</td>\n      <td>0</td>\n      <td>serdecznikowa</td>\n      <td>dąbrowa</td>\n      <td>gdynia</td>\n      <td>54.471546</td>\n      <td>18.467438</td>\n    </tr>\n    <tr>\n      <th>15192</th>\n      <td>INPRO S.A. - OPTIMA - mieszkanie 3-pok. 65.17 ...</td>\n      <td>668644.20</td>\n      <td>65.17</td>\n      <td>3</td>\n      <td>1.0</td>\n      <td>primary</td>\n      <td>1</td>\n      <td>0</td>\n      <td>2025.0</td>\n      <td>1.0</td>\n      <td>...</td>\n      <td>1.0</td>\n      <td>10260.00</td>\n      <td>1</td>\n      <td>0</td>\n      <td>0</td>\n      <td>serdecznikowa</td>\n      <td>dąbrowa</td>\n      <td>gdynia</td>\n      <td>54.471546</td>\n      <td>18.467438</td>\n    </tr>\n  </tbody>\n</table>\n<p>14919 rows × 21 columns</p>\n</div>"
     },
     "metadata": {},
     "output_type": "display_data"
    }
   ],
   "source": [
    "display(dataset)"
   ],
   "metadata": {
    "collapsed": false,
    "ExecuteTime": {
     "end_time": "2024-12-03T19:37:54.260748400Z",
     "start_time": "2024-12-03T19:37:53.350785800Z"
    }
   },
   "id": "3fdf9c086ed39d19"
  },
  {
   "cell_type": "markdown",
   "source": [
    "## Checking for outliers"
   ],
   "metadata": {
    "collapsed": false
   },
   "id": "87f09b39be52bafa"
  },
  {
   "cell_type": "markdown",
   "source": [
    "### Checking for outliers in 'overall_price' column"
   ],
   "metadata": {
    "collapsed": false
   },
   "id": "17965c48ef06a287"
  },
  {
   "cell_type": "code",
   "execution_count": 69,
   "outputs": [
    {
     "data": {
      "text/plain": "count    1.491800e+04\nmean     1.605366e+07\nstd      1.385691e+09\nmin      1.000000e+00\n25%      1.060224e+04\n50%      1.306989e+04\n75%      1.761006e+04\nmax      1.258273e+11\nName: price_for_m2_in_PLN, dtype: float64"
     },
     "execution_count": 69,
     "metadata": {},
     "output_type": "execute_result"
    }
   ],
   "source": [
    "dataset['price_for_m2_in_PLN'].describe()"
   ],
   "metadata": {
    "collapsed": false,
    "ExecuteTime": {
     "end_time": "2024-12-03T19:37:54.578603700Z",
     "start_time": "2024-12-03T19:37:54.083598400Z"
    }
   },
   "id": "2d9f5b9feda58a35"
  },
  {
   "cell_type": "code",
   "execution_count": 70,
   "outputs": [
    {
     "data": {
      "text/plain": "{'whiskers': [<matplotlib.lines.Line2D at 0x23dcf6e68d0>,\n  <matplotlib.lines.Line2D at 0x23dcf6e6a80>],\n 'caps': [<matplotlib.lines.Line2D at 0x23dcf6e6d50>,\n  <matplotlib.lines.Line2D at 0x23dcf6e7020>],\n 'boxes': [<matplotlib.lines.Line2D at 0x23dcecdff80>],\n 'medians': [<matplotlib.lines.Line2D at 0x23dcf6e72f0>],\n 'fliers': [<matplotlib.lines.Line2D at 0x23dcf6e75c0>],\n 'means': []}"
     },
     "execution_count": 70,
     "metadata": {},
     "output_type": "execute_result"
    },
    {
     "data": {
      "text/plain": "<Figure size 640x480 with 1 Axes>",
      "image/png": "[encoded data removed]"
     },
     "metadata": {},
     "output_type": "display_data"
    }
   ],
   "source": [
    "filtered_1 = dataset.dropna(subset=['price_for_m2_in_PLN'], axis=0)\n",
    "plt.boxplot(filtered_1['price_for_m2_in_PLN'])"
   ],
   "metadata": {
    "collapsed": false,
    "ExecuteTime": {
     "end_time": "2024-12-03T19:37:54.904524700Z",
     "start_time": "2024-12-03T19:37:54.300323100Z"
    }
   },
   "id": "ed8a1bed402098a3"
  },
  {
   "cell_type": "markdown",
   "source": [
    "### Removing outliers"
   ],
   "metadata": {
    "collapsed": false
   },
   "id": "91617098bf93ec06"
  },
  {
   "cell_type": "code",
   "execution_count": 71,
   "outputs": [
    {
     "data": {
      "text/plain": "<Figure size 640x480 with 1 Axes>",
      "image/png": "[encoded data removed]"
     },
     "metadata": {},
     "output_type": "display_data"
    }
   ],
   "source": [
    "z = np.abs(stats.zscore(dataset['price_for_m2_in_PLN'], nan_policy='omit'))\n",
    "threshold = 1\n",
    "outliers = np.where(z > threshold)\n",
    "dataset.drop(dataset.index[outliers], inplace=True)\n",
    "filtered = dataset.dropna(subset=['price_for_m2_in_PLN'], axis=0)\n",
    "plt.boxplot(filtered['price_for_m2_in_PLN'])\n",
    "plt.show()"
   ],
   "metadata": {
    "collapsed": false,
    "ExecuteTime": {
     "end_time": "2024-12-03T19:37:55.378455200Z",
     "start_time": "2024-12-03T19:37:54.747709800Z"
    }
   },
   "id": "402f2633886f8c3b"
  },
  {
   "cell_type": "code",
   "execution_count": 72,
   "outputs": [
    {
     "data": {
      "text/plain": "2"
     },
     "execution_count": 72,
     "metadata": {},
     "output_type": "execute_result"
    }
   ],
   "source": [
    "len(outliers[0])"
   ],
   "metadata": {
    "collapsed": false,
    "ExecuteTime": {
     "end_time": "2024-12-03T19:37:55.638243100Z",
     "start_time": "2024-12-03T19:37:54.989524900Z"
    }
   },
   "id": "4304da9493023455"
  },
  {
   "cell_type": "markdown",
   "source": [
    "### Checking for outliers in 'area' column"
   ],
   "metadata": {
    "collapsed": false
   },
   "id": "a1d16090fa166040"
  },
  {
   "cell_type": "code",
   "execution_count": 73,
   "outputs": [
    {
     "data": {
      "text/plain": "title                   object\noverall_price          float64\narea                   float64\nnumber_of_rooms         object\nfloor                   object\ntype_of_market          object\nparking                  int64\nelevator                 int64\nyear_of_creation       float64\ninternet               float64\ntype_of_building        object\nbasement               float64\nprice_for_m2_in_PLN    float64\nbalcony                  int64\ngarden                   int64\nterrace                  int64\nstreet                  object\ndistrict                object\ncity                    object\nlatitude               float64\nlongtitude             float64\ndtype: object"
     },
     "execution_count": 73,
     "metadata": {},
     "output_type": "execute_result"
    }
   ],
   "source": [
    "dataset.dtypes"
   ],
   "metadata": {
    "collapsed": false,
    "ExecuteTime": {
     "end_time": "2024-12-03T19:37:56.057761600Z",
     "start_time": "2024-12-03T19:37:55.428459200Z"
    }
   },
   "id": "1d75eb97c91efef3"
  },
  {
   "cell_type": "code",
   "execution_count": 74,
   "outputs": [
    {
     "data": {
      "text/plain": "count    14916.000000\nmean        66.645549\nstd         46.706712\nmin          1.000000\n25%         44.000000\n50%         56.700000\n75%         73.800000\nmax        800.000000\nName: area, dtype: float64"
     },
     "execution_count": 74,
     "metadata": {},
     "output_type": "execute_result"
    }
   ],
   "source": [
    "dataset['area'].describe()"
   ],
   "metadata": {
    "collapsed": false,
    "ExecuteTime": {
     "end_time": "2024-12-03T19:37:56.112768500Z",
     "start_time": "2024-12-03T19:37:55.613456300Z"
    }
   },
   "id": "5f6d63766bb09390"
  },
  {
   "cell_type": "code",
   "execution_count": 75,
   "outputs": [],
   "source": [
    "dataset['area'] = dataset['area'].astype(float)"
   ],
   "metadata": {
    "collapsed": false,
    "ExecuteTime": {
     "end_time": "2024-12-03T19:37:56.158760700Z",
     "start_time": "2024-12-03T19:37:55.797850100Z"
    }
   },
   "id": "fd2cc2f161199bf2"
  },
  {
   "cell_type": "code",
   "execution_count": 76,
   "outputs": [
    {
     "data": {
      "text/plain": "{'whiskers': [<matplotlib.lines.Line2D at 0x23dcee8f380>,\n  <matplotlib.lines.Line2D at 0x23dceed35f0>],\n 'caps': [<matplotlib.lines.Line2D at 0x23dcee8eff0>,\n  <matplotlib.lines.Line2D at 0x23dcee8ed20>],\n 'boxes': [<matplotlib.lines.Line2D at 0x23dcee8f620>],\n 'medians': [<matplotlib.lines.Line2D at 0x23dcee8ea20>],\n 'fliers': [<matplotlib.lines.Line2D at 0x23dcee8e780>],\n 'means': []}"
     },
     "execution_count": 76,
     "metadata": {},
     "output_type": "execute_result"
    },
    {
     "data": {
      "text/plain": "<Figure size 640x480 with 1 Axes>",
      "image/png": "[encoded data removed]"
     },
     "metadata": {},
     "output_type": "display_data"
    }
   ],
   "source": [
    "filtered_1 = dataset.dropna(subset=['area'], axis=0)\n",
    "plt.boxplot(filtered_1['area'])"
   ],
   "metadata": {
    "collapsed": false,
    "ExecuteTime": {
     "end_time": "2024-12-03T19:37:56.496334600Z",
     "start_time": "2024-12-03T19:37:56.045763400Z"
    }
   },
   "id": "4c72ca034b9582bf"
  },
  {
   "cell_type": "code",
   "execution_count": 77,
   "outputs": [
    {
     "data": {
      "text/plain": "{'whiskers': [<matplotlib.lines.Line2D at 0x23dcee8cef0>,\n  <matplotlib.lines.Line2D at 0x23dcee8d790>],\n 'caps': [<matplotlib.lines.Line2D at 0x23dcee8c170>,\n  <matplotlib.lines.Line2D at 0x23dcf2001a0>],\n 'boxes': [<matplotlib.lines.Line2D at 0x23dcee8fcb0>],\n 'medians': [<matplotlib.lines.Line2D at 0x23dcf200440>],\n 'fliers': [<matplotlib.lines.Line2D at 0x23dcf200740>],\n 'means': []}"
     },
     "execution_count": 77,
     "metadata": {},
     "output_type": "execute_result"
    },
    {
     "data": {
      "text/plain": "<Figure size 640x480 with 1 Axes>",
      "image/png": "[encoded data removed]"
     },
     "metadata": {},
     "output_type": "display_data"
    }
   ],
   "source": [
    "z = np.abs(stats.zscore(dataset['area'], nan_policy='omit'))\n",
    "threshold = 3\n",
    "outliers = np.where(z > threshold)\n",
    "dataset.drop(dataset.index[outliers], inplace=True)\n",
    "### Filtering nan values\n",
    "filtered = dataset.dropna(subset=['area'], axis=0)\n",
    "plt.boxplot(filtered['area'])"
   ],
   "metadata": {
    "collapsed": false,
    "ExecuteTime": {
     "end_time": "2024-12-03T19:37:56.557331200Z",
     "start_time": "2024-12-03T19:37:56.223785Z"
    }
   },
   "id": "3001468839aef1ab"
  },
  {
   "cell_type": "code",
   "execution_count": 78,
   "outputs": [
    {
     "data": {
      "text/plain": "284"
     },
     "execution_count": 78,
     "metadata": {},
     "output_type": "execute_result"
    }
   ],
   "source": [
    "len(outliers[0])"
   ],
   "metadata": {
    "collapsed": false,
    "ExecuteTime": {
     "end_time": "2024-12-03T19:37:56.600357600Z",
     "start_time": "2024-12-03T19:37:56.472025Z"
    }
   },
   "id": "4244d08fb21c6a63"
  },
  {
   "cell_type": "code",
   "execution_count": 79,
   "outputs": [
    {
     "data": {
      "text/plain": "<Figure size 640x480 with 2 Axes>",
      "image/png": "[encoded data removed]"
     },
     "metadata": {},
     "output_type": "display_data"
    }
   ],
   "source": [
    "plt.subplot(1, 2, 1)\n",
    "plt.boxplot(filtered_1['area'])\n",
    "plt.title('Area with outliers')\n",
    "plt.ylabel('Area')\n",
    "\n",
    "\n",
    "plt.subplot(1, 2, 2)\n",
    "plt.boxplot(filtered['area'])\n",
    "plt.title('Area without outliers')\n",
    "plt.ylabel('Area')\n",
    "\n",
    "plt.tight_layout()\n",
    "plt.show()"
   ],
   "metadata": {
    "collapsed": false,
    "ExecuteTime": {
     "end_time": "2024-12-03T19:37:57.818493200Z",
     "start_time": "2024-12-03T19:37:56.826934500Z"
    }
   },
   "id": "bb2c66b3cbd8b533"
  },
  {
   "cell_type": "code",
   "execution_count": 80,
   "outputs": [
    {
     "data": {
      "text/plain": "<Figure size 1200x600 with 2 Axes>",
      "image/png": "[encoded data removed]"
     },
     "metadata": {},
     "output_type": "display_data"
    }
   ],
   "source": [
    "fig, axes = plt.subplots(nrows=1, ncols=2, figsize=(12,6))\n",
    "axes[0].boxplot(filtered_1['area'])\n",
    "axes[0].set(title=\"Area with outliers\", ylabel=\"Area\")\n",
    "axes[1].boxplot(filtered['area'])\n",
    "axes[1].set(title=\"Area without outliers\", ylabel=\"Area\")\n",
    "\n",
    "fig.tight_layout()\n",
    "plt.show()"
   ],
   "metadata": {
    "collapsed": false,
    "ExecuteTime": {
     "end_time": "2024-12-03T19:37:58.038598400Z",
     "start_time": "2024-12-03T19:37:57.108906100Z"
    }
   },
   "id": "384437d1f429635"
  },
  {
   "cell_type": "markdown",
   "source": [
    "### Checking for outliers in 'year_of_creation' column"
   ],
   "metadata": {
    "collapsed": false
   },
   "id": "7e7f15996063946e"
  },
  {
   "cell_type": "code",
   "execution_count": 81,
   "outputs": [
    {
     "data": {
      "text/plain": "count    13263.000000\nmean      2004.463545\nstd        161.178260\nmin         70.000000\n25%       1990.000000\n50%       2020.000000\n75%       2024.000000\nmax      20111.000000\nName: year_of_creation, dtype: float64"
     },
     "execution_count": 81,
     "metadata": {},
     "output_type": "execute_result"
    }
   ],
   "source": [
    "dataset['year_of_creation'].describe()"
   ],
   "metadata": {
    "collapsed": false,
    "ExecuteTime": {
     "end_time": "2024-12-03T19:37:58.231598900Z",
     "start_time": "2024-12-03T19:37:57.405636Z"
    }
   },
   "id": "efa1990759d1f732"
  },
  {
   "cell_type": "code",
   "execution_count": 82,
   "outputs": [
    {
     "data": {
      "text/plain": "{'whiskers': [<matplotlib.lines.Line2D at 0x23dcede62d0>,\n  <matplotlib.lines.Line2D at 0x23dcf21d2b0>],\n 'caps': [<matplotlib.lines.Line2D at 0x23dcf458590>,\n  <matplotlib.lines.Line2D at 0x23dcf45a090>],\n 'boxes': [<matplotlib.lines.Line2D at 0x23dcedf9640>],\n 'medians': [<matplotlib.lines.Line2D at 0x23dcf2ee870>],\n 'fliers': [<matplotlib.lines.Line2D at 0x23dcf2ef6b0>],\n 'means': []}"
     },
     "execution_count": 82,
     "metadata": {},
     "output_type": "execute_result"
    },
    {
     "data": {
      "text/plain": "<Figure size 640x480 with 1 Axes>",
      "image/png": "[encoded data removed]"
     },
     "metadata": {},
     "output_type": "display_data"
    }
   ],
   "source": [
    "filtered_1 = dataset.dropna(subset=['year_of_creation'], axis=0)\n",
    "plt.boxplot(filtered_1['year_of_creation'])"
   ],
   "metadata": {
    "collapsed": false,
    "ExecuteTime": {
     "end_time": "2024-12-03T19:37:58.772255500Z",
     "start_time": "2024-12-03T19:37:57.518416500Z"
    }
   },
   "id": "f625093a58952ae8"
  },
  {
   "cell_type": "code",
   "execution_count": 83,
   "outputs": [
    {
     "data": {
      "text/plain": "{'whiskers': [<matplotlib.lines.Line2D at 0x23dcf4c3bf0>,\n  <matplotlib.lines.Line2D at 0x23dcf4c3e00>],\n 'caps': [<matplotlib.lines.Line2D at 0x23dcf4f00e0>,\n  <matplotlib.lines.Line2D at 0x23dcf4f03e0>],\n 'boxes': [<matplotlib.lines.Line2D at 0x23dcf4c3980>],\n 'medians': [<matplotlib.lines.Line2D at 0x23dcf4f0650>],\n 'fliers': [<matplotlib.lines.Line2D at 0x23dcf4f0920>],\n 'means': []}"
     },
     "execution_count": 83,
     "metadata": {},
     "output_type": "execute_result"
    },
    {
     "data": {
      "text/plain": "<Figure size 640x480 with 1 Axes>",
      "image/png": "[encoded data removed]"
     },
     "metadata": {},
     "output_type": "display_data"
    }
   ],
   "source": [
    "z = np.abs(stats.zscore(dataset['year_of_creation'], nan_policy='omit'))\n",
    "threshold = 1.25\n",
    "outliers = np.where(z > threshold)\n",
    "dataset.drop(dataset.index[outliers], inplace=True)\n",
    "filtered = dataset.dropna(subset=['year_of_creation'], axis=0)\n",
    "plt.boxplot(filtered['year_of_creation'])"
   ],
   "metadata": {
    "collapsed": false,
    "ExecuteTime": {
     "end_time": "2024-12-03T19:37:58.877361800Z",
     "start_time": "2024-12-03T19:37:57.689412Z"
    }
   },
   "id": "ee4e0235b790489c"
  },
  {
   "cell_type": "code",
   "execution_count": 84,
   "outputs": [
    {
     "data": {
      "text/plain": "<Figure size 1200x600 with 2 Axes>",
      "image/png": "[encoded data removed]"
     },
     "metadata": {},
     "output_type": "display_data"
    }
   ],
   "source": [
    "plt.show()\n",
    "fig, axes = plt.subplots(nrows=1, ncols=2, figsize=(12, 6))\n",
    "axes[0].boxplot(filtered_1['year_of_creation'])\n",
    "axes[0].set(title=\"Year of creation with outliers\", ylabel=\"Year of creation\")\n",
    "axes[1].boxplot(filtered['year_of_creation'])\n",
    "axes[1].set(title=\"Year of creation without outliers\", ylabel=\"Year of creation\")\n",
    "\n",
    "fig.tight_layout()\n",
    "plt.show()"
   ],
   "metadata": {
    "collapsed": false,
    "ExecuteTime": {
     "end_time": "2024-12-03T19:37:59.579521Z",
     "start_time": "2024-12-03T19:37:57.878598500Z"
    }
   },
   "id": "84d572a8998e7dd2"
  },
  {
   "cell_type": "code",
   "execution_count": 85,
   "outputs": [
    {
     "data": {
      "text/plain": "4"
     },
     "execution_count": 85,
     "metadata": {},
     "output_type": "execute_result"
    }
   ],
   "source": [
    "len(outliers[0])"
   ],
   "metadata": {
    "collapsed": false,
    "ExecuteTime": {
     "end_time": "2024-12-03T19:37:59.579521Z",
     "start_time": "2024-12-03T19:37:58.264414100Z"
    }
   },
   "id": "6bc2f1164b36d7b7"
  },
  {
   "cell_type": "markdown",
   "source": [
    "### Checking for outliers in 'floor' column"
   ],
   "metadata": {
    "collapsed": false
   },
   "id": "4cf6c90b5db76357"
  },
  {
   "cell_type": "code",
   "execution_count": 86,
   "outputs": [
    {
     "data": {
      "text/plain": "count     14047\nunique       33\ntop           1\nfreq       1790\nName: floor, dtype: object"
     },
     "execution_count": 86,
     "metadata": {},
     "output_type": "execute_result"
    }
   ],
   "source": [
    "dataset['floor'].describe()"
   ],
   "metadata": {
    "collapsed": false,
    "ExecuteTime": {
     "end_time": "2024-12-03T19:37:59.652520800Z",
     "start_time": "2024-12-03T19:37:58.531651900Z"
    }
   },
   "id": "7222a9e78f5f3257"
  },
  {
   "cell_type": "code",
   "execution_count": 87,
   "outputs": [],
   "source": [
    "dataset['floor'] = dataset['floor'].astype(float)"
   ],
   "metadata": {
    "collapsed": false,
    "ExecuteTime": {
     "end_time": "2024-12-03T19:37:59.699142600Z",
     "start_time": "2024-12-03T19:37:58.705633500Z"
    }
   },
   "id": "5a96cce2de63f776"
  },
  {
   "cell_type": "code",
   "execution_count": 88,
   "outputs": [
    {
     "data": {
      "text/plain": "{'whiskers': [<matplotlib.lines.Line2D at 0x23dcf45a2a0>,\n  <matplotlib.lines.Line2D at 0x23dcf45a930>],\n 'caps': [<matplotlib.lines.Line2D at 0x23dcf459d00>,\n  <matplotlib.lines.Line2D at 0x23dcf459d30>],\n 'boxes': [<matplotlib.lines.Line2D at 0x23dcee313d0>],\n 'medians': [<matplotlib.lines.Line2D at 0x23dcf458350>],\n 'fliers': [<matplotlib.lines.Line2D at 0x23dcf459880>],\n 'means': []}"
     },
     "execution_count": 88,
     "metadata": {},
     "output_type": "execute_result"
    },
    {
     "data": {
      "text/plain": "<Figure size 640x480 with 1 Axes>",
      "image/png": "[encoded data removed]"
     },
     "metadata": {},
     "output_type": "display_data"
    }
   ],
   "source": [
    "z = np.abs(stats.zscore(dataset['floor'], nan_policy='omit'))\n",
    "threshold = 3\n",
    "outliers = np.where(z > threshold)\n",
    "dataset.drop(dataset.index[outliers], inplace=True)\n",
    "filtered = dataset.dropna(subset=['floor'], axis=0)\n",
    "plt.boxplot(filtered['floor'])"
   ],
   "metadata": {
    "collapsed": false,
    "ExecuteTime": {
     "end_time": "2024-12-03T19:38:00.207777200Z",
     "start_time": "2024-12-03T19:37:59.227734600Z"
    }
   },
   "id": "501fbd629b586b20"
  },
  {
   "cell_type": "code",
   "execution_count": 89,
   "outputs": [
    {
     "data": {
      "text/plain": "249"
     },
     "execution_count": 89,
     "metadata": {},
     "output_type": "execute_result"
    }
   ],
   "source": [
    "len(outliers[0])"
   ],
   "metadata": {
    "collapsed": false,
    "ExecuteTime": {
     "end_time": "2024-12-03T19:38:00.208763500Z",
     "start_time": "2024-12-03T19:37:59.353669400Z"
    }
   },
   "id": "7e0fe44bb1316821"
  },
  {
   "cell_type": "markdown",
   "source": [
    "### Checking for outliers in 'number_of_rooms' column"
   ],
   "metadata": {
    "collapsed": false
   },
   "id": "51ca2d0f53c86924"
  },
  {
   "cell_type": "code",
   "execution_count": 90,
   "outputs": [
    {
     "data": {
      "text/plain": "count     14380\nunique       10\ntop           2\nfreq       5303\nName: number_of_rooms, dtype: object"
     },
     "execution_count": 90,
     "metadata": {},
     "output_type": "execute_result"
    }
   ],
   "source": [
    "dataset['number_of_rooms'].describe()"
   ],
   "metadata": {
    "collapsed": false,
    "ExecuteTime": {
     "end_time": "2024-12-03T19:38:00.263533200Z",
     "start_time": "2024-12-03T19:37:59.568748300Z"
    }
   },
   "id": "3c56febd6e01ca30"
  },
  {
   "cell_type": "code",
   "execution_count": 91,
   "outputs": [],
   "source": [
    "dataset['number_of_rooms'] = dataset['number_of_rooms'].astype(float)"
   ],
   "metadata": {
    "collapsed": false,
    "ExecuteTime": {
     "end_time": "2024-12-03T19:38:00.426621600Z",
     "start_time": "2024-12-03T19:37:59.780232400Z"
    }
   },
   "id": "6cf4a96a8af29658"
  },
  {
   "cell_type": "code",
   "execution_count": 92,
   "outputs": [
    {
     "data": {
      "text/plain": "{'whiskers': [<matplotlib.lines.Line2D at 0x23dcf2c4530>,\n  <matplotlib.lines.Line2D at 0x23dcf2c71a0>],\n 'caps': [<matplotlib.lines.Line2D at 0x23dcf2c6e40>,\n  <matplotlib.lines.Line2D at 0x23dcf2c70b0>],\n 'boxes': [<matplotlib.lines.Line2D at 0x23dcf2c6ae0>],\n 'medians': [<matplotlib.lines.Line2D at 0x23dcf2c5550>],\n 'fliers': [<matplotlib.lines.Line2D at 0x23dcf2c5a30>],\n 'means': []}"
     },
     "execution_count": 92,
     "metadata": {},
     "output_type": "execute_result"
    },
    {
     "data": {
      "text/plain": "<Figure size 640x480 with 1 Axes>",
      "image/png": "[encoded data removed]"
     },
     "metadata": {},
     "output_type": "display_data"
    }
   ],
   "source": [
    "z = np.abs(stats.zscore(dataset['number_of_rooms'], nan_policy='omit'))\n",
    "threshold = 3\n",
    "outliers = np.where(z > threshold)\n",
    "dataset.drop(dataset.index[outliers], inplace=True)\n",
    "filtered = dataset.dropna(subset=['number_of_rooms'], axis=0)\n",
    "plt.boxplot(filtered['number_of_rooms'])"
   ],
   "metadata": {
    "collapsed": false,
    "ExecuteTime": {
     "end_time": "2024-12-03T19:38:00.822365500Z",
     "start_time": "2024-12-03T19:38:00.105768100Z"
    }
   },
   "id": "108439fd5fac4536"
  },
  {
   "cell_type": "code",
   "execution_count": 93,
   "outputs": [
    {
     "data": {
      "text/plain": "196"
     },
     "execution_count": 93,
     "metadata": {},
     "output_type": "execute_result"
    }
   ],
   "source": [
    "len(outliers[0])"
   ],
   "metadata": {
    "collapsed": false,
    "ExecuteTime": {
     "end_time": "2024-12-03T19:38:00.822365500Z",
     "start_time": "2024-12-03T19:38:00.227333600Z"
    }
   },
   "id": "ed90aa6b0da8783"
  },
  {
   "cell_type": "markdown",
   "source": [
    "### Checking for outliers in 'price_for_m2_in_PLN' column"
   ],
   "metadata": {
    "collapsed": false
   },
   "id": "6395f19c77b641cf"
  },
  {
   "cell_type": "code",
   "execution_count": 94,
   "outputs": [
    {
     "data": {
      "text/plain": "count    1.418300e+04\nmean     3.188092e+04\nstd      1.884981e+05\nmin      1.000000e+00\n25%      1.070000e+04\n50%      1.312400e+04\n75%      1.767774e+04\nmax      3.355306e+06\nName: price_for_m2_in_PLN, dtype: float64"
     },
     "execution_count": 94,
     "metadata": {},
     "output_type": "execute_result"
    }
   ],
   "source": [
    "dataset['price_for_m2_in_PLN'].describe()"
   ],
   "metadata": {
    "collapsed": false,
    "ExecuteTime": {
     "end_time": "2024-12-03T19:38:00.989430900Z",
     "start_time": "2024-12-03T19:38:00.651813600Z"
    }
   },
   "id": "63b39b35cf773a81"
  },
  {
   "cell_type": "code",
   "execution_count": 95,
   "outputs": [],
   "source": [
    "dataset['price_for_m2_in_PLN'] = dataset['price_for_m2_in_PLN'].astype(float)"
   ],
   "metadata": {
    "collapsed": false,
    "ExecuteTime": {
     "end_time": "2024-12-03T19:38:01.284509Z",
     "start_time": "2024-12-03T19:38:00.769088600Z"
    }
   },
   "id": "dab5da686e6ef86d"
  },
  {
   "cell_type": "code",
   "execution_count": 96,
   "outputs": [
    {
     "data": {
      "text/plain": "{'whiskers': [<matplotlib.lines.Line2D at 0x23dcf392390>,\n  <matplotlib.lines.Line2D at 0x23dcf393380>],\n 'caps': [<matplotlib.lines.Line2D at 0x23dcf3930e0>,\n  <matplotlib.lines.Line2D at 0x23dcf3930b0>],\n 'boxes': [<matplotlib.lines.Line2D at 0x23dcf6f4800>],\n 'medians': [<matplotlib.lines.Line2D at 0x23dcf3903e0>],\n 'fliers': [<matplotlib.lines.Line2D at 0x23dcf3928a0>],\n 'means': []}"
     },
     "execution_count": 96,
     "metadata": {},
     "output_type": "execute_result"
    },
    {
     "data": {
      "text/plain": "<Figure size 640x480 with 1 Axes>",
      "image/png": "[encoded data removed]"
     },
     "metadata": {},
     "output_type": "display_data"
    }
   ],
   "source": [
    "z = np.abs(stats.zscore(dataset['price_for_m2_in_PLN'], nan_policy='omit'))\n",
    "threshold = 2\n",
    "outliers = np.where(z > threshold)\n",
    "dataset.drop(dataset.index[outliers], inplace=True)\n",
    "### Filtering rows which have price_for_m2_in_PLN equal 0\n",
    "dataset.drop(dataset[dataset['price_for_m2_in_PLN'] == 0].index, inplace=True)\n",
    "filtered = dataset.dropna(subset=['price_for_m2_in_PLN'], axis=0)\n",
    "plt.boxplot(filtered['price_for_m2_in_PLN'])"
   ],
   "metadata": {
    "collapsed": false,
    "ExecuteTime": {
     "end_time": "2024-12-03T19:38:01.443511100Z",
     "start_time": "2024-12-03T19:38:00.959434700Z"
    }
   },
   "id": "cc01e3df01ed8a05"
  },
  {
   "cell_type": "code",
   "execution_count": 97,
   "outputs": [
    {
     "data": {
      "text/plain": "<Figure size 1200x600 with 2 Axes>",
      "image/png": "[encoded data removed]"
     },
     "metadata": {},
     "output_type": "display_data"
    }
   ],
   "source": [
    "fig, axes = plt.subplots(nrows=1, ncols=2, figsize=(12,6))\n",
    "axes[0].boxplot(filtered_1['price_for_m2_in_PLN'])\n",
    "axes[0].set(title=\"price_for_m2_in_PLN with outliers\", ylabel=\"price_for_m2_in_PLN\")\n",
    "axes[1].boxplot(filtered['price_for_m2_in_PLN'])\n",
    "axes[1].set(title=\"price_for_m2_in_PLN without outliers\", ylabel=\"price_for_m2_in_PLN\")\n",
    "\n",
    "fig.tight_layout()\n",
    "plt.show()"
   ],
   "metadata": {
    "collapsed": false,
    "ExecuteTime": {
     "end_time": "2024-12-03T19:38:01.919439500Z",
     "start_time": "2024-12-03T19:38:01.215508800Z"
    }
   },
   "id": "e30e088b8ae03714"
  },
  {
   "cell_type": "code",
   "execution_count": 98,
   "outputs": [
    {
     "data": {
      "text/plain": "133"
     },
     "execution_count": 98,
     "metadata": {},
     "output_type": "execute_result"
    }
   ],
   "source": [
    "len(outliers[0])"
   ],
   "metadata": {
    "collapsed": false,
    "ExecuteTime": {
     "end_time": "2024-12-03T19:38:01.920438700Z",
     "start_time": "2024-12-03T19:38:01.456509700Z"
    }
   },
   "id": "4d84cf7420daf672"
  },
  {
   "cell_type": "markdown",
   "source": [
    "## Saving cleaned dataset"
   ],
   "metadata": {
    "collapsed": false
   },
   "id": "1ac121579e8703e"
  },
  {
   "cell_type": "code",
   "execution_count": 99,
   "outputs": [],
   "source": [
    "dataset.to_csv('cleaned_dataset.csv', sep='|', index=False)"
   ],
   "metadata": {
    "collapsed": false,
    "ExecuteTime": {
     "end_time": "2024-12-03T19:38:02.469092700Z",
     "start_time": "2024-12-03T19:38:01.771446900Z"
    }
   },
   "id": "163d11cdb39a9380"
  },
  {
   "cell_type": "code",
   "execution_count": 100,
   "outputs": [
    {
     "data": {
      "text/plain": "                                                   title  overall_price  \\\n0      4-pokojowe mieszkanie 65m2 + ogródek Bezpośrednio      819900.00   \n1       1 pokojowe + balkon INWESTYCYJNIe na DNI OTWARTE      412024.00   \n3      Apartament inwestycyjny, ostatnie piętro, k/Sk...      416907.00   \n4       Apartament inwestycyjny Śląska 12 z umową najmu!      475820.00   \n5       Nowe mieszkanie, wykończone - Mariana Kołodzieja      550000.00   \n...                                                  ...            ...   \n15188   INPRO S.A. - OPTIMA - mieszkanie 3-pok. 56.33 m2      584029.44   \n15189   INPRO S.A. - OPTIMA - mieszkanie 3-pok. 61.44 m2      637009.92   \n15190  INPRO S.A. - OPTIMA - mieszkanie 2-pok. 47.22 ...      497448.00   \n15191  INPRO S.A. - OPTIMA - mieszkanie 2-pok. 46.30 ...      490039.20   \n15192  INPRO S.A. - OPTIMA - mieszkanie 3-pok. 65.17 ...      668644.20   \n\n        area  number_of_rooms  floor type_of_market  parking  elevator  \\\n0      65.57              4.0    0.0            NaN        1         0   \n1      26.01              1.0    2.0        primary        1         1   \n3      24.89              1.0    5.0      secondary        0         1   \n4      25.72              1.0    0.0      secondary        0         1   \n5      34.38              2.0    3.0      secondary        1         1   \n...      ...              ...    ...            ...      ...       ...   \n15188  56.33              3.0    2.0        primary        1         0   \n15189  61.44              3.0    3.0        primary        1         0   \n15190  47.00              2.0    1.0        primary        1         0   \n15191  46.30              2.0    1.0        primary        1         0   \n15192  65.17              3.0    1.0        primary        1         0   \n\n       year_of_creation  internet  ... basement  price_for_m2_in_PLN  balcony  \\\n0                   NaN       NaN  ...      NaN             12504.19        0   \n1                   NaN       0.0  ...      0.0             15840.98        1   \n3                2022.0       1.0  ...      0.0             16749.98        0   \n4                2022.0       1.0  ...      0.0             18500.00        0   \n5                2022.0       1.0  ...      0.0             15997.67        1   \n...                 ...       ...  ...      ...                  ...      ...   \n15188            2024.0       1.0  ...      1.0             10368.00        1   \n15189            2024.0       1.0  ...      1.0             10368.00        1   \n15190            2025.0       1.0  ...      1.0             10584.00        1   \n15191            2025.0       1.0  ...      1.0             10584.00        1   \n15192            2025.0       1.0  ...      1.0             10260.00        1   \n\n       garden  terrace              street             district    city  \\\n0           1        1              zakole                stogi  gdansk   \n1           0        0                 NaN          śródmieście  gdansk   \n3           0        0           śląska 12            przymorze  gdansk   \n4           0        0           śląska 12            przymorze  gdansk   \n5           0        0  mariana kołodzieja  ujeścisko-łostowice  gdansk   \n...       ...      ...                 ...                  ...     ...   \n15188       0        0       serdecznikowa              dąbrowa  gdynia   \n15189       0        0       serdecznikowa              dąbrowa  gdynia   \n15190       0        0       serdecznikowa              dąbrowa  gdynia   \n15191       0        0       serdecznikowa              dąbrowa  gdynia   \n15192       0        0       serdecznikowa              dąbrowa  gdynia   \n\n        latitude  longtitude  \n0      54.362472   18.709969  \n1      54.349020   18.651800  \n3      54.406171   18.576846  \n4      54.406171   18.576846  \n5      54.334542   18.585750  \n...          ...         ...  \n15188  54.471546   18.467438  \n15189  54.471546   18.467438  \n15190  54.471546   18.467438  \n15191  54.471546   18.467438  \n15192  54.471546   18.467438  \n\n[14051 rows x 21 columns]",
      "text/html": "<div>\n<style scoped>\n    .dataframe tbody tr th:only-of-type {\n        vertical-align: middle;\n    }\n\n    .dataframe tbody tr th {\n        vertical-align: top;\n    }\n\n    .dataframe thead th {\n        text-align: right;\n    }\n</style>\n<table border=\"1\" class=\"dataframe\">\n  <thead>\n    <tr style=\"text-align: right;\">\n      <th></th>\n      <th>title</th>\n      <th>overall_price</th>\n      <th>area</th>\n      <th>number_of_rooms</th>\n      <th>floor</th>\n      <th>type_of_market</th>\n      <th>parking</th>\n      <th>elevator</th>\n      <th>year_of_creation</th>\n      <th>internet</th>\n      <th>...</th>\n      <th>basement</th>\n      <th>price_for_m2_in_PLN</th>\n      <th>balcony</th>\n      <th>garden</th>\n      <th>terrace</th>\n      <th>street</th>\n      <th>district</th>\n      <th>city</th>\n      <th>latitude</th>\n      <th>longtitude</th>\n    </tr>\n  </thead>\n  <tbody>\n    <tr>\n      <th>0</th>\n      <td>4-pokojowe mieszkanie 65m2 + ogródek Bezpośrednio</td>\n      <td>819900.00</td>\n      <td>65.57</td>\n      <td>4.0</td>\n      <td>0.0</td>\n      <td>NaN</td>\n      <td>1</td>\n      <td>0</td>\n      <td>NaN</td>\n      <td>NaN</td>\n      <td>...</td>\n      <td>NaN</td>\n      <td>12504.19</td>\n      <td>0</td>\n      <td>1</td>\n      <td>1</td>\n      <td>zakole</td>\n      <td>stogi</td>\n      <td>gdansk</td>\n      <td>54.362472</td>\n      <td>18.709969</td>\n    </tr>\n    <tr>\n      <th>1</th>\n      <td>1 pokojowe + balkon INWESTYCYJNIe na DNI OTWARTE</td>\n      <td>412024.00</td>\n      <td>26.01</td>\n      <td>1.0</td>\n      <td>2.0</td>\n      <td>primary</td>\n      <td>1</td>\n      <td>1</td>\n      <td>NaN</td>\n      <td>0.0</td>\n      <td>...</td>\n      <td>0.0</td>\n      <td>15840.98</td>\n      <td>1</td>\n      <td>0</td>\n      <td>0</td>\n      <td>NaN</td>\n      <td>śródmieście</td>\n      <td>gdansk</td>\n      <td>54.349020</td>\n      <td>18.651800</td>\n    </tr>\n    <tr>\n      <th>3</th>\n      <td>Apartament inwestycyjny, ostatnie piętro, k/Sk...</td>\n      <td>416907.00</td>\n      <td>24.89</td>\n      <td>1.0</td>\n      <td>5.0</td>\n      <td>secondary</td>\n      <td>0</td>\n      <td>1</td>\n      <td>2022.0</td>\n      <td>1.0</td>\n      <td>...</td>\n      <td>0.0</td>\n      <td>16749.98</td>\n      <td>0</td>\n      <td>0</td>\n      <td>0</td>\n      <td>śląska 12</td>\n      <td>przymorze</td>\n      <td>gdansk</td>\n      <td>54.406171</td>\n      <td>18.576846</td>\n    </tr>\n    <tr>\n      <th>4</th>\n      <td>Apartament inwestycyjny Śląska 12 z umową najmu!</td>\n      <td>475820.00</td>\n      <td>25.72</td>\n      <td>1.0</td>\n      <td>0.0</td>\n      <td>secondary</td>\n      <td>0</td>\n      <td>1</td>\n      <td>2022.0</td>\n      <td>1.0</td>\n      <td>...</td>\n      <td>0.0</td>\n      <td>18500.00</td>\n      <td>0</td>\n      <td>0</td>\n      <td>0</td>\n      <td>śląska 12</td>\n      <td>przymorze</td>\n      <td>gdansk</td>\n      <td>54.406171</td>\n      <td>18.576846</td>\n    </tr>\n    <tr>\n      <th>5</th>\n      <td>Nowe mieszkanie, wykończone - Mariana Kołodzieja</td>\n      <td>550000.00</td>\n      <td>34.38</td>\n      <td>2.0</td>\n      <td>3.0</td>\n      <td>secondary</td>\n      <td>1</td>\n      <td>1</td>\n      <td>2022.0</td>\n      <td>1.0</td>\n      <td>...</td>\n      <td>0.0</td>\n      <td>15997.67</td>\n      <td>1</td>\n      <td>0</td>\n      <td>0</td>\n      <td>mariana kołodzieja</td>\n      <td>ujeścisko-łostowice</td>\n      <td>gdansk</td>\n      <td>54.334542</td>\n      <td>18.585750</td>\n    </tr>\n    <tr>\n      <th>...</th>\n      <td>...</td>\n      <td>...</td>\n      <td>...</td>\n      <td>...</td>\n      <td>...</td>\n      <td>...</td>\n      <td>...</td>\n      <td>...</td>\n      <td>...</td>\n      <td>...</td>\n      <td>...</td>\n      <td>...</td>\n      <td>...</td>\n      <td>...</td>\n      <td>...</td>\n      <td>...</td>\n      <td>...</td>\n      <td>...</td>\n      <td>...</td>\n      <td>...</td>\n      <td>...</td>\n    </tr>\n    <tr>\n      <th>15188</th>\n      <td>INPRO S.A. - OPTIMA - mieszkanie 3-pok. 56.33 m2</td>\n      <td>584029.44</td>\n      <td>56.33</td>\n      <td>3.0</td>\n      <td>2.0</td>\n      <td>primary</td>\n      <td>1</td>\n      <td>0</td>\n      <td>2024.0</td>\n      <td>1.0</td>\n      <td>...</td>\n      <td>1.0</td>\n      <td>10368.00</td>\n      <td>1</td>\n      <td>0</td>\n      <td>0</td>\n      <td>serdecznikowa</td>\n      <td>dąbrowa</td>\n      <td>gdynia</td>\n      <td>54.471546</td>\n      <td>18.467438</td>\n    </tr>\n    <tr>\n      <th>15189</th>\n      <td>INPRO S.A. - OPTIMA - mieszkanie 3-pok. 61.44 m2</td>\n      <td>637009.92</td>\n      <td>61.44</td>\n      <td>3.0</td>\n      <td>3.0</td>\n      <td>primary</td>\n      <td>1</td>\n      <td>0</td>\n      <td>2024.0</td>\n      <td>1.0</td>\n      <td>...</td>\n      <td>1.0</td>\n      <td>10368.00</td>\n      <td>1</td>\n      <td>0</td>\n      <td>0</td>\n      <td>serdecznikowa</td>\n      <td>dąbrowa</td>\n      <td>gdynia</td>\n      <td>54.471546</td>\n      <td>18.467438</td>\n    </tr>\n    <tr>\n      <th>15190</th>\n      <td>INPRO S.A. - OPTIMA - mieszkanie 2-pok. 47.22 ...</td>\n      <td>497448.00</td>\n      <td>47.00</td>\n      <td>2.0</td>\n      <td>1.0</td>\n      <td>primary</td>\n      <td>1</td>\n      <td>0</td>\n      <td>2025.0</td>\n      <td>1.0</td>\n      <td>...</td>\n      <td>1.0</td>\n      <td>10584.00</td>\n      <td>1</td>\n      <td>0</td>\n      <td>0</td>\n      <td>serdecznikowa</td>\n      <td>dąbrowa</td>\n      <td>gdynia</td>\n      <td>54.471546</td>\n      <td>18.467438</td>\n    </tr>\n    <tr>\n      <th>15191</th>\n      <td>INPRO S.A. - OPTIMA - mieszkanie 2-pok. 46.30 ...</td>\n      <td>490039.20</td>\n      <td>46.30</td>\n      <td>2.0</td>\n      <td>1.0</td>\n      <td>primary</td>\n      <td>1</td>\n      <td>0</td>\n      <td>2025.0</td>\n      <td>1.0</td>\n      <td>...</td>\n      <td>1.0</td>\n      <td>10584.00</td>\n      <td>1</td>\n      <td>0</td>\n      <td>0</td>\n      <td>serdecznikowa</td>\n      <td>dąbrowa</td>\n      <td>gdynia</td>\n      <td>54.471546</td>\n      <td>18.467438</td>\n    </tr>\n    <tr>\n      <th>15192</th>\n      <td>INPRO S.A. - OPTIMA - mieszkanie 3-pok. 65.17 ...</td>\n      <td>668644.20</td>\n      <td>65.17</td>\n      <td>3.0</td>\n      <td>1.0</td>\n      <td>primary</td>\n      <td>1</td>\n      <td>0</td>\n      <td>2025.0</td>\n      <td>1.0</td>\n      <td>...</td>\n      <td>1.0</td>\n      <td>10260.00</td>\n      <td>1</td>\n      <td>0</td>\n      <td>0</td>\n      <td>serdecznikowa</td>\n      <td>dąbrowa</td>\n      <td>gdynia</td>\n      <td>54.471546</td>\n      <td>18.467438</td>\n    </tr>\n  </tbody>\n</table>\n<p>14051 rows × 21 columns</p>\n</div>"
     },
     "metadata": {},
     "output_type": "display_data"
    }
   ],
   "source": [
    "display(dataset)"
   ],
   "metadata": {
    "collapsed": false,
    "ExecuteTime": {
     "end_time": "2024-12-03T19:38:02.471093700Z",
     "start_time": "2024-12-03T19:38:01.989448800Z"
    }
   },
   "id": "49b52c5415ebad7b"
  },
  {
   "cell_type": "code",
   "execution_count": null,
   "outputs": [],
   "source": [],
   "metadata": {
    "collapsed": false
   },
   "id": "21ca76a6a21ef504"
  }
 ],
 "metadata": {
  "kernelspec": {
   "display_name": "Python 3",
   "language": "python",
   "name": "python3"
  },
  "language_info": {
   "codemirror_mode": {
    "name": "ipython",
    "version": 2
   },
   "file_extension": ".py",
   "mimetype": "text/x-python",
   "name": "python",
   "nbconvert_exporter": "python",
   "pygments_lexer": "ipython2",
   "version": "2.7.6"
  }
 },
 "nbformat": 4,
 "nbformat_minor": 5
}
