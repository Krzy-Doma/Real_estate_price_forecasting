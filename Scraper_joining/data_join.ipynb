{
 "cells": [
  {
   "cell_type": "code",
   "execution_count": 94,
   "outputs": [],
   "source": [
    "import pandas as pd\n",
    "import numpy as np"
   ],
   "metadata": {
    "collapsed": false,
    "ExecuteTime": {
     "end_time": "2024-06-25T17:11:25.572856Z",
     "start_time": "2024-06-25T17:11:25.061802300Z"
    }
   },
   "id": "3bb06882132105db"
  },
  {
   "cell_type": "code",
   "execution_count": 95,
   "id": "initial_id",
   "metadata": {
    "collapsed": true,
    "ExecuteTime": {
     "end_time": "2024-06-25T17:11:25.575863Z",
     "start_time": "2024-06-25T17:11:25.088725700Z"
    }
   },
   "outputs": [
    {
     "data": {
      "text/plain": "                                                  title   district   area  \\\n0            3pok 50m2 taras 10m2 blisko morza IIQ24 SE    Letnica  59.00   \n1           Wysoki standard   4 pok   Oliwa   kameralne      Oliwa  99.00   \n2               Piękne 3 pokoje po remoncie, przy plaży  Jelitkowo  41.07   \n3       Widok na Jar Wilanowski - blok przy samym Parku      Chełm  63.10   \n4            Energooszczędne Mieszkanie 75m2 - 4 pokoje        NaN  75.00   \n...                                                 ...        ...    ...   \n7764   INPRO S.A. - OPTIMA - mieszkanie 3-pok. 56.33 m2    Dąbrowa  56.33   \n7765   INPRO S.A. - OPTIMA - mieszkanie 3-pok. 61.44 m2    Dąbrowa  61.44   \n7766  INPRO S.A. - OPTIMA - mieszkanie 2-pok. 47.22 ...    Dąbrowa  47.00   \n7767  INPRO S.A. - OPTIMA - mieszkanie 2-pok. 46.30 ...    Dąbrowa  46.30   \n7768  INPRO S.A. - OPTIMA - mieszkanie 3-pok. 65.17 ...    Dąbrowa  65.17   \n\n      number_of_rooms  year_of_creation  price_for_m2_in_PLN type_of_building  \\\n0                   3              2024              12831.0       Mieszkanie   \n1                   4              2020               2424.0       Mieszkanie   \n2                   3              1970              19455.0       Mieszkanie   \n3                   3              1989               9984.0       Mieszkanie   \n4                   4              2024               5187.0       Mieszkanie   \n...               ...               ...                  ...              ...   \n7764                3              2024              10368.0       Mieszkanie   \n7765                3              2024              10368.0       Mieszkanie   \n7766                2              2025              10584.0       Mieszkanie   \n7767                2              2025              10584.0       Mieszkanie   \n7768                3              2025              10260.0       Mieszkanie   \n\n      garage  balcony  internet  parking  elevator  floor  terrace  basement  \\\n0          1        1         0        0         1    1.0        1         1   \n1          0        1         0        1         1    3.0        0         0   \n2          0        0         0        0         0    4.0        0         0   \n3          0        1         1        0         0    4.0        0         1   \n4          0        0         0        0         0    0.0        0         0   \n...      ...      ...       ...      ...       ...    ...      ...       ...   \n7764       1        1         1        1         0    2.0        0         1   \n7765       1        1         1        1         0    3.0        0         1   \n7766       1        1         1        1         0    1.0        0         1   \n7767       1        1         1        1         0    1.0        0         1   \n7768       1        1         1        1         0    1.0        0         1   \n\n      garden type_of_market                        street    city  \\\n0          0      secondary                          null  gdansk   \n1          0      secondary                        Opacka  gdansk   \n2          0      secondary               ul. Tysiąclecia  gdansk   \n3          0      secondary   Prof. Romualda Cebertowicza  gdansk   \n4          0      secondary                          null  gdansk   \n...      ...            ...                           ...     ...   \n7764       0        primary                 Serdecznikowa  gdynia   \n7765       0        primary                 Serdecznikowa  gdynia   \n7766       0        primary                 Serdecznikowa  gdynia   \n7767       0        primary                 Serdecznikowa  gdynia   \n7768       0        primary                 Serdecznikowa  gdynia   \n\n      overall_price  \n0         757029.00  \n1         239976.00  \n2         799016.85  \n3         629990.40  \n4         389025.00  \n...             ...  \n7764      584029.44  \n7765      637009.92  \n7766      497448.00  \n7767      490039.20  \n7768      668644.20  \n\n[7769 rows x 20 columns]",
      "text/html": "<div>\n<style scoped>\n    .dataframe tbody tr th:only-of-type {\n        vertical-align: middle;\n    }\n\n    .dataframe tbody tr th {\n        vertical-align: top;\n    }\n\n    .dataframe thead th {\n        text-align: right;\n    }\n</style>\n<table border=\"1\" class=\"dataframe\">\n  <thead>\n    <tr style=\"text-align: right;\">\n      <th></th>\n      <th>title</th>\n      <th>district</th>\n      <th>area</th>\n      <th>number_of_rooms</th>\n      <th>year_of_creation</th>\n      <th>price_for_m2_in_PLN</th>\n      <th>type_of_building</th>\n      <th>garage</th>\n      <th>balcony</th>\n      <th>internet</th>\n      <th>parking</th>\n      <th>elevator</th>\n      <th>floor</th>\n      <th>terrace</th>\n      <th>basement</th>\n      <th>garden</th>\n      <th>type_of_market</th>\n      <th>street</th>\n      <th>city</th>\n      <th>overall_price</th>\n    </tr>\n  </thead>\n  <tbody>\n    <tr>\n      <th>0</th>\n      <td>3pok 50m2 taras 10m2 blisko morza IIQ24 SE</td>\n      <td>Letnica</td>\n      <td>59.00</td>\n      <td>3</td>\n      <td>2024</td>\n      <td>12831.0</td>\n      <td>Mieszkanie</td>\n      <td>1</td>\n      <td>1</td>\n      <td>0</td>\n      <td>0</td>\n      <td>1</td>\n      <td>1.0</td>\n      <td>1</td>\n      <td>1</td>\n      <td>0</td>\n      <td>secondary</td>\n      <td>null</td>\n      <td>gdansk</td>\n      <td>757029.00</td>\n    </tr>\n    <tr>\n      <th>1</th>\n      <td>Wysoki standard   4 pok   Oliwa   kameralne</td>\n      <td>Oliwa</td>\n      <td>99.00</td>\n      <td>4</td>\n      <td>2020</td>\n      <td>2424.0</td>\n      <td>Mieszkanie</td>\n      <td>0</td>\n      <td>1</td>\n      <td>0</td>\n      <td>1</td>\n      <td>1</td>\n      <td>3.0</td>\n      <td>0</td>\n      <td>0</td>\n      <td>0</td>\n      <td>secondary</td>\n      <td>Opacka</td>\n      <td>gdansk</td>\n      <td>239976.00</td>\n    </tr>\n    <tr>\n      <th>2</th>\n      <td>Piękne 3 pokoje po remoncie, przy plaży</td>\n      <td>Jelitkowo</td>\n      <td>41.07</td>\n      <td>3</td>\n      <td>1970</td>\n      <td>19455.0</td>\n      <td>Mieszkanie</td>\n      <td>0</td>\n      <td>0</td>\n      <td>0</td>\n      <td>0</td>\n      <td>0</td>\n      <td>4.0</td>\n      <td>0</td>\n      <td>0</td>\n      <td>0</td>\n      <td>secondary</td>\n      <td>ul. Tysiąclecia</td>\n      <td>gdansk</td>\n      <td>799016.85</td>\n    </tr>\n    <tr>\n      <th>3</th>\n      <td>Widok na Jar Wilanowski - blok przy samym Parku</td>\n      <td>Chełm</td>\n      <td>63.10</td>\n      <td>3</td>\n      <td>1989</td>\n      <td>9984.0</td>\n      <td>Mieszkanie</td>\n      <td>0</td>\n      <td>1</td>\n      <td>1</td>\n      <td>0</td>\n      <td>0</td>\n      <td>4.0</td>\n      <td>0</td>\n      <td>1</td>\n      <td>0</td>\n      <td>secondary</td>\n      <td>Prof. Romualda Cebertowicza</td>\n      <td>gdansk</td>\n      <td>629990.40</td>\n    </tr>\n    <tr>\n      <th>4</th>\n      <td>Energooszczędne Mieszkanie 75m2 - 4 pokoje</td>\n      <td>NaN</td>\n      <td>75.00</td>\n      <td>4</td>\n      <td>2024</td>\n      <td>5187.0</td>\n      <td>Mieszkanie</td>\n      <td>0</td>\n      <td>0</td>\n      <td>0</td>\n      <td>0</td>\n      <td>0</td>\n      <td>0.0</td>\n      <td>0</td>\n      <td>0</td>\n      <td>0</td>\n      <td>secondary</td>\n      <td>null</td>\n      <td>gdansk</td>\n      <td>389025.00</td>\n    </tr>\n    <tr>\n      <th>...</th>\n      <td>...</td>\n      <td>...</td>\n      <td>...</td>\n      <td>...</td>\n      <td>...</td>\n      <td>...</td>\n      <td>...</td>\n      <td>...</td>\n      <td>...</td>\n      <td>...</td>\n      <td>...</td>\n      <td>...</td>\n      <td>...</td>\n      <td>...</td>\n      <td>...</td>\n      <td>...</td>\n      <td>...</td>\n      <td>...</td>\n      <td>...</td>\n      <td>...</td>\n    </tr>\n    <tr>\n      <th>7764</th>\n      <td>INPRO S.A. - OPTIMA - mieszkanie 3-pok. 56.33 m2</td>\n      <td>Dąbrowa</td>\n      <td>56.33</td>\n      <td>3</td>\n      <td>2024</td>\n      <td>10368.0</td>\n      <td>Mieszkanie</td>\n      <td>1</td>\n      <td>1</td>\n      <td>1</td>\n      <td>1</td>\n      <td>0</td>\n      <td>2.0</td>\n      <td>0</td>\n      <td>1</td>\n      <td>0</td>\n      <td>primary</td>\n      <td>Serdecznikowa</td>\n      <td>gdynia</td>\n      <td>584029.44</td>\n    </tr>\n    <tr>\n      <th>7765</th>\n      <td>INPRO S.A. - OPTIMA - mieszkanie 3-pok. 61.44 m2</td>\n      <td>Dąbrowa</td>\n      <td>61.44</td>\n      <td>3</td>\n      <td>2024</td>\n      <td>10368.0</td>\n      <td>Mieszkanie</td>\n      <td>1</td>\n      <td>1</td>\n      <td>1</td>\n      <td>1</td>\n      <td>0</td>\n      <td>3.0</td>\n      <td>0</td>\n      <td>1</td>\n      <td>0</td>\n      <td>primary</td>\n      <td>Serdecznikowa</td>\n      <td>gdynia</td>\n      <td>637009.92</td>\n    </tr>\n    <tr>\n      <th>7766</th>\n      <td>INPRO S.A. - OPTIMA - mieszkanie 2-pok. 47.22 ...</td>\n      <td>Dąbrowa</td>\n      <td>47.00</td>\n      <td>2</td>\n      <td>2025</td>\n      <td>10584.0</td>\n      <td>Mieszkanie</td>\n      <td>1</td>\n      <td>1</td>\n      <td>1</td>\n      <td>1</td>\n      <td>0</td>\n      <td>1.0</td>\n      <td>0</td>\n      <td>1</td>\n      <td>0</td>\n      <td>primary</td>\n      <td>Serdecznikowa</td>\n      <td>gdynia</td>\n      <td>497448.00</td>\n    </tr>\n    <tr>\n      <th>7767</th>\n      <td>INPRO S.A. - OPTIMA - mieszkanie 2-pok. 46.30 ...</td>\n      <td>Dąbrowa</td>\n      <td>46.30</td>\n      <td>2</td>\n      <td>2025</td>\n      <td>10584.0</td>\n      <td>Mieszkanie</td>\n      <td>1</td>\n      <td>1</td>\n      <td>1</td>\n      <td>1</td>\n      <td>0</td>\n      <td>1.0</td>\n      <td>0</td>\n      <td>1</td>\n      <td>0</td>\n      <td>primary</td>\n      <td>Serdecznikowa</td>\n      <td>gdynia</td>\n      <td>490039.20</td>\n    </tr>\n    <tr>\n      <th>7768</th>\n      <td>INPRO S.A. - OPTIMA - mieszkanie 3-pok. 65.17 ...</td>\n      <td>Dąbrowa</td>\n      <td>65.17</td>\n      <td>3</td>\n      <td>2025</td>\n      <td>10260.0</td>\n      <td>Mieszkanie</td>\n      <td>1</td>\n      <td>1</td>\n      <td>1</td>\n      <td>1</td>\n      <td>0</td>\n      <td>1.0</td>\n      <td>0</td>\n      <td>1</td>\n      <td>0</td>\n      <td>primary</td>\n      <td>Serdecznikowa</td>\n      <td>gdynia</td>\n      <td>668644.20</td>\n    </tr>\n  </tbody>\n</table>\n<p>7769 rows × 20 columns</p>\n</div>"
     },
     "execution_count": 95,
     "metadata": {},
     "output_type": "execute_result"
    }
   ],
   "source": [
    "trojmiasto_ogloszenia = pd.read_csv('trojmiasto_data_converted.csv', sep='|')\n",
    "trojmiasto_ogloszenia.head()\n",
    "trojmiasto_ogloszenia"
   ]
  },
  {
   "cell_type": "code",
   "execution_count": 96,
   "outputs": [
    {
     "data": {
      "text/plain": "                                                  title   district   area  \\\n0            3pok 50m2 taras 10m2 blisko morza IIQ24 SE    Letnica  59.00   \n1           Wysoki standard   4 pok   Oliwa   kameralne      Oliwa  99.00   \n2               Piękne 3 pokoje po remoncie, przy plaży  Jelitkowo  41.07   \n3       Widok na Jar Wilanowski - blok przy samym Parku      Chełm  63.10   \n4            Energooszczędne Mieszkanie 75m2 - 4 pokoje        NaN  75.00   \n...                                                 ...        ...    ...   \n7764   INPRO S.A. - OPTIMA - mieszkanie 3-pok. 56.33 m2    Dąbrowa  56.33   \n7765   INPRO S.A. - OPTIMA - mieszkanie 3-pok. 61.44 m2    Dąbrowa  61.44   \n7766  INPRO S.A. - OPTIMA - mieszkanie 2-pok. 47.22 ...    Dąbrowa  47.00   \n7767  INPRO S.A. - OPTIMA - mieszkanie 2-pok. 46.30 ...    Dąbrowa  46.30   \n7768  INPRO S.A. - OPTIMA - mieszkanie 3-pok. 65.17 ...    Dąbrowa  65.17   \n\n      number_of_rooms  year_of_creation  price_for_m2_in_PLN type_of_building  \\\n0                   3              2024              12831.0       Mieszkanie   \n1                   4              2020               2424.0       Mieszkanie   \n2                   3              1970              19455.0       Mieszkanie   \n3                   3              1989               9984.0       Mieszkanie   \n4                   4              2024               5187.0       Mieszkanie   \n...               ...               ...                  ...              ...   \n7764                3              2024              10368.0       Mieszkanie   \n7765                3              2024              10368.0       Mieszkanie   \n7766                2              2025              10584.0       Mieszkanie   \n7767                2              2025              10584.0       Mieszkanie   \n7768                3              2025              10260.0       Mieszkanie   \n\n      balcony  internet  parking  elevator  floor  terrace  basement  garden  \\\n0           1         0        1         1    1.0        1         1       0   \n1           1         0        1         1    3.0        0         0       0   \n2           0         0        0         0    4.0        0         0       0   \n3           1         1        0         0    4.0        0         1       0   \n4           0         0        0         0    0.0        0         0       0   \n...       ...       ...      ...       ...    ...      ...       ...     ...   \n7764        1         1        1         0    2.0        0         1       0   \n7765        1         1        1         0    3.0        0         1       0   \n7766        1         1        1         0    1.0        0         1       0   \n7767        1         1        1         0    1.0        0         1       0   \n7768        1         1        1         0    1.0        0         1       0   \n\n     type_of_market                        street    city  overall_price  \n0         secondary                          null  gdansk      757029.00  \n1         secondary                        Opacka  gdansk      239976.00  \n2         secondary               ul. Tysiąclecia  gdansk      799016.85  \n3         secondary   Prof. Romualda Cebertowicza  gdansk      629990.40  \n4         secondary                          null  gdansk      389025.00  \n...             ...                           ...     ...            ...  \n7764        primary                 Serdecznikowa  gdynia      584029.44  \n7765        primary                 Serdecznikowa  gdynia      637009.92  \n7766        primary                 Serdecznikowa  gdynia      497448.00  \n7767        primary                 Serdecznikowa  gdynia      490039.20  \n7768        primary                 Serdecznikowa  gdynia      668644.20  \n\n[7769 rows x 19 columns]",
      "text/html": "<div>\n<style scoped>\n    .dataframe tbody tr th:only-of-type {\n        vertical-align: middle;\n    }\n\n    .dataframe tbody tr th {\n        vertical-align: top;\n    }\n\n    .dataframe thead th {\n        text-align: right;\n    }\n</style>\n<table border=\"1\" class=\"dataframe\">\n  <thead>\n    <tr style=\"text-align: right;\">\n      <th></th>\n      <th>title</th>\n      <th>district</th>\n      <th>area</th>\n      <th>number_of_rooms</th>\n      <th>year_of_creation</th>\n      <th>price_for_m2_in_PLN</th>\n      <th>type_of_building</th>\n      <th>balcony</th>\n      <th>internet</th>\n      <th>parking</th>\n      <th>elevator</th>\n      <th>floor</th>\n      <th>terrace</th>\n      <th>basement</th>\n      <th>garden</th>\n      <th>type_of_market</th>\n      <th>street</th>\n      <th>city</th>\n      <th>overall_price</th>\n    </tr>\n  </thead>\n  <tbody>\n    <tr>\n      <th>0</th>\n      <td>3pok 50m2 taras 10m2 blisko morza IIQ24 SE</td>\n      <td>Letnica</td>\n      <td>59.00</td>\n      <td>3</td>\n      <td>2024</td>\n      <td>12831.0</td>\n      <td>Mieszkanie</td>\n      <td>1</td>\n      <td>0</td>\n      <td>1</td>\n      <td>1</td>\n      <td>1.0</td>\n      <td>1</td>\n      <td>1</td>\n      <td>0</td>\n      <td>secondary</td>\n      <td>null</td>\n      <td>gdansk</td>\n      <td>757029.00</td>\n    </tr>\n    <tr>\n      <th>1</th>\n      <td>Wysoki standard   4 pok   Oliwa   kameralne</td>\n      <td>Oliwa</td>\n      <td>99.00</td>\n      <td>4</td>\n      <td>2020</td>\n      <td>2424.0</td>\n      <td>Mieszkanie</td>\n      <td>1</td>\n      <td>0</td>\n      <td>1</td>\n      <td>1</td>\n      <td>3.0</td>\n      <td>0</td>\n      <td>0</td>\n      <td>0</td>\n      <td>secondary</td>\n      <td>Opacka</td>\n      <td>gdansk</td>\n      <td>239976.00</td>\n    </tr>\n    <tr>\n      <th>2</th>\n      <td>Piękne 3 pokoje po remoncie, przy plaży</td>\n      <td>Jelitkowo</td>\n      <td>41.07</td>\n      <td>3</td>\n      <td>1970</td>\n      <td>19455.0</td>\n      <td>Mieszkanie</td>\n      <td>0</td>\n      <td>0</td>\n      <td>0</td>\n      <td>0</td>\n      <td>4.0</td>\n      <td>0</td>\n      <td>0</td>\n      <td>0</td>\n      <td>secondary</td>\n      <td>ul. Tysiąclecia</td>\n      <td>gdansk</td>\n      <td>799016.85</td>\n    </tr>\n    <tr>\n      <th>3</th>\n      <td>Widok na Jar Wilanowski - blok przy samym Parku</td>\n      <td>Chełm</td>\n      <td>63.10</td>\n      <td>3</td>\n      <td>1989</td>\n      <td>9984.0</td>\n      <td>Mieszkanie</td>\n      <td>1</td>\n      <td>1</td>\n      <td>0</td>\n      <td>0</td>\n      <td>4.0</td>\n      <td>0</td>\n      <td>1</td>\n      <td>0</td>\n      <td>secondary</td>\n      <td>Prof. Romualda Cebertowicza</td>\n      <td>gdansk</td>\n      <td>629990.40</td>\n    </tr>\n    <tr>\n      <th>4</th>\n      <td>Energooszczędne Mieszkanie 75m2 - 4 pokoje</td>\n      <td>NaN</td>\n      <td>75.00</td>\n      <td>4</td>\n      <td>2024</td>\n      <td>5187.0</td>\n      <td>Mieszkanie</td>\n      <td>0</td>\n      <td>0</td>\n      <td>0</td>\n      <td>0</td>\n      <td>0.0</td>\n      <td>0</td>\n      <td>0</td>\n      <td>0</td>\n      <td>secondary</td>\n      <td>null</td>\n      <td>gdansk</td>\n      <td>389025.00</td>\n    </tr>\n    <tr>\n      <th>...</th>\n      <td>...</td>\n      <td>...</td>\n      <td>...</td>\n      <td>...</td>\n      <td>...</td>\n      <td>...</td>\n      <td>...</td>\n      <td>...</td>\n      <td>...</td>\n      <td>...</td>\n      <td>...</td>\n      <td>...</td>\n      <td>...</td>\n      <td>...</td>\n      <td>...</td>\n      <td>...</td>\n      <td>...</td>\n      <td>...</td>\n      <td>...</td>\n    </tr>\n    <tr>\n      <th>7764</th>\n      <td>INPRO S.A. - OPTIMA - mieszkanie 3-pok. 56.33 m2</td>\n      <td>Dąbrowa</td>\n      <td>56.33</td>\n      <td>3</td>\n      <td>2024</td>\n      <td>10368.0</td>\n      <td>Mieszkanie</td>\n      <td>1</td>\n      <td>1</td>\n      <td>1</td>\n      <td>0</td>\n      <td>2.0</td>\n      <td>0</td>\n      <td>1</td>\n      <td>0</td>\n      <td>primary</td>\n      <td>Serdecznikowa</td>\n      <td>gdynia</td>\n      <td>584029.44</td>\n    </tr>\n    <tr>\n      <th>7765</th>\n      <td>INPRO S.A. - OPTIMA - mieszkanie 3-pok. 61.44 m2</td>\n      <td>Dąbrowa</td>\n      <td>61.44</td>\n      <td>3</td>\n      <td>2024</td>\n      <td>10368.0</td>\n      <td>Mieszkanie</td>\n      <td>1</td>\n      <td>1</td>\n      <td>1</td>\n      <td>0</td>\n      <td>3.0</td>\n      <td>0</td>\n      <td>1</td>\n      <td>0</td>\n      <td>primary</td>\n      <td>Serdecznikowa</td>\n      <td>gdynia</td>\n      <td>637009.92</td>\n    </tr>\n    <tr>\n      <th>7766</th>\n      <td>INPRO S.A. - OPTIMA - mieszkanie 2-pok. 47.22 ...</td>\n      <td>Dąbrowa</td>\n      <td>47.00</td>\n      <td>2</td>\n      <td>2025</td>\n      <td>10584.0</td>\n      <td>Mieszkanie</td>\n      <td>1</td>\n      <td>1</td>\n      <td>1</td>\n      <td>0</td>\n      <td>1.0</td>\n      <td>0</td>\n      <td>1</td>\n      <td>0</td>\n      <td>primary</td>\n      <td>Serdecznikowa</td>\n      <td>gdynia</td>\n      <td>497448.00</td>\n    </tr>\n    <tr>\n      <th>7767</th>\n      <td>INPRO S.A. - OPTIMA - mieszkanie 2-pok. 46.30 ...</td>\n      <td>Dąbrowa</td>\n      <td>46.30</td>\n      <td>2</td>\n      <td>2025</td>\n      <td>10584.0</td>\n      <td>Mieszkanie</td>\n      <td>1</td>\n      <td>1</td>\n      <td>1</td>\n      <td>0</td>\n      <td>1.0</td>\n      <td>0</td>\n      <td>1</td>\n      <td>0</td>\n      <td>primary</td>\n      <td>Serdecznikowa</td>\n      <td>gdynia</td>\n      <td>490039.20</td>\n    </tr>\n    <tr>\n      <th>7768</th>\n      <td>INPRO S.A. - OPTIMA - mieszkanie 3-pok. 65.17 ...</td>\n      <td>Dąbrowa</td>\n      <td>65.17</td>\n      <td>3</td>\n      <td>2025</td>\n      <td>10260.0</td>\n      <td>Mieszkanie</td>\n      <td>1</td>\n      <td>1</td>\n      <td>1</td>\n      <td>0</td>\n      <td>1.0</td>\n      <td>0</td>\n      <td>1</td>\n      <td>0</td>\n      <td>primary</td>\n      <td>Serdecznikowa</td>\n      <td>gdynia</td>\n      <td>668644.20</td>\n    </tr>\n  </tbody>\n</table>\n<p>7769 rows × 19 columns</p>\n</div>"
     },
     "execution_count": 96,
     "metadata": {},
     "output_type": "execute_result"
    }
   ],
   "source": [
    "trojmiasto_ogloszenia['parking'] = trojmiasto_ogloszenia['parking'] | trojmiasto_ogloszenia['garage']\n",
    "trojmiasto_ogloszenia = trojmiasto_ogloszenia.drop(columns=['garage'])\n",
    "trojmiasto_ogloszenia"
   ],
   "metadata": {
    "collapsed": false,
    "ExecuteTime": {
     "end_time": "2024-06-25T17:11:25.577862100Z",
     "start_time": "2024-06-25T17:11:25.161723800Z"
    }
   },
   "id": "a56199fae62f717d"
  },
  {
   "cell_type": "code",
   "execution_count": 97,
   "outputs": [
    {
     "data": {
      "text/plain": "                                               title  price[PLN]  area[m^2]  \\\n0  4-pokojowe mieszkanie 65m2 + ogródek Bezpośrednio    819900.0      65.57   \n1   1 pokojowe + balkon INWESTYCYJNIe na DNI OTWARTE    412024.0      26.01   \n2           Kompleks 5 apartamentów. Wysoki standard   2990000.0     150.00   \n3  Apartament inwestycyjny, ostatnie piętro, k/Sk...    416907.0      24.89   \n4   Apartament inwestycyjny Śląska 12 z umową najmu!    475820.0      25.72   \n\n  rooms floor     market  parking  elevator  build year  internet  \\\n0     4     0        NaN        1         0         NaN       NaN   \n1     1     2    primary        1         1         NaN       0.0   \n2     8     4  secondary        1         0      1929.0       1.0   \n3     1     5  secondary        0         1      2022.0       1.0   \n4     1     0  secondary        0         1      2022.0       1.0   \n\n  building_type  basement  price_per_m2  balkon  ogródek  taras  \\\n0           NaN       NaN      12504.19       0        1      1   \n1    Mieszkanie       0.0      15840.98       1        0      0   \n2    Mieszkanie       1.0      19933.33       1        0      0   \n3    Mieszkanie       0.0      16749.98       0        0      0   \n4    Mieszkanie       0.0      18500.00       0        0      0   \n\n               street        district    city  \n0          ul. Zakole           Stogi  Gdańsk  \n1                 NaN     Śródmieście  Gdańsk  \n2  ul. Wójta Radtkego     Śródmieście  Gdynia  \n3       ul. Śląska 12  Przymorze Małe  Gdańsk  \n4       ul. Śląska 12  Przymorze Małe  Gdańsk  ",
      "text/html": "<div>\n<style scoped>\n    .dataframe tbody tr th:only-of-type {\n        vertical-align: middle;\n    }\n\n    .dataframe tbody tr th {\n        vertical-align: top;\n    }\n\n    .dataframe thead th {\n        text-align: right;\n    }\n</style>\n<table border=\"1\" class=\"dataframe\">\n  <thead>\n    <tr style=\"text-align: right;\">\n      <th></th>\n      <th>title</th>\n      <th>price[PLN]</th>\n      <th>area[m^2]</th>\n      <th>rooms</th>\n      <th>floor</th>\n      <th>market</th>\n      <th>parking</th>\n      <th>elevator</th>\n      <th>build year</th>\n      <th>internet</th>\n      <th>building_type</th>\n      <th>basement</th>\n      <th>price_per_m2</th>\n      <th>balkon</th>\n      <th>ogródek</th>\n      <th>taras</th>\n      <th>street</th>\n      <th>district</th>\n      <th>city</th>\n    </tr>\n  </thead>\n  <tbody>\n    <tr>\n      <th>0</th>\n      <td>4-pokojowe mieszkanie 65m2 + ogródek Bezpośrednio</td>\n      <td>819900.0</td>\n      <td>65.57</td>\n      <td>4</td>\n      <td>0</td>\n      <td>NaN</td>\n      <td>1</td>\n      <td>0</td>\n      <td>NaN</td>\n      <td>NaN</td>\n      <td>NaN</td>\n      <td>NaN</td>\n      <td>12504.19</td>\n      <td>0</td>\n      <td>1</td>\n      <td>1</td>\n      <td>ul. Zakole</td>\n      <td>Stogi</td>\n      <td>Gdańsk</td>\n    </tr>\n    <tr>\n      <th>1</th>\n      <td>1 pokojowe + balkon INWESTYCYJNIe na DNI OTWARTE</td>\n      <td>412024.0</td>\n      <td>26.01</td>\n      <td>1</td>\n      <td>2</td>\n      <td>primary</td>\n      <td>1</td>\n      <td>1</td>\n      <td>NaN</td>\n      <td>0.0</td>\n      <td>Mieszkanie</td>\n      <td>0.0</td>\n      <td>15840.98</td>\n      <td>1</td>\n      <td>0</td>\n      <td>0</td>\n      <td>NaN</td>\n      <td>Śródmieście</td>\n      <td>Gdańsk</td>\n    </tr>\n    <tr>\n      <th>2</th>\n      <td>Kompleks 5 apartamentów. Wysoki standard</td>\n      <td>2990000.0</td>\n      <td>150.00</td>\n      <td>8</td>\n      <td>4</td>\n      <td>secondary</td>\n      <td>1</td>\n      <td>0</td>\n      <td>1929.0</td>\n      <td>1.0</td>\n      <td>Mieszkanie</td>\n      <td>1.0</td>\n      <td>19933.33</td>\n      <td>1</td>\n      <td>0</td>\n      <td>0</td>\n      <td>ul. Wójta Radtkego</td>\n      <td>Śródmieście</td>\n      <td>Gdynia</td>\n    </tr>\n    <tr>\n      <th>3</th>\n      <td>Apartament inwestycyjny, ostatnie piętro, k/Sk...</td>\n      <td>416907.0</td>\n      <td>24.89</td>\n      <td>1</td>\n      <td>5</td>\n      <td>secondary</td>\n      <td>0</td>\n      <td>1</td>\n      <td>2022.0</td>\n      <td>1.0</td>\n      <td>Mieszkanie</td>\n      <td>0.0</td>\n      <td>16749.98</td>\n      <td>0</td>\n      <td>0</td>\n      <td>0</td>\n      <td>ul. Śląska 12</td>\n      <td>Przymorze Małe</td>\n      <td>Gdańsk</td>\n    </tr>\n    <tr>\n      <th>4</th>\n      <td>Apartament inwestycyjny Śląska 12 z umową najmu!</td>\n      <td>475820.0</td>\n      <td>25.72</td>\n      <td>1</td>\n      <td>0</td>\n      <td>secondary</td>\n      <td>0</td>\n      <td>1</td>\n      <td>2022.0</td>\n      <td>1.0</td>\n      <td>Mieszkanie</td>\n      <td>0.0</td>\n      <td>18500.00</td>\n      <td>0</td>\n      <td>0</td>\n      <td>0</td>\n      <td>ul. Śląska 12</td>\n      <td>Przymorze Małe</td>\n      <td>Gdańsk</td>\n    </tr>\n  </tbody>\n</table>\n</div>"
     },
     "execution_count": 97,
     "metadata": {},
     "output_type": "execute_result"
    }
   ],
   "source": [
    "otodom_ogloszenia = pd.read_csv('otodom_data_cleaned.csv', sep='|')\n",
    "otodom_ogloszenia.head()"
   ],
   "metadata": {
    "collapsed": false,
    "ExecuteTime": {
     "end_time": "2024-06-25T17:11:25.599859700Z",
     "start_time": "2024-06-25T17:11:25.194730500Z"
    }
   },
   "id": "e386a2d56babbee3"
  },
  {
   "cell_type": "code",
   "execution_count": 98,
   "outputs": [],
   "source": [
    "columns = ['title', 'overall_price', 'area', 'number_of_rooms', 'floor', 'type_of_market', 'parking', 'elevator', 'year_of_creation', 'internet', 'type_of_building', 'basement', 'price_for_m2_in_PLN', 'balcony', 'garden', 'terrace', 'street', 'district', 'city']\n",
    "trojmiasto_ogloszenia = trojmiasto_ogloszenia[columns]"
   ],
   "metadata": {
    "collapsed": false,
    "ExecuteTime": {
     "end_time": "2024-06-25T17:11:25.600861900Z",
     "start_time": "2024-06-25T17:11:25.241729400Z"
    }
   },
   "id": "ce9d1e3926768f9e"
  },
  {
   "cell_type": "code",
   "execution_count": 99,
   "outputs": [
    {
     "data": {
      "text/plain": "                                                  title  overall_price  \\\n0     4-pokojowe mieszkanie 65m2 + ogródek Bezpośrednio       819900.0   \n1      1 pokojowe + balkon INWESTYCYJNIe na DNI OTWARTE       412024.0   \n2              Kompleks 5 apartamentów. Wysoki standard      2990000.0   \n3     Apartament inwestycyjny, ostatnie piętro, k/Sk...       416907.0   \n4      Apartament inwestycyjny Śląska 12 z umową najmu!       475820.0   \n...                                                 ...            ...   \n7419                         Granaria - Wyspa Spichrzów      1534275.0   \n7420                         Granaria - Wyspa Spichrzów      1060875.0   \n7421          Mieszkanie z widokiem na stocznię gdańską       999000.0   \n7422                            3 apartamenty w Gdańsku      1350000.0   \n7423  3 Pokoje- Centrum Miasta - Nad Motławą- Riverview       999000.0   \n\n        area number_of_rooms floor type_of_market  parking  elevator  \\\n0      65.57               4     0            NaN        1         0   \n1      26.01               1     2        primary        1         1   \n2     150.00               8     4      secondary        1         0   \n3      24.89               1     5      secondary        0         1   \n4      25.72               1     0      secondary        0         1   \n...      ...             ...   ...            ...      ...       ...   \n7419   68.19               1     1      secondary        0         1   \n7420   47.15               1     1      secondary        0         1   \n7421   79.10               2     4      secondary        0         0   \n7422   70.00               4     1      secondary        0         0   \n7423   50.40               3     0      secondary        0         0   \n\n      year_of_creation  internet type_of_building  basement  \\\n0                  NaN       NaN              NaN       NaN   \n1                  NaN       0.0       Mieszkanie       0.0   \n2               1929.0       1.0       Mieszkanie       1.0   \n3               2022.0       1.0       Mieszkanie       0.0   \n4               2022.0       1.0       Mieszkanie       0.0   \n...                ...       ...              ...       ...   \n7419            2020.0       0.0              NaN       0.0   \n7420            2020.0       0.0              NaN       0.0   \n7421            1902.0       0.0       Mieszkanie       0.0   \n7422               NaN       0.0       Mieszkanie       0.0   \n7423            2020.0       0.0              NaN       0.0   \n\n      price_for_m2_in_PLN  balcony  garden  terrace                street  \\\n0                12504.19        0       1        1            ul. Zakole   \n1                15840.98        1       0        0                   NaN   \n2                19933.33        1       0        0    ul. Wójta Radtkego   \n3                16749.98        0       0        0         ul. Śląska 12   \n4                18500.00        0       0        0         ul. Śląska 12   \n...                   ...      ...     ...      ...                   ...   \n7419             22500.00        0       0        0          ul. Chmielna   \n7420             22500.00        0       0        0          ul. Chmielna   \n7421             12629.58        1       0        0                   NaN   \n7422             19285.71        0       0        0                   NaN   \n7423             19821.43        0       0        0  ul. Angielska Grobla   \n\n            district    city  \n0              Stogi  Gdańsk  \n1        Śródmieście  Gdańsk  \n2        Śródmieście  Gdynia  \n3     Przymorze Małe  Gdańsk  \n4     Przymorze Małe  Gdańsk  \n...              ...     ...  \n7419     Śródmieście  Gdańsk  \n7420     Śródmieście  Gdańsk  \n7421        Młyniska  Gdańsk  \n7422     Śródmieście  Gdańsk  \n7423     Śródmieście  Gdańsk  \n\n[7424 rows x 19 columns]",
      "text/html": "<div>\n<style scoped>\n    .dataframe tbody tr th:only-of-type {\n        vertical-align: middle;\n    }\n\n    .dataframe tbody tr th {\n        vertical-align: top;\n    }\n\n    .dataframe thead th {\n        text-align: right;\n    }\n</style>\n<table border=\"1\" class=\"dataframe\">\n  <thead>\n    <tr style=\"text-align: right;\">\n      <th></th>\n      <th>title</th>\n      <th>overall_price</th>\n      <th>area</th>\n      <th>number_of_rooms</th>\n      <th>floor</th>\n      <th>type_of_market</th>\n      <th>parking</th>\n      <th>elevator</th>\n      <th>year_of_creation</th>\n      <th>internet</th>\n      <th>type_of_building</th>\n      <th>basement</th>\n      <th>price_for_m2_in_PLN</th>\n      <th>balcony</th>\n      <th>garden</th>\n      <th>terrace</th>\n      <th>street</th>\n      <th>district</th>\n      <th>city</th>\n    </tr>\n  </thead>\n  <tbody>\n    <tr>\n      <th>0</th>\n      <td>4-pokojowe mieszkanie 65m2 + ogródek Bezpośrednio</td>\n      <td>819900.0</td>\n      <td>65.57</td>\n      <td>4</td>\n      <td>0</td>\n      <td>NaN</td>\n      <td>1</td>\n      <td>0</td>\n      <td>NaN</td>\n      <td>NaN</td>\n      <td>NaN</td>\n      <td>NaN</td>\n      <td>12504.19</td>\n      <td>0</td>\n      <td>1</td>\n      <td>1</td>\n      <td>ul. Zakole</td>\n      <td>Stogi</td>\n      <td>Gdańsk</td>\n    </tr>\n    <tr>\n      <th>1</th>\n      <td>1 pokojowe + balkon INWESTYCYJNIe na DNI OTWARTE</td>\n      <td>412024.0</td>\n      <td>26.01</td>\n      <td>1</td>\n      <td>2</td>\n      <td>primary</td>\n      <td>1</td>\n      <td>1</td>\n      <td>NaN</td>\n      <td>0.0</td>\n      <td>Mieszkanie</td>\n      <td>0.0</td>\n      <td>15840.98</td>\n      <td>1</td>\n      <td>0</td>\n      <td>0</td>\n      <td>NaN</td>\n      <td>Śródmieście</td>\n      <td>Gdańsk</td>\n    </tr>\n    <tr>\n      <th>2</th>\n      <td>Kompleks 5 apartamentów. Wysoki standard</td>\n      <td>2990000.0</td>\n      <td>150.00</td>\n      <td>8</td>\n      <td>4</td>\n      <td>secondary</td>\n      <td>1</td>\n      <td>0</td>\n      <td>1929.0</td>\n      <td>1.0</td>\n      <td>Mieszkanie</td>\n      <td>1.0</td>\n      <td>19933.33</td>\n      <td>1</td>\n      <td>0</td>\n      <td>0</td>\n      <td>ul. Wójta Radtkego</td>\n      <td>Śródmieście</td>\n      <td>Gdynia</td>\n    </tr>\n    <tr>\n      <th>3</th>\n      <td>Apartament inwestycyjny, ostatnie piętro, k/Sk...</td>\n      <td>416907.0</td>\n      <td>24.89</td>\n      <td>1</td>\n      <td>5</td>\n      <td>secondary</td>\n      <td>0</td>\n      <td>1</td>\n      <td>2022.0</td>\n      <td>1.0</td>\n      <td>Mieszkanie</td>\n      <td>0.0</td>\n      <td>16749.98</td>\n      <td>0</td>\n      <td>0</td>\n      <td>0</td>\n      <td>ul. Śląska 12</td>\n      <td>Przymorze Małe</td>\n      <td>Gdańsk</td>\n    </tr>\n    <tr>\n      <th>4</th>\n      <td>Apartament inwestycyjny Śląska 12 z umową najmu!</td>\n      <td>475820.0</td>\n      <td>25.72</td>\n      <td>1</td>\n      <td>0</td>\n      <td>secondary</td>\n      <td>0</td>\n      <td>1</td>\n      <td>2022.0</td>\n      <td>1.0</td>\n      <td>Mieszkanie</td>\n      <td>0.0</td>\n      <td>18500.00</td>\n      <td>0</td>\n      <td>0</td>\n      <td>0</td>\n      <td>ul. Śląska 12</td>\n      <td>Przymorze Małe</td>\n      <td>Gdańsk</td>\n    </tr>\n    <tr>\n      <th>...</th>\n      <td>...</td>\n      <td>...</td>\n      <td>...</td>\n      <td>...</td>\n      <td>...</td>\n      <td>...</td>\n      <td>...</td>\n      <td>...</td>\n      <td>...</td>\n      <td>...</td>\n      <td>...</td>\n      <td>...</td>\n      <td>...</td>\n      <td>...</td>\n      <td>...</td>\n      <td>...</td>\n      <td>...</td>\n      <td>...</td>\n      <td>...</td>\n    </tr>\n    <tr>\n      <th>7419</th>\n      <td>Granaria - Wyspa Spichrzów</td>\n      <td>1534275.0</td>\n      <td>68.19</td>\n      <td>1</td>\n      <td>1</td>\n      <td>secondary</td>\n      <td>0</td>\n      <td>1</td>\n      <td>2020.0</td>\n      <td>0.0</td>\n      <td>NaN</td>\n      <td>0.0</td>\n      <td>22500.00</td>\n      <td>0</td>\n      <td>0</td>\n      <td>0</td>\n      <td>ul. Chmielna</td>\n      <td>Śródmieście</td>\n      <td>Gdańsk</td>\n    </tr>\n    <tr>\n      <th>7420</th>\n      <td>Granaria - Wyspa Spichrzów</td>\n      <td>1060875.0</td>\n      <td>47.15</td>\n      <td>1</td>\n      <td>1</td>\n      <td>secondary</td>\n      <td>0</td>\n      <td>1</td>\n      <td>2020.0</td>\n      <td>0.0</td>\n      <td>NaN</td>\n      <td>0.0</td>\n      <td>22500.00</td>\n      <td>0</td>\n      <td>0</td>\n      <td>0</td>\n      <td>ul. Chmielna</td>\n      <td>Śródmieście</td>\n      <td>Gdańsk</td>\n    </tr>\n    <tr>\n      <th>7421</th>\n      <td>Mieszkanie z widokiem na stocznię gdańską</td>\n      <td>999000.0</td>\n      <td>79.10</td>\n      <td>2</td>\n      <td>4</td>\n      <td>secondary</td>\n      <td>0</td>\n      <td>0</td>\n      <td>1902.0</td>\n      <td>0.0</td>\n      <td>Mieszkanie</td>\n      <td>0.0</td>\n      <td>12629.58</td>\n      <td>1</td>\n      <td>0</td>\n      <td>0</td>\n      <td>NaN</td>\n      <td>Młyniska</td>\n      <td>Gdańsk</td>\n    </tr>\n    <tr>\n      <th>7422</th>\n      <td>3 apartamenty w Gdańsku</td>\n      <td>1350000.0</td>\n      <td>70.00</td>\n      <td>4</td>\n      <td>1</td>\n      <td>secondary</td>\n      <td>0</td>\n      <td>0</td>\n      <td>NaN</td>\n      <td>0.0</td>\n      <td>Mieszkanie</td>\n      <td>0.0</td>\n      <td>19285.71</td>\n      <td>0</td>\n      <td>0</td>\n      <td>0</td>\n      <td>NaN</td>\n      <td>Śródmieście</td>\n      <td>Gdańsk</td>\n    </tr>\n    <tr>\n      <th>7423</th>\n      <td>3 Pokoje- Centrum Miasta - Nad Motławą- Riverview</td>\n      <td>999000.0</td>\n      <td>50.40</td>\n      <td>3</td>\n      <td>0</td>\n      <td>secondary</td>\n      <td>0</td>\n      <td>0</td>\n      <td>2020.0</td>\n      <td>0.0</td>\n      <td>NaN</td>\n      <td>0.0</td>\n      <td>19821.43</td>\n      <td>0</td>\n      <td>0</td>\n      <td>0</td>\n      <td>ul. Angielska Grobla</td>\n      <td>Śródmieście</td>\n      <td>Gdańsk</td>\n    </tr>\n  </tbody>\n</table>\n<p>7424 rows × 19 columns</p>\n</div>"
     },
     "execution_count": 99,
     "metadata": {},
     "output_type": "execute_result"
    }
   ],
   "source": [
    "otodom_ogloszenia.rename(columns={'area[m^2]': 'area','price[PLN]': 'overall_price', 'price_per_m2': 'price_for_m2_in_PLN', 'rooms': 'number_of_rooms', 'market': 'type_of_market', 'build year': 'year_of_creation', 'building_type': 'type_of_building', 'balkon': 'balcony', 'ogródek': 'garden', 'taras': 'terrace'}, inplace=True)\n",
    "trojmiasto_ogloszenia\n",
    "otodom_ogloszenia"
   ],
   "metadata": {
    "collapsed": false,
    "ExecuteTime": {
     "end_time": "2024-06-25T17:11:25.601863100Z",
     "start_time": "2024-06-25T17:11:25.258726100Z"
    }
   },
   "id": "ab33da26368f7522"
  },
  {
   "cell_type": "code",
   "execution_count": 100,
   "outputs": [
    {
     "name": "stdout",
     "output_type": "stream",
     "text": [
      "<class 'pandas.core.frame.DataFrame'>\n",
      "RangeIndex: 7424 entries, 0 to 7423\n",
      "Data columns (total 19 columns):\n",
      " #   Column               Non-Null Count  Dtype  \n",
      "---  ------               --------------  -----  \n",
      " 0   title                7424 non-null   object \n",
      " 1   overall_price        7424 non-null   float64\n",
      " 2   area                 7423 non-null   float64\n",
      " 3   number_of_rooms      7424 non-null   object \n",
      " 4   floor                7317 non-null   object \n",
      " 5   type_of_market       6813 non-null   object \n",
      " 6   parking              7424 non-null   int64  \n",
      " 7   elevator             7424 non-null   int64  \n",
      " 8   year_of_creation     6014 non-null   float64\n",
      " 9   internet             6813 non-null   float64\n",
      " 10  type_of_building     5597 non-null   object \n",
      " 11  basement             6813 non-null   float64\n",
      " 12  price_for_m2_in_PLN  7423 non-null   float64\n",
      " 13  balcony              7424 non-null   int64  \n",
      " 14  garden               7424 non-null   int64  \n",
      " 15  terrace              7424 non-null   int64  \n",
      " 16  street               5962 non-null   object \n",
      " 17  district             7424 non-null   object \n",
      " 18  city                 7424 non-null   object \n",
      "dtypes: float64(6), int64(5), object(8)\n",
      "memory usage: 1.1+ MB\n",
      "<class 'pandas.core.frame.DataFrame'>\n",
      "RangeIndex: 7769 entries, 0 to 7768\n",
      "Data columns (total 19 columns):\n",
      " #   Column               Non-Null Count  Dtype  \n",
      "---  ------               --------------  -----  \n",
      " 0   title                7769 non-null   object \n",
      " 1   overall_price        7765 non-null   float64\n",
      " 2   area                 7767 non-null   float64\n",
      " 3   number_of_rooms      7769 non-null   int64  \n",
      " 4   floor                7010 non-null   float64\n",
      " 5   type_of_market       7769 non-null   object \n",
      " 6   parking              7769 non-null   int64  \n",
      " 7   elevator             7769 non-null   int64  \n",
      " 8   year_of_creation     7769 non-null   int64  \n",
      " 9   internet             7769 non-null   int64  \n",
      " 10  type_of_building     7769 non-null   object \n",
      " 11  basement             7769 non-null   int64  \n",
      " 12  price_for_m2_in_PLN  7767 non-null   float64\n",
      " 13  balcony              7769 non-null   int64  \n",
      " 14  garden               7769 non-null   int64  \n",
      " 15  terrace              7769 non-null   int64  \n",
      " 16  street               7769 non-null   object \n",
      " 17  district             7743 non-null   object \n",
      " 18  city                 7769 non-null   object \n",
      "dtypes: float64(4), int64(9), object(6)\n",
      "memory usage: 1.1+ MB\n"
     ]
    }
   ],
   "source": [
    "otodom_ogloszenia.info()\n",
    "trojmiasto_ogloszenia.info()"
   ],
   "metadata": {
    "collapsed": false,
    "ExecuteTime": {
     "end_time": "2024-06-25T17:11:25.601863100Z",
     "start_time": "2024-06-25T17:11:25.287729Z"
    }
   },
   "id": "5df11ee128d4c0a5"
  },
  {
   "cell_type": "markdown",
   "source": [],
   "metadata": {
    "collapsed": false
   },
   "id": "792e4edc90404059"
  },
  {
   "cell_type": "code",
   "execution_count": 101,
   "outputs": [
    {
     "name": "stdout",
     "output_type": "stream",
     "text": [
      "<class 'pandas.core.frame.DataFrame'>\n",
      "RangeIndex: 7424 entries, 0 to 7423\n",
      "Data columns (total 19 columns):\n",
      " #   Column               Non-Null Count  Dtype  \n",
      "---  ------               --------------  -----  \n",
      " 0   title                7424 non-null   object \n",
      " 1   overall_price        7424 non-null   float64\n",
      " 2   area                 7423 non-null   float64\n",
      " 3   number_of_rooms      7424 non-null   object \n",
      " 4   floor                7317 non-null   object \n",
      " 5   type_of_market       6813 non-null   object \n",
      " 6   parking              7424 non-null   int64  \n",
      " 7   elevator             7424 non-null   int64  \n",
      " 8   year_of_creation     6014 non-null   float64\n",
      " 9   internet             6813 non-null   float64\n",
      " 10  type_of_building     5597 non-null   object \n",
      " 11  basement             6813 non-null   float64\n",
      " 12  price_for_m2_in_PLN  7423 non-null   float64\n",
      " 13  balcony              7424 non-null   int64  \n",
      " 14  garden               7424 non-null   int64  \n",
      " 15  terrace              7424 non-null   int64  \n",
      " 16  street               5962 non-null   object \n",
      " 17  district             7424 non-null   object \n",
      " 18  city                 7424 non-null   object \n",
      "dtypes: float64(6), int64(5), object(8)\n",
      "memory usage: 1.1+ MB\n",
      "<class 'pandas.core.frame.DataFrame'>\n",
      "RangeIndex: 7769 entries, 0 to 7768\n",
      "Data columns (total 19 columns):\n",
      " #   Column               Non-Null Count  Dtype  \n",
      "---  ------               --------------  -----  \n",
      " 0   title                7769 non-null   object \n",
      " 1   overall_price        7765 non-null   float64\n",
      " 2   area                 7767 non-null   float64\n",
      " 3   number_of_rooms      7769 non-null   object \n",
      " 4   floor                7769 non-null   object \n",
      " 5   type_of_market       7769 non-null   object \n",
      " 6   parking              7769 non-null   int64  \n",
      " 7   elevator             7769 non-null   int64  \n",
      " 8   year_of_creation     7769 non-null   float64\n",
      " 9   internet             7769 non-null   float64\n",
      " 10  type_of_building     7769 non-null   object \n",
      " 11  basement             7769 non-null   float64\n",
      " 12  price_for_m2_in_PLN  7767 non-null   float64\n",
      " 13  balcony              7769 non-null   int64  \n",
      " 14  garden               7769 non-null   int64  \n",
      " 15  terrace              7769 non-null   int64  \n",
      " 16  street               7769 non-null   object \n",
      " 17  district             7743 non-null   object \n",
      " 18  city                 7769 non-null   object \n",
      "dtypes: float64(6), int64(5), object(8)\n",
      "memory usage: 1.1+ MB\n"
     ]
    }
   ],
   "source": [
    "trojmiasto_ogloszenia['floor'] = trojmiasto_ogloszenia['floor'].astype(str)\n",
    "trojmiasto_ogloszenia['number_of_rooms'] = trojmiasto_ogloszenia['number_of_rooms'].astype(str)\n",
    "trojmiasto_ogloszenia['year_of_creation'] = trojmiasto_ogloszenia['year_of_creation'].astype(float)\n",
    "trojmiasto_ogloszenia['internet'] = trojmiasto_ogloszenia['internet'].astype(float)\n",
    "trojmiasto_ogloszenia['basement'] = trojmiasto_ogloszenia['basement'].astype(float)\n",
    "\n",
    "otodom_ogloszenia.info()\n",
    "trojmiasto_ogloszenia.info()"
   ],
   "metadata": {
    "collapsed": false,
    "ExecuteTime": {
     "end_time": "2024-06-25T17:11:25.602858400Z",
     "start_time": "2024-06-25T17:11:25.318743300Z"
    }
   },
   "id": "e2b177e9f7ca7112"
  },
  {
   "cell_type": "code",
   "execution_count": 102,
   "outputs": [
    {
     "data": {
      "text/plain": "                                                   title  overall_price  \\\n0      4-pokojowe mieszkanie 65m2 + ogródek Bezpośrednio      819900.00   \n1       1 pokojowe + balkon INWESTYCYJNIe na DNI OTWARTE      412024.00   \n2               Kompleks 5 apartamentów. Wysoki standard     2990000.00   \n3      Apartament inwestycyjny, ostatnie piętro, k/Sk...      416907.00   \n4       Apartament inwestycyjny Śląska 12 z umową najmu!      475820.00   \n...                                                  ...            ...   \n15188   INPRO S.A. - OPTIMA - mieszkanie 3-pok. 56.33 m2      584029.44   \n15189   INPRO S.A. - OPTIMA - mieszkanie 3-pok. 61.44 m2      637009.92   \n15190  INPRO S.A. - OPTIMA - mieszkanie 2-pok. 47.22 ...      497448.00   \n15191  INPRO S.A. - OPTIMA - mieszkanie 2-pok. 46.30 ...      490039.20   \n15192  INPRO S.A. - OPTIMA - mieszkanie 3-pok. 65.17 ...      668644.20   \n\n         area number_of_rooms floor type_of_market  parking  elevator  \\\n0       65.57               4     0            NaN        1         0   \n1       26.01               1     2        primary        1         1   \n2      150.00               8     4      secondary        1         0   \n3       24.89               1     5      secondary        0         1   \n4       25.72               1     0      secondary        0         1   \n...       ...             ...   ...            ...      ...       ...   \n15188   56.33               3   2.0        primary        1         0   \n15189   61.44               3   3.0        primary        1         0   \n15190   47.00               2   1.0        primary        1         0   \n15191   46.30               2   1.0        primary        1         0   \n15192   65.17               3   1.0        primary        1         0   \n\n       year_of_creation  internet type_of_building  basement  \\\n0                   NaN       NaN              NaN       NaN   \n1                   NaN       0.0       Mieszkanie       0.0   \n2                1929.0       1.0       Mieszkanie       1.0   \n3                2022.0       1.0       Mieszkanie       0.0   \n4                2022.0       1.0       Mieszkanie       0.0   \n...                 ...       ...              ...       ...   \n15188            2024.0       1.0       Mieszkanie       1.0   \n15189            2024.0       1.0       Mieszkanie       1.0   \n15190            2025.0       1.0       Mieszkanie       1.0   \n15191            2025.0       1.0       Mieszkanie       1.0   \n15192            2025.0       1.0       Mieszkanie       1.0   \n\n       price_for_m2_in_PLN  balcony  garden  terrace              street  \\\n0                 12504.19        0       1        1          ul. Zakole   \n1                 15840.98        1       0        0                 NaN   \n2                 19933.33        1       0        0  ul. Wójta Radtkego   \n3                 16749.98        0       0        0       ul. Śląska 12   \n4                 18500.00        0       0        0       ul. Śląska 12   \n...                    ...      ...     ...      ...                 ...   \n15188             10368.00        1       0        0       Serdecznikowa   \n15189             10368.00        1       0        0       Serdecznikowa   \n15190             10584.00        1       0        0       Serdecznikowa   \n15191             10584.00        1       0        0       Serdecznikowa   \n15192             10260.00        1       0        0       Serdecznikowa   \n\n             district    city  \n0               Stogi  Gdańsk  \n1         Śródmieście  Gdańsk  \n2         Śródmieście  Gdynia  \n3      Przymorze Małe  Gdańsk  \n4      Przymorze Małe  Gdańsk  \n...               ...     ...  \n15188         Dąbrowa  gdynia  \n15189         Dąbrowa  gdynia  \n15190         Dąbrowa  gdynia  \n15191         Dąbrowa  gdynia  \n15192         Dąbrowa  gdynia  \n\n[15193 rows x 19 columns]",
      "text/html": "<div>\n<style scoped>\n    .dataframe tbody tr th:only-of-type {\n        vertical-align: middle;\n    }\n\n    .dataframe tbody tr th {\n        vertical-align: top;\n    }\n\n    .dataframe thead th {\n        text-align: right;\n    }\n</style>\n<table border=\"1\" class=\"dataframe\">\n  <thead>\n    <tr style=\"text-align: right;\">\n      <th></th>\n      <th>title</th>\n      <th>overall_price</th>\n      <th>area</th>\n      <th>number_of_rooms</th>\n      <th>floor</th>\n      <th>type_of_market</th>\n      <th>parking</th>\n      <th>elevator</th>\n      <th>year_of_creation</th>\n      <th>internet</th>\n      <th>type_of_building</th>\n      <th>basement</th>\n      <th>price_for_m2_in_PLN</th>\n      <th>balcony</th>\n      <th>garden</th>\n      <th>terrace</th>\n      <th>street</th>\n      <th>district</th>\n      <th>city</th>\n    </tr>\n  </thead>\n  <tbody>\n    <tr>\n      <th>0</th>\n      <td>4-pokojowe mieszkanie 65m2 + ogródek Bezpośrednio</td>\n      <td>819900.00</td>\n      <td>65.57</td>\n      <td>4</td>\n      <td>0</td>\n      <td>NaN</td>\n      <td>1</td>\n      <td>0</td>\n      <td>NaN</td>\n      <td>NaN</td>\n      <td>NaN</td>\n      <td>NaN</td>\n      <td>12504.19</td>\n      <td>0</td>\n      <td>1</td>\n      <td>1</td>\n      <td>ul. Zakole</td>\n      <td>Stogi</td>\n      <td>Gdańsk</td>\n    </tr>\n    <tr>\n      <th>1</th>\n      <td>1 pokojowe + balkon INWESTYCYJNIe na DNI OTWARTE</td>\n      <td>412024.00</td>\n      <td>26.01</td>\n      <td>1</td>\n      <td>2</td>\n      <td>primary</td>\n      <td>1</td>\n      <td>1</td>\n      <td>NaN</td>\n      <td>0.0</td>\n      <td>Mieszkanie</td>\n      <td>0.0</td>\n      <td>15840.98</td>\n      <td>1</td>\n      <td>0</td>\n      <td>0</td>\n      <td>NaN</td>\n      <td>Śródmieście</td>\n      <td>Gdańsk</td>\n    </tr>\n    <tr>\n      <th>2</th>\n      <td>Kompleks 5 apartamentów. Wysoki standard</td>\n      <td>2990000.00</td>\n      <td>150.00</td>\n      <td>8</td>\n      <td>4</td>\n      <td>secondary</td>\n      <td>1</td>\n      <td>0</td>\n      <td>1929.0</td>\n      <td>1.0</td>\n      <td>Mieszkanie</td>\n      <td>1.0</td>\n      <td>19933.33</td>\n      <td>1</td>\n      <td>0</td>\n      <td>0</td>\n      <td>ul. Wójta Radtkego</td>\n      <td>Śródmieście</td>\n      <td>Gdynia</td>\n    </tr>\n    <tr>\n      <th>3</th>\n      <td>Apartament inwestycyjny, ostatnie piętro, k/Sk...</td>\n      <td>416907.00</td>\n      <td>24.89</td>\n      <td>1</td>\n      <td>5</td>\n      <td>secondary</td>\n      <td>0</td>\n      <td>1</td>\n      <td>2022.0</td>\n      <td>1.0</td>\n      <td>Mieszkanie</td>\n      <td>0.0</td>\n      <td>16749.98</td>\n      <td>0</td>\n      <td>0</td>\n      <td>0</td>\n      <td>ul. Śląska 12</td>\n      <td>Przymorze Małe</td>\n      <td>Gdańsk</td>\n    </tr>\n    <tr>\n      <th>4</th>\n      <td>Apartament inwestycyjny Śląska 12 z umową najmu!</td>\n      <td>475820.00</td>\n      <td>25.72</td>\n      <td>1</td>\n      <td>0</td>\n      <td>secondary</td>\n      <td>0</td>\n      <td>1</td>\n      <td>2022.0</td>\n      <td>1.0</td>\n      <td>Mieszkanie</td>\n      <td>0.0</td>\n      <td>18500.00</td>\n      <td>0</td>\n      <td>0</td>\n      <td>0</td>\n      <td>ul. Śląska 12</td>\n      <td>Przymorze Małe</td>\n      <td>Gdańsk</td>\n    </tr>\n    <tr>\n      <th>...</th>\n      <td>...</td>\n      <td>...</td>\n      <td>...</td>\n      <td>...</td>\n      <td>...</td>\n      <td>...</td>\n      <td>...</td>\n      <td>...</td>\n      <td>...</td>\n      <td>...</td>\n      <td>...</td>\n      <td>...</td>\n      <td>...</td>\n      <td>...</td>\n      <td>...</td>\n      <td>...</td>\n      <td>...</td>\n      <td>...</td>\n      <td>...</td>\n    </tr>\n    <tr>\n      <th>15188</th>\n      <td>INPRO S.A. - OPTIMA - mieszkanie 3-pok. 56.33 m2</td>\n      <td>584029.44</td>\n      <td>56.33</td>\n      <td>3</td>\n      <td>2.0</td>\n      <td>primary</td>\n      <td>1</td>\n      <td>0</td>\n      <td>2024.0</td>\n      <td>1.0</td>\n      <td>Mieszkanie</td>\n      <td>1.0</td>\n      <td>10368.00</td>\n      <td>1</td>\n      <td>0</td>\n      <td>0</td>\n      <td>Serdecznikowa</td>\n      <td>Dąbrowa</td>\n      <td>gdynia</td>\n    </tr>\n    <tr>\n      <th>15189</th>\n      <td>INPRO S.A. - OPTIMA - mieszkanie 3-pok. 61.44 m2</td>\n      <td>637009.92</td>\n      <td>61.44</td>\n      <td>3</td>\n      <td>3.0</td>\n      <td>primary</td>\n      <td>1</td>\n      <td>0</td>\n      <td>2024.0</td>\n      <td>1.0</td>\n      <td>Mieszkanie</td>\n      <td>1.0</td>\n      <td>10368.00</td>\n      <td>1</td>\n      <td>0</td>\n      <td>0</td>\n      <td>Serdecznikowa</td>\n      <td>Dąbrowa</td>\n      <td>gdynia</td>\n    </tr>\n    <tr>\n      <th>15190</th>\n      <td>INPRO S.A. - OPTIMA - mieszkanie 2-pok. 47.22 ...</td>\n      <td>497448.00</td>\n      <td>47.00</td>\n      <td>2</td>\n      <td>1.0</td>\n      <td>primary</td>\n      <td>1</td>\n      <td>0</td>\n      <td>2025.0</td>\n      <td>1.0</td>\n      <td>Mieszkanie</td>\n      <td>1.0</td>\n      <td>10584.00</td>\n      <td>1</td>\n      <td>0</td>\n      <td>0</td>\n      <td>Serdecznikowa</td>\n      <td>Dąbrowa</td>\n      <td>gdynia</td>\n    </tr>\n    <tr>\n      <th>15191</th>\n      <td>INPRO S.A. - OPTIMA - mieszkanie 2-pok. 46.30 ...</td>\n      <td>490039.20</td>\n      <td>46.30</td>\n      <td>2</td>\n      <td>1.0</td>\n      <td>primary</td>\n      <td>1</td>\n      <td>0</td>\n      <td>2025.0</td>\n      <td>1.0</td>\n      <td>Mieszkanie</td>\n      <td>1.0</td>\n      <td>10584.00</td>\n      <td>1</td>\n      <td>0</td>\n      <td>0</td>\n      <td>Serdecznikowa</td>\n      <td>Dąbrowa</td>\n      <td>gdynia</td>\n    </tr>\n    <tr>\n      <th>15192</th>\n      <td>INPRO S.A. - OPTIMA - mieszkanie 3-pok. 65.17 ...</td>\n      <td>668644.20</td>\n      <td>65.17</td>\n      <td>3</td>\n      <td>1.0</td>\n      <td>primary</td>\n      <td>1</td>\n      <td>0</td>\n      <td>2025.0</td>\n      <td>1.0</td>\n      <td>Mieszkanie</td>\n      <td>1.0</td>\n      <td>10260.00</td>\n      <td>1</td>\n      <td>0</td>\n      <td>0</td>\n      <td>Serdecznikowa</td>\n      <td>Dąbrowa</td>\n      <td>gdynia</td>\n    </tr>\n  </tbody>\n</table>\n<p>15193 rows × 19 columns</p>\n</div>"
     },
     "execution_count": 102,
     "metadata": {},
     "output_type": "execute_result"
    }
   ],
   "source": [
    "merged_data = pd.concat([otodom_ogloszenia, trojmiasto_ogloszenia], ignore_index=True)\n",
    "merged_data"
   ],
   "metadata": {
    "collapsed": false,
    "ExecuteTime": {
     "end_time": "2024-06-25T17:11:25.604862200Z",
     "start_time": "2024-06-25T17:11:25.365868300Z"
    }
   },
   "id": "ef94957e1c769e29"
  },
  {
   "cell_type": "code",
   "execution_count": 103,
   "outputs": [],
   "source": [
    "merged_data.to_csv('dataset.csv', sep='|', index=False)"
   ],
   "metadata": {
    "collapsed": false,
    "ExecuteTime": {
     "end_time": "2024-06-25T17:11:25.609863Z",
     "start_time": "2024-06-25T17:11:25.397864400Z"
    }
   },
   "id": "b4579917c21dbf5b"
  },
  {
   "cell_type": "code",
   "execution_count": 104,
   "outputs": [
    {
     "data": {
      "text/plain": "                                                   title  overall_price  \\\n0      4-pokojowe mieszkanie 65m2 + ogródek Bezpośrednio      819900.00   \n1       1 pokojowe + balkon INWESTYCYJNIe na DNI OTWARTE      412024.00   \n2               Kompleks 5 apartamentów. Wysoki standard     2990000.00   \n3      Apartament inwestycyjny, ostatnie piętro, k/Sk...      416907.00   \n4       Apartament inwestycyjny Śląska 12 z umową najmu!      475820.00   \n...                                                  ...            ...   \n15188   INPRO S.A. - OPTIMA - mieszkanie 3-pok. 56.33 m2      584029.44   \n15189   INPRO S.A. - OPTIMA - mieszkanie 3-pok. 61.44 m2      637009.92   \n15190  INPRO S.A. - OPTIMA - mieszkanie 2-pok. 47.22 ...      497448.00   \n15191  INPRO S.A. - OPTIMA - mieszkanie 2-pok. 46.30 ...      490039.20   \n15192  INPRO S.A. - OPTIMA - mieszkanie 3-pok. 65.17 ...      668644.20   \n\n         area number_of_rooms floor type_of_market  parking  elevator  \\\n0       65.57               4     0            NaN        1         0   \n1       26.01               1     2        primary        1         1   \n2      150.00               8     4      secondary        1         0   \n3       24.89               1     5      secondary        0         1   \n4       25.72               1     0      secondary        0         1   \n...       ...             ...   ...            ...      ...       ...   \n15188   56.33               3   2.0        primary        1         0   \n15189   61.44               3   3.0        primary        1         0   \n15190   47.00               2   1.0        primary        1         0   \n15191   46.30               2   1.0        primary        1         0   \n15192   65.17               3   1.0        primary        1         0   \n\n       year_of_creation  internet type_of_building  basement  \\\n0                   NaN       NaN              NaN       NaN   \n1                   NaN       0.0       Mieszkanie       0.0   \n2                1929.0       1.0       Mieszkanie       1.0   \n3                2022.0       1.0       Mieszkanie       0.0   \n4                2022.0       1.0       Mieszkanie       0.0   \n...                 ...       ...              ...       ...   \n15188            2024.0       1.0       Mieszkanie       1.0   \n15189            2024.0       1.0       Mieszkanie       1.0   \n15190            2025.0       1.0       Mieszkanie       1.0   \n15191            2025.0       1.0       Mieszkanie       1.0   \n15192            2025.0       1.0       Mieszkanie       1.0   \n\n       price_for_m2_in_PLN  balcony  garden  terrace              street  \\\n0                 12504.19        0       1        1          ul. Zakole   \n1                 15840.98        1       0        0                 NaN   \n2                 19933.33        1       0        0  ul. Wójta Radtkego   \n3                 16749.98        0       0        0       ul. Śląska 12   \n4                 18500.00        0       0        0       ul. Śląska 12   \n...                    ...      ...     ...      ...                 ...   \n15188             10368.00        1       0        0       Serdecznikowa   \n15189             10368.00        1       0        0       Serdecznikowa   \n15190             10584.00        1       0        0       Serdecznikowa   \n15191             10584.00        1       0        0       Serdecznikowa   \n15192             10260.00        1       0        0       Serdecznikowa   \n\n             district    city  \n0               Stogi  Gdańsk  \n1         Śródmieście  Gdańsk  \n2         Śródmieście  Gdynia  \n3      Przymorze Małe  Gdańsk  \n4      Przymorze Małe  Gdańsk  \n...               ...     ...  \n15188         Dąbrowa  gdynia  \n15189         Dąbrowa  gdynia  \n15190         Dąbrowa  gdynia  \n15191         Dąbrowa  gdynia  \n15192         Dąbrowa  gdynia  \n\n[15193 rows x 19 columns]",
      "text/html": "<div>\n<style scoped>\n    .dataframe tbody tr th:only-of-type {\n        vertical-align: middle;\n    }\n\n    .dataframe tbody tr th {\n        vertical-align: top;\n    }\n\n    .dataframe thead th {\n        text-align: right;\n    }\n</style>\n<table border=\"1\" class=\"dataframe\">\n  <thead>\n    <tr style=\"text-align: right;\">\n      <th></th>\n      <th>title</th>\n      <th>overall_price</th>\n      <th>area</th>\n      <th>number_of_rooms</th>\n      <th>floor</th>\n      <th>type_of_market</th>\n      <th>parking</th>\n      <th>elevator</th>\n      <th>year_of_creation</th>\n      <th>internet</th>\n      <th>type_of_building</th>\n      <th>basement</th>\n      <th>price_for_m2_in_PLN</th>\n      <th>balcony</th>\n      <th>garden</th>\n      <th>terrace</th>\n      <th>street</th>\n      <th>district</th>\n      <th>city</th>\n    </tr>\n  </thead>\n  <tbody>\n    <tr>\n      <th>0</th>\n      <td>4-pokojowe mieszkanie 65m2 + ogródek Bezpośrednio</td>\n      <td>819900.00</td>\n      <td>65.57</td>\n      <td>4</td>\n      <td>0</td>\n      <td>NaN</td>\n      <td>1</td>\n      <td>0</td>\n      <td>NaN</td>\n      <td>NaN</td>\n      <td>NaN</td>\n      <td>NaN</td>\n      <td>12504.19</td>\n      <td>0</td>\n      <td>1</td>\n      <td>1</td>\n      <td>ul. Zakole</td>\n      <td>Stogi</td>\n      <td>Gdańsk</td>\n    </tr>\n    <tr>\n      <th>1</th>\n      <td>1 pokojowe + balkon INWESTYCYJNIe na DNI OTWARTE</td>\n      <td>412024.00</td>\n      <td>26.01</td>\n      <td>1</td>\n      <td>2</td>\n      <td>primary</td>\n      <td>1</td>\n      <td>1</td>\n      <td>NaN</td>\n      <td>0.0</td>\n      <td>Mieszkanie</td>\n      <td>0.0</td>\n      <td>15840.98</td>\n      <td>1</td>\n      <td>0</td>\n      <td>0</td>\n      <td>NaN</td>\n      <td>Śródmieście</td>\n      <td>Gdańsk</td>\n    </tr>\n    <tr>\n      <th>2</th>\n      <td>Kompleks 5 apartamentów. Wysoki standard</td>\n      <td>2990000.00</td>\n      <td>150.00</td>\n      <td>8</td>\n      <td>4</td>\n      <td>secondary</td>\n      <td>1</td>\n      <td>0</td>\n      <td>1929.0</td>\n      <td>1.0</td>\n      <td>Mieszkanie</td>\n      <td>1.0</td>\n      <td>19933.33</td>\n      <td>1</td>\n      <td>0</td>\n      <td>0</td>\n      <td>ul. Wójta Radtkego</td>\n      <td>Śródmieście</td>\n      <td>Gdynia</td>\n    </tr>\n    <tr>\n      <th>3</th>\n      <td>Apartament inwestycyjny, ostatnie piętro, k/Sk...</td>\n      <td>416907.00</td>\n      <td>24.89</td>\n      <td>1</td>\n      <td>5</td>\n      <td>secondary</td>\n      <td>0</td>\n      <td>1</td>\n      <td>2022.0</td>\n      <td>1.0</td>\n      <td>Mieszkanie</td>\n      <td>0.0</td>\n      <td>16749.98</td>\n      <td>0</td>\n      <td>0</td>\n      <td>0</td>\n      <td>ul. Śląska 12</td>\n      <td>Przymorze Małe</td>\n      <td>Gdańsk</td>\n    </tr>\n    <tr>\n      <th>4</th>\n      <td>Apartament inwestycyjny Śląska 12 z umową najmu!</td>\n      <td>475820.00</td>\n      <td>25.72</td>\n      <td>1</td>\n      <td>0</td>\n      <td>secondary</td>\n      <td>0</td>\n      <td>1</td>\n      <td>2022.0</td>\n      <td>1.0</td>\n      <td>Mieszkanie</td>\n      <td>0.0</td>\n      <td>18500.00</td>\n      <td>0</td>\n      <td>0</td>\n      <td>0</td>\n      <td>ul. Śląska 12</td>\n      <td>Przymorze Małe</td>\n      <td>Gdańsk</td>\n    </tr>\n    <tr>\n      <th>...</th>\n      <td>...</td>\n      <td>...</td>\n      <td>...</td>\n      <td>...</td>\n      <td>...</td>\n      <td>...</td>\n      <td>...</td>\n      <td>...</td>\n      <td>...</td>\n      <td>...</td>\n      <td>...</td>\n      <td>...</td>\n      <td>...</td>\n      <td>...</td>\n      <td>...</td>\n      <td>...</td>\n      <td>...</td>\n      <td>...</td>\n      <td>...</td>\n    </tr>\n    <tr>\n      <th>15188</th>\n      <td>INPRO S.A. - OPTIMA - mieszkanie 3-pok. 56.33 m2</td>\n      <td>584029.44</td>\n      <td>56.33</td>\n      <td>3</td>\n      <td>2.0</td>\n      <td>primary</td>\n      <td>1</td>\n      <td>0</td>\n      <td>2024.0</td>\n      <td>1.0</td>\n      <td>Mieszkanie</td>\n      <td>1.0</td>\n      <td>10368.00</td>\n      <td>1</td>\n      <td>0</td>\n      <td>0</td>\n      <td>Serdecznikowa</td>\n      <td>Dąbrowa</td>\n      <td>gdynia</td>\n    </tr>\n    <tr>\n      <th>15189</th>\n      <td>INPRO S.A. - OPTIMA - mieszkanie 3-pok. 61.44 m2</td>\n      <td>637009.92</td>\n      <td>61.44</td>\n      <td>3</td>\n      <td>3.0</td>\n      <td>primary</td>\n      <td>1</td>\n      <td>0</td>\n      <td>2024.0</td>\n      <td>1.0</td>\n      <td>Mieszkanie</td>\n      <td>1.0</td>\n      <td>10368.00</td>\n      <td>1</td>\n      <td>0</td>\n      <td>0</td>\n      <td>Serdecznikowa</td>\n      <td>Dąbrowa</td>\n      <td>gdynia</td>\n    </tr>\n    <tr>\n      <th>15190</th>\n      <td>INPRO S.A. - OPTIMA - mieszkanie 2-pok. 47.22 ...</td>\n      <td>497448.00</td>\n      <td>47.00</td>\n      <td>2</td>\n      <td>1.0</td>\n      <td>primary</td>\n      <td>1</td>\n      <td>0</td>\n      <td>2025.0</td>\n      <td>1.0</td>\n      <td>Mieszkanie</td>\n      <td>1.0</td>\n      <td>10584.00</td>\n      <td>1</td>\n      <td>0</td>\n      <td>0</td>\n      <td>Serdecznikowa</td>\n      <td>Dąbrowa</td>\n      <td>gdynia</td>\n    </tr>\n    <tr>\n      <th>15191</th>\n      <td>INPRO S.A. - OPTIMA - mieszkanie 2-pok. 46.30 ...</td>\n      <td>490039.20</td>\n      <td>46.30</td>\n      <td>2</td>\n      <td>1.0</td>\n      <td>primary</td>\n      <td>1</td>\n      <td>0</td>\n      <td>2025.0</td>\n      <td>1.0</td>\n      <td>Mieszkanie</td>\n      <td>1.0</td>\n      <td>10584.00</td>\n      <td>1</td>\n      <td>0</td>\n      <td>0</td>\n      <td>Serdecznikowa</td>\n      <td>Dąbrowa</td>\n      <td>gdynia</td>\n    </tr>\n    <tr>\n      <th>15192</th>\n      <td>INPRO S.A. - OPTIMA - mieszkanie 3-pok. 65.17 ...</td>\n      <td>668644.20</td>\n      <td>65.17</td>\n      <td>3</td>\n      <td>1.0</td>\n      <td>primary</td>\n      <td>1</td>\n      <td>0</td>\n      <td>2025.0</td>\n      <td>1.0</td>\n      <td>Mieszkanie</td>\n      <td>1.0</td>\n      <td>10260.00</td>\n      <td>1</td>\n      <td>0</td>\n      <td>0</td>\n      <td>Serdecznikowa</td>\n      <td>Dąbrowa</td>\n      <td>gdynia</td>\n    </tr>\n  </tbody>\n</table>\n<p>15193 rows × 19 columns</p>\n</div>"
     },
     "execution_count": 104,
     "metadata": {},
     "output_type": "execute_result"
    }
   ],
   "source": [
    "data = pd.read_csv('dataset.csv', sep='|')\n",
    "data"
   ],
   "metadata": {
    "collapsed": false,
    "ExecuteTime": {
     "end_time": "2024-06-25T17:11:25.781857700Z",
     "start_time": "2024-06-25T17:11:25.541864Z"
    }
   },
   "id": "fd2a810f566db32a"
  },
  {
   "cell_type": "code",
   "execution_count": 104,
   "outputs": [],
   "source": [],
   "metadata": {
    "collapsed": false,
    "ExecuteTime": {
     "end_time": "2024-06-25T17:11:25.876864100Z",
     "start_time": "2024-06-25T17:11:25.630860500Z"
    }
   },
   "id": "bde9b452cf77ee5d"
  }
 ],
 "metadata": {
  "kernelspec": {
   "display_name": "Python 3",
   "language": "python",
   "name": "python3"
  },
  "language_info": {
   "codemirror_mode": {
    "name": "ipython",
    "version": 2
   },
   "file_extension": ".py",
   "mimetype": "text/x-python",
   "name": "python",
   "nbconvert_exporter": "python",
   "pygments_lexer": "ipython2",
   "version": "2.7.6"
  }
 },
 "nbformat": 4,
 "nbformat_minor": 5
}
