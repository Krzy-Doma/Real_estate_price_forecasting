{
 "cells": [
  {
   "cell_type": "code",
   "execution_count": 24,
   "id": "initial_id",
   "metadata": {
    "collapsed": true,
    "ExecuteTime": {
     "end_time": "2024-06-24T12:23:17.773222900Z",
     "start_time": "2024-06-24T12:23:17.754221200Z"
    }
   },
   "outputs": [],
   "source": [
    "import requests\n",
    "from bs4 import BeautifulSoup\n",
    "import seaborn as sns\n",
    "import sklearn"
   ]
  },
  {
   "cell_type": "code",
   "execution_count": 25,
   "outputs": [],
   "source": [
    "API_KEY = '727a54b09b424a679c79bba450f60661'"
   ],
   "metadata": {
    "collapsed": false,
    "ExecuteTime": {
     "end_time": "2024-06-24T12:23:18.482933800Z",
     "start_time": "2024-06-24T12:23:18.459161700Z"
    }
   },
   "id": "2da4819f27d62b28"
  },
  {
   "cell_type": "code",
   "execution_count": 26,
   "outputs": [],
   "source": [
    "# Taking data from the main page and returning Sets of values for each attribute\n",
    "def take_data_from_main(response):\n",
    "  soup = BeautifulSoup(response.content, 'html.parser')\n",
    "  title_list = soup.find_all(class_ ='list__item__content__title__name link')\n",
    "  district_list = soup.select('p[class=\"list__item__content__subtitle\"]')\n",
    "  area_list = soup.select('li[class = \"list__item__details__icons__element details--icons--element--powierzchnia\"] p[class = \"list__item__details__icons__element__desc\"]')\n",
    "  number_of_rooms_list = soup.select('li[class = \"list__item__details__icons__element details--icons--element--l_pokoi\"] p[class = \"list__item__details__icons__element__desc\"]')\n",
    "  year_of_creation_list = soup.select('li[class = \"list__item__details__icons__element details--icons--element--rok_budowy\"] p[class = \"list__item__details__icons__element__desc\"]')\n",
    "  price_list = soup.select('p[class = \"list__item__details__info details--info--price\"]')\n",
    "  href_list = soup.select('a[class=\"list__item__content__title__name link\"]')\n",
    "  return title_list, district_list, area_list, number_of_rooms_list, year_of_creation_list, price_list, href_list\n",
    "\n",
    "# Diving into the page of an individual advertisement and returning Sets of values for each attribute which was not shown on a main page\n",
    "def take_data_from_individual(link):\n",
    "  soup_for_specific_advertisement = BeautifulSoup(requests.get(link).content, 'html.parser')\n",
    "  type_of_building = soup_for_specific_advertisement.select('div[class=\"xogField xogField--rodzaj_nieruchomosci\"] span[class=\"xogField__value\"]')[0].get_text().strip()\n",
    "  additional_list = soup_for_specific_advertisement.select('li[class=\"oglFieldList__item\"] b')\n",
    "\n",
    "  # Adding a try clause because not every offer has an information of the floor (Not given or an offer is a house)\n",
    "  try:\n",
    "    floor = soup_for_specific_advertisement.select('a[class=\"xogField xogField--pietro xogField--withIcon\"] span[class=\"xogField__value xogField__value--big\"]')[0].get_text().strip()\n",
    "  except:\n",
    "    floor = \"nan\"\n",
    "  return type_of_building, additional_list, floor\n",
    "\n",
    "\n",
    "def get_coordinates(address):\n",
    "    API_KEY = '727a54b09b424a679c79bba450f60661'\n",
    "    \n",
    "    url = f\"https://api.geoapify.com/v1/geocode/search?text={address}&limit=1&apiKey={API_KEY}\"\n",
    "    response = requests.get(url)\n",
    "    if response.status_code == 200:\n",
    "        # Parse the JSON data from the response\n",
    "        data = response.json()\n",
    "    \n",
    "        # Extract the first result from the data\n",
    "        result = data[\"features\"][0]\n",
    "    \n",
    "        # Extract the latitude and longitude of the result\n",
    "        latitude = result[\"geometry\"][\"coordinates\"][1]\n",
    "        longitude = result[\"geometry\"][\"coordinates\"][0]\n",
    "    \n",
    "        return latitude, longitude\n",
    "    else:\n",
    "        print(f\"Request failed with status code {response.status_code}\")\n",
    "        return None, None"
   ],
   "metadata": {
    "collapsed": false,
    "ExecuteTime": {
     "end_time": "2024-06-24T12:23:19.219105Z",
     "start_time": "2024-06-24T12:23:19.198098800Z"
    }
   },
   "id": "82e432aaadae5f14"
  },
  {
   "cell_type": "code",
   "execution_count": 27,
   "outputs": [
    {
     "name": "stdout",
     "output_type": "stream",
     "text": [
      "Leszczynowy Park - mieszkanie 6.A.13 - Park na terenie osiedla!|54.3380783|18.558418226277837|41.9|2|2025|11474|Mieszkanie|1|1|1|0|1|1|0|1|0|secondary\n",
      "LUNA Gdańsk Galaktyczna mieszkanie 2-pokojowe z balkonem|54.42547845|18.4859151|37.95|2|2025|10883|Mieszkanie|0|1|0|1|1|1|0|0|0|secondary\n",
      "Mieszkanie 55, Budynek \"I\", Nowe Kowale Plus|54.3077067|18.5639208|45.58|3|2025|10150|Mieszkanie|1|1|1|1|1|4|0|1|0|secondary\n",
      "Mieszkanie A4 Wieżycka Folwark 52.79m2|54.322859750000006|18.5796692932317|52.79|3|2025|10344|Mieszkanie|0|1|0|0|1|1|1|0|0|secondary\n",
      "Przedsprzedaż - Gdańsk, ul. Gostyńska G2|54.347016|18.4972786|134.7|4|2026|6229|Dom bliźniak|0|0|0|0|0|nan|0|0|0|secondary\n",
      "Quercus   B2.37|54.3171537|18.590914|43.17|2|2025|11229|Mieszkanie|0|0|0|0|1|3|0|0|0|secondary\n",
      "Dom w zabudowie bliźniaczej stan deweloperski - Gdańsk|54.360403649999995|18.45505705712491|152.5|4|2024|8518|Dom bliźniak|0|0|0|0|0|nan|0|0|0|secondary\n",
      "Nowe Południe - mieszkanie 4.A.25 - Nowość w ofercie!|54.3095959|18.6297207|36.27|2|2025|11718|Mieszkanie|1|1|1|0|1|3|0|1|0|secondary\n",
      "Nowe Południe - mieszkanie 3.A.09 - Najmłodsza dzielnica Gdańska!|54.3095959|18.6297207|63.81|3|2025|9387|Mieszkanie|1|1|1|0|1|1|0|1|0|secondary\n",
      "Nowe Południe - mieszkanie 3.A.05 - Najmłodsza dzielnica Gdańska!|54.3095959|18.6297207|66.99|3|2025|9330|Mieszkanie|1|1|1|0|1|1|0|1|0|secondary\n",
      "Polana Kampinoska - mieszkanie D.1.9 - Siłownia wewnętrzna i zewnętrzna na osiedlu.|54.31771725|18.598374406344256|42.41|2|2025|12285|Mieszkanie|1|1|1|0|1|2|0|1|0|secondary\n",
      "Polana Kampinoska - mieszkanie C.1.7 - Siłownia wewnętrzna i zewnętrzna na osiedlu.|54.31771725|18.598374406344256|54.88|3|2025|10900|Mieszkanie|1|1|1|0|1|1|0|1|0|secondary\n",
      "Polana Kampinoska - mieszkanie B.1.4 - Kameralne osiedle dla aktywnych!|54.31771725|18.598374406344256|78.8|4|2025|11000|Mieszkanie|1|1|1|0|1|1|0|1|0|secondary\n",
      "Polana Kampinoska - mieszkanie D.1.7 - Siłownia wewnętrzna i zewnętrzna na osiedlu.|54.31771725|18.598374406344256|59.|3|2025|11000|Mieszkanie|1|1|1|0|1|1|0|1|0|secondary\n",
      "Urzeka - mieszkanie 5.A.04 - Doskonała lokalizacja do życia!|54.3235259|18.556442|35.08|2|2025|12087|Mieszkanie|1|1|1|0|1|Parter|0|1|1|secondary\n",
      "Urzeka - mieszkanie 4.A.33 - Boisko, małpi gaj, place zabaw, molo nad potokiem!|54.3235259|18.556442|43.|2|2025|10764|Mieszkanie|1|1|1|0|1|2|0|1|0|secondary\n",
      "Urzeka - mieszkanie 5.A.03 - Doskonała lokalizacja do życia!|54.3235259|18.556442|54.61|3|2025|10071|Mieszkanie|1|1|1|0|1|Parter|0|1|1|secondary\n",
      "Urzeka - mieszkanie 4.A.09 - Boisko, małpi gaj, place zabaw, molo nad potokiem!|54.3235259|18.556442|63.06|3|2025|9594|Mieszkanie|1|1|1|0|1|Parter|0|1|1|secondary\n",
      "Leszczynowy Park - mieszkanie 6.A.36 - Park na terenie osiedla!|54.3380783|18.558418226277837|39.5|2|2025|12399|Mieszkanie|1|1|1|0|1|3|0|1|0|secondary\n",
      "Leszczynowy Park - mieszkanie 6.A.11 - Park na terenie osiedla!|54.3380783|18.558418226277837|57.45|3|2025|10400|Mieszkanie|1|1|1|0|1|1|0|1|0|secondary\n",
      "Apartament A1 z dużym ogródkiem 900 m od plaży|54.3438979|18.8283596|54.21|2|2024|12911|Mieszkanie|0|0|0|0|0|Parter|0|0|0|secondary\n",
      "Gotowy dom - 5B - promocja|54.37354|18.506331|113|4|2023|8487|Dom szeregowy|1|1|1|1|0|nan|1|0|1|secondary\n",
      "Fauna   mieszkanie 4-pokojowe   88,61 m2|51.698189|20.717536|88.61|4|2025|8893|Mieszkanie|0|1|1|1|0|3|0|0|0|secondary\n",
      "Quercus   B2.42|54.3171537|18.590914|31.84|1|2025|1276|Mieszkanie|0|0|0|0|1|4|0|0|0|secondary\n",
      "Javorova   22B/M5|54.33790675|18.56019067011311|56.94|3|2023|11819|Mieszkanie|0|1|0|0|1|Parter|0|0|0|secondary\n",
      "Aura Kaszub, Apartament wakacyjny na Kaszubach, Basen, Sauna, Jacuzzi|54.372781|18.628385|70|3|2023|7557|Dom bliźniak|0|0|1|1|0|nan|1|0|1|secondary\n",
      "INPRO S.A. - OPTIMA -  Gotowy do odbioru dom 4-pok. 110.18 m2 każdy dom w ramach osiedla optima zadanie vi to niezależna nieruchomość wraz z własną działką z wyodrębnioną księgą wieczystą.|54.33643045|18.539236899935283|110.18|4|2024|8975|Dom wolnostojący|1|0|1|1|0|nan|0|1|0|secondary\n",
      "INPRO S.A. - PROMOCJA - RYTM -  Gotowe do odbioru mieszkanie 3-pok. 67.09 m2 garderoba, letnia wyprzedaż|54.372781|18.628385|67.09|3|2024|11340|Mieszkanie|1|1|1|1|0|2|0|1|0|secondary\n",
      "INPRO S.A. - OPTIMA - mieszkanie 3-pok. 67.89 m2 ogródek, łazienka i oddzielna toaleta|54.33643045|18.539236899935283|67.89|3|2024|10044|Mieszkanie|1|0|1|1|0|nan|0|1|0|secondary\n",
      "INPRO S.A. - Koncept - mieszkanie 3-pok. 60.84 m2|54.372781|18.628385|60.84|3|2024|11016|Mieszkanie|1|0|1|1|0|2|0|1|0|secondary\n"
     ]
    }
   ],
   "source": [
    "response = requests.get('https://ogloszenia.trojmiasto.pl/nieruchomosci-rynek-pierwotny/e1i,45,f1i,1.html')\n",
    "soup = BeautifulSoup(response.text, 'html.parser')\n",
    "data = []\n",
    " # Using previously defined function for taking data from a main page\n",
    "title_list, district_list, area_list, number_of_rooms_list, year_of_creation_list, price_list, href_list = take_data_from_main(response)\n",
    " # Iterating through lists to create separate records\n",
    "for element in range(len(title_list)):\n",
    "    try:\n",
    "      price = price_list[element].get_text().replace(\" \", \"\").rstrip(\"zł/m2\")\n",
    "    except:\n",
    "      continue\n",
    "    tytul = title_list[element].get_text().strip().replace(\"|\", \" \")\n",
    "    district = district_list[element].get_text().strip()\n",
    "    latitude, longitude = get_coordinates(district + \" \" + str(10))\n",
    "    powierzchnia = area_list[element].get_text().strip().rstrip(\" m2\")\n",
    "    number_of_rooms = number_of_rooms_list[element].get_text().strip()\n",
    "    year_of_creation = year_of_creation_list[element].get_text().strip()\n",
    "    price = price_list[element].get_text().replace(\" \", \"\").rstrip(\"zł/m2\")\n",
    "    href = href_list[element]\n",
    "    link = href['href']\n",
    "    type_of_building, additional_list, floor = take_data_from_individual(link)\n",
    "\n",
    "    #Converting a Set of values into a list of strings\n",
    "    additional_list_str = []\n",
    "    find_string = lambda x : 1 if x.lower() in additional_list_str else 0\n",
    "    for item in range(len(additional_list)):\n",
    "      additional_list_str.append(additional_list[item].get_text().strip().lower())\n",
    "\n",
    "    # Using lambda function to check if an asset for a buyer is in the offer\n",
    "    garage = find_string('Garaż')\n",
    "    balcony = find_string('Balkon')\n",
    "    internet = find_string('Internet')\n",
    "    parking = find_string('Miejsce Parkingowe')\n",
    "    elevator = find_string('Winda')\n",
    "    terrace = find_string('Taras')\n",
    "    basement = find_string('Piwnica')\n",
    "    garden = find_string('Ogródek')\n",
    "    #print(\"Garage: \" + str(garage) + \" Balcony: \" + str(balcony) + \" Internet: \" + str(internet) + \" Parking: \" + str(parking) + \" Elevator: \" + str(elevator) + \" Terrace: \" + str(terrace) + \" Basement: \" + str(basement))\n",
    "\n",
    "    # Creating a record for a specific offer and adding it to a list\n",
    "    record = f\"{tytul}|{district}|{latitude}|{longitude}|{powierzchnia}|{number_of_rooms}|{year_of_creation}|{price}|{type_of_building}|{garage}|{balcony}|{internet}|{parking}|{elevator}|{floor}|{terrace}|{basement}|{garden}|secondary\"\n",
    "    data.append(record)\n",
    "    print(record)"
   ],
   "metadata": {
    "collapsed": false,
    "ExecuteTime": {
     "end_time": "2024-06-24T12:23:56.887321100Z",
     "start_time": "2024-06-24T12:23:20.328119200Z"
    }
   },
   "id": "7bb9b510d30e7499"
  },
  {
   "cell_type": "code",
   "execution_count": 22,
   "outputs": [
    {
     "name": "stdout",
     "output_type": "stream",
     "text": [
      "Latitude: 54.3171537, Longitude: 18.590914\n"
     ]
    }
   ],
   "source": [
    "get_coordinates('Gdańsk Łostowice Wielkopolska 10')"
   ],
   "metadata": {
    "collapsed": false,
    "ExecuteTime": {
     "end_time": "2024-06-24T12:13:14.915747300Z",
     "start_time": "2024-06-24T12:13:14.314944Z"
    }
   },
   "id": "611e61dc76e1b441"
  },
  {
   "cell_type": "code",
   "execution_count": 8,
   "outputs": [
    {
     "name": "stdout",
     "output_type": "stream",
     "text": [
      "Potęgowska, Szadółki, Jasień, Gdańsk, województwo pomorskie, 80-175, Polska\n",
      "Latitude =  54.3321107 \n",
      "\n",
      "Longitude =  18.5521622\n"
     ]
    }
   ],
   "source": [
    "# importing geopy library and Nominatim class\n",
    "from geopy.geocoders import Nominatim\n",
    "\n",
    "# calling the Nominatim tool and create Nominatim class\n",
    "loc = Nominatim(user_agent=\"Geopy Library\")\n",
    "\n",
    "# entering the location name\n",
    "getLoc = loc.geocode(\"jasień potęgowska\")\n",
    "\n",
    "# printing address\n",
    "print(getLoc.address)\n",
    "\n",
    "# printing latitude and longitude\n",
    "print(\"Latitude = \", getLoc.latitude, \"\\n\")\n",
    "print(\"Longitude = \", getLoc.longitude)"
   ],
   "metadata": {
    "collapsed": false,
    "ExecuteTime": {
     "end_time": "2024-06-28T13:40:24.800227500Z",
     "start_time": "2024-06-28T13:40:24.657105500Z"
    }
   },
   "id": "56094574adcbdade"
  },
  {
   "cell_type": "code",
   "execution_count": null,
   "outputs": [],
   "source": [],
   "metadata": {
    "collapsed": false
   },
   "id": "d9d97ff1e5693ea3"
  }
 ],
 "metadata": {
  "kernelspec": {
   "display_name": "Python 3",
   "language": "python",
   "name": "python3"
  },
  "language_info": {
   "codemirror_mode": {
    "name": "ipython",
    "version": 2
   },
   "file_extension": ".py",
   "mimetype": "text/x-python",
   "name": "python",
   "nbconvert_exporter": "python",
   "pygments_lexer": "ipython2",
   "version": "2.7.6"
  }
 },
 "nbformat": 4,
 "nbformat_minor": 5
}
