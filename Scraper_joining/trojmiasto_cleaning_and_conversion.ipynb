{
 "cells": [
  {
   "cell_type": "markdown",
   "source": [
    "# Conversion of the data from trojmiasto.pl to the same format as the data from otodom.pl and joining them"
   ],
   "metadata": {
    "collapsed": false
   },
   "id": "11a827ac9b1d1f78"
  },
  {
   "cell_type": "markdown",
   "source": [
    "### Importing necessary libraries\n"
   ],
   "metadata": {
    "collapsed": false
   },
   "id": "51b380716b1cafad"
  },
  {
   "cell_type": "code",
   "execution_count": 26,
   "outputs": [],
   "source": [
    "import pandas as pd\n",
    "import numpy as np"
   ],
   "metadata": {
    "collapsed": false,
    "ExecuteTime": {
     "end_time": "2024-06-25T16:06:05.345014700Z",
     "start_time": "2024-06-25T16:06:05.262024100Z"
    }
   },
   "id": "3765740a3142980b"
  },
  {
   "cell_type": "code",
   "execution_count": 27,
   "id": "initial_id",
   "metadata": {
    "collapsed": true,
    "ExecuteTime": {
     "end_time": "2024-06-25T16:06:05.722020200Z",
     "start_time": "2024-06-25T16:06:05.276022700Z"
    }
   },
   "outputs": [],
   "source": [
    "trojmiasto_data = pd.read_csv('ogloszenia.csv', sep='|')"
   ]
  },
  {
   "cell_type": "markdown",
   "source": [
    "## Displaying the data"
   ],
   "metadata": {
    "collapsed": false
   },
   "id": "317a48f0d56ca4d6"
  },
  {
   "cell_type": "code",
   "execution_count": 28,
   "outputs": [
    {
     "data": {
      "text/plain": "      Unnamed: 0                                              title  \\\n0              0         3pok 50m2 taras 10m2 blisko morza IIQ24 SE   \n1              1        Wysoki standard   4 pok   Oliwa   kameralne   \n2              2            Piękne 3 pokoje po remoncie, przy plaży   \n3              3    Widok na Jar Wilanowski - blok przy samym Parku   \n4              4         Energooszczędne Mieszkanie 75m2 - 4 pokoje   \n...          ...                                                ...   \n8002        8002   INPRO S.A. - OPTIMA - mieszkanie 3-pok. 56.33 m2   \n8003        8003   INPRO S.A. - OPTIMA - mieszkanie 3-pok. 61.44 m2   \n8004        8004  INPRO S.A. - OPTIMA - mieszkanie 2-pok. 47.22 ...   \n8005        8005  INPRO S.A. - OPTIMA - mieszkanie 2-pok. 46.30 ...   \n8006        8006  INPRO S.A. - OPTIMA - mieszkanie 3-pok. 65.17 ...   \n\n                                       district   area  number_of_rooms  \\\n0                                Gdańsk Letnica  59.00                3   \n1                          Gdańsk Oliwa, Opacka  99.00                4   \n2             Gdańsk Jelitkowo, ul. Tysiąclecia  41.07                3   \n3     Gdańsk Chełm, Prof. Romualda Cebertowicza  63.10                3   \n4                                        Gdańsk  75.00                4   \n...                                         ...    ...              ...   \n8002              Gdynia Dąbrowa, Serdecznikowa  56.33                3   \n8003              Gdynia Dąbrowa, Serdecznikowa  61.44                3   \n8004              Gdynia Dąbrowa, Serdecznikowa  47.00                2   \n8005              Gdynia Dąbrowa, Serdecznikowa  46.30                2   \n8006              Gdynia Dąbrowa, Serdecznikowa  65.17                3   \n\n      year_of_creation  price_for_m2_in_PLN type_of_building  garage  balcony  \\\n0                 2024              12831.0       Mieszkanie       1        1   \n1                 2020               2424.0       Mieszkanie       0        1   \n2                 1970              19455.0       Mieszkanie       0        0   \n3                 1989               9984.0       Mieszkanie       0        1   \n4                 2024               5187.0       Mieszkanie       0        0   \n...                ...                  ...              ...     ...      ...   \n8002              2024              10368.0       Mieszkanie       1        1   \n8003              2024              10368.0       Mieszkanie       1        1   \n8004              2025              10584.0       Mieszkanie       1        1   \n8005              2025              10584.0       Mieszkanie       1        1   \n8006              2025              10260.0       Mieszkanie       1        1   \n\n      internet  parking  elevator   floor  terrace  basement  garden  \\\n0            0        0         1       1        1         1       0   \n1            0        1         1       3        0         0       0   \n2            0        0         0       4        0         0       0   \n3            1        0         0       4        0         1       0   \n4            0        0         0  Parter        0         0       0   \n...        ...      ...       ...     ...      ...       ...     ...   \n8002         1        1         0       2        0         1       0   \n8003         1        1         0       3        0         1       0   \n8004         1        1         0       1        0         1       0   \n8005         1        1         0       1        0         1       0   \n8006         1        1         0       1        0         1       0   \n\n     type_of_market  \n0         secondary  \n1         secondary  \n2         secondary  \n3         secondary  \n4         secondary  \n...             ...  \n8002        primary  \n8003        primary  \n8004        primary  \n8005        primary  \n8006        primary  \n\n[8007 rows x 18 columns]",
      "text/html": "<div>\n<style scoped>\n    .dataframe tbody tr th:only-of-type {\n        vertical-align: middle;\n    }\n\n    .dataframe tbody tr th {\n        vertical-align: top;\n    }\n\n    .dataframe thead th {\n        text-align: right;\n    }\n</style>\n<table border=\"1\" class=\"dataframe\">\n  <thead>\n    <tr style=\"text-align: right;\">\n      <th></th>\n      <th>Unnamed: 0</th>\n      <th>title</th>\n      <th>district</th>\n      <th>area</th>\n      <th>number_of_rooms</th>\n      <th>year_of_creation</th>\n      <th>price_for_m2_in_PLN</th>\n      <th>type_of_building</th>\n      <th>garage</th>\n      <th>balcony</th>\n      <th>internet</th>\n      <th>parking</th>\n      <th>elevator</th>\n      <th>floor</th>\n      <th>terrace</th>\n      <th>basement</th>\n      <th>garden</th>\n      <th>type_of_market</th>\n    </tr>\n  </thead>\n  <tbody>\n    <tr>\n      <th>0</th>\n      <td>0</td>\n      <td>3pok 50m2 taras 10m2 blisko morza IIQ24 SE</td>\n      <td>Gdańsk Letnica</td>\n      <td>59.00</td>\n      <td>3</td>\n      <td>2024</td>\n      <td>12831.0</td>\n      <td>Mieszkanie</td>\n      <td>1</td>\n      <td>1</td>\n      <td>0</td>\n      <td>0</td>\n      <td>1</td>\n      <td>1</td>\n      <td>1</td>\n      <td>1</td>\n      <td>0</td>\n      <td>secondary</td>\n    </tr>\n    <tr>\n      <th>1</th>\n      <td>1</td>\n      <td>Wysoki standard   4 pok   Oliwa   kameralne</td>\n      <td>Gdańsk Oliwa, Opacka</td>\n      <td>99.00</td>\n      <td>4</td>\n      <td>2020</td>\n      <td>2424.0</td>\n      <td>Mieszkanie</td>\n      <td>0</td>\n      <td>1</td>\n      <td>0</td>\n      <td>1</td>\n      <td>1</td>\n      <td>3</td>\n      <td>0</td>\n      <td>0</td>\n      <td>0</td>\n      <td>secondary</td>\n    </tr>\n    <tr>\n      <th>2</th>\n      <td>2</td>\n      <td>Piękne 3 pokoje po remoncie, przy plaży</td>\n      <td>Gdańsk Jelitkowo, ul. Tysiąclecia</td>\n      <td>41.07</td>\n      <td>3</td>\n      <td>1970</td>\n      <td>19455.0</td>\n      <td>Mieszkanie</td>\n      <td>0</td>\n      <td>0</td>\n      <td>0</td>\n      <td>0</td>\n      <td>0</td>\n      <td>4</td>\n      <td>0</td>\n      <td>0</td>\n      <td>0</td>\n      <td>secondary</td>\n    </tr>\n    <tr>\n      <th>3</th>\n      <td>3</td>\n      <td>Widok na Jar Wilanowski - blok przy samym Parku</td>\n      <td>Gdańsk Chełm, Prof. Romualda Cebertowicza</td>\n      <td>63.10</td>\n      <td>3</td>\n      <td>1989</td>\n      <td>9984.0</td>\n      <td>Mieszkanie</td>\n      <td>0</td>\n      <td>1</td>\n      <td>1</td>\n      <td>0</td>\n      <td>0</td>\n      <td>4</td>\n      <td>0</td>\n      <td>1</td>\n      <td>0</td>\n      <td>secondary</td>\n    </tr>\n    <tr>\n      <th>4</th>\n      <td>4</td>\n      <td>Energooszczędne Mieszkanie 75m2 - 4 pokoje</td>\n      <td>Gdańsk</td>\n      <td>75.00</td>\n      <td>4</td>\n      <td>2024</td>\n      <td>5187.0</td>\n      <td>Mieszkanie</td>\n      <td>0</td>\n      <td>0</td>\n      <td>0</td>\n      <td>0</td>\n      <td>0</td>\n      <td>Parter</td>\n      <td>0</td>\n      <td>0</td>\n      <td>0</td>\n      <td>secondary</td>\n    </tr>\n    <tr>\n      <th>...</th>\n      <td>...</td>\n      <td>...</td>\n      <td>...</td>\n      <td>...</td>\n      <td>...</td>\n      <td>...</td>\n      <td>...</td>\n      <td>...</td>\n      <td>...</td>\n      <td>...</td>\n      <td>...</td>\n      <td>...</td>\n      <td>...</td>\n      <td>...</td>\n      <td>...</td>\n      <td>...</td>\n      <td>...</td>\n      <td>...</td>\n    </tr>\n    <tr>\n      <th>8002</th>\n      <td>8002</td>\n      <td>INPRO S.A. - OPTIMA - mieszkanie 3-pok. 56.33 m2</td>\n      <td>Gdynia Dąbrowa, Serdecznikowa</td>\n      <td>56.33</td>\n      <td>3</td>\n      <td>2024</td>\n      <td>10368.0</td>\n      <td>Mieszkanie</td>\n      <td>1</td>\n      <td>1</td>\n      <td>1</td>\n      <td>1</td>\n      <td>0</td>\n      <td>2</td>\n      <td>0</td>\n      <td>1</td>\n      <td>0</td>\n      <td>primary</td>\n    </tr>\n    <tr>\n      <th>8003</th>\n      <td>8003</td>\n      <td>INPRO S.A. - OPTIMA - mieszkanie 3-pok. 61.44 m2</td>\n      <td>Gdynia Dąbrowa, Serdecznikowa</td>\n      <td>61.44</td>\n      <td>3</td>\n      <td>2024</td>\n      <td>10368.0</td>\n      <td>Mieszkanie</td>\n      <td>1</td>\n      <td>1</td>\n      <td>1</td>\n      <td>1</td>\n      <td>0</td>\n      <td>3</td>\n      <td>0</td>\n      <td>1</td>\n      <td>0</td>\n      <td>primary</td>\n    </tr>\n    <tr>\n      <th>8004</th>\n      <td>8004</td>\n      <td>INPRO S.A. - OPTIMA - mieszkanie 2-pok. 47.22 ...</td>\n      <td>Gdynia Dąbrowa, Serdecznikowa</td>\n      <td>47.00</td>\n      <td>2</td>\n      <td>2025</td>\n      <td>10584.0</td>\n      <td>Mieszkanie</td>\n      <td>1</td>\n      <td>1</td>\n      <td>1</td>\n      <td>1</td>\n      <td>0</td>\n      <td>1</td>\n      <td>0</td>\n      <td>1</td>\n      <td>0</td>\n      <td>primary</td>\n    </tr>\n    <tr>\n      <th>8005</th>\n      <td>8005</td>\n      <td>INPRO S.A. - OPTIMA - mieszkanie 2-pok. 46.30 ...</td>\n      <td>Gdynia Dąbrowa, Serdecznikowa</td>\n      <td>46.30</td>\n      <td>2</td>\n      <td>2025</td>\n      <td>10584.0</td>\n      <td>Mieszkanie</td>\n      <td>1</td>\n      <td>1</td>\n      <td>1</td>\n      <td>1</td>\n      <td>0</td>\n      <td>1</td>\n      <td>0</td>\n      <td>1</td>\n      <td>0</td>\n      <td>primary</td>\n    </tr>\n    <tr>\n      <th>8006</th>\n      <td>8006</td>\n      <td>INPRO S.A. - OPTIMA - mieszkanie 3-pok. 65.17 ...</td>\n      <td>Gdynia Dąbrowa, Serdecznikowa</td>\n      <td>65.17</td>\n      <td>3</td>\n      <td>2025</td>\n      <td>10260.0</td>\n      <td>Mieszkanie</td>\n      <td>1</td>\n      <td>1</td>\n      <td>1</td>\n      <td>1</td>\n      <td>0</td>\n      <td>1</td>\n      <td>0</td>\n      <td>1</td>\n      <td>0</td>\n      <td>primary</td>\n    </tr>\n  </tbody>\n</table>\n<p>8007 rows × 18 columns</p>\n</div>"
     },
     "execution_count": 28,
     "metadata": {},
     "output_type": "execute_result"
    }
   ],
   "source": [
    "trojmiasto_data"
   ],
   "metadata": {
    "collapsed": false,
    "ExecuteTime": {
     "end_time": "2024-06-25T16:06:05.725019500Z",
     "start_time": "2024-06-25T16:06:05.322024900Z"
    }
   },
   "id": "a6a6889d2f5dff36"
  },
  {
   "cell_type": "markdown",
   "source": [
    "## Conversion of the data from trojmiasto.pl"
   ],
   "metadata": {
    "collapsed": false
   },
   "id": "f8056ef775e7389"
  },
  {
   "cell_type": "markdown",
   "source": [
    "### Cleaning the data"
   ],
   "metadata": {
    "collapsed": false
   },
   "id": "f76a4752a1c8deca"
  },
  {
   "cell_type": "code",
   "execution_count": 29,
   "outputs": [
    {
     "data": {
      "text/plain": "                                                  title  \\\n0            3pok 50m2 taras 10m2 blisko morza IIQ24 SE   \n1           Wysoki standard   4 pok   Oliwa   kameralne   \n2               Piękne 3 pokoje po remoncie, przy plaży   \n3       Widok na Jar Wilanowski - blok przy samym Parku   \n4            Energooszczędne Mieszkanie 75m2 - 4 pokoje   \n...                                                 ...   \n8002   INPRO S.A. - OPTIMA - mieszkanie 3-pok. 56.33 m2   \n8003   INPRO S.A. - OPTIMA - mieszkanie 3-pok. 61.44 m2   \n8004  INPRO S.A. - OPTIMA - mieszkanie 2-pok. 47.22 ...   \n8005  INPRO S.A. - OPTIMA - mieszkanie 2-pok. 46.30 ...   \n8006  INPRO S.A. - OPTIMA - mieszkanie 3-pok. 65.17 ...   \n\n                                       district   area  number_of_rooms  \\\n0                                Gdańsk Letnica  59.00                3   \n1                          Gdańsk Oliwa, Opacka  99.00                4   \n2             Gdańsk Jelitkowo, ul. Tysiąclecia  41.07                3   \n3     Gdańsk Chełm, Prof. Romualda Cebertowicza  63.10                3   \n4                                        Gdańsk  75.00                4   \n...                                         ...    ...              ...   \n8002              Gdynia Dąbrowa, Serdecznikowa  56.33                3   \n8003              Gdynia Dąbrowa, Serdecznikowa  61.44                3   \n8004              Gdynia Dąbrowa, Serdecznikowa  47.00                2   \n8005              Gdynia Dąbrowa, Serdecznikowa  46.30                2   \n8006              Gdynia Dąbrowa, Serdecznikowa  65.17                3   \n\n      year_of_creation  price_for_m2_in_PLN type_of_building  garage  balcony  \\\n0                 2024              12831.0       Mieszkanie       1        1   \n1                 2020               2424.0       Mieszkanie       0        1   \n2                 1970              19455.0       Mieszkanie       0        0   \n3                 1989               9984.0       Mieszkanie       0        1   \n4                 2024               5187.0       Mieszkanie       0        0   \n...                ...                  ...              ...     ...      ...   \n8002              2024              10368.0       Mieszkanie       1        1   \n8003              2024              10368.0       Mieszkanie       1        1   \n8004              2025              10584.0       Mieszkanie       1        1   \n8005              2025              10584.0       Mieszkanie       1        1   \n8006              2025              10260.0       Mieszkanie       1        1   \n\n      internet  parking  elevator   floor  terrace  basement  garden  \\\n0            0        0         1       1        1         1       0   \n1            0        1         1       3        0         0       0   \n2            0        0         0       4        0         0       0   \n3            1        0         0       4        0         1       0   \n4            0        0         0  Parter        0         0       0   \n...        ...      ...       ...     ...      ...       ...     ...   \n8002         1        1         0       2        0         1       0   \n8003         1        1         0       3        0         1       0   \n8004         1        1         0       1        0         1       0   \n8005         1        1         0       1        0         1       0   \n8006         1        1         0       1        0         1       0   \n\n     type_of_market  \n0         secondary  \n1         secondary  \n2         secondary  \n3         secondary  \n4         secondary  \n...             ...  \n8002        primary  \n8003        primary  \n8004        primary  \n8005        primary  \n8006        primary  \n\n[8007 rows x 17 columns]",
      "text/html": "<div>\n<style scoped>\n    .dataframe tbody tr th:only-of-type {\n        vertical-align: middle;\n    }\n\n    .dataframe tbody tr th {\n        vertical-align: top;\n    }\n\n    .dataframe thead th {\n        text-align: right;\n    }\n</style>\n<table border=\"1\" class=\"dataframe\">\n  <thead>\n    <tr style=\"text-align: right;\">\n      <th></th>\n      <th>title</th>\n      <th>district</th>\n      <th>area</th>\n      <th>number_of_rooms</th>\n      <th>year_of_creation</th>\n      <th>price_for_m2_in_PLN</th>\n      <th>type_of_building</th>\n      <th>garage</th>\n      <th>balcony</th>\n      <th>internet</th>\n      <th>parking</th>\n      <th>elevator</th>\n      <th>floor</th>\n      <th>terrace</th>\n      <th>basement</th>\n      <th>garden</th>\n      <th>type_of_market</th>\n    </tr>\n  </thead>\n  <tbody>\n    <tr>\n      <th>0</th>\n      <td>3pok 50m2 taras 10m2 blisko morza IIQ24 SE</td>\n      <td>Gdańsk Letnica</td>\n      <td>59.00</td>\n      <td>3</td>\n      <td>2024</td>\n      <td>12831.0</td>\n      <td>Mieszkanie</td>\n      <td>1</td>\n      <td>1</td>\n      <td>0</td>\n      <td>0</td>\n      <td>1</td>\n      <td>1</td>\n      <td>1</td>\n      <td>1</td>\n      <td>0</td>\n      <td>secondary</td>\n    </tr>\n    <tr>\n      <th>1</th>\n      <td>Wysoki standard   4 pok   Oliwa   kameralne</td>\n      <td>Gdańsk Oliwa, Opacka</td>\n      <td>99.00</td>\n      <td>4</td>\n      <td>2020</td>\n      <td>2424.0</td>\n      <td>Mieszkanie</td>\n      <td>0</td>\n      <td>1</td>\n      <td>0</td>\n      <td>1</td>\n      <td>1</td>\n      <td>3</td>\n      <td>0</td>\n      <td>0</td>\n      <td>0</td>\n      <td>secondary</td>\n    </tr>\n    <tr>\n      <th>2</th>\n      <td>Piękne 3 pokoje po remoncie, przy plaży</td>\n      <td>Gdańsk Jelitkowo, ul. Tysiąclecia</td>\n      <td>41.07</td>\n      <td>3</td>\n      <td>1970</td>\n      <td>19455.0</td>\n      <td>Mieszkanie</td>\n      <td>0</td>\n      <td>0</td>\n      <td>0</td>\n      <td>0</td>\n      <td>0</td>\n      <td>4</td>\n      <td>0</td>\n      <td>0</td>\n      <td>0</td>\n      <td>secondary</td>\n    </tr>\n    <tr>\n      <th>3</th>\n      <td>Widok na Jar Wilanowski - blok przy samym Parku</td>\n      <td>Gdańsk Chełm, Prof. Romualda Cebertowicza</td>\n      <td>63.10</td>\n      <td>3</td>\n      <td>1989</td>\n      <td>9984.0</td>\n      <td>Mieszkanie</td>\n      <td>0</td>\n      <td>1</td>\n      <td>1</td>\n      <td>0</td>\n      <td>0</td>\n      <td>4</td>\n      <td>0</td>\n      <td>1</td>\n      <td>0</td>\n      <td>secondary</td>\n    </tr>\n    <tr>\n      <th>4</th>\n      <td>Energooszczędne Mieszkanie 75m2 - 4 pokoje</td>\n      <td>Gdańsk</td>\n      <td>75.00</td>\n      <td>4</td>\n      <td>2024</td>\n      <td>5187.0</td>\n      <td>Mieszkanie</td>\n      <td>0</td>\n      <td>0</td>\n      <td>0</td>\n      <td>0</td>\n      <td>0</td>\n      <td>Parter</td>\n      <td>0</td>\n      <td>0</td>\n      <td>0</td>\n      <td>secondary</td>\n    </tr>\n    <tr>\n      <th>...</th>\n      <td>...</td>\n      <td>...</td>\n      <td>...</td>\n      <td>...</td>\n      <td>...</td>\n      <td>...</td>\n      <td>...</td>\n      <td>...</td>\n      <td>...</td>\n      <td>...</td>\n      <td>...</td>\n      <td>...</td>\n      <td>...</td>\n      <td>...</td>\n      <td>...</td>\n      <td>...</td>\n      <td>...</td>\n    </tr>\n    <tr>\n      <th>8002</th>\n      <td>INPRO S.A. - OPTIMA - mieszkanie 3-pok. 56.33 m2</td>\n      <td>Gdynia Dąbrowa, Serdecznikowa</td>\n      <td>56.33</td>\n      <td>3</td>\n      <td>2024</td>\n      <td>10368.0</td>\n      <td>Mieszkanie</td>\n      <td>1</td>\n      <td>1</td>\n      <td>1</td>\n      <td>1</td>\n      <td>0</td>\n      <td>2</td>\n      <td>0</td>\n      <td>1</td>\n      <td>0</td>\n      <td>primary</td>\n    </tr>\n    <tr>\n      <th>8003</th>\n      <td>INPRO S.A. - OPTIMA - mieszkanie 3-pok. 61.44 m2</td>\n      <td>Gdynia Dąbrowa, Serdecznikowa</td>\n      <td>61.44</td>\n      <td>3</td>\n      <td>2024</td>\n      <td>10368.0</td>\n      <td>Mieszkanie</td>\n      <td>1</td>\n      <td>1</td>\n      <td>1</td>\n      <td>1</td>\n      <td>0</td>\n      <td>3</td>\n      <td>0</td>\n      <td>1</td>\n      <td>0</td>\n      <td>primary</td>\n    </tr>\n    <tr>\n      <th>8004</th>\n      <td>INPRO S.A. - OPTIMA - mieszkanie 2-pok. 47.22 ...</td>\n      <td>Gdynia Dąbrowa, Serdecznikowa</td>\n      <td>47.00</td>\n      <td>2</td>\n      <td>2025</td>\n      <td>10584.0</td>\n      <td>Mieszkanie</td>\n      <td>1</td>\n      <td>1</td>\n      <td>1</td>\n      <td>1</td>\n      <td>0</td>\n      <td>1</td>\n      <td>0</td>\n      <td>1</td>\n      <td>0</td>\n      <td>primary</td>\n    </tr>\n    <tr>\n      <th>8005</th>\n      <td>INPRO S.A. - OPTIMA - mieszkanie 2-pok. 46.30 ...</td>\n      <td>Gdynia Dąbrowa, Serdecznikowa</td>\n      <td>46.30</td>\n      <td>2</td>\n      <td>2025</td>\n      <td>10584.0</td>\n      <td>Mieszkanie</td>\n      <td>1</td>\n      <td>1</td>\n      <td>1</td>\n      <td>1</td>\n      <td>0</td>\n      <td>1</td>\n      <td>0</td>\n      <td>1</td>\n      <td>0</td>\n      <td>primary</td>\n    </tr>\n    <tr>\n      <th>8006</th>\n      <td>INPRO S.A. - OPTIMA - mieszkanie 3-pok. 65.17 ...</td>\n      <td>Gdynia Dąbrowa, Serdecznikowa</td>\n      <td>65.17</td>\n      <td>3</td>\n      <td>2025</td>\n      <td>10260.0</td>\n      <td>Mieszkanie</td>\n      <td>1</td>\n      <td>1</td>\n      <td>1</td>\n      <td>1</td>\n      <td>0</td>\n      <td>1</td>\n      <td>0</td>\n      <td>1</td>\n      <td>0</td>\n      <td>primary</td>\n    </tr>\n  </tbody>\n</table>\n<p>8007 rows × 17 columns</p>\n</div>"
     },
     "execution_count": 29,
     "metadata": {},
     "output_type": "execute_result"
    }
   ],
   "source": [
    "trojmiasto_data.drop(trojmiasto_data.columns[0], axis=1)"
   ],
   "metadata": {
    "collapsed": false,
    "ExecuteTime": {
     "end_time": "2024-06-25T16:06:05.726019800Z",
     "start_time": "2024-06-25T16:06:05.353020700Z"
    }
   },
   "id": "a529ff62ec32c156"
  },
  {
   "cell_type": "markdown",
   "source": [
    "### Adding latitude and longitude columns based on Nominatim module and district column\n"
   ],
   "metadata": {
    "collapsed": false
   },
   "id": "96cfd74d6046f7d2"
  },
  {
   "cell_type": "markdown",
   "source": [
    "### Conversion of the district column"
   ],
   "metadata": {
    "collapsed": false
   },
   "id": "52b2d973ddb57202"
  },
  {
   "cell_type": "code",
   "execution_count": 30,
   "outputs": [
    {
     "data": {
      "text/plain": "      Unnamed: 0                                              title  \\\n0              0         3pok 50m2 taras 10m2 blisko morza IIQ24 SE   \n1              1        Wysoki standard   4 pok   Oliwa   kameralne   \n2              2            Piękne 3 pokoje po remoncie, przy plaży   \n3              3    Widok na Jar Wilanowski - blok przy samym Parku   \n4              4         Energooszczędne Mieszkanie 75m2 - 4 pokoje   \n...          ...                                                ...   \n8002        8002   INPRO S.A. - OPTIMA - mieszkanie 3-pok. 56.33 m2   \n8003        8003   INPRO S.A. - OPTIMA - mieszkanie 3-pok. 61.44 m2   \n8004        8004  INPRO S.A. - OPTIMA - mieszkanie 2-pok. 47.22 ...   \n8005        8005  INPRO S.A. - OPTIMA - mieszkanie 2-pok. 46.30 ...   \n8006        8006  INPRO S.A. - OPTIMA - mieszkanie 3-pok. 65.17 ...   \n\n                                       district   area  number_of_rooms  \\\n0                          Gdańsk Letnica, null  59.00                3   \n1                          Gdańsk Oliwa, Opacka  99.00                4   \n2             Gdańsk Jelitkowo, ul. Tysiąclecia  41.07                3   \n3     Gdańsk Chełm, Prof. Romualda Cebertowicza  63.10                3   \n4                                  Gdańsk, null  75.00                4   \n...                                         ...    ...              ...   \n8002              Gdynia Dąbrowa, Serdecznikowa  56.33                3   \n8003              Gdynia Dąbrowa, Serdecznikowa  61.44                3   \n8004              Gdynia Dąbrowa, Serdecznikowa  47.00                2   \n8005              Gdynia Dąbrowa, Serdecznikowa  46.30                2   \n8006              Gdynia Dąbrowa, Serdecznikowa  65.17                3   \n\n      year_of_creation  price_for_m2_in_PLN type_of_building  garage  balcony  \\\n0                 2024              12831.0       Mieszkanie       1        1   \n1                 2020               2424.0       Mieszkanie       0        1   \n2                 1970              19455.0       Mieszkanie       0        0   \n3                 1989               9984.0       Mieszkanie       0        1   \n4                 2024               5187.0       Mieszkanie       0        0   \n...                ...                  ...              ...     ...      ...   \n8002              2024              10368.0       Mieszkanie       1        1   \n8003              2024              10368.0       Mieszkanie       1        1   \n8004              2025              10584.0       Mieszkanie       1        1   \n8005              2025              10584.0       Mieszkanie       1        1   \n8006              2025              10260.0       Mieszkanie       1        1   \n\n      internet  parking  elevator   floor  terrace  basement  garden  \\\n0            0        0         1       1        1         1       0   \n1            0        1         1       3        0         0       0   \n2            0        0         0       4        0         0       0   \n3            1        0         0       4        0         1       0   \n4            0        0         0  Parter        0         0       0   \n...        ...      ...       ...     ...      ...       ...     ...   \n8002         1        1         0       2        0         1       0   \n8003         1        1         0       3        0         1       0   \n8004         1        1         0       1        0         1       0   \n8005         1        1         0       1        0         1       0   \n8006         1        1         0       1        0         1       0   \n\n     type_of_market  \n0         secondary  \n1         secondary  \n2         secondary  \n3         secondary  \n4         secondary  \n...             ...  \n8002        primary  \n8003        primary  \n8004        primary  \n8005        primary  \n8006        primary  \n\n[8007 rows x 18 columns]",
      "text/html": "<div>\n<style scoped>\n    .dataframe tbody tr th:only-of-type {\n        vertical-align: middle;\n    }\n\n    .dataframe tbody tr th {\n        vertical-align: top;\n    }\n\n    .dataframe thead th {\n        text-align: right;\n    }\n</style>\n<table border=\"1\" class=\"dataframe\">\n  <thead>\n    <tr style=\"text-align: right;\">\n      <th></th>\n      <th>Unnamed: 0</th>\n      <th>title</th>\n      <th>district</th>\n      <th>area</th>\n      <th>number_of_rooms</th>\n      <th>year_of_creation</th>\n      <th>price_for_m2_in_PLN</th>\n      <th>type_of_building</th>\n      <th>garage</th>\n      <th>balcony</th>\n      <th>internet</th>\n      <th>parking</th>\n      <th>elevator</th>\n      <th>floor</th>\n      <th>terrace</th>\n      <th>basement</th>\n      <th>garden</th>\n      <th>type_of_market</th>\n    </tr>\n  </thead>\n  <tbody>\n    <tr>\n      <th>0</th>\n      <td>0</td>\n      <td>3pok 50m2 taras 10m2 blisko morza IIQ24 SE</td>\n      <td>Gdańsk Letnica, null</td>\n      <td>59.00</td>\n      <td>3</td>\n      <td>2024</td>\n      <td>12831.0</td>\n      <td>Mieszkanie</td>\n      <td>1</td>\n      <td>1</td>\n      <td>0</td>\n      <td>0</td>\n      <td>1</td>\n      <td>1</td>\n      <td>1</td>\n      <td>1</td>\n      <td>0</td>\n      <td>secondary</td>\n    </tr>\n    <tr>\n      <th>1</th>\n      <td>1</td>\n      <td>Wysoki standard   4 pok   Oliwa   kameralne</td>\n      <td>Gdańsk Oliwa, Opacka</td>\n      <td>99.00</td>\n      <td>4</td>\n      <td>2020</td>\n      <td>2424.0</td>\n      <td>Mieszkanie</td>\n      <td>0</td>\n      <td>1</td>\n      <td>0</td>\n      <td>1</td>\n      <td>1</td>\n      <td>3</td>\n      <td>0</td>\n      <td>0</td>\n      <td>0</td>\n      <td>secondary</td>\n    </tr>\n    <tr>\n      <th>2</th>\n      <td>2</td>\n      <td>Piękne 3 pokoje po remoncie, przy plaży</td>\n      <td>Gdańsk Jelitkowo, ul. Tysiąclecia</td>\n      <td>41.07</td>\n      <td>3</td>\n      <td>1970</td>\n      <td>19455.0</td>\n      <td>Mieszkanie</td>\n      <td>0</td>\n      <td>0</td>\n      <td>0</td>\n      <td>0</td>\n      <td>0</td>\n      <td>4</td>\n      <td>0</td>\n      <td>0</td>\n      <td>0</td>\n      <td>secondary</td>\n    </tr>\n    <tr>\n      <th>3</th>\n      <td>3</td>\n      <td>Widok na Jar Wilanowski - blok przy samym Parku</td>\n      <td>Gdańsk Chełm, Prof. Romualda Cebertowicza</td>\n      <td>63.10</td>\n      <td>3</td>\n      <td>1989</td>\n      <td>9984.0</td>\n      <td>Mieszkanie</td>\n      <td>0</td>\n      <td>1</td>\n      <td>1</td>\n      <td>0</td>\n      <td>0</td>\n      <td>4</td>\n      <td>0</td>\n      <td>1</td>\n      <td>0</td>\n      <td>secondary</td>\n    </tr>\n    <tr>\n      <th>4</th>\n      <td>4</td>\n      <td>Energooszczędne Mieszkanie 75m2 - 4 pokoje</td>\n      <td>Gdańsk, null</td>\n      <td>75.00</td>\n      <td>4</td>\n      <td>2024</td>\n      <td>5187.0</td>\n      <td>Mieszkanie</td>\n      <td>0</td>\n      <td>0</td>\n      <td>0</td>\n      <td>0</td>\n      <td>0</td>\n      <td>Parter</td>\n      <td>0</td>\n      <td>0</td>\n      <td>0</td>\n      <td>secondary</td>\n    </tr>\n    <tr>\n      <th>...</th>\n      <td>...</td>\n      <td>...</td>\n      <td>...</td>\n      <td>...</td>\n      <td>...</td>\n      <td>...</td>\n      <td>...</td>\n      <td>...</td>\n      <td>...</td>\n      <td>...</td>\n      <td>...</td>\n      <td>...</td>\n      <td>...</td>\n      <td>...</td>\n      <td>...</td>\n      <td>...</td>\n      <td>...</td>\n      <td>...</td>\n    </tr>\n    <tr>\n      <th>8002</th>\n      <td>8002</td>\n      <td>INPRO S.A. - OPTIMA - mieszkanie 3-pok. 56.33 m2</td>\n      <td>Gdynia Dąbrowa, Serdecznikowa</td>\n      <td>56.33</td>\n      <td>3</td>\n      <td>2024</td>\n      <td>10368.0</td>\n      <td>Mieszkanie</td>\n      <td>1</td>\n      <td>1</td>\n      <td>1</td>\n      <td>1</td>\n      <td>0</td>\n      <td>2</td>\n      <td>0</td>\n      <td>1</td>\n      <td>0</td>\n      <td>primary</td>\n    </tr>\n    <tr>\n      <th>8003</th>\n      <td>8003</td>\n      <td>INPRO S.A. - OPTIMA - mieszkanie 3-pok. 61.44 m2</td>\n      <td>Gdynia Dąbrowa, Serdecznikowa</td>\n      <td>61.44</td>\n      <td>3</td>\n      <td>2024</td>\n      <td>10368.0</td>\n      <td>Mieszkanie</td>\n      <td>1</td>\n      <td>1</td>\n      <td>1</td>\n      <td>1</td>\n      <td>0</td>\n      <td>3</td>\n      <td>0</td>\n      <td>1</td>\n      <td>0</td>\n      <td>primary</td>\n    </tr>\n    <tr>\n      <th>8004</th>\n      <td>8004</td>\n      <td>INPRO S.A. - OPTIMA - mieszkanie 2-pok. 47.22 ...</td>\n      <td>Gdynia Dąbrowa, Serdecznikowa</td>\n      <td>47.00</td>\n      <td>2</td>\n      <td>2025</td>\n      <td>10584.0</td>\n      <td>Mieszkanie</td>\n      <td>1</td>\n      <td>1</td>\n      <td>1</td>\n      <td>1</td>\n      <td>0</td>\n      <td>1</td>\n      <td>0</td>\n      <td>1</td>\n      <td>0</td>\n      <td>primary</td>\n    </tr>\n    <tr>\n      <th>8005</th>\n      <td>8005</td>\n      <td>INPRO S.A. - OPTIMA - mieszkanie 2-pok. 46.30 ...</td>\n      <td>Gdynia Dąbrowa, Serdecznikowa</td>\n      <td>46.30</td>\n      <td>2</td>\n      <td>2025</td>\n      <td>10584.0</td>\n      <td>Mieszkanie</td>\n      <td>1</td>\n      <td>1</td>\n      <td>1</td>\n      <td>1</td>\n      <td>0</td>\n      <td>1</td>\n      <td>0</td>\n      <td>1</td>\n      <td>0</td>\n      <td>primary</td>\n    </tr>\n    <tr>\n      <th>8006</th>\n      <td>8006</td>\n      <td>INPRO S.A. - OPTIMA - mieszkanie 3-pok. 65.17 ...</td>\n      <td>Gdynia Dąbrowa, Serdecznikowa</td>\n      <td>65.17</td>\n      <td>3</td>\n      <td>2025</td>\n      <td>10260.0</td>\n      <td>Mieszkanie</td>\n      <td>1</td>\n      <td>1</td>\n      <td>1</td>\n      <td>1</td>\n      <td>0</td>\n      <td>1</td>\n      <td>0</td>\n      <td>1</td>\n      <td>0</td>\n      <td>primary</td>\n    </tr>\n  </tbody>\n</table>\n<p>8007 rows × 18 columns</p>\n</div>"
     },
     "execution_count": 30,
     "metadata": {},
     "output_type": "execute_result"
    }
   ],
   "source": [
    "# Adding a comma in rows where it is missing\n",
    "trojmiasto_data['district'] = trojmiasto_data['district'].apply(lambda x: x if ',' in x else x + ', null')\n",
    "trojmiasto_data"
   ],
   "metadata": {
    "collapsed": false,
    "ExecuteTime": {
     "end_time": "2024-06-25T16:06:05.727021Z",
     "start_time": "2024-06-25T16:06:05.385019800Z"
    }
   },
   "id": "922b4ae73fd867d3"
  },
  {
   "cell_type": "code",
   "execution_count": 31,
   "outputs": [],
   "source": [
    "# Splitting district column into two columns\n",
    "trojmiasto_data[['district', 'street']] = trojmiasto_data['district'].str.split(',', expand=True)"
   ],
   "metadata": {
    "collapsed": false,
    "ExecuteTime": {
     "end_time": "2024-06-25T16:06:05.728020500Z",
     "start_time": "2024-06-25T16:06:05.415024700Z"
    }
   },
   "id": "8e3d4f42ddee8ffb"
  },
  {
   "cell_type": "code",
   "execution_count": 32,
   "outputs": [
    {
     "data": {
      "text/plain": "      Unnamed: 0                                              title  \\\n0              0         3pok 50m2 taras 10m2 blisko morza IIQ24 SE   \n1              1        Wysoki standard   4 pok   Oliwa   kameralne   \n2              2            Piękne 3 pokoje po remoncie, przy plaży   \n3              3    Widok na Jar Wilanowski - blok przy samym Parku   \n4              4         Energooszczędne Mieszkanie 75m2 - 4 pokoje   \n...          ...                                                ...   \n8002        8002   INPRO S.A. - OPTIMA - mieszkanie 3-pok. 56.33 m2   \n8003        8003   INPRO S.A. - OPTIMA - mieszkanie 3-pok. 61.44 m2   \n8004        8004  INPRO S.A. - OPTIMA - mieszkanie 2-pok. 47.22 ...   \n8005        8005  INPRO S.A. - OPTIMA - mieszkanie 2-pok. 46.30 ...   \n8006        8006  INPRO S.A. - OPTIMA - mieszkanie 3-pok. 65.17 ...   \n\n              district   area  number_of_rooms  year_of_creation  \\\n0       Gdańsk Letnica  59.00                3              2024   \n1         Gdańsk Oliwa  99.00                4              2020   \n2     Gdańsk Jelitkowo  41.07                3              1970   \n3         Gdańsk Chełm  63.10                3              1989   \n4               Gdańsk  75.00                4              2024   \n...                ...    ...              ...               ...   \n8002    Gdynia Dąbrowa  56.33                3              2024   \n8003    Gdynia Dąbrowa  61.44                3              2024   \n8004    Gdynia Dąbrowa  47.00                2              2025   \n8005    Gdynia Dąbrowa  46.30                2              2025   \n8006    Gdynia Dąbrowa  65.17                3              2025   \n\n      price_for_m2_in_PLN type_of_building  garage  balcony  internet  \\\n0                 12831.0       Mieszkanie       1        1         0   \n1                  2424.0       Mieszkanie       0        1         0   \n2                 19455.0       Mieszkanie       0        0         0   \n3                  9984.0       Mieszkanie       0        1         1   \n4                  5187.0       Mieszkanie       0        0         0   \n...                   ...              ...     ...      ...       ...   \n8002              10368.0       Mieszkanie       1        1         1   \n8003              10368.0       Mieszkanie       1        1         1   \n8004              10584.0       Mieszkanie       1        1         1   \n8005              10584.0       Mieszkanie       1        1         1   \n8006              10260.0       Mieszkanie       1        1         1   \n\n      parking  elevator   floor  terrace  basement  garden type_of_market  \\\n0           0         1       1        1         1       0      secondary   \n1           1         1       3        0         0       0      secondary   \n2           0         0       4        0         0       0      secondary   \n3           0         0       4        0         1       0      secondary   \n4           0         0  Parter        0         0       0      secondary   \n...       ...       ...     ...      ...       ...     ...            ...   \n8002        1         0       2        0         1       0        primary   \n8003        1         0       3        0         1       0        primary   \n8004        1         0       1        0         1       0        primary   \n8005        1         0       1        0         1       0        primary   \n8006        1         0       1        0         1       0        primary   \n\n                            street  \n0                             null  \n1                           Opacka  \n2                  ul. Tysiąclecia  \n3      Prof. Romualda Cebertowicza  \n4                             null  \n...                            ...  \n8002                 Serdecznikowa  \n8003                 Serdecznikowa  \n8004                 Serdecznikowa  \n8005                 Serdecznikowa  \n8006                 Serdecznikowa  \n\n[8007 rows x 19 columns]",
      "text/html": "<div>\n<style scoped>\n    .dataframe tbody tr th:only-of-type {\n        vertical-align: middle;\n    }\n\n    .dataframe tbody tr th {\n        vertical-align: top;\n    }\n\n    .dataframe thead th {\n        text-align: right;\n    }\n</style>\n<table border=\"1\" class=\"dataframe\">\n  <thead>\n    <tr style=\"text-align: right;\">\n      <th></th>\n      <th>Unnamed: 0</th>\n      <th>title</th>\n      <th>district</th>\n      <th>area</th>\n      <th>number_of_rooms</th>\n      <th>year_of_creation</th>\n      <th>price_for_m2_in_PLN</th>\n      <th>type_of_building</th>\n      <th>garage</th>\n      <th>balcony</th>\n      <th>internet</th>\n      <th>parking</th>\n      <th>elevator</th>\n      <th>floor</th>\n      <th>terrace</th>\n      <th>basement</th>\n      <th>garden</th>\n      <th>type_of_market</th>\n      <th>street</th>\n    </tr>\n  </thead>\n  <tbody>\n    <tr>\n      <th>0</th>\n      <td>0</td>\n      <td>3pok 50m2 taras 10m2 blisko morza IIQ24 SE</td>\n      <td>Gdańsk Letnica</td>\n      <td>59.00</td>\n      <td>3</td>\n      <td>2024</td>\n      <td>12831.0</td>\n      <td>Mieszkanie</td>\n      <td>1</td>\n      <td>1</td>\n      <td>0</td>\n      <td>0</td>\n      <td>1</td>\n      <td>1</td>\n      <td>1</td>\n      <td>1</td>\n      <td>0</td>\n      <td>secondary</td>\n      <td>null</td>\n    </tr>\n    <tr>\n      <th>1</th>\n      <td>1</td>\n      <td>Wysoki standard   4 pok   Oliwa   kameralne</td>\n      <td>Gdańsk Oliwa</td>\n      <td>99.00</td>\n      <td>4</td>\n      <td>2020</td>\n      <td>2424.0</td>\n      <td>Mieszkanie</td>\n      <td>0</td>\n      <td>1</td>\n      <td>0</td>\n      <td>1</td>\n      <td>1</td>\n      <td>3</td>\n      <td>0</td>\n      <td>0</td>\n      <td>0</td>\n      <td>secondary</td>\n      <td>Opacka</td>\n    </tr>\n    <tr>\n      <th>2</th>\n      <td>2</td>\n      <td>Piękne 3 pokoje po remoncie, przy plaży</td>\n      <td>Gdańsk Jelitkowo</td>\n      <td>41.07</td>\n      <td>3</td>\n      <td>1970</td>\n      <td>19455.0</td>\n      <td>Mieszkanie</td>\n      <td>0</td>\n      <td>0</td>\n      <td>0</td>\n      <td>0</td>\n      <td>0</td>\n      <td>4</td>\n      <td>0</td>\n      <td>0</td>\n      <td>0</td>\n      <td>secondary</td>\n      <td>ul. Tysiąclecia</td>\n    </tr>\n    <tr>\n      <th>3</th>\n      <td>3</td>\n      <td>Widok na Jar Wilanowski - blok przy samym Parku</td>\n      <td>Gdańsk Chełm</td>\n      <td>63.10</td>\n      <td>3</td>\n      <td>1989</td>\n      <td>9984.0</td>\n      <td>Mieszkanie</td>\n      <td>0</td>\n      <td>1</td>\n      <td>1</td>\n      <td>0</td>\n      <td>0</td>\n      <td>4</td>\n      <td>0</td>\n      <td>1</td>\n      <td>0</td>\n      <td>secondary</td>\n      <td>Prof. Romualda Cebertowicza</td>\n    </tr>\n    <tr>\n      <th>4</th>\n      <td>4</td>\n      <td>Energooszczędne Mieszkanie 75m2 - 4 pokoje</td>\n      <td>Gdańsk</td>\n      <td>75.00</td>\n      <td>4</td>\n      <td>2024</td>\n      <td>5187.0</td>\n      <td>Mieszkanie</td>\n      <td>0</td>\n      <td>0</td>\n      <td>0</td>\n      <td>0</td>\n      <td>0</td>\n      <td>Parter</td>\n      <td>0</td>\n      <td>0</td>\n      <td>0</td>\n      <td>secondary</td>\n      <td>null</td>\n    </tr>\n    <tr>\n      <th>...</th>\n      <td>...</td>\n      <td>...</td>\n      <td>...</td>\n      <td>...</td>\n      <td>...</td>\n      <td>...</td>\n      <td>...</td>\n      <td>...</td>\n      <td>...</td>\n      <td>...</td>\n      <td>...</td>\n      <td>...</td>\n      <td>...</td>\n      <td>...</td>\n      <td>...</td>\n      <td>...</td>\n      <td>...</td>\n      <td>...</td>\n      <td>...</td>\n    </tr>\n    <tr>\n      <th>8002</th>\n      <td>8002</td>\n      <td>INPRO S.A. - OPTIMA - mieszkanie 3-pok. 56.33 m2</td>\n      <td>Gdynia Dąbrowa</td>\n      <td>56.33</td>\n      <td>3</td>\n      <td>2024</td>\n      <td>10368.0</td>\n      <td>Mieszkanie</td>\n      <td>1</td>\n      <td>1</td>\n      <td>1</td>\n      <td>1</td>\n      <td>0</td>\n      <td>2</td>\n      <td>0</td>\n      <td>1</td>\n      <td>0</td>\n      <td>primary</td>\n      <td>Serdecznikowa</td>\n    </tr>\n    <tr>\n      <th>8003</th>\n      <td>8003</td>\n      <td>INPRO S.A. - OPTIMA - mieszkanie 3-pok. 61.44 m2</td>\n      <td>Gdynia Dąbrowa</td>\n      <td>61.44</td>\n      <td>3</td>\n      <td>2024</td>\n      <td>10368.0</td>\n      <td>Mieszkanie</td>\n      <td>1</td>\n      <td>1</td>\n      <td>1</td>\n      <td>1</td>\n      <td>0</td>\n      <td>3</td>\n      <td>0</td>\n      <td>1</td>\n      <td>0</td>\n      <td>primary</td>\n      <td>Serdecznikowa</td>\n    </tr>\n    <tr>\n      <th>8004</th>\n      <td>8004</td>\n      <td>INPRO S.A. - OPTIMA - mieszkanie 2-pok. 47.22 ...</td>\n      <td>Gdynia Dąbrowa</td>\n      <td>47.00</td>\n      <td>2</td>\n      <td>2025</td>\n      <td>10584.0</td>\n      <td>Mieszkanie</td>\n      <td>1</td>\n      <td>1</td>\n      <td>1</td>\n      <td>1</td>\n      <td>0</td>\n      <td>1</td>\n      <td>0</td>\n      <td>1</td>\n      <td>0</td>\n      <td>primary</td>\n      <td>Serdecznikowa</td>\n    </tr>\n    <tr>\n      <th>8005</th>\n      <td>8005</td>\n      <td>INPRO S.A. - OPTIMA - mieszkanie 2-pok. 46.30 ...</td>\n      <td>Gdynia Dąbrowa</td>\n      <td>46.30</td>\n      <td>2</td>\n      <td>2025</td>\n      <td>10584.0</td>\n      <td>Mieszkanie</td>\n      <td>1</td>\n      <td>1</td>\n      <td>1</td>\n      <td>1</td>\n      <td>0</td>\n      <td>1</td>\n      <td>0</td>\n      <td>1</td>\n      <td>0</td>\n      <td>primary</td>\n      <td>Serdecznikowa</td>\n    </tr>\n    <tr>\n      <th>8006</th>\n      <td>8006</td>\n      <td>INPRO S.A. - OPTIMA - mieszkanie 3-pok. 65.17 ...</td>\n      <td>Gdynia Dąbrowa</td>\n      <td>65.17</td>\n      <td>3</td>\n      <td>2025</td>\n      <td>10260.0</td>\n      <td>Mieszkanie</td>\n      <td>1</td>\n      <td>1</td>\n      <td>1</td>\n      <td>1</td>\n      <td>0</td>\n      <td>1</td>\n      <td>0</td>\n      <td>1</td>\n      <td>0</td>\n      <td>primary</td>\n      <td>Serdecznikowa</td>\n    </tr>\n  </tbody>\n</table>\n<p>8007 rows × 19 columns</p>\n</div>"
     },
     "execution_count": 32,
     "metadata": {},
     "output_type": "execute_result"
    }
   ],
   "source": [
    "converted_trojmiasto = trojmiasto_data\n",
    "converted_trojmiasto"
   ],
   "metadata": {
    "collapsed": false,
    "ExecuteTime": {
     "end_time": "2024-06-25T16:06:05.729019Z",
     "start_time": "2024-06-25T16:06:05.431019600Z"
    }
   },
   "id": "b80998582b4b0b0a"
  },
  {
   "cell_type": "code",
   "execution_count": 33,
   "outputs": [
    {
     "data": {
      "text/plain": "      Unnamed: 0                                              title  \\\n0              0         3pok 50m2 taras 10m2 blisko morza IIQ24 SE   \n1              1        Wysoki standard   4 pok   Oliwa   kameralne   \n2              2            Piękne 3 pokoje po remoncie, przy plaży   \n3              3    Widok na Jar Wilanowski - blok przy samym Parku   \n4              4         Energooszczędne Mieszkanie 75m2 - 4 pokoje   \n...          ...                                                ...   \n8002        8002   INPRO S.A. - OPTIMA - mieszkanie 3-pok. 56.33 m2   \n8003        8003   INPRO S.A. - OPTIMA - mieszkanie 3-pok. 61.44 m2   \n8004        8004  INPRO S.A. - OPTIMA - mieszkanie 2-pok. 47.22 ...   \n8005        8005  INPRO S.A. - OPTIMA - mieszkanie 2-pok. 46.30 ...   \n8006        8006  INPRO S.A. - OPTIMA - mieszkanie 3-pok. 65.17 ...   \n\n              district   area  number_of_rooms  year_of_creation  \\\n0       Gdańsk Letnica  59.00                3              2024   \n1         Gdańsk Oliwa  99.00                4              2020   \n2     Gdańsk Jelitkowo  41.07                3              1970   \n3         Gdańsk Chełm  63.10                3              1989   \n4          Gdańsk null  75.00                4              2024   \n...                ...    ...              ...               ...   \n8002    Gdynia Dąbrowa  56.33                3              2024   \n8003    Gdynia Dąbrowa  61.44                3              2024   \n8004    Gdynia Dąbrowa  47.00                2              2025   \n8005    Gdynia Dąbrowa  46.30                2              2025   \n8006    Gdynia Dąbrowa  65.17                3              2025   \n\n      price_for_m2_in_PLN type_of_building  garage  balcony  internet  \\\n0                 12831.0       Mieszkanie       1        1         0   \n1                  2424.0       Mieszkanie       0        1         0   \n2                 19455.0       Mieszkanie       0        0         0   \n3                  9984.0       Mieszkanie       0        1         1   \n4                  5187.0       Mieszkanie       0        0         0   \n...                   ...              ...     ...      ...       ...   \n8002              10368.0       Mieszkanie       1        1         1   \n8003              10368.0       Mieszkanie       1        1         1   \n8004              10584.0       Mieszkanie       1        1         1   \n8005              10584.0       Mieszkanie       1        1         1   \n8006              10260.0       Mieszkanie       1        1         1   \n\n      parking  elevator   floor  terrace  basement  garden type_of_market  \\\n0           0         1       1        1         1       0      secondary   \n1           1         1       3        0         0       0      secondary   \n2           0         0       4        0         0       0      secondary   \n3           0         0       4        0         1       0      secondary   \n4           0         0  Parter        0         0       0      secondary   \n...       ...       ...     ...      ...       ...     ...            ...   \n8002        1         0       2        0         1       0        primary   \n8003        1         0       3        0         1       0        primary   \n8004        1         0       1        0         1       0        primary   \n8005        1         0       1        0         1       0        primary   \n8006        1         0       1        0         1       0        primary   \n\n                            street  \n0                             null  \n1                           Opacka  \n2                  ul. Tysiąclecia  \n3      Prof. Romualda Cebertowicza  \n4                             null  \n...                            ...  \n8002                 Serdecznikowa  \n8003                 Serdecznikowa  \n8004                 Serdecznikowa  \n8005                 Serdecznikowa  \n8006                 Serdecznikowa  \n\n[8007 rows x 19 columns]",
      "text/html": "<div>\n<style scoped>\n    .dataframe tbody tr th:only-of-type {\n        vertical-align: middle;\n    }\n\n    .dataframe tbody tr th {\n        vertical-align: top;\n    }\n\n    .dataframe thead th {\n        text-align: right;\n    }\n</style>\n<table border=\"1\" class=\"dataframe\">\n  <thead>\n    <tr style=\"text-align: right;\">\n      <th></th>\n      <th>Unnamed: 0</th>\n      <th>title</th>\n      <th>district</th>\n      <th>area</th>\n      <th>number_of_rooms</th>\n      <th>year_of_creation</th>\n      <th>price_for_m2_in_PLN</th>\n      <th>type_of_building</th>\n      <th>garage</th>\n      <th>balcony</th>\n      <th>internet</th>\n      <th>parking</th>\n      <th>elevator</th>\n      <th>floor</th>\n      <th>terrace</th>\n      <th>basement</th>\n      <th>garden</th>\n      <th>type_of_market</th>\n      <th>street</th>\n    </tr>\n  </thead>\n  <tbody>\n    <tr>\n      <th>0</th>\n      <td>0</td>\n      <td>3pok 50m2 taras 10m2 blisko morza IIQ24 SE</td>\n      <td>Gdańsk Letnica</td>\n      <td>59.00</td>\n      <td>3</td>\n      <td>2024</td>\n      <td>12831.0</td>\n      <td>Mieszkanie</td>\n      <td>1</td>\n      <td>1</td>\n      <td>0</td>\n      <td>0</td>\n      <td>1</td>\n      <td>1</td>\n      <td>1</td>\n      <td>1</td>\n      <td>0</td>\n      <td>secondary</td>\n      <td>null</td>\n    </tr>\n    <tr>\n      <th>1</th>\n      <td>1</td>\n      <td>Wysoki standard   4 pok   Oliwa   kameralne</td>\n      <td>Gdańsk Oliwa</td>\n      <td>99.00</td>\n      <td>4</td>\n      <td>2020</td>\n      <td>2424.0</td>\n      <td>Mieszkanie</td>\n      <td>0</td>\n      <td>1</td>\n      <td>0</td>\n      <td>1</td>\n      <td>1</td>\n      <td>3</td>\n      <td>0</td>\n      <td>0</td>\n      <td>0</td>\n      <td>secondary</td>\n      <td>Opacka</td>\n    </tr>\n    <tr>\n      <th>2</th>\n      <td>2</td>\n      <td>Piękne 3 pokoje po remoncie, przy plaży</td>\n      <td>Gdańsk Jelitkowo</td>\n      <td>41.07</td>\n      <td>3</td>\n      <td>1970</td>\n      <td>19455.0</td>\n      <td>Mieszkanie</td>\n      <td>0</td>\n      <td>0</td>\n      <td>0</td>\n      <td>0</td>\n      <td>0</td>\n      <td>4</td>\n      <td>0</td>\n      <td>0</td>\n      <td>0</td>\n      <td>secondary</td>\n      <td>ul. Tysiąclecia</td>\n    </tr>\n    <tr>\n      <th>3</th>\n      <td>3</td>\n      <td>Widok na Jar Wilanowski - blok przy samym Parku</td>\n      <td>Gdańsk Chełm</td>\n      <td>63.10</td>\n      <td>3</td>\n      <td>1989</td>\n      <td>9984.0</td>\n      <td>Mieszkanie</td>\n      <td>0</td>\n      <td>1</td>\n      <td>1</td>\n      <td>0</td>\n      <td>0</td>\n      <td>4</td>\n      <td>0</td>\n      <td>1</td>\n      <td>0</td>\n      <td>secondary</td>\n      <td>Prof. Romualda Cebertowicza</td>\n    </tr>\n    <tr>\n      <th>4</th>\n      <td>4</td>\n      <td>Energooszczędne Mieszkanie 75m2 - 4 pokoje</td>\n      <td>Gdańsk null</td>\n      <td>75.00</td>\n      <td>4</td>\n      <td>2024</td>\n      <td>5187.0</td>\n      <td>Mieszkanie</td>\n      <td>0</td>\n      <td>0</td>\n      <td>0</td>\n      <td>0</td>\n      <td>0</td>\n      <td>Parter</td>\n      <td>0</td>\n      <td>0</td>\n      <td>0</td>\n      <td>secondary</td>\n      <td>null</td>\n    </tr>\n    <tr>\n      <th>...</th>\n      <td>...</td>\n      <td>...</td>\n      <td>...</td>\n      <td>...</td>\n      <td>...</td>\n      <td>...</td>\n      <td>...</td>\n      <td>...</td>\n      <td>...</td>\n      <td>...</td>\n      <td>...</td>\n      <td>...</td>\n      <td>...</td>\n      <td>...</td>\n      <td>...</td>\n      <td>...</td>\n      <td>...</td>\n      <td>...</td>\n      <td>...</td>\n    </tr>\n    <tr>\n      <th>8002</th>\n      <td>8002</td>\n      <td>INPRO S.A. - OPTIMA - mieszkanie 3-pok. 56.33 m2</td>\n      <td>Gdynia Dąbrowa</td>\n      <td>56.33</td>\n      <td>3</td>\n      <td>2024</td>\n      <td>10368.0</td>\n      <td>Mieszkanie</td>\n      <td>1</td>\n      <td>1</td>\n      <td>1</td>\n      <td>1</td>\n      <td>0</td>\n      <td>2</td>\n      <td>0</td>\n      <td>1</td>\n      <td>0</td>\n      <td>primary</td>\n      <td>Serdecznikowa</td>\n    </tr>\n    <tr>\n      <th>8003</th>\n      <td>8003</td>\n      <td>INPRO S.A. - OPTIMA - mieszkanie 3-pok. 61.44 m2</td>\n      <td>Gdynia Dąbrowa</td>\n      <td>61.44</td>\n      <td>3</td>\n      <td>2024</td>\n      <td>10368.0</td>\n      <td>Mieszkanie</td>\n      <td>1</td>\n      <td>1</td>\n      <td>1</td>\n      <td>1</td>\n      <td>0</td>\n      <td>3</td>\n      <td>0</td>\n      <td>1</td>\n      <td>0</td>\n      <td>primary</td>\n      <td>Serdecznikowa</td>\n    </tr>\n    <tr>\n      <th>8004</th>\n      <td>8004</td>\n      <td>INPRO S.A. - OPTIMA - mieszkanie 2-pok. 47.22 ...</td>\n      <td>Gdynia Dąbrowa</td>\n      <td>47.00</td>\n      <td>2</td>\n      <td>2025</td>\n      <td>10584.0</td>\n      <td>Mieszkanie</td>\n      <td>1</td>\n      <td>1</td>\n      <td>1</td>\n      <td>1</td>\n      <td>0</td>\n      <td>1</td>\n      <td>0</td>\n      <td>1</td>\n      <td>0</td>\n      <td>primary</td>\n      <td>Serdecznikowa</td>\n    </tr>\n    <tr>\n      <th>8005</th>\n      <td>8005</td>\n      <td>INPRO S.A. - OPTIMA - mieszkanie 2-pok. 46.30 ...</td>\n      <td>Gdynia Dąbrowa</td>\n      <td>46.30</td>\n      <td>2</td>\n      <td>2025</td>\n      <td>10584.0</td>\n      <td>Mieszkanie</td>\n      <td>1</td>\n      <td>1</td>\n      <td>1</td>\n      <td>1</td>\n      <td>0</td>\n      <td>1</td>\n      <td>0</td>\n      <td>1</td>\n      <td>0</td>\n      <td>primary</td>\n      <td>Serdecznikowa</td>\n    </tr>\n    <tr>\n      <th>8006</th>\n      <td>8006</td>\n      <td>INPRO S.A. - OPTIMA - mieszkanie 3-pok. 65.17 ...</td>\n      <td>Gdynia Dąbrowa</td>\n      <td>65.17</td>\n      <td>3</td>\n      <td>2025</td>\n      <td>10260.0</td>\n      <td>Mieszkanie</td>\n      <td>1</td>\n      <td>1</td>\n      <td>1</td>\n      <td>1</td>\n      <td>0</td>\n      <td>1</td>\n      <td>0</td>\n      <td>1</td>\n      <td>0</td>\n      <td>primary</td>\n      <td>Serdecznikowa</td>\n    </tr>\n  </tbody>\n</table>\n<p>8007 rows × 19 columns</p>\n</div>"
     },
     "execution_count": 33,
     "metadata": {},
     "output_type": "execute_result"
    }
   ],
   "source": [
    "# Adding a comma in rows where it is missing\n",
    "converted_trojmiasto['district'] = converted_trojmiasto['district'].apply(lambda x: x if ' ' in x else x + ' null')\n",
    "converted_trojmiasto"
   ],
   "metadata": {
    "collapsed": false,
    "ExecuteTime": {
     "end_time": "2024-06-25T16:06:05.730021700Z",
     "start_time": "2024-06-25T16:06:05.464020Z"
    }
   },
   "id": "c3b6d6dbb40e1836"
  },
  {
   "cell_type": "code",
   "execution_count": 34,
   "outputs": [
    {
     "data": {
      "text/plain": "      Unnamed: 0                                              title  \\\n0              0         3pok 50m2 taras 10m2 blisko morza IIQ24 SE   \n1              1        Wysoki standard   4 pok   Oliwa   kameralne   \n2              2            Piękne 3 pokoje po remoncie, przy plaży   \n3              3    Widok na Jar Wilanowski - blok przy samym Parku   \n4              4         Energooszczędne Mieszkanie 75m2 - 4 pokoje   \n...          ...                                                ...   \n8002        8002   INPRO S.A. - OPTIMA - mieszkanie 3-pok. 56.33 m2   \n8003        8003   INPRO S.A. - OPTIMA - mieszkanie 3-pok. 61.44 m2   \n8004        8004  INPRO S.A. - OPTIMA - mieszkanie 2-pok. 47.22 ...   \n8005        8005  INPRO S.A. - OPTIMA - mieszkanie 2-pok. 46.30 ...   \n8006        8006  INPRO S.A. - OPTIMA - mieszkanie 3-pok. 65.17 ...   \n\n       district   area  number_of_rooms  year_of_creation  \\\n0       Letnica  59.00                3              2024   \n1         Oliwa  99.00                4              2020   \n2     Jelitkowo  41.07                3              1970   \n3         Chełm  63.10                3              1989   \n4          null  75.00                4              2024   \n...         ...    ...              ...               ...   \n8002    Dąbrowa  56.33                3              2024   \n8003    Dąbrowa  61.44                3              2024   \n8004    Dąbrowa  47.00                2              2025   \n8005    Dąbrowa  46.30                2              2025   \n8006    Dąbrowa  65.17                3              2025   \n\n      price_for_m2_in_PLN type_of_building  garage  balcony  internet  \\\n0                 12831.0       Mieszkanie       1        1         0   \n1                  2424.0       Mieszkanie       0        1         0   \n2                 19455.0       Mieszkanie       0        0         0   \n3                  9984.0       Mieszkanie       0        1         1   \n4                  5187.0       Mieszkanie       0        0         0   \n...                   ...              ...     ...      ...       ...   \n8002              10368.0       Mieszkanie       1        1         1   \n8003              10368.0       Mieszkanie       1        1         1   \n8004              10584.0       Mieszkanie       1        1         1   \n8005              10584.0       Mieszkanie       1        1         1   \n8006              10260.0       Mieszkanie       1        1         1   \n\n      parking  elevator   floor  terrace  basement  garden type_of_market  \\\n0           0         1       1        1         1       0      secondary   \n1           1         1       3        0         0       0      secondary   \n2           0         0       4        0         0       0      secondary   \n3           0         0       4        0         1       0      secondary   \n4           0         0  Parter        0         0       0      secondary   \n...       ...       ...     ...      ...       ...     ...            ...   \n8002        1         0       2        0         1       0        primary   \n8003        1         0       3        0         1       0        primary   \n8004        1         0       1        0         1       0        primary   \n8005        1         0       1        0         1       0        primary   \n8006        1         0       1        0         1       0        primary   \n\n                            street    city  \n0                             null  Gdańsk  \n1                           Opacka  Gdańsk  \n2                  ul. Tysiąclecia  Gdańsk  \n3      Prof. Romualda Cebertowicza  Gdańsk  \n4                             null  Gdańsk  \n...                            ...     ...  \n8002                 Serdecznikowa  Gdynia  \n8003                 Serdecznikowa  Gdynia  \n8004                 Serdecznikowa  Gdynia  \n8005                 Serdecznikowa  Gdynia  \n8006                 Serdecznikowa  Gdynia  \n\n[8007 rows x 20 columns]",
      "text/html": "<div>\n<style scoped>\n    .dataframe tbody tr th:only-of-type {\n        vertical-align: middle;\n    }\n\n    .dataframe tbody tr th {\n        vertical-align: top;\n    }\n\n    .dataframe thead th {\n        text-align: right;\n    }\n</style>\n<table border=\"1\" class=\"dataframe\">\n  <thead>\n    <tr style=\"text-align: right;\">\n      <th></th>\n      <th>Unnamed: 0</th>\n      <th>title</th>\n      <th>district</th>\n      <th>area</th>\n      <th>number_of_rooms</th>\n      <th>year_of_creation</th>\n      <th>price_for_m2_in_PLN</th>\n      <th>type_of_building</th>\n      <th>garage</th>\n      <th>balcony</th>\n      <th>internet</th>\n      <th>parking</th>\n      <th>elevator</th>\n      <th>floor</th>\n      <th>terrace</th>\n      <th>basement</th>\n      <th>garden</th>\n      <th>type_of_market</th>\n      <th>street</th>\n      <th>city</th>\n    </tr>\n  </thead>\n  <tbody>\n    <tr>\n      <th>0</th>\n      <td>0</td>\n      <td>3pok 50m2 taras 10m2 blisko morza IIQ24 SE</td>\n      <td>Letnica</td>\n      <td>59.00</td>\n      <td>3</td>\n      <td>2024</td>\n      <td>12831.0</td>\n      <td>Mieszkanie</td>\n      <td>1</td>\n      <td>1</td>\n      <td>0</td>\n      <td>0</td>\n      <td>1</td>\n      <td>1</td>\n      <td>1</td>\n      <td>1</td>\n      <td>0</td>\n      <td>secondary</td>\n      <td>null</td>\n      <td>Gdańsk</td>\n    </tr>\n    <tr>\n      <th>1</th>\n      <td>1</td>\n      <td>Wysoki standard   4 pok   Oliwa   kameralne</td>\n      <td>Oliwa</td>\n      <td>99.00</td>\n      <td>4</td>\n      <td>2020</td>\n      <td>2424.0</td>\n      <td>Mieszkanie</td>\n      <td>0</td>\n      <td>1</td>\n      <td>0</td>\n      <td>1</td>\n      <td>1</td>\n      <td>3</td>\n      <td>0</td>\n      <td>0</td>\n      <td>0</td>\n      <td>secondary</td>\n      <td>Opacka</td>\n      <td>Gdańsk</td>\n    </tr>\n    <tr>\n      <th>2</th>\n      <td>2</td>\n      <td>Piękne 3 pokoje po remoncie, przy plaży</td>\n      <td>Jelitkowo</td>\n      <td>41.07</td>\n      <td>3</td>\n      <td>1970</td>\n      <td>19455.0</td>\n      <td>Mieszkanie</td>\n      <td>0</td>\n      <td>0</td>\n      <td>0</td>\n      <td>0</td>\n      <td>0</td>\n      <td>4</td>\n      <td>0</td>\n      <td>0</td>\n      <td>0</td>\n      <td>secondary</td>\n      <td>ul. Tysiąclecia</td>\n      <td>Gdańsk</td>\n    </tr>\n    <tr>\n      <th>3</th>\n      <td>3</td>\n      <td>Widok na Jar Wilanowski - blok przy samym Parku</td>\n      <td>Chełm</td>\n      <td>63.10</td>\n      <td>3</td>\n      <td>1989</td>\n      <td>9984.0</td>\n      <td>Mieszkanie</td>\n      <td>0</td>\n      <td>1</td>\n      <td>1</td>\n      <td>0</td>\n      <td>0</td>\n      <td>4</td>\n      <td>0</td>\n      <td>1</td>\n      <td>0</td>\n      <td>secondary</td>\n      <td>Prof. Romualda Cebertowicza</td>\n      <td>Gdańsk</td>\n    </tr>\n    <tr>\n      <th>4</th>\n      <td>4</td>\n      <td>Energooszczędne Mieszkanie 75m2 - 4 pokoje</td>\n      <td>null</td>\n      <td>75.00</td>\n      <td>4</td>\n      <td>2024</td>\n      <td>5187.0</td>\n      <td>Mieszkanie</td>\n      <td>0</td>\n      <td>0</td>\n      <td>0</td>\n      <td>0</td>\n      <td>0</td>\n      <td>Parter</td>\n      <td>0</td>\n      <td>0</td>\n      <td>0</td>\n      <td>secondary</td>\n      <td>null</td>\n      <td>Gdańsk</td>\n    </tr>\n    <tr>\n      <th>...</th>\n      <td>...</td>\n      <td>...</td>\n      <td>...</td>\n      <td>...</td>\n      <td>...</td>\n      <td>...</td>\n      <td>...</td>\n      <td>...</td>\n      <td>...</td>\n      <td>...</td>\n      <td>...</td>\n      <td>...</td>\n      <td>...</td>\n      <td>...</td>\n      <td>...</td>\n      <td>...</td>\n      <td>...</td>\n      <td>...</td>\n      <td>...</td>\n      <td>...</td>\n    </tr>\n    <tr>\n      <th>8002</th>\n      <td>8002</td>\n      <td>INPRO S.A. - OPTIMA - mieszkanie 3-pok. 56.33 m2</td>\n      <td>Dąbrowa</td>\n      <td>56.33</td>\n      <td>3</td>\n      <td>2024</td>\n      <td>10368.0</td>\n      <td>Mieszkanie</td>\n      <td>1</td>\n      <td>1</td>\n      <td>1</td>\n      <td>1</td>\n      <td>0</td>\n      <td>2</td>\n      <td>0</td>\n      <td>1</td>\n      <td>0</td>\n      <td>primary</td>\n      <td>Serdecznikowa</td>\n      <td>Gdynia</td>\n    </tr>\n    <tr>\n      <th>8003</th>\n      <td>8003</td>\n      <td>INPRO S.A. - OPTIMA - mieszkanie 3-pok. 61.44 m2</td>\n      <td>Dąbrowa</td>\n      <td>61.44</td>\n      <td>3</td>\n      <td>2024</td>\n      <td>10368.0</td>\n      <td>Mieszkanie</td>\n      <td>1</td>\n      <td>1</td>\n      <td>1</td>\n      <td>1</td>\n      <td>0</td>\n      <td>3</td>\n      <td>0</td>\n      <td>1</td>\n      <td>0</td>\n      <td>primary</td>\n      <td>Serdecznikowa</td>\n      <td>Gdynia</td>\n    </tr>\n    <tr>\n      <th>8004</th>\n      <td>8004</td>\n      <td>INPRO S.A. - OPTIMA - mieszkanie 2-pok. 47.22 ...</td>\n      <td>Dąbrowa</td>\n      <td>47.00</td>\n      <td>2</td>\n      <td>2025</td>\n      <td>10584.0</td>\n      <td>Mieszkanie</td>\n      <td>1</td>\n      <td>1</td>\n      <td>1</td>\n      <td>1</td>\n      <td>0</td>\n      <td>1</td>\n      <td>0</td>\n      <td>1</td>\n      <td>0</td>\n      <td>primary</td>\n      <td>Serdecznikowa</td>\n      <td>Gdynia</td>\n    </tr>\n    <tr>\n      <th>8005</th>\n      <td>8005</td>\n      <td>INPRO S.A. - OPTIMA - mieszkanie 2-pok. 46.30 ...</td>\n      <td>Dąbrowa</td>\n      <td>46.30</td>\n      <td>2</td>\n      <td>2025</td>\n      <td>10584.0</td>\n      <td>Mieszkanie</td>\n      <td>1</td>\n      <td>1</td>\n      <td>1</td>\n      <td>1</td>\n      <td>0</td>\n      <td>1</td>\n      <td>0</td>\n      <td>1</td>\n      <td>0</td>\n      <td>primary</td>\n      <td>Serdecznikowa</td>\n      <td>Gdynia</td>\n    </tr>\n    <tr>\n      <th>8006</th>\n      <td>8006</td>\n      <td>INPRO S.A. - OPTIMA - mieszkanie 3-pok. 65.17 ...</td>\n      <td>Dąbrowa</td>\n      <td>65.17</td>\n      <td>3</td>\n      <td>2025</td>\n      <td>10260.0</td>\n      <td>Mieszkanie</td>\n      <td>1</td>\n      <td>1</td>\n      <td>1</td>\n      <td>1</td>\n      <td>0</td>\n      <td>1</td>\n      <td>0</td>\n      <td>1</td>\n      <td>0</td>\n      <td>primary</td>\n      <td>Serdecznikowa</td>\n      <td>Gdynia</td>\n    </tr>\n  </tbody>\n</table>\n<p>8007 rows × 20 columns</p>\n</div>"
     },
     "execution_count": 34,
     "metadata": {},
     "output_type": "execute_result"
    }
   ],
   "source": [
    "# Splitting district column into two columns based on first space\n",
    "converted_trojmiasto[['city', 'district']] = converted_trojmiasto['district'].str.split(' ', n=1, expand=True)\n",
    "converted_trojmiasto"
   ],
   "metadata": {
    "collapsed": false,
    "ExecuteTime": {
     "end_time": "2024-06-25T16:06:05.731022Z",
     "start_time": "2024-06-25T16:06:05.497020500Z"
    }
   },
   "id": "d7a242cae9848d08"
  },
  {
   "cell_type": "code",
   "execution_count": 35,
   "outputs": [
    {
     "data": {
      "text/plain": "city\ngdynia     4567\ngdańsk     3053\nsopot       381\ngdansk        3\ngdański       3\nName: count, dtype: int64"
     },
     "execution_count": 35,
     "metadata": {},
     "output_type": "execute_result"
    }
   ],
   "source": [
    "# Converting all cities to lowercase\n",
    "converted_trojmiasto['city'] = converted_trojmiasto['city'].str.lower()\n",
    "converted_trojmiasto['city'].value_counts()"
   ],
   "metadata": {
    "collapsed": false,
    "ExecuteTime": {
     "end_time": "2024-06-25T16:06:05.760022500Z",
     "start_time": "2024-06-25T16:06:05.528025200Z"
    }
   },
   "id": "a50d8f52ad379339"
  },
  {
   "cell_type": "code",
   "execution_count": 36,
   "outputs": [],
   "source": [
    "# Dropping the rows with city 'gdański'\n",
    "converted_trojmiasto = converted_trojmiasto[converted_trojmiasto['city'] != 'gdański']"
   ],
   "metadata": {
    "collapsed": false,
    "ExecuteTime": {
     "end_time": "2024-06-25T16:06:05.760022500Z",
     "start_time": "2024-06-25T16:06:05.543021400Z"
    }
   },
   "id": "32c45190a5297e6a"
  },
  {
   "cell_type": "code",
   "execution_count": 37,
   "outputs": [
    {
     "data": {
      "text/plain": "city\ngdynia    4567\ngdańsk    3053\nsopot      381\ngdansk       3\nName: count, dtype: int64"
     },
     "execution_count": 37,
     "metadata": {},
     "output_type": "execute_result"
    }
   ],
   "source": [
    "converted_trojmiasto['city'].value_counts()\n"
   ],
   "metadata": {
    "collapsed": false,
    "ExecuteTime": {
     "end_time": "2024-06-25T16:06:05.761022500Z",
     "start_time": "2024-06-25T16:06:05.558024800Z"
    }
   },
   "id": "c65e2a62035d5893"
  },
  {
   "cell_type": "code",
   "execution_count": 38,
   "outputs": [
    {
     "name": "stderr",
     "output_type": "stream",
     "text": [
      "C:\\Users\\kubak\\AppData\\Local\\Temp\\ipykernel_6072\\1172770338.py:2: SettingWithCopyWarning: \n",
      "A value is trying to be set on a copy of a slice from a DataFrame.\n",
      "Try using .loc[row_indexer,col_indexer] = value instead\n",
      "\n",
      "See the caveats in the documentation: https://pandas.pydata.org/pandas-docs/stable/user_guide/indexing.html#returning-a-view-versus-a-copy\n",
      "  converted_trojmiasto['city'] = converted_trojmiasto['city'].str.replace('ń', 'n')\n"
     ]
    },
    {
     "data": {
      "text/plain": "city\ngdynia    4567\ngdansk    3056\nsopot      381\nName: count, dtype: int64"
     },
     "execution_count": 38,
     "metadata": {},
     "output_type": "execute_result"
    }
   ],
   "source": [
    "#replacing the 'ń' character with 'n'\n",
    "converted_trojmiasto['city'] = converted_trojmiasto['city'].str.replace('ń', 'n')\n",
    "converted_trojmiasto['city'].value_counts()"
   ],
   "metadata": {
    "collapsed": false,
    "ExecuteTime": {
     "end_time": "2024-06-25T16:06:05.762018100Z",
     "start_time": "2024-06-25T16:06:05.574025500Z"
    }
   },
   "id": "e7d621d30666e497"
  },
  {
   "cell_type": "code",
   "execution_count": 39,
   "outputs": [],
   "source": [
    "trojmiasto_data_converted = converted_trojmiasto"
   ],
   "metadata": {
    "collapsed": false,
    "ExecuteTime": {
     "end_time": "2024-06-25T16:06:05.762018100Z",
     "start_time": "2024-06-25T16:06:05.592018300Z"
    }
   },
   "id": "979d974ab051581d"
  },
  {
   "cell_type": "code",
   "execution_count": 40,
   "outputs": [
    {
     "name": "stdout",
     "output_type": "stream",
     "text": [
      "<class 'pandas.core.frame.DataFrame'>\n",
      "Index: 8004 entries, 0 to 8006\n",
      "Data columns (total 20 columns):\n",
      " #   Column               Non-Null Count  Dtype  \n",
      "---  ------               --------------  -----  \n",
      " 0   Unnamed: 0           8004 non-null   int64  \n",
      " 1   title                8004 non-null   object \n",
      " 2   district             8004 non-null   object \n",
      " 3   area                 8002 non-null   float64\n",
      " 4   number_of_rooms      8004 non-null   int64  \n",
      " 5   year_of_creation     8004 non-null   int64  \n",
      " 6   price_for_m2_in_PLN  8002 non-null   float64\n",
      " 7   type_of_building     8004 non-null   object \n",
      " 8   garage               8004 non-null   int64  \n",
      " 9   balcony              8004 non-null   int64  \n",
      " 10  internet             8004 non-null   int64  \n",
      " 11  parking              8004 non-null   int64  \n",
      " 12  elevator             8004 non-null   int64  \n",
      " 13  floor                7219 non-null   object \n",
      " 14  terrace              8004 non-null   int64  \n",
      " 15  basement             8004 non-null   int64  \n",
      " 16  garden               8004 non-null   int64  \n",
      " 17  type_of_market       8004 non-null   object \n",
      " 18  street               8004 non-null   object \n",
      " 19  city                 8004 non-null   object \n",
      "dtypes: float64(2), int64(11), object(7)\n",
      "memory usage: 1.3+ MB\n"
     ]
    }
   ],
   "source": [
    "trojmiasto_data_converted.info()\n"
   ],
   "metadata": {
    "collapsed": false,
    "ExecuteTime": {
     "end_time": "2024-06-25T16:06:05.763018300Z",
     "start_time": "2024-06-25T16:06:05.606016100Z"
    }
   },
   "id": "22556e9889578b99"
  },
  {
   "cell_type": "code",
   "execution_count": 41,
   "outputs": [
    {
     "data": {
      "text/plain": "      Unnamed: 0                                              title  \\\n0              0         3pok 50m2 taras 10m2 blisko morza IIQ24 SE   \n1              1        Wysoki standard   4 pok   Oliwa   kameralne   \n2              2            Piękne 3 pokoje po remoncie, przy plaży   \n3              3    Widok na Jar Wilanowski - blok przy samym Parku   \n4              4         Energooszczędne Mieszkanie 75m2 - 4 pokoje   \n...          ...                                                ...   \n8002        8002   INPRO S.A. - OPTIMA - mieszkanie 3-pok. 56.33 m2   \n8003        8003   INPRO S.A. - OPTIMA - mieszkanie 3-pok. 61.44 m2   \n8004        8004  INPRO S.A. - OPTIMA - mieszkanie 2-pok. 47.22 ...   \n8005        8005  INPRO S.A. - OPTIMA - mieszkanie 2-pok. 46.30 ...   \n8006        8006  INPRO S.A. - OPTIMA - mieszkanie 3-pok. 65.17 ...   \n\n       district   area  number_of_rooms  year_of_creation  \\\n0       Letnica  59.00                3              2024   \n1         Oliwa  99.00                4              2020   \n2     Jelitkowo  41.07                3              1970   \n3         Chełm  63.10                3              1989   \n4          null  75.00                4              2024   \n...         ...    ...              ...               ...   \n8002    Dąbrowa  56.33                3              2024   \n8003    Dąbrowa  61.44                3              2024   \n8004    Dąbrowa  47.00                2              2025   \n8005    Dąbrowa  46.30                2              2025   \n8006    Dąbrowa  65.17                3              2025   \n\n      price_for_m2_in_PLN type_of_building  garage  balcony  internet  \\\n0                 12831.0       Mieszkanie       1        1         0   \n1                  2424.0       Mieszkanie       0        1         0   \n2                 19455.0       Mieszkanie       0        0         0   \n3                  9984.0       Mieszkanie       0        1         1   \n4                  5187.0       Mieszkanie       0        0         0   \n...                   ...              ...     ...      ...       ...   \n8002              10368.0       Mieszkanie       1        1         1   \n8003              10368.0       Mieszkanie       1        1         1   \n8004              10584.0       Mieszkanie       1        1         1   \n8005              10584.0       Mieszkanie       1        1         1   \n8006              10260.0       Mieszkanie       1        1         1   \n\n      parking  elevator   floor  terrace  basement  garden type_of_market  \\\n0           0         1       1        1         1       0      secondary   \n1           1         1       3        0         0       0      secondary   \n2           0         0       4        0         0       0      secondary   \n3           0         0       4        0         1       0      secondary   \n4           0         0  Parter        0         0       0      secondary   \n...       ...       ...     ...      ...       ...     ...            ...   \n8002        1         0       2        0         1       0        primary   \n8003        1         0       3        0         1       0        primary   \n8004        1         0       1        0         1       0        primary   \n8005        1         0       1        0         1       0        primary   \n8006        1         0       1        0         1       0        primary   \n\n                            street    city  \n0                             null  gdansk  \n1                           Opacka  gdansk  \n2                  ul. Tysiąclecia  gdansk  \n3      Prof. Romualda Cebertowicza  gdansk  \n4                             null  gdansk  \n...                            ...     ...  \n8002                 Serdecznikowa  gdynia  \n8003                 Serdecznikowa  gdynia  \n8004                 Serdecznikowa  gdynia  \n8005                 Serdecznikowa  gdynia  \n8006                 Serdecznikowa  gdynia  \n\n[8004 rows x 20 columns]",
      "text/html": "<div>\n<style scoped>\n    .dataframe tbody tr th:only-of-type {\n        vertical-align: middle;\n    }\n\n    .dataframe tbody tr th {\n        vertical-align: top;\n    }\n\n    .dataframe thead th {\n        text-align: right;\n    }\n</style>\n<table border=\"1\" class=\"dataframe\">\n  <thead>\n    <tr style=\"text-align: right;\">\n      <th></th>\n      <th>Unnamed: 0</th>\n      <th>title</th>\n      <th>district</th>\n      <th>area</th>\n      <th>number_of_rooms</th>\n      <th>year_of_creation</th>\n      <th>price_for_m2_in_PLN</th>\n      <th>type_of_building</th>\n      <th>garage</th>\n      <th>balcony</th>\n      <th>internet</th>\n      <th>parking</th>\n      <th>elevator</th>\n      <th>floor</th>\n      <th>terrace</th>\n      <th>basement</th>\n      <th>garden</th>\n      <th>type_of_market</th>\n      <th>street</th>\n      <th>city</th>\n    </tr>\n  </thead>\n  <tbody>\n    <tr>\n      <th>0</th>\n      <td>0</td>\n      <td>3pok 50m2 taras 10m2 blisko morza IIQ24 SE</td>\n      <td>Letnica</td>\n      <td>59.00</td>\n      <td>3</td>\n      <td>2024</td>\n      <td>12831.0</td>\n      <td>Mieszkanie</td>\n      <td>1</td>\n      <td>1</td>\n      <td>0</td>\n      <td>0</td>\n      <td>1</td>\n      <td>1</td>\n      <td>1</td>\n      <td>1</td>\n      <td>0</td>\n      <td>secondary</td>\n      <td>null</td>\n      <td>gdansk</td>\n    </tr>\n    <tr>\n      <th>1</th>\n      <td>1</td>\n      <td>Wysoki standard   4 pok   Oliwa   kameralne</td>\n      <td>Oliwa</td>\n      <td>99.00</td>\n      <td>4</td>\n      <td>2020</td>\n      <td>2424.0</td>\n      <td>Mieszkanie</td>\n      <td>0</td>\n      <td>1</td>\n      <td>0</td>\n      <td>1</td>\n      <td>1</td>\n      <td>3</td>\n      <td>0</td>\n      <td>0</td>\n      <td>0</td>\n      <td>secondary</td>\n      <td>Opacka</td>\n      <td>gdansk</td>\n    </tr>\n    <tr>\n      <th>2</th>\n      <td>2</td>\n      <td>Piękne 3 pokoje po remoncie, przy plaży</td>\n      <td>Jelitkowo</td>\n      <td>41.07</td>\n      <td>3</td>\n      <td>1970</td>\n      <td>19455.0</td>\n      <td>Mieszkanie</td>\n      <td>0</td>\n      <td>0</td>\n      <td>0</td>\n      <td>0</td>\n      <td>0</td>\n      <td>4</td>\n      <td>0</td>\n      <td>0</td>\n      <td>0</td>\n      <td>secondary</td>\n      <td>ul. Tysiąclecia</td>\n      <td>gdansk</td>\n    </tr>\n    <tr>\n      <th>3</th>\n      <td>3</td>\n      <td>Widok na Jar Wilanowski - blok przy samym Parku</td>\n      <td>Chełm</td>\n      <td>63.10</td>\n      <td>3</td>\n      <td>1989</td>\n      <td>9984.0</td>\n      <td>Mieszkanie</td>\n      <td>0</td>\n      <td>1</td>\n      <td>1</td>\n      <td>0</td>\n      <td>0</td>\n      <td>4</td>\n      <td>0</td>\n      <td>1</td>\n      <td>0</td>\n      <td>secondary</td>\n      <td>Prof. Romualda Cebertowicza</td>\n      <td>gdansk</td>\n    </tr>\n    <tr>\n      <th>4</th>\n      <td>4</td>\n      <td>Energooszczędne Mieszkanie 75m2 - 4 pokoje</td>\n      <td>null</td>\n      <td>75.00</td>\n      <td>4</td>\n      <td>2024</td>\n      <td>5187.0</td>\n      <td>Mieszkanie</td>\n      <td>0</td>\n      <td>0</td>\n      <td>0</td>\n      <td>0</td>\n      <td>0</td>\n      <td>Parter</td>\n      <td>0</td>\n      <td>0</td>\n      <td>0</td>\n      <td>secondary</td>\n      <td>null</td>\n      <td>gdansk</td>\n    </tr>\n    <tr>\n      <th>...</th>\n      <td>...</td>\n      <td>...</td>\n      <td>...</td>\n      <td>...</td>\n      <td>...</td>\n      <td>...</td>\n      <td>...</td>\n      <td>...</td>\n      <td>...</td>\n      <td>...</td>\n      <td>...</td>\n      <td>...</td>\n      <td>...</td>\n      <td>...</td>\n      <td>...</td>\n      <td>...</td>\n      <td>...</td>\n      <td>...</td>\n      <td>...</td>\n      <td>...</td>\n    </tr>\n    <tr>\n      <th>8002</th>\n      <td>8002</td>\n      <td>INPRO S.A. - OPTIMA - mieszkanie 3-pok. 56.33 m2</td>\n      <td>Dąbrowa</td>\n      <td>56.33</td>\n      <td>3</td>\n      <td>2024</td>\n      <td>10368.0</td>\n      <td>Mieszkanie</td>\n      <td>1</td>\n      <td>1</td>\n      <td>1</td>\n      <td>1</td>\n      <td>0</td>\n      <td>2</td>\n      <td>0</td>\n      <td>1</td>\n      <td>0</td>\n      <td>primary</td>\n      <td>Serdecznikowa</td>\n      <td>gdynia</td>\n    </tr>\n    <tr>\n      <th>8003</th>\n      <td>8003</td>\n      <td>INPRO S.A. - OPTIMA - mieszkanie 3-pok. 61.44 m2</td>\n      <td>Dąbrowa</td>\n      <td>61.44</td>\n      <td>3</td>\n      <td>2024</td>\n      <td>10368.0</td>\n      <td>Mieszkanie</td>\n      <td>1</td>\n      <td>1</td>\n      <td>1</td>\n      <td>1</td>\n      <td>0</td>\n      <td>3</td>\n      <td>0</td>\n      <td>1</td>\n      <td>0</td>\n      <td>primary</td>\n      <td>Serdecznikowa</td>\n      <td>gdynia</td>\n    </tr>\n    <tr>\n      <th>8004</th>\n      <td>8004</td>\n      <td>INPRO S.A. - OPTIMA - mieszkanie 2-pok. 47.22 ...</td>\n      <td>Dąbrowa</td>\n      <td>47.00</td>\n      <td>2</td>\n      <td>2025</td>\n      <td>10584.0</td>\n      <td>Mieszkanie</td>\n      <td>1</td>\n      <td>1</td>\n      <td>1</td>\n      <td>1</td>\n      <td>0</td>\n      <td>1</td>\n      <td>0</td>\n      <td>1</td>\n      <td>0</td>\n      <td>primary</td>\n      <td>Serdecznikowa</td>\n      <td>gdynia</td>\n    </tr>\n    <tr>\n      <th>8005</th>\n      <td>8005</td>\n      <td>INPRO S.A. - OPTIMA - mieszkanie 2-pok. 46.30 ...</td>\n      <td>Dąbrowa</td>\n      <td>46.30</td>\n      <td>2</td>\n      <td>2025</td>\n      <td>10584.0</td>\n      <td>Mieszkanie</td>\n      <td>1</td>\n      <td>1</td>\n      <td>1</td>\n      <td>1</td>\n      <td>0</td>\n      <td>1</td>\n      <td>0</td>\n      <td>1</td>\n      <td>0</td>\n      <td>primary</td>\n      <td>Serdecznikowa</td>\n      <td>gdynia</td>\n    </tr>\n    <tr>\n      <th>8006</th>\n      <td>8006</td>\n      <td>INPRO S.A. - OPTIMA - mieszkanie 3-pok. 65.17 ...</td>\n      <td>Dąbrowa</td>\n      <td>65.17</td>\n      <td>3</td>\n      <td>2025</td>\n      <td>10260.0</td>\n      <td>Mieszkanie</td>\n      <td>1</td>\n      <td>1</td>\n      <td>1</td>\n      <td>1</td>\n      <td>0</td>\n      <td>1</td>\n      <td>0</td>\n      <td>1</td>\n      <td>0</td>\n      <td>primary</td>\n      <td>Serdecznikowa</td>\n      <td>gdynia</td>\n    </tr>\n  </tbody>\n</table>\n<p>8004 rows × 20 columns</p>\n</div>"
     },
     "execution_count": 41,
     "metadata": {},
     "output_type": "execute_result"
    }
   ],
   "source": [
    "trojmiasto_data_converted"
   ],
   "metadata": {
    "collapsed": false,
    "ExecuteTime": {
     "end_time": "2024-06-25T16:06:05.764023Z",
     "start_time": "2024-06-25T16:06:05.640018100Z"
    }
   },
   "id": "5174a864ae37963a"
  },
  {
   "cell_type": "code",
   "execution_count": 42,
   "outputs": [],
   "source": [
    "trojmiasto_data_converted = trojmiasto_data_converted.drop_duplicates(subset=['title', 'area', 'price_for_m2_in_PLN', 'year_of_creation', 'district', 'number_of_rooms', 'type_of_building', 'street'])"
   ],
   "metadata": {
    "collapsed": false,
    "ExecuteTime": {
     "end_time": "2024-06-25T16:06:05.764023Z",
     "start_time": "2024-06-25T16:06:05.670020600Z"
    }
   },
   "id": "1369d02b25ca2d3d"
  },
  {
   "cell_type": "code",
   "execution_count": 43,
   "outputs": [
    {
     "data": {
      "text/plain": "      Unnamed: 0                                              title  \\\n0              0         3pok 50m2 taras 10m2 blisko morza IIQ24 SE   \n1              1        Wysoki standard   4 pok   Oliwa   kameralne   \n2              2            Piękne 3 pokoje po remoncie, przy plaży   \n3              3    Widok na Jar Wilanowski - blok przy samym Parku   \n4              4         Energooszczędne Mieszkanie 75m2 - 4 pokoje   \n...          ...                                                ...   \n8002        8002   INPRO S.A. - OPTIMA - mieszkanie 3-pok. 56.33 m2   \n8003        8003   INPRO S.A. - OPTIMA - mieszkanie 3-pok. 61.44 m2   \n8004        8004  INPRO S.A. - OPTIMA - mieszkanie 2-pok. 47.22 ...   \n8005        8005  INPRO S.A. - OPTIMA - mieszkanie 2-pok. 46.30 ...   \n8006        8006  INPRO S.A. - OPTIMA - mieszkanie 3-pok. 65.17 ...   \n\n       district   area  number_of_rooms  year_of_creation  \\\n0       Letnica  59.00                3              2024   \n1         Oliwa  99.00                4              2020   \n2     Jelitkowo  41.07                3              1970   \n3         Chełm  63.10                3              1989   \n4          null  75.00                4              2024   \n...         ...    ...              ...               ...   \n8002    Dąbrowa  56.33                3              2024   \n8003    Dąbrowa  61.44                3              2024   \n8004    Dąbrowa  47.00                2              2025   \n8005    Dąbrowa  46.30                2              2025   \n8006    Dąbrowa  65.17                3              2025   \n\n      price_for_m2_in_PLN type_of_building  garage  balcony  internet  \\\n0                 12831.0       Mieszkanie       1        1         0   \n1                  2424.0       Mieszkanie       0        1         0   \n2                 19455.0       Mieszkanie       0        0         0   \n3                  9984.0       Mieszkanie       0        1         1   \n4                  5187.0       Mieszkanie       0        0         0   \n...                   ...              ...     ...      ...       ...   \n8002              10368.0       Mieszkanie       1        1         1   \n8003              10368.0       Mieszkanie       1        1         1   \n8004              10584.0       Mieszkanie       1        1         1   \n8005              10584.0       Mieszkanie       1        1         1   \n8006              10260.0       Mieszkanie       1        1         1   \n\n      parking  elevator   floor  terrace  basement  garden type_of_market  \\\n0           0         1       1        1         1       0      secondary   \n1           1         1       3        0         0       0      secondary   \n2           0         0       4        0         0       0      secondary   \n3           0         0       4        0         1       0      secondary   \n4           0         0  Parter        0         0       0      secondary   \n...       ...       ...     ...      ...       ...     ...            ...   \n8002        1         0       2        0         1       0        primary   \n8003        1         0       3        0         1       0        primary   \n8004        1         0       1        0         1       0        primary   \n8005        1         0       1        0         1       0        primary   \n8006        1         0       1        0         1       0        primary   \n\n                            street    city  \n0                             null  gdansk  \n1                           Opacka  gdansk  \n2                  ul. Tysiąclecia  gdansk  \n3      Prof. Romualda Cebertowicza  gdansk  \n4                             null  gdansk  \n...                            ...     ...  \n8002                 Serdecznikowa  gdynia  \n8003                 Serdecznikowa  gdynia  \n8004                 Serdecznikowa  gdynia  \n8005                 Serdecznikowa  gdynia  \n8006                 Serdecznikowa  gdynia  \n\n[7769 rows x 20 columns]",
      "text/html": "<div>\n<style scoped>\n    .dataframe tbody tr th:only-of-type {\n        vertical-align: middle;\n    }\n\n    .dataframe tbody tr th {\n        vertical-align: top;\n    }\n\n    .dataframe thead th {\n        text-align: right;\n    }\n</style>\n<table border=\"1\" class=\"dataframe\">\n  <thead>\n    <tr style=\"text-align: right;\">\n      <th></th>\n      <th>Unnamed: 0</th>\n      <th>title</th>\n      <th>district</th>\n      <th>area</th>\n      <th>number_of_rooms</th>\n      <th>year_of_creation</th>\n      <th>price_for_m2_in_PLN</th>\n      <th>type_of_building</th>\n      <th>garage</th>\n      <th>balcony</th>\n      <th>internet</th>\n      <th>parking</th>\n      <th>elevator</th>\n      <th>floor</th>\n      <th>terrace</th>\n      <th>basement</th>\n      <th>garden</th>\n      <th>type_of_market</th>\n      <th>street</th>\n      <th>city</th>\n    </tr>\n  </thead>\n  <tbody>\n    <tr>\n      <th>0</th>\n      <td>0</td>\n      <td>3pok 50m2 taras 10m2 blisko morza IIQ24 SE</td>\n      <td>Letnica</td>\n      <td>59.00</td>\n      <td>3</td>\n      <td>2024</td>\n      <td>12831.0</td>\n      <td>Mieszkanie</td>\n      <td>1</td>\n      <td>1</td>\n      <td>0</td>\n      <td>0</td>\n      <td>1</td>\n      <td>1</td>\n      <td>1</td>\n      <td>1</td>\n      <td>0</td>\n      <td>secondary</td>\n      <td>null</td>\n      <td>gdansk</td>\n    </tr>\n    <tr>\n      <th>1</th>\n      <td>1</td>\n      <td>Wysoki standard   4 pok   Oliwa   kameralne</td>\n      <td>Oliwa</td>\n      <td>99.00</td>\n      <td>4</td>\n      <td>2020</td>\n      <td>2424.0</td>\n      <td>Mieszkanie</td>\n      <td>0</td>\n      <td>1</td>\n      <td>0</td>\n      <td>1</td>\n      <td>1</td>\n      <td>3</td>\n      <td>0</td>\n      <td>0</td>\n      <td>0</td>\n      <td>secondary</td>\n      <td>Opacka</td>\n      <td>gdansk</td>\n    </tr>\n    <tr>\n      <th>2</th>\n      <td>2</td>\n      <td>Piękne 3 pokoje po remoncie, przy plaży</td>\n      <td>Jelitkowo</td>\n      <td>41.07</td>\n      <td>3</td>\n      <td>1970</td>\n      <td>19455.0</td>\n      <td>Mieszkanie</td>\n      <td>0</td>\n      <td>0</td>\n      <td>0</td>\n      <td>0</td>\n      <td>0</td>\n      <td>4</td>\n      <td>0</td>\n      <td>0</td>\n      <td>0</td>\n      <td>secondary</td>\n      <td>ul. Tysiąclecia</td>\n      <td>gdansk</td>\n    </tr>\n    <tr>\n      <th>3</th>\n      <td>3</td>\n      <td>Widok na Jar Wilanowski - blok przy samym Parku</td>\n      <td>Chełm</td>\n      <td>63.10</td>\n      <td>3</td>\n      <td>1989</td>\n      <td>9984.0</td>\n      <td>Mieszkanie</td>\n      <td>0</td>\n      <td>1</td>\n      <td>1</td>\n      <td>0</td>\n      <td>0</td>\n      <td>4</td>\n      <td>0</td>\n      <td>1</td>\n      <td>0</td>\n      <td>secondary</td>\n      <td>Prof. Romualda Cebertowicza</td>\n      <td>gdansk</td>\n    </tr>\n    <tr>\n      <th>4</th>\n      <td>4</td>\n      <td>Energooszczędne Mieszkanie 75m2 - 4 pokoje</td>\n      <td>null</td>\n      <td>75.00</td>\n      <td>4</td>\n      <td>2024</td>\n      <td>5187.0</td>\n      <td>Mieszkanie</td>\n      <td>0</td>\n      <td>0</td>\n      <td>0</td>\n      <td>0</td>\n      <td>0</td>\n      <td>Parter</td>\n      <td>0</td>\n      <td>0</td>\n      <td>0</td>\n      <td>secondary</td>\n      <td>null</td>\n      <td>gdansk</td>\n    </tr>\n    <tr>\n      <th>...</th>\n      <td>...</td>\n      <td>...</td>\n      <td>...</td>\n      <td>...</td>\n      <td>...</td>\n      <td>...</td>\n      <td>...</td>\n      <td>...</td>\n      <td>...</td>\n      <td>...</td>\n      <td>...</td>\n      <td>...</td>\n      <td>...</td>\n      <td>...</td>\n      <td>...</td>\n      <td>...</td>\n      <td>...</td>\n      <td>...</td>\n      <td>...</td>\n      <td>...</td>\n    </tr>\n    <tr>\n      <th>8002</th>\n      <td>8002</td>\n      <td>INPRO S.A. - OPTIMA - mieszkanie 3-pok. 56.33 m2</td>\n      <td>Dąbrowa</td>\n      <td>56.33</td>\n      <td>3</td>\n      <td>2024</td>\n      <td>10368.0</td>\n      <td>Mieszkanie</td>\n      <td>1</td>\n      <td>1</td>\n      <td>1</td>\n      <td>1</td>\n      <td>0</td>\n      <td>2</td>\n      <td>0</td>\n      <td>1</td>\n      <td>0</td>\n      <td>primary</td>\n      <td>Serdecznikowa</td>\n      <td>gdynia</td>\n    </tr>\n    <tr>\n      <th>8003</th>\n      <td>8003</td>\n      <td>INPRO S.A. - OPTIMA - mieszkanie 3-pok. 61.44 m2</td>\n      <td>Dąbrowa</td>\n      <td>61.44</td>\n      <td>3</td>\n      <td>2024</td>\n      <td>10368.0</td>\n      <td>Mieszkanie</td>\n      <td>1</td>\n      <td>1</td>\n      <td>1</td>\n      <td>1</td>\n      <td>0</td>\n      <td>3</td>\n      <td>0</td>\n      <td>1</td>\n      <td>0</td>\n      <td>primary</td>\n      <td>Serdecznikowa</td>\n      <td>gdynia</td>\n    </tr>\n    <tr>\n      <th>8004</th>\n      <td>8004</td>\n      <td>INPRO S.A. - OPTIMA - mieszkanie 2-pok. 47.22 ...</td>\n      <td>Dąbrowa</td>\n      <td>47.00</td>\n      <td>2</td>\n      <td>2025</td>\n      <td>10584.0</td>\n      <td>Mieszkanie</td>\n      <td>1</td>\n      <td>1</td>\n      <td>1</td>\n      <td>1</td>\n      <td>0</td>\n      <td>1</td>\n      <td>0</td>\n      <td>1</td>\n      <td>0</td>\n      <td>primary</td>\n      <td>Serdecznikowa</td>\n      <td>gdynia</td>\n    </tr>\n    <tr>\n      <th>8005</th>\n      <td>8005</td>\n      <td>INPRO S.A. - OPTIMA - mieszkanie 2-pok. 46.30 ...</td>\n      <td>Dąbrowa</td>\n      <td>46.30</td>\n      <td>2</td>\n      <td>2025</td>\n      <td>10584.0</td>\n      <td>Mieszkanie</td>\n      <td>1</td>\n      <td>1</td>\n      <td>1</td>\n      <td>1</td>\n      <td>0</td>\n      <td>1</td>\n      <td>0</td>\n      <td>1</td>\n      <td>0</td>\n      <td>primary</td>\n      <td>Serdecznikowa</td>\n      <td>gdynia</td>\n    </tr>\n    <tr>\n      <th>8006</th>\n      <td>8006</td>\n      <td>INPRO S.A. - OPTIMA - mieszkanie 3-pok. 65.17 ...</td>\n      <td>Dąbrowa</td>\n      <td>65.17</td>\n      <td>3</td>\n      <td>2025</td>\n      <td>10260.0</td>\n      <td>Mieszkanie</td>\n      <td>1</td>\n      <td>1</td>\n      <td>1</td>\n      <td>1</td>\n      <td>0</td>\n      <td>1</td>\n      <td>0</td>\n      <td>1</td>\n      <td>0</td>\n      <td>primary</td>\n      <td>Serdecznikowa</td>\n      <td>gdynia</td>\n    </tr>\n  </tbody>\n</table>\n<p>7769 rows × 20 columns</p>\n</div>"
     },
     "execution_count": 43,
     "metadata": {},
     "output_type": "execute_result"
    }
   ],
   "source": [
    "trojmiasto_data_converted"
   ],
   "metadata": {
    "collapsed": false,
    "ExecuteTime": {
     "end_time": "2024-06-25T16:06:05.765020300Z",
     "start_time": "2024-06-25T16:06:05.686023Z"
    }
   },
   "id": "f8727ce60a8ab63e"
  },
  {
   "cell_type": "code",
   "execution_count": 44,
   "outputs": [
    {
     "name": "stderr",
     "output_type": "stream",
     "text": [
      "C:\\Users\\kubak\\AppData\\Local\\Temp\\ipykernel_6072\\3838199251.py:1: SettingWithCopyWarning: \n",
      "A value is trying to be set on a copy of a slice from a DataFrame.\n",
      "Try using .loc[row_indexer,col_indexer] = value instead\n",
      "\n",
      "See the caveats in the documentation: https://pandas.pydata.org/pandas-docs/stable/user_guide/indexing.html#returning-a-view-versus-a-copy\n",
      "  trojmiasto_data_converted['floor'] = trojmiasto_data_converted['floor'].replace('Parter', '0')\n"
     ]
    },
    {
     "data": {
      "text/plain": "      Unnamed: 0                                              title  \\\n0              0         3pok 50m2 taras 10m2 blisko morza IIQ24 SE   \n1              1        Wysoki standard   4 pok   Oliwa   kameralne   \n2              2            Piękne 3 pokoje po remoncie, przy plaży   \n3              3    Widok na Jar Wilanowski - blok przy samym Parku   \n4              4         Energooszczędne Mieszkanie 75m2 - 4 pokoje   \n...          ...                                                ...   \n8002        8002   INPRO S.A. - OPTIMA - mieszkanie 3-pok. 56.33 m2   \n8003        8003   INPRO S.A. - OPTIMA - mieszkanie 3-pok. 61.44 m2   \n8004        8004  INPRO S.A. - OPTIMA - mieszkanie 2-pok. 47.22 ...   \n8005        8005  INPRO S.A. - OPTIMA - mieszkanie 2-pok. 46.30 ...   \n8006        8006  INPRO S.A. - OPTIMA - mieszkanie 3-pok. 65.17 ...   \n\n       district   area  number_of_rooms  year_of_creation  \\\n0       Letnica  59.00                3              2024   \n1         Oliwa  99.00                4              2020   \n2     Jelitkowo  41.07                3              1970   \n3         Chełm  63.10                3              1989   \n4          null  75.00                4              2024   \n...         ...    ...              ...               ...   \n8002    Dąbrowa  56.33                3              2024   \n8003    Dąbrowa  61.44                3              2024   \n8004    Dąbrowa  47.00                2              2025   \n8005    Dąbrowa  46.30                2              2025   \n8006    Dąbrowa  65.17                3              2025   \n\n      price_for_m2_in_PLN type_of_building  garage  balcony  internet  \\\n0                 12831.0       Mieszkanie       1        1         0   \n1                  2424.0       Mieszkanie       0        1         0   \n2                 19455.0       Mieszkanie       0        0         0   \n3                  9984.0       Mieszkanie       0        1         1   \n4                  5187.0       Mieszkanie       0        0         0   \n...                   ...              ...     ...      ...       ...   \n8002              10368.0       Mieszkanie       1        1         1   \n8003              10368.0       Mieszkanie       1        1         1   \n8004              10584.0       Mieszkanie       1        1         1   \n8005              10584.0       Mieszkanie       1        1         1   \n8006              10260.0       Mieszkanie       1        1         1   \n\n      parking  elevator floor  terrace  basement  garden type_of_market  \\\n0           0         1     1        1         1       0      secondary   \n1           1         1     3        0         0       0      secondary   \n2           0         0     4        0         0       0      secondary   \n3           0         0     4        0         1       0      secondary   \n4           0         0     0        0         0       0      secondary   \n...       ...       ...   ...      ...       ...     ...            ...   \n8002        1         0     2        0         1       0        primary   \n8003        1         0     3        0         1       0        primary   \n8004        1         0     1        0         1       0        primary   \n8005        1         0     1        0         1       0        primary   \n8006        1         0     1        0         1       0        primary   \n\n                            street    city  \n0                             null  gdansk  \n1                           Opacka  gdansk  \n2                  ul. Tysiąclecia  gdansk  \n3      Prof. Romualda Cebertowicza  gdansk  \n4                             null  gdansk  \n...                            ...     ...  \n8002                 Serdecznikowa  gdynia  \n8003                 Serdecznikowa  gdynia  \n8004                 Serdecznikowa  gdynia  \n8005                 Serdecznikowa  gdynia  \n8006                 Serdecznikowa  gdynia  \n\n[7769 rows x 20 columns]",
      "text/html": "<div>\n<style scoped>\n    .dataframe tbody tr th:only-of-type {\n        vertical-align: middle;\n    }\n\n    .dataframe tbody tr th {\n        vertical-align: top;\n    }\n\n    .dataframe thead th {\n        text-align: right;\n    }\n</style>\n<table border=\"1\" class=\"dataframe\">\n  <thead>\n    <tr style=\"text-align: right;\">\n      <th></th>\n      <th>Unnamed: 0</th>\n      <th>title</th>\n      <th>district</th>\n      <th>area</th>\n      <th>number_of_rooms</th>\n      <th>year_of_creation</th>\n      <th>price_for_m2_in_PLN</th>\n      <th>type_of_building</th>\n      <th>garage</th>\n      <th>balcony</th>\n      <th>internet</th>\n      <th>parking</th>\n      <th>elevator</th>\n      <th>floor</th>\n      <th>terrace</th>\n      <th>basement</th>\n      <th>garden</th>\n      <th>type_of_market</th>\n      <th>street</th>\n      <th>city</th>\n    </tr>\n  </thead>\n  <tbody>\n    <tr>\n      <th>0</th>\n      <td>0</td>\n      <td>3pok 50m2 taras 10m2 blisko morza IIQ24 SE</td>\n      <td>Letnica</td>\n      <td>59.00</td>\n      <td>3</td>\n      <td>2024</td>\n      <td>12831.0</td>\n      <td>Mieszkanie</td>\n      <td>1</td>\n      <td>1</td>\n      <td>0</td>\n      <td>0</td>\n      <td>1</td>\n      <td>1</td>\n      <td>1</td>\n      <td>1</td>\n      <td>0</td>\n      <td>secondary</td>\n      <td>null</td>\n      <td>gdansk</td>\n    </tr>\n    <tr>\n      <th>1</th>\n      <td>1</td>\n      <td>Wysoki standard   4 pok   Oliwa   kameralne</td>\n      <td>Oliwa</td>\n      <td>99.00</td>\n      <td>4</td>\n      <td>2020</td>\n      <td>2424.0</td>\n      <td>Mieszkanie</td>\n      <td>0</td>\n      <td>1</td>\n      <td>0</td>\n      <td>1</td>\n      <td>1</td>\n      <td>3</td>\n      <td>0</td>\n      <td>0</td>\n      <td>0</td>\n      <td>secondary</td>\n      <td>Opacka</td>\n      <td>gdansk</td>\n    </tr>\n    <tr>\n      <th>2</th>\n      <td>2</td>\n      <td>Piękne 3 pokoje po remoncie, przy plaży</td>\n      <td>Jelitkowo</td>\n      <td>41.07</td>\n      <td>3</td>\n      <td>1970</td>\n      <td>19455.0</td>\n      <td>Mieszkanie</td>\n      <td>0</td>\n      <td>0</td>\n      <td>0</td>\n      <td>0</td>\n      <td>0</td>\n      <td>4</td>\n      <td>0</td>\n      <td>0</td>\n      <td>0</td>\n      <td>secondary</td>\n      <td>ul. Tysiąclecia</td>\n      <td>gdansk</td>\n    </tr>\n    <tr>\n      <th>3</th>\n      <td>3</td>\n      <td>Widok na Jar Wilanowski - blok przy samym Parku</td>\n      <td>Chełm</td>\n      <td>63.10</td>\n      <td>3</td>\n      <td>1989</td>\n      <td>9984.0</td>\n      <td>Mieszkanie</td>\n      <td>0</td>\n      <td>1</td>\n      <td>1</td>\n      <td>0</td>\n      <td>0</td>\n      <td>4</td>\n      <td>0</td>\n      <td>1</td>\n      <td>0</td>\n      <td>secondary</td>\n      <td>Prof. Romualda Cebertowicza</td>\n      <td>gdansk</td>\n    </tr>\n    <tr>\n      <th>4</th>\n      <td>4</td>\n      <td>Energooszczędne Mieszkanie 75m2 - 4 pokoje</td>\n      <td>null</td>\n      <td>75.00</td>\n      <td>4</td>\n      <td>2024</td>\n      <td>5187.0</td>\n      <td>Mieszkanie</td>\n      <td>0</td>\n      <td>0</td>\n      <td>0</td>\n      <td>0</td>\n      <td>0</td>\n      <td>0</td>\n      <td>0</td>\n      <td>0</td>\n      <td>0</td>\n      <td>secondary</td>\n      <td>null</td>\n      <td>gdansk</td>\n    </tr>\n    <tr>\n      <th>...</th>\n      <td>...</td>\n      <td>...</td>\n      <td>...</td>\n      <td>...</td>\n      <td>...</td>\n      <td>...</td>\n      <td>...</td>\n      <td>...</td>\n      <td>...</td>\n      <td>...</td>\n      <td>...</td>\n      <td>...</td>\n      <td>...</td>\n      <td>...</td>\n      <td>...</td>\n      <td>...</td>\n      <td>...</td>\n      <td>...</td>\n      <td>...</td>\n      <td>...</td>\n    </tr>\n    <tr>\n      <th>8002</th>\n      <td>8002</td>\n      <td>INPRO S.A. - OPTIMA - mieszkanie 3-pok. 56.33 m2</td>\n      <td>Dąbrowa</td>\n      <td>56.33</td>\n      <td>3</td>\n      <td>2024</td>\n      <td>10368.0</td>\n      <td>Mieszkanie</td>\n      <td>1</td>\n      <td>1</td>\n      <td>1</td>\n      <td>1</td>\n      <td>0</td>\n      <td>2</td>\n      <td>0</td>\n      <td>1</td>\n      <td>0</td>\n      <td>primary</td>\n      <td>Serdecznikowa</td>\n      <td>gdynia</td>\n    </tr>\n    <tr>\n      <th>8003</th>\n      <td>8003</td>\n      <td>INPRO S.A. - OPTIMA - mieszkanie 3-pok. 61.44 m2</td>\n      <td>Dąbrowa</td>\n      <td>61.44</td>\n      <td>3</td>\n      <td>2024</td>\n      <td>10368.0</td>\n      <td>Mieszkanie</td>\n      <td>1</td>\n      <td>1</td>\n      <td>1</td>\n      <td>1</td>\n      <td>0</td>\n      <td>3</td>\n      <td>0</td>\n      <td>1</td>\n      <td>0</td>\n      <td>primary</td>\n      <td>Serdecznikowa</td>\n      <td>gdynia</td>\n    </tr>\n    <tr>\n      <th>8004</th>\n      <td>8004</td>\n      <td>INPRO S.A. - OPTIMA - mieszkanie 2-pok. 47.22 ...</td>\n      <td>Dąbrowa</td>\n      <td>47.00</td>\n      <td>2</td>\n      <td>2025</td>\n      <td>10584.0</td>\n      <td>Mieszkanie</td>\n      <td>1</td>\n      <td>1</td>\n      <td>1</td>\n      <td>1</td>\n      <td>0</td>\n      <td>1</td>\n      <td>0</td>\n      <td>1</td>\n      <td>0</td>\n      <td>primary</td>\n      <td>Serdecznikowa</td>\n      <td>gdynia</td>\n    </tr>\n    <tr>\n      <th>8005</th>\n      <td>8005</td>\n      <td>INPRO S.A. - OPTIMA - mieszkanie 2-pok. 46.30 ...</td>\n      <td>Dąbrowa</td>\n      <td>46.30</td>\n      <td>2</td>\n      <td>2025</td>\n      <td>10584.0</td>\n      <td>Mieszkanie</td>\n      <td>1</td>\n      <td>1</td>\n      <td>1</td>\n      <td>1</td>\n      <td>0</td>\n      <td>1</td>\n      <td>0</td>\n      <td>1</td>\n      <td>0</td>\n      <td>primary</td>\n      <td>Serdecznikowa</td>\n      <td>gdynia</td>\n    </tr>\n    <tr>\n      <th>8006</th>\n      <td>8006</td>\n      <td>INPRO S.A. - OPTIMA - mieszkanie 3-pok. 65.17 ...</td>\n      <td>Dąbrowa</td>\n      <td>65.17</td>\n      <td>3</td>\n      <td>2025</td>\n      <td>10260.0</td>\n      <td>Mieszkanie</td>\n      <td>1</td>\n      <td>1</td>\n      <td>1</td>\n      <td>1</td>\n      <td>0</td>\n      <td>1</td>\n      <td>0</td>\n      <td>1</td>\n      <td>0</td>\n      <td>primary</td>\n      <td>Serdecznikowa</td>\n      <td>gdynia</td>\n    </tr>\n  </tbody>\n</table>\n<p>7769 rows × 20 columns</p>\n</div>"
     },
     "execution_count": 44,
     "metadata": {},
     "output_type": "execute_result"
    }
   ],
   "source": [
    "trojmiasto_data_converted['floor'] = trojmiasto_data_converted['floor'].replace('Parter', '0')\n",
    "trojmiasto_data_converted"
   ],
   "metadata": {
    "collapsed": false,
    "ExecuteTime": {
     "end_time": "2024-06-25T16:06:05.946013Z",
     "start_time": "2024-06-25T16:06:05.717019Z"
    }
   },
   "id": "85e13946e2d301fc"
  },
  {
   "cell_type": "code",
   "execution_count": 45,
   "outputs": [
    {
     "name": "stdout",
     "output_type": "stream",
     "text": [
      "<class 'pandas.core.frame.DataFrame'>\n",
      "Index: 7769 entries, 0 to 8006\n",
      "Data columns (total 20 columns):\n",
      " #   Column               Non-Null Count  Dtype  \n",
      "---  ------               --------------  -----  \n",
      " 0   Unnamed: 0           7769 non-null   int64  \n",
      " 1   title                7769 non-null   object \n",
      " 2   district             7769 non-null   object \n",
      " 3   area                 7767 non-null   float64\n",
      " 4   number_of_rooms      7769 non-null   int64  \n",
      " 5   year_of_creation     7769 non-null   int64  \n",
      " 6   price_for_m2_in_PLN  7767 non-null   float64\n",
      " 7   type_of_building     7769 non-null   object \n",
      " 8   garage               7769 non-null   int64  \n",
      " 9   balcony              7769 non-null   int64  \n",
      " 10  internet             7769 non-null   int64  \n",
      " 11  parking              7769 non-null   int64  \n",
      " 12  elevator             7769 non-null   int64  \n",
      " 13  floor                7010 non-null   object \n",
      " 14  terrace              7769 non-null   int64  \n",
      " 15  basement             7769 non-null   int64  \n",
      " 16  garden               7769 non-null   int64  \n",
      " 17  type_of_market       7769 non-null   object \n",
      " 18  street               7769 non-null   object \n",
      " 19  city                 7769 non-null   object \n",
      "dtypes: float64(2), int64(11), object(7)\n",
      "memory usage: 1.2+ MB\n"
     ]
    },
    {
     "data": {
      "text/plain": "                                                  title   district   area  \\\n0            3pok 50m2 taras 10m2 blisko morza IIQ24 SE    Letnica  59.00   \n1           Wysoki standard   4 pok   Oliwa   kameralne      Oliwa  99.00   \n2               Piękne 3 pokoje po remoncie, przy plaży  Jelitkowo  41.07   \n3       Widok na Jar Wilanowski - blok przy samym Parku      Chełm  63.10   \n4            Energooszczędne Mieszkanie 75m2 - 4 pokoje       null  75.00   \n...                                                 ...        ...    ...   \n8002   INPRO S.A. - OPTIMA - mieszkanie 3-pok. 56.33 m2    Dąbrowa  56.33   \n8003   INPRO S.A. - OPTIMA - mieszkanie 3-pok. 61.44 m2    Dąbrowa  61.44   \n8004  INPRO S.A. - OPTIMA - mieszkanie 2-pok. 47.22 ...    Dąbrowa  47.00   \n8005  INPRO S.A. - OPTIMA - mieszkanie 2-pok. 46.30 ...    Dąbrowa  46.30   \n8006  INPRO S.A. - OPTIMA - mieszkanie 3-pok. 65.17 ...    Dąbrowa  65.17   \n\n      number_of_rooms  year_of_creation  price_for_m2_in_PLN type_of_building  \\\n0                   3              2024              12831.0       Mieszkanie   \n1                   4              2020               2424.0       Mieszkanie   \n2                   3              1970              19455.0       Mieszkanie   \n3                   3              1989               9984.0       Mieszkanie   \n4                   4              2024               5187.0       Mieszkanie   \n...               ...               ...                  ...              ...   \n8002                3              2024              10368.0       Mieszkanie   \n8003                3              2024              10368.0       Mieszkanie   \n8004                2              2025              10584.0       Mieszkanie   \n8005                2              2025              10584.0       Mieszkanie   \n8006                3              2025              10260.0       Mieszkanie   \n\n      garage  balcony  internet  parking  elevator floor  terrace  basement  \\\n0          1        1         0        0         1     1        1         1   \n1          0        1         0        1         1     3        0         0   \n2          0        0         0        0         0     4        0         0   \n3          0        1         1        0         0     4        0         1   \n4          0        0         0        0         0     0        0         0   \n...      ...      ...       ...      ...       ...   ...      ...       ...   \n8002       1        1         1        1         0     2        0         1   \n8003       1        1         1        1         0     3        0         1   \n8004       1        1         1        1         0     1        0         1   \n8005       1        1         1        1         0     1        0         1   \n8006       1        1         1        1         0     1        0         1   \n\n      garden type_of_market                        street    city  \n0          0      secondary                          null  gdansk  \n1          0      secondary                        Opacka  gdansk  \n2          0      secondary               ul. Tysiąclecia  gdansk  \n3          0      secondary   Prof. Romualda Cebertowicza  gdansk  \n4          0      secondary                          null  gdansk  \n...      ...            ...                           ...     ...  \n8002       0        primary                 Serdecznikowa  gdynia  \n8003       0        primary                 Serdecznikowa  gdynia  \n8004       0        primary                 Serdecznikowa  gdynia  \n8005       0        primary                 Serdecznikowa  gdynia  \n8006       0        primary                 Serdecznikowa  gdynia  \n\n[7769 rows x 19 columns]",
      "text/html": "<div>\n<style scoped>\n    .dataframe tbody tr th:only-of-type {\n        vertical-align: middle;\n    }\n\n    .dataframe tbody tr th {\n        vertical-align: top;\n    }\n\n    .dataframe thead th {\n        text-align: right;\n    }\n</style>\n<table border=\"1\" class=\"dataframe\">\n  <thead>\n    <tr style=\"text-align: right;\">\n      <th></th>\n      <th>title</th>\n      <th>district</th>\n      <th>area</th>\n      <th>number_of_rooms</th>\n      <th>year_of_creation</th>\n      <th>price_for_m2_in_PLN</th>\n      <th>type_of_building</th>\n      <th>garage</th>\n      <th>balcony</th>\n      <th>internet</th>\n      <th>parking</th>\n      <th>elevator</th>\n      <th>floor</th>\n      <th>terrace</th>\n      <th>basement</th>\n      <th>garden</th>\n      <th>type_of_market</th>\n      <th>street</th>\n      <th>city</th>\n    </tr>\n  </thead>\n  <tbody>\n    <tr>\n      <th>0</th>\n      <td>3pok 50m2 taras 10m2 blisko morza IIQ24 SE</td>\n      <td>Letnica</td>\n      <td>59.00</td>\n      <td>3</td>\n      <td>2024</td>\n      <td>12831.0</td>\n      <td>Mieszkanie</td>\n      <td>1</td>\n      <td>1</td>\n      <td>0</td>\n      <td>0</td>\n      <td>1</td>\n      <td>1</td>\n      <td>1</td>\n      <td>1</td>\n      <td>0</td>\n      <td>secondary</td>\n      <td>null</td>\n      <td>gdansk</td>\n    </tr>\n    <tr>\n      <th>1</th>\n      <td>Wysoki standard   4 pok   Oliwa   kameralne</td>\n      <td>Oliwa</td>\n      <td>99.00</td>\n      <td>4</td>\n      <td>2020</td>\n      <td>2424.0</td>\n      <td>Mieszkanie</td>\n      <td>0</td>\n      <td>1</td>\n      <td>0</td>\n      <td>1</td>\n      <td>1</td>\n      <td>3</td>\n      <td>0</td>\n      <td>0</td>\n      <td>0</td>\n      <td>secondary</td>\n      <td>Opacka</td>\n      <td>gdansk</td>\n    </tr>\n    <tr>\n      <th>2</th>\n      <td>Piękne 3 pokoje po remoncie, przy plaży</td>\n      <td>Jelitkowo</td>\n      <td>41.07</td>\n      <td>3</td>\n      <td>1970</td>\n      <td>19455.0</td>\n      <td>Mieszkanie</td>\n      <td>0</td>\n      <td>0</td>\n      <td>0</td>\n      <td>0</td>\n      <td>0</td>\n      <td>4</td>\n      <td>0</td>\n      <td>0</td>\n      <td>0</td>\n      <td>secondary</td>\n      <td>ul. Tysiąclecia</td>\n      <td>gdansk</td>\n    </tr>\n    <tr>\n      <th>3</th>\n      <td>Widok na Jar Wilanowski - blok przy samym Parku</td>\n      <td>Chełm</td>\n      <td>63.10</td>\n      <td>3</td>\n      <td>1989</td>\n      <td>9984.0</td>\n      <td>Mieszkanie</td>\n      <td>0</td>\n      <td>1</td>\n      <td>1</td>\n      <td>0</td>\n      <td>0</td>\n      <td>4</td>\n      <td>0</td>\n      <td>1</td>\n      <td>0</td>\n      <td>secondary</td>\n      <td>Prof. Romualda Cebertowicza</td>\n      <td>gdansk</td>\n    </tr>\n    <tr>\n      <th>4</th>\n      <td>Energooszczędne Mieszkanie 75m2 - 4 pokoje</td>\n      <td>null</td>\n      <td>75.00</td>\n      <td>4</td>\n      <td>2024</td>\n      <td>5187.0</td>\n      <td>Mieszkanie</td>\n      <td>0</td>\n      <td>0</td>\n      <td>0</td>\n      <td>0</td>\n      <td>0</td>\n      <td>0</td>\n      <td>0</td>\n      <td>0</td>\n      <td>0</td>\n      <td>secondary</td>\n      <td>null</td>\n      <td>gdansk</td>\n    </tr>\n    <tr>\n      <th>...</th>\n      <td>...</td>\n      <td>...</td>\n      <td>...</td>\n      <td>...</td>\n      <td>...</td>\n      <td>...</td>\n      <td>...</td>\n      <td>...</td>\n      <td>...</td>\n      <td>...</td>\n      <td>...</td>\n      <td>...</td>\n      <td>...</td>\n      <td>...</td>\n      <td>...</td>\n      <td>...</td>\n      <td>...</td>\n      <td>...</td>\n      <td>...</td>\n    </tr>\n    <tr>\n      <th>8002</th>\n      <td>INPRO S.A. - OPTIMA - mieszkanie 3-pok. 56.33 m2</td>\n      <td>Dąbrowa</td>\n      <td>56.33</td>\n      <td>3</td>\n      <td>2024</td>\n      <td>10368.0</td>\n      <td>Mieszkanie</td>\n      <td>1</td>\n      <td>1</td>\n      <td>1</td>\n      <td>1</td>\n      <td>0</td>\n      <td>2</td>\n      <td>0</td>\n      <td>1</td>\n      <td>0</td>\n      <td>primary</td>\n      <td>Serdecznikowa</td>\n      <td>gdynia</td>\n    </tr>\n    <tr>\n      <th>8003</th>\n      <td>INPRO S.A. - OPTIMA - mieszkanie 3-pok. 61.44 m2</td>\n      <td>Dąbrowa</td>\n      <td>61.44</td>\n      <td>3</td>\n      <td>2024</td>\n      <td>10368.0</td>\n      <td>Mieszkanie</td>\n      <td>1</td>\n      <td>1</td>\n      <td>1</td>\n      <td>1</td>\n      <td>0</td>\n      <td>3</td>\n      <td>0</td>\n      <td>1</td>\n      <td>0</td>\n      <td>primary</td>\n      <td>Serdecznikowa</td>\n      <td>gdynia</td>\n    </tr>\n    <tr>\n      <th>8004</th>\n      <td>INPRO S.A. - OPTIMA - mieszkanie 2-pok. 47.22 ...</td>\n      <td>Dąbrowa</td>\n      <td>47.00</td>\n      <td>2</td>\n      <td>2025</td>\n      <td>10584.0</td>\n      <td>Mieszkanie</td>\n      <td>1</td>\n      <td>1</td>\n      <td>1</td>\n      <td>1</td>\n      <td>0</td>\n      <td>1</td>\n      <td>0</td>\n      <td>1</td>\n      <td>0</td>\n      <td>primary</td>\n      <td>Serdecznikowa</td>\n      <td>gdynia</td>\n    </tr>\n    <tr>\n      <th>8005</th>\n      <td>INPRO S.A. - OPTIMA - mieszkanie 2-pok. 46.30 ...</td>\n      <td>Dąbrowa</td>\n      <td>46.30</td>\n      <td>2</td>\n      <td>2025</td>\n      <td>10584.0</td>\n      <td>Mieszkanie</td>\n      <td>1</td>\n      <td>1</td>\n      <td>1</td>\n      <td>1</td>\n      <td>0</td>\n      <td>1</td>\n      <td>0</td>\n      <td>1</td>\n      <td>0</td>\n      <td>primary</td>\n      <td>Serdecznikowa</td>\n      <td>gdynia</td>\n    </tr>\n    <tr>\n      <th>8006</th>\n      <td>INPRO S.A. - OPTIMA - mieszkanie 3-pok. 65.17 ...</td>\n      <td>Dąbrowa</td>\n      <td>65.17</td>\n      <td>3</td>\n      <td>2025</td>\n      <td>10260.0</td>\n      <td>Mieszkanie</td>\n      <td>1</td>\n      <td>1</td>\n      <td>1</td>\n      <td>1</td>\n      <td>0</td>\n      <td>1</td>\n      <td>0</td>\n      <td>1</td>\n      <td>0</td>\n      <td>primary</td>\n      <td>Serdecznikowa</td>\n      <td>gdynia</td>\n    </tr>\n  </tbody>\n</table>\n<p>7769 rows × 19 columns</p>\n</div>"
     },
     "execution_count": 45,
     "metadata": {},
     "output_type": "execute_result"
    }
   ],
   "source": [
    "trojmiasto_data_converted.info()\n",
    "trojmiasto_data_converted.drop(trojmiasto_data_converted.columns[0], axis=1)"
   ],
   "metadata": {
    "collapsed": false,
    "ExecuteTime": {
     "end_time": "2024-06-25T16:06:06.015021Z",
     "start_time": "2024-06-25T16:06:05.750021800Z"
    }
   },
   "id": "3d1333890110ffff"
  },
  {
   "cell_type": "code",
   "execution_count": 46,
   "outputs": [
    {
     "name": "stderr",
     "output_type": "stream",
     "text": [
      "C:\\Users\\kubak\\AppData\\Local\\Temp\\ipykernel_6072\\3509613148.py:1: SettingWithCopyWarning: \n",
      "A value is trying to be set on a copy of a slice from a DataFrame.\n",
      "Try using .loc[row_indexer,col_indexer] = value instead\n",
      "\n",
      "See the caveats in the documentation: https://pandas.pydata.org/pandas-docs/stable/user_guide/indexing.html#returning-a-view-versus-a-copy\n",
      "  trojmiasto_data_converted['overall_price'] = trojmiasto_data_converted['price_for_m2_in_PLN'] * trojmiasto_data_converted['area']\n"
     ]
    },
    {
     "data": {
      "text/plain": "                                                  title   district   area  \\\n0            3pok 50m2 taras 10m2 blisko morza IIQ24 SE    Letnica  59.00   \n1           Wysoki standard   4 pok   Oliwa   kameralne      Oliwa  99.00   \n2               Piękne 3 pokoje po remoncie, przy plaży  Jelitkowo  41.07   \n3       Widok na Jar Wilanowski - blok przy samym Parku      Chełm  63.10   \n4            Energooszczędne Mieszkanie 75m2 - 4 pokoje       null  75.00   \n...                                                 ...        ...    ...   \n8002   INPRO S.A. - OPTIMA - mieszkanie 3-pok. 56.33 m2    Dąbrowa  56.33   \n8003   INPRO S.A. - OPTIMA - mieszkanie 3-pok. 61.44 m2    Dąbrowa  61.44   \n8004  INPRO S.A. - OPTIMA - mieszkanie 2-pok. 47.22 ...    Dąbrowa  47.00   \n8005  INPRO S.A. - OPTIMA - mieszkanie 2-pok. 46.30 ...    Dąbrowa  46.30   \n8006  INPRO S.A. - OPTIMA - mieszkanie 3-pok. 65.17 ...    Dąbrowa  65.17   \n\n      number_of_rooms  year_of_creation  price_for_m2_in_PLN type_of_building  \\\n0                   3              2024              12831.0       Mieszkanie   \n1                   4              2020               2424.0       Mieszkanie   \n2                   3              1970              19455.0       Mieszkanie   \n3                   3              1989               9984.0       Mieszkanie   \n4                   4              2024               5187.0       Mieszkanie   \n...               ...               ...                  ...              ...   \n8002                3              2024              10368.0       Mieszkanie   \n8003                3              2024              10368.0       Mieszkanie   \n8004                2              2025              10584.0       Mieszkanie   \n8005                2              2025              10584.0       Mieszkanie   \n8006                3              2025              10260.0       Mieszkanie   \n\n      garage  balcony  internet  parking  elevator floor  terrace  basement  \\\n0          1        1         0        0         1     1        1         1   \n1          0        1         0        1         1     3        0         0   \n2          0        0         0        0         0     4        0         0   \n3          0        1         1        0         0     4        0         1   \n4          0        0         0        0         0     0        0         0   \n...      ...      ...       ...      ...       ...   ...      ...       ...   \n8002       1        1         1        1         0     2        0         1   \n8003       1        1         1        1         0     3        0         1   \n8004       1        1         1        1         0     1        0         1   \n8005       1        1         1        1         0     1        0         1   \n8006       1        1         1        1         0     1        0         1   \n\n      garden type_of_market                        street    city  \\\n0          0      secondary                          null  gdansk   \n1          0      secondary                        Opacka  gdansk   \n2          0      secondary               ul. Tysiąclecia  gdansk   \n3          0      secondary   Prof. Romualda Cebertowicza  gdansk   \n4          0      secondary                          null  gdansk   \n...      ...            ...                           ...     ...   \n8002       0        primary                 Serdecznikowa  gdynia   \n8003       0        primary                 Serdecznikowa  gdynia   \n8004       0        primary                 Serdecznikowa  gdynia   \n8005       0        primary                 Serdecznikowa  gdynia   \n8006       0        primary                 Serdecznikowa  gdynia   \n\n      overall_price  \n0         757029.00  \n1         239976.00  \n2         799016.85  \n3         629990.40  \n4         389025.00  \n...             ...  \n8002      584029.44  \n8003      637009.92  \n8004      497448.00  \n8005      490039.20  \n8006      668644.20  \n\n[7769 rows x 20 columns]",
      "text/html": "<div>\n<style scoped>\n    .dataframe tbody tr th:only-of-type {\n        vertical-align: middle;\n    }\n\n    .dataframe tbody tr th {\n        vertical-align: top;\n    }\n\n    .dataframe thead th {\n        text-align: right;\n    }\n</style>\n<table border=\"1\" class=\"dataframe\">\n  <thead>\n    <tr style=\"text-align: right;\">\n      <th></th>\n      <th>title</th>\n      <th>district</th>\n      <th>area</th>\n      <th>number_of_rooms</th>\n      <th>year_of_creation</th>\n      <th>price_for_m2_in_PLN</th>\n      <th>type_of_building</th>\n      <th>garage</th>\n      <th>balcony</th>\n      <th>internet</th>\n      <th>parking</th>\n      <th>elevator</th>\n      <th>floor</th>\n      <th>terrace</th>\n      <th>basement</th>\n      <th>garden</th>\n      <th>type_of_market</th>\n      <th>street</th>\n      <th>city</th>\n      <th>overall_price</th>\n    </tr>\n  </thead>\n  <tbody>\n    <tr>\n      <th>0</th>\n      <td>3pok 50m2 taras 10m2 blisko morza IIQ24 SE</td>\n      <td>Letnica</td>\n      <td>59.00</td>\n      <td>3</td>\n      <td>2024</td>\n      <td>12831.0</td>\n      <td>Mieszkanie</td>\n      <td>1</td>\n      <td>1</td>\n      <td>0</td>\n      <td>0</td>\n      <td>1</td>\n      <td>1</td>\n      <td>1</td>\n      <td>1</td>\n      <td>0</td>\n      <td>secondary</td>\n      <td>null</td>\n      <td>gdansk</td>\n      <td>757029.00</td>\n    </tr>\n    <tr>\n      <th>1</th>\n      <td>Wysoki standard   4 pok   Oliwa   kameralne</td>\n      <td>Oliwa</td>\n      <td>99.00</td>\n      <td>4</td>\n      <td>2020</td>\n      <td>2424.0</td>\n      <td>Mieszkanie</td>\n      <td>0</td>\n      <td>1</td>\n      <td>0</td>\n      <td>1</td>\n      <td>1</td>\n      <td>3</td>\n      <td>0</td>\n      <td>0</td>\n      <td>0</td>\n      <td>secondary</td>\n      <td>Opacka</td>\n      <td>gdansk</td>\n      <td>239976.00</td>\n    </tr>\n    <tr>\n      <th>2</th>\n      <td>Piękne 3 pokoje po remoncie, przy plaży</td>\n      <td>Jelitkowo</td>\n      <td>41.07</td>\n      <td>3</td>\n      <td>1970</td>\n      <td>19455.0</td>\n      <td>Mieszkanie</td>\n      <td>0</td>\n      <td>0</td>\n      <td>0</td>\n      <td>0</td>\n      <td>0</td>\n      <td>4</td>\n      <td>0</td>\n      <td>0</td>\n      <td>0</td>\n      <td>secondary</td>\n      <td>ul. Tysiąclecia</td>\n      <td>gdansk</td>\n      <td>799016.85</td>\n    </tr>\n    <tr>\n      <th>3</th>\n      <td>Widok na Jar Wilanowski - blok przy samym Parku</td>\n      <td>Chełm</td>\n      <td>63.10</td>\n      <td>3</td>\n      <td>1989</td>\n      <td>9984.0</td>\n      <td>Mieszkanie</td>\n      <td>0</td>\n      <td>1</td>\n      <td>1</td>\n      <td>0</td>\n      <td>0</td>\n      <td>4</td>\n      <td>0</td>\n      <td>1</td>\n      <td>0</td>\n      <td>secondary</td>\n      <td>Prof. Romualda Cebertowicza</td>\n      <td>gdansk</td>\n      <td>629990.40</td>\n    </tr>\n    <tr>\n      <th>4</th>\n      <td>Energooszczędne Mieszkanie 75m2 - 4 pokoje</td>\n      <td>null</td>\n      <td>75.00</td>\n      <td>4</td>\n      <td>2024</td>\n      <td>5187.0</td>\n      <td>Mieszkanie</td>\n      <td>0</td>\n      <td>0</td>\n      <td>0</td>\n      <td>0</td>\n      <td>0</td>\n      <td>0</td>\n      <td>0</td>\n      <td>0</td>\n      <td>0</td>\n      <td>secondary</td>\n      <td>null</td>\n      <td>gdansk</td>\n      <td>389025.00</td>\n    </tr>\n    <tr>\n      <th>...</th>\n      <td>...</td>\n      <td>...</td>\n      <td>...</td>\n      <td>...</td>\n      <td>...</td>\n      <td>...</td>\n      <td>...</td>\n      <td>...</td>\n      <td>...</td>\n      <td>...</td>\n      <td>...</td>\n      <td>...</td>\n      <td>...</td>\n      <td>...</td>\n      <td>...</td>\n      <td>...</td>\n      <td>...</td>\n      <td>...</td>\n      <td>...</td>\n      <td>...</td>\n    </tr>\n    <tr>\n      <th>8002</th>\n      <td>INPRO S.A. - OPTIMA - mieszkanie 3-pok. 56.33 m2</td>\n      <td>Dąbrowa</td>\n      <td>56.33</td>\n      <td>3</td>\n      <td>2024</td>\n      <td>10368.0</td>\n      <td>Mieszkanie</td>\n      <td>1</td>\n      <td>1</td>\n      <td>1</td>\n      <td>1</td>\n      <td>0</td>\n      <td>2</td>\n      <td>0</td>\n      <td>1</td>\n      <td>0</td>\n      <td>primary</td>\n      <td>Serdecznikowa</td>\n      <td>gdynia</td>\n      <td>584029.44</td>\n    </tr>\n    <tr>\n      <th>8003</th>\n      <td>INPRO S.A. - OPTIMA - mieszkanie 3-pok. 61.44 m2</td>\n      <td>Dąbrowa</td>\n      <td>61.44</td>\n      <td>3</td>\n      <td>2024</td>\n      <td>10368.0</td>\n      <td>Mieszkanie</td>\n      <td>1</td>\n      <td>1</td>\n      <td>1</td>\n      <td>1</td>\n      <td>0</td>\n      <td>3</td>\n      <td>0</td>\n      <td>1</td>\n      <td>0</td>\n      <td>primary</td>\n      <td>Serdecznikowa</td>\n      <td>gdynia</td>\n      <td>637009.92</td>\n    </tr>\n    <tr>\n      <th>8004</th>\n      <td>INPRO S.A. - OPTIMA - mieszkanie 2-pok. 47.22 ...</td>\n      <td>Dąbrowa</td>\n      <td>47.00</td>\n      <td>2</td>\n      <td>2025</td>\n      <td>10584.0</td>\n      <td>Mieszkanie</td>\n      <td>1</td>\n      <td>1</td>\n      <td>1</td>\n      <td>1</td>\n      <td>0</td>\n      <td>1</td>\n      <td>0</td>\n      <td>1</td>\n      <td>0</td>\n      <td>primary</td>\n      <td>Serdecznikowa</td>\n      <td>gdynia</td>\n      <td>497448.00</td>\n    </tr>\n    <tr>\n      <th>8005</th>\n      <td>INPRO S.A. - OPTIMA - mieszkanie 2-pok. 46.30 ...</td>\n      <td>Dąbrowa</td>\n      <td>46.30</td>\n      <td>2</td>\n      <td>2025</td>\n      <td>10584.0</td>\n      <td>Mieszkanie</td>\n      <td>1</td>\n      <td>1</td>\n      <td>1</td>\n      <td>1</td>\n      <td>0</td>\n      <td>1</td>\n      <td>0</td>\n      <td>1</td>\n      <td>0</td>\n      <td>primary</td>\n      <td>Serdecznikowa</td>\n      <td>gdynia</td>\n      <td>490039.20</td>\n    </tr>\n    <tr>\n      <th>8006</th>\n      <td>INPRO S.A. - OPTIMA - mieszkanie 3-pok. 65.17 ...</td>\n      <td>Dąbrowa</td>\n      <td>65.17</td>\n      <td>3</td>\n      <td>2025</td>\n      <td>10260.0</td>\n      <td>Mieszkanie</td>\n      <td>1</td>\n      <td>1</td>\n      <td>1</td>\n      <td>1</td>\n      <td>0</td>\n      <td>1</td>\n      <td>0</td>\n      <td>1</td>\n      <td>0</td>\n      <td>primary</td>\n      <td>Serdecznikowa</td>\n      <td>gdynia</td>\n      <td>668644.20</td>\n    </tr>\n  </tbody>\n</table>\n<p>7769 rows × 20 columns</p>\n</div>"
     },
     "execution_count": 46,
     "metadata": {},
     "output_type": "execute_result"
    }
   ],
   "source": [
    "trojmiasto_data_converted['overall_price'] = trojmiasto_data_converted['price_for_m2_in_PLN'] * trojmiasto_data_converted['area']\n",
    "trojmiasto_data_converted = trojmiasto_data_converted.drop(trojmiasto_data_converted.columns[0], axis=1)\n",
    "trojmiasto_data_converted"
   ],
   "metadata": {
    "collapsed": false,
    "ExecuteTime": {
     "end_time": "2024-06-25T16:06:06.018016Z",
     "start_time": "2024-06-25T16:06:05.781025100Z"
    }
   },
   "id": "f5926d72f442317e"
  },
  {
   "cell_type": "code",
   "execution_count": 47,
   "outputs": [],
   "source": [
    "trojmiasto_data_converted.to_csv('trojmiasto_data_converted.csv', sep='|', index=False)"
   ],
   "metadata": {
    "collapsed": false,
    "ExecuteTime": {
     "end_time": "2024-06-25T16:06:06.252707100Z",
     "start_time": "2024-06-25T16:06:05.812021700Z"
    }
   },
   "id": "11fc215b7f7ae375"
  },
  {
   "cell_type": "code",
   "execution_count": 47,
   "outputs": [],
   "source": [],
   "metadata": {
    "collapsed": false,
    "ExecuteTime": {
     "end_time": "2024-06-25T16:06:06.328704100Z",
     "start_time": "2024-06-25T16:06:05.891017500Z"
    }
   },
   "id": "5b87623aab2d7e7c"
  },
  {
   "cell_type": "code",
   "execution_count": 47,
   "outputs": [],
   "source": [],
   "metadata": {
    "collapsed": false,
    "ExecuteTime": {
     "end_time": "2024-06-25T16:06:06.365703700Z",
     "start_time": "2024-06-25T16:06:05.911023300Z"
    }
   },
   "id": "b6f7ad855b997632"
  }
 ],
 "metadata": {
  "kernelspec": {
   "display_name": "Python 3",
   "language": "python",
   "name": "python3"
  },
  "language_info": {
   "codemirror_mode": {
    "name": "ipython",
    "version": 2
   },
   "file_extension": ".py",
   "mimetype": "text/x-python",
   "name": "python",
   "nbconvert_exporter": "python",
   "pygments_lexer": "ipython2",
   "version": "2.7.6"
  }
 },
 "nbformat": 4,
 "nbformat_minor": 5
}
