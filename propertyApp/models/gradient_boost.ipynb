{
 "cells": [
  {
   "cell_type": "code",
   "execution_count": 2,
   "metadata": {
    "ExecuteTime": {
     "end_time": "2024-12-07T12:33:10.522695900Z",
     "start_time": "2024-12-07T12:33:10.491616800Z"
    }
   },
   "outputs": [],
   "source": [
    "from sklearn.linear_model import LinearRegression\n",
    "from sklearn.model_selection import train_test_split\n",
    "from sklearn.preprocessing import StandardScaler, OneHotEncoder\n",
    "from sklearn.pipeline import make_pipeline\n",
    "from sklearn.compose import ColumnTransformer, make_column_selector\n",
    "from sklearn.metrics import mean_squared_error\n",
    "from sklearn.metrics import root_mean_squared_error\n",
    "from sklearn.metrics import root_mean_squared_log_error\n",
    "from sklearn.metrics import r2_score\n",
    "\n",
    "import pandas as pd\n",
    "import numpy as np\n",
    "import matplotlib.pyplot as plt"
   ]
  },
  {
   "cell_type": "code",
   "execution_count": 3,
   "metadata": {
    "ExecuteTime": {
     "end_time": "2024-12-07T12:33:10.727113100Z",
     "start_time": "2024-12-07T12:33:10.670492700Z"
    }
   },
   "outputs": [
    {
     "data": {
      "text/html": [
       "<div>\n",
       "<style scoped>\n",
       "    .dataframe tbody tr th:only-of-type {\n",
       "        vertical-align: middle;\n",
       "    }\n",
       "\n",
       "    .dataframe tbody tr th {\n",
       "        vertical-align: top;\n",
       "    }\n",
       "\n",
       "    .dataframe thead th {\n",
       "        text-align: right;\n",
       "    }\n",
       "</style>\n",
       "<table border=\"1\" class=\"dataframe\">\n",
       "  <thead>\n",
       "    <tr style=\"text-align: right;\">\n",
       "      <th></th>\n",
       "      <th>title</th>\n",
       "      <th>area</th>\n",
       "      <th>number_of_rooms</th>\n",
       "      <th>floor</th>\n",
       "      <th>type_of_market</th>\n",
       "      <th>parking</th>\n",
       "      <th>elevator</th>\n",
       "      <th>year_of_creation</th>\n",
       "      <th>internet</th>\n",
       "      <th>type_of_building</th>\n",
       "      <th>basement</th>\n",
       "      <th>price_for_m2_in_PLN</th>\n",
       "      <th>balcony</th>\n",
       "      <th>garden</th>\n",
       "      <th>terrace</th>\n",
       "      <th>street</th>\n",
       "      <th>district</th>\n",
       "      <th>city</th>\n",
       "      <th>latitude</th>\n",
       "      <th>longtitude</th>\n",
       "    </tr>\n",
       "  </thead>\n",
       "  <tbody>\n",
       "    <tr>\n",
       "      <th>0</th>\n",
       "      <td>Apartament inwestycyjny, ostatnie piętro, k/Sk...</td>\n",
       "      <td>24.89</td>\n",
       "      <td>1.0</td>\n",
       "      <td>4-7</td>\n",
       "      <td>secondary</td>\n",
       "      <td>0</td>\n",
       "      <td>1</td>\n",
       "      <td>2022.0</td>\n",
       "      <td>1.0</td>\n",
       "      <td>Apartment</td>\n",
       "      <td>0.0</td>\n",
       "      <td>16749.98</td>\n",
       "      <td>0</td>\n",
       "      <td>0</td>\n",
       "      <td>0</td>\n",
       "      <td>śląska 12</td>\n",
       "      <td>przymorze</td>\n",
       "      <td>gdansk</td>\n",
       "      <td>54.406171</td>\n",
       "      <td>18.576846</td>\n",
       "    </tr>\n",
       "    <tr>\n",
       "      <th>1</th>\n",
       "      <td>Apartament inwestycyjny Śląska 12 z umową najmu!</td>\n",
       "      <td>25.72</td>\n",
       "      <td>1.0</td>\n",
       "      <td>0</td>\n",
       "      <td>secondary</td>\n",
       "      <td>0</td>\n",
       "      <td>1</td>\n",
       "      <td>2022.0</td>\n",
       "      <td>1.0</td>\n",
       "      <td>Apartment</td>\n",
       "      <td>0.0</td>\n",
       "      <td>18500.00</td>\n",
       "      <td>0</td>\n",
       "      <td>0</td>\n",
       "      <td>0</td>\n",
       "      <td>śląska 12</td>\n",
       "      <td>przymorze</td>\n",
       "      <td>gdansk</td>\n",
       "      <td>54.406171</td>\n",
       "      <td>18.576846</td>\n",
       "    </tr>\n",
       "    <tr>\n",
       "      <th>2</th>\n",
       "      <td>Nowe mieszkanie, wykończone - Mariana Kołodzieja</td>\n",
       "      <td>34.38</td>\n",
       "      <td>2.0</td>\n",
       "      <td>1-3</td>\n",
       "      <td>secondary</td>\n",
       "      <td>1</td>\n",
       "      <td>1</td>\n",
       "      <td>2022.0</td>\n",
       "      <td>1.0</td>\n",
       "      <td>Apartment</td>\n",
       "      <td>0.0</td>\n",
       "      <td>15997.67</td>\n",
       "      <td>1</td>\n",
       "      <td>0</td>\n",
       "      <td>0</td>\n",
       "      <td>mariana kołodzieja</td>\n",
       "      <td>ujeścisko-łostowice</td>\n",
       "      <td>gdansk</td>\n",
       "      <td>54.334542</td>\n",
       "      <td>18.585750</td>\n",
       "    </tr>\n",
       "    <tr>\n",
       "      <th>3</th>\n",
       "      <td>Wyjątkowe mieszkanie w centrum Gdyni, blisko l...</td>\n",
       "      <td>101.58</td>\n",
       "      <td>4.0</td>\n",
       "      <td>4-7</td>\n",
       "      <td>secondary</td>\n",
       "      <td>0</td>\n",
       "      <td>1</td>\n",
       "      <td>1997.0</td>\n",
       "      <td>1.0</td>\n",
       "      <td>Apartment</td>\n",
       "      <td>0.0</td>\n",
       "      <td>11468.79</td>\n",
       "      <td>0</td>\n",
       "      <td>0</td>\n",
       "      <td>0</td>\n",
       "      <td>janusza korczaka</td>\n",
       "      <td>redłowo</td>\n",
       "      <td>gdynia</td>\n",
       "      <td>54.494118</td>\n",
       "      <td>18.543134</td>\n",
       "    </tr>\n",
       "    <tr>\n",
       "      <th>4</th>\n",
       "      <td>Mieszkanie w świetnej lokalizacji Gdynia Dąbrowa</td>\n",
       "      <td>68.00</td>\n",
       "      <td>3.0</td>\n",
       "      <td>1-3</td>\n",
       "      <td>secondary</td>\n",
       "      <td>0</td>\n",
       "      <td>0</td>\n",
       "      <td>2000.0</td>\n",
       "      <td>1.0</td>\n",
       "      <td>Apartment</td>\n",
       "      <td>1.0</td>\n",
       "      <td>10279.41</td>\n",
       "      <td>1</td>\n",
       "      <td>0</td>\n",
       "      <td>0</td>\n",
       "      <td>oliwkowa</td>\n",
       "      <td>dąbrowa</td>\n",
       "      <td>gdynia</td>\n",
       "      <td>54.471180</td>\n",
       "      <td>18.470508</td>\n",
       "    </tr>\n",
       "  </tbody>\n",
       "</table>\n",
       "</div>"
      ],
      "text/plain": [
       "                                               title    area  number_of_rooms  \\\n",
       "0  Apartament inwestycyjny, ostatnie piętro, k/Sk...   24.89              1.0   \n",
       "1   Apartament inwestycyjny Śląska 12 z umową najmu!   25.72              1.0   \n",
       "2   Nowe mieszkanie, wykończone - Mariana Kołodzieja   34.38              2.0   \n",
       "3  Wyjątkowe mieszkanie w centrum Gdyni, blisko l...  101.58              4.0   \n",
       "4   Mieszkanie w świetnej lokalizacji Gdynia Dąbrowa   68.00              3.0   \n",
       "\n",
       "  floor type_of_market  parking  elevator  year_of_creation  internet  \\\n",
       "0   4-7      secondary        0         1            2022.0       1.0   \n",
       "1     0      secondary        0         1            2022.0       1.0   \n",
       "2   1-3      secondary        1         1            2022.0       1.0   \n",
       "3   4-7      secondary        0         1            1997.0       1.0   \n",
       "4   1-3      secondary        0         0            2000.0       1.0   \n",
       "\n",
       "  type_of_building  basement  price_for_m2_in_PLN  balcony  garden  terrace  \\\n",
       "0        Apartment       0.0             16749.98        0       0        0   \n",
       "1        Apartment       0.0             18500.00        0       0        0   \n",
       "2        Apartment       0.0             15997.67        1       0        0   \n",
       "3        Apartment       0.0             11468.79        0       0        0   \n",
       "4        Apartment       1.0             10279.41        1       0        0   \n",
       "\n",
       "               street             district    city   latitude  longtitude  \n",
       "0           śląska 12            przymorze  gdansk  54.406171   18.576846  \n",
       "1           śląska 12            przymorze  gdansk  54.406171   18.576846  \n",
       "2  mariana kołodzieja  ujeścisko-łostowice  gdansk  54.334542   18.585750  \n",
       "3    janusza korczaka              redłowo  gdynia  54.494118   18.543134  \n",
       "4            oliwkowa              dąbrowa  gdynia  54.471180   18.470508  "
      ]
     },
     "execution_count": 3,
     "metadata": {},
     "output_type": "execute_result"
    }
   ],
   "source": [
    "data = pd.read_csv('cleaned_dataset_without_na.csv', delimiter='|')\n",
    "data.head()"
   ]
  },
  {
   "cell_type": "code",
   "execution_count": 4,
   "metadata": {
    "ExecuteTime": {
     "end_time": "2024-12-07T12:33:10.995908100Z",
     "start_time": "2024-12-07T12:33:10.921416900Z"
    }
   },
   "outputs": [],
   "source": [
    "data = data.drop('title', axis=1)\n",
    "threshold_low = 5000  # Set your threshold value here\n",
    "threshold_high = 30000\n",
    "data = data[data['price_for_m2_in_PLN'] >= threshold_low]\n",
    "data = data[data['price_for_m2_in_PLN'] <= threshold_high]\n"
   ]
  },
  {
   "cell_type": "code",
   "execution_count": 5,
   "metadata": {
    "ExecuteTime": {
     "end_time": "2024-12-07T12:33:11.105015900Z",
     "start_time": "2024-12-07T12:33:11.073159100Z"
    },
    "collapsed": false
   },
   "outputs": [],
   "source": [
    "# concatenating the city and district columns\n",
    "data['city_district'] = data['city'] + '_' + data['district']"
   ]
  },
  {
   "cell_type": "code",
   "execution_count": 6,
   "metadata": {
    "ExecuteTime": {
     "end_time": "2024-12-07T12:33:11.401420300Z",
     "start_time": "2024-12-07T12:33:11.369182300Z"
    },
    "collapsed": false
   },
   "outputs": [],
   "source": [
    "# saving the number of occurences of each district in the dataset to a dictionary\n",
    "districts = data['city_district'].value_counts().to_dict()\n",
    "# replacing the district names with the number of occurences\n",
    "data['city_district'] = data['city_district'].map(districts)"
   ]
  },
  {
   "cell_type": "code",
   "execution_count": 7,
   "metadata": {
    "ExecuteTime": {
     "end_time": "2024-12-07T12:33:11.604417300Z",
     "start_time": "2024-12-07T12:33:11.569264700Z"
    }
   },
   "outputs": [],
   "source": [
    "data_numerical = data.drop(['city', 'district', 'type_of_market', 'type_of_building', 'floor', 'street'], axis=1)"
   ]
  },
  {
   "cell_type": "code",
   "execution_count": 8,
   "metadata": {
    "ExecuteTime": {
     "end_time": "2024-12-07T12:33:11.773096800Z",
     "start_time": "2024-12-07T12:33:11.748614100Z"
    },
    "collapsed": false
   },
   "outputs": [],
   "source": [
    "data = data.drop(['city', 'district'], axis=1)"
   ]
  },
  {
   "cell_type": "code",
   "execution_count": 9,
   "metadata": {
    "ExecuteTime": {
     "end_time": "2024-12-07T12:33:11.944633800Z",
     "start_time": "2024-12-07T12:33:11.921632700Z"
    },
    "collapsed": false
   },
   "outputs": [
    {
     "data": {
      "text/html": [
       "<div>\n",
       "<style scoped>\n",
       "    .dataframe tbody tr th:only-of-type {\n",
       "        vertical-align: middle;\n",
       "    }\n",
       "\n",
       "    .dataframe tbody tr th {\n",
       "        vertical-align: top;\n",
       "    }\n",
       "\n",
       "    .dataframe thead th {\n",
       "        text-align: right;\n",
       "    }\n",
       "</style>\n",
       "<table border=\"1\" class=\"dataframe\">\n",
       "  <thead>\n",
       "    <tr style=\"text-align: right;\">\n",
       "      <th></th>\n",
       "      <th>area</th>\n",
       "      <th>number_of_rooms</th>\n",
       "      <th>floor</th>\n",
       "      <th>type_of_market</th>\n",
       "      <th>parking</th>\n",
       "      <th>elevator</th>\n",
       "      <th>year_of_creation</th>\n",
       "      <th>internet</th>\n",
       "      <th>type_of_building</th>\n",
       "      <th>basement</th>\n",
       "      <th>price_for_m2_in_PLN</th>\n",
       "      <th>balcony</th>\n",
       "      <th>garden</th>\n",
       "      <th>terrace</th>\n",
       "      <th>street</th>\n",
       "      <th>latitude</th>\n",
       "      <th>longtitude</th>\n",
       "      <th>city_district</th>\n",
       "    </tr>\n",
       "  </thead>\n",
       "  <tbody>\n",
       "    <tr>\n",
       "      <th>0</th>\n",
       "      <td>24.89</td>\n",
       "      <td>1.0</td>\n",
       "      <td>4-7</td>\n",
       "      <td>secondary</td>\n",
       "      <td>0</td>\n",
       "      <td>1</td>\n",
       "      <td>2022.0</td>\n",
       "      <td>1.0</td>\n",
       "      <td>Apartment</td>\n",
       "      <td>0.0</td>\n",
       "      <td>16749.98</td>\n",
       "      <td>0</td>\n",
       "      <td>0</td>\n",
       "      <td>0</td>\n",
       "      <td>śląska 12</td>\n",
       "      <td>54.406171</td>\n",
       "      <td>18.576846</td>\n",
       "      <td>400</td>\n",
       "    </tr>\n",
       "    <tr>\n",
       "      <th>1</th>\n",
       "      <td>25.72</td>\n",
       "      <td>1.0</td>\n",
       "      <td>0</td>\n",
       "      <td>secondary</td>\n",
       "      <td>0</td>\n",
       "      <td>1</td>\n",
       "      <td>2022.0</td>\n",
       "      <td>1.0</td>\n",
       "      <td>Apartment</td>\n",
       "      <td>0.0</td>\n",
       "      <td>18500.00</td>\n",
       "      <td>0</td>\n",
       "      <td>0</td>\n",
       "      <td>0</td>\n",
       "      <td>śląska 12</td>\n",
       "      <td>54.406171</td>\n",
       "      <td>18.576846</td>\n",
       "      <td>400</td>\n",
       "    </tr>\n",
       "    <tr>\n",
       "      <th>2</th>\n",
       "      <td>34.38</td>\n",
       "      <td>2.0</td>\n",
       "      <td>1-3</td>\n",
       "      <td>secondary</td>\n",
       "      <td>1</td>\n",
       "      <td>1</td>\n",
       "      <td>2022.0</td>\n",
       "      <td>1.0</td>\n",
       "      <td>Apartment</td>\n",
       "      <td>0.0</td>\n",
       "      <td>15997.67</td>\n",
       "      <td>1</td>\n",
       "      <td>0</td>\n",
       "      <td>0</td>\n",
       "      <td>mariana kołodzieja</td>\n",
       "      <td>54.334542</td>\n",
       "      <td>18.585750</td>\n",
       "      <td>715</td>\n",
       "    </tr>\n",
       "    <tr>\n",
       "      <th>3</th>\n",
       "      <td>101.58</td>\n",
       "      <td>4.0</td>\n",
       "      <td>4-7</td>\n",
       "      <td>secondary</td>\n",
       "      <td>0</td>\n",
       "      <td>1</td>\n",
       "      <td>1997.0</td>\n",
       "      <td>1.0</td>\n",
       "      <td>Apartment</td>\n",
       "      <td>0.0</td>\n",
       "      <td>11468.79</td>\n",
       "      <td>0</td>\n",
       "      <td>0</td>\n",
       "      <td>0</td>\n",
       "      <td>janusza korczaka</td>\n",
       "      <td>54.494118</td>\n",
       "      <td>18.543134</td>\n",
       "      <td>124</td>\n",
       "    </tr>\n",
       "    <tr>\n",
       "      <th>4</th>\n",
       "      <td>68.00</td>\n",
       "      <td>3.0</td>\n",
       "      <td>1-3</td>\n",
       "      <td>secondary</td>\n",
       "      <td>0</td>\n",
       "      <td>0</td>\n",
       "      <td>2000.0</td>\n",
       "      <td>1.0</td>\n",
       "      <td>Apartment</td>\n",
       "      <td>1.0</td>\n",
       "      <td>10279.41</td>\n",
       "      <td>1</td>\n",
       "      <td>0</td>\n",
       "      <td>0</td>\n",
       "      <td>oliwkowa</td>\n",
       "      <td>54.471180</td>\n",
       "      <td>18.470508</td>\n",
       "      <td>2663</td>\n",
       "    </tr>\n",
       "  </tbody>\n",
       "</table>\n",
       "</div>"
      ],
      "text/plain": [
       "     area  number_of_rooms floor type_of_market  parking  elevator  \\\n",
       "0   24.89              1.0   4-7      secondary        0         1   \n",
       "1   25.72              1.0     0      secondary        0         1   \n",
       "2   34.38              2.0   1-3      secondary        1         1   \n",
       "3  101.58              4.0   4-7      secondary        0         1   \n",
       "4   68.00              3.0   1-3      secondary        0         0   \n",
       "\n",
       "   year_of_creation  internet type_of_building  basement  price_for_m2_in_PLN  \\\n",
       "0            2022.0       1.0        Apartment       0.0             16749.98   \n",
       "1            2022.0       1.0        Apartment       0.0             18500.00   \n",
       "2            2022.0       1.0        Apartment       0.0             15997.67   \n",
       "3            1997.0       1.0        Apartment       0.0             11468.79   \n",
       "4            2000.0       1.0        Apartment       1.0             10279.41   \n",
       "\n",
       "   balcony  garden  terrace              street   latitude  longtitude  \\\n",
       "0        0       0        0           śląska 12  54.406171   18.576846   \n",
       "1        0       0        0           śląska 12  54.406171   18.576846   \n",
       "2        1       0        0  mariana kołodzieja  54.334542   18.585750   \n",
       "3        0       0        0    janusza korczaka  54.494118   18.543134   \n",
       "4        1       0        0            oliwkowa  54.471180   18.470508   \n",
       "\n",
       "   city_district  \n",
       "0            400  \n",
       "1            400  \n",
       "2            715  \n",
       "3            124  \n",
       "4           2663  "
      ]
     },
     "execution_count": 9,
     "metadata": {},
     "output_type": "execute_result"
    }
   ],
   "source": [
    "data.head()"
   ]
  },
  {
   "cell_type": "code",
   "execution_count": 10,
   "metadata": {
    "ExecuteTime": {
     "end_time": "2024-12-07T12:33:12.227897600Z",
     "start_time": "2024-12-07T12:33:12.157905100Z"
    }
   },
   "outputs": [],
   "source": [
    "A = data.drop(['price_for_m2_in_PLN', 'street'], axis=1)\n",
    "b = data['price_for_m2_in_PLN']\n",
    "X_train, X_test, y_train, y_test = train_test_split(A, b, test_size=0.2, random_state=0)"
   ]
  },
  {
   "cell_type": "code",
   "execution_count": 11,
   "metadata": {
    "ExecuteTime": {
     "end_time": "2024-12-07T12:33:12.370538300Z",
     "start_time": "2024-12-07T12:33:12.313021900Z"
    }
   },
   "outputs": [],
   "source": [
    "num_pipeline = make_pipeline(StandardScaler())\n",
    "cat_pipeline = make_pipeline(OneHotEncoder(handle_unknown=\"ignore\"))\n",
    "preprocessor = ColumnTransformer([(\"cat\", cat_pipeline, make_column_selector(dtype_include=object)),], remainder=num_pipeline)\n",
    "preprocessor = preprocessor.fit(X_train, y_train)\n",
    "X_train_preprocessed = preprocessor.transform(X_train)\n",
    "X_test_preprocessed = preprocessor.transform(X_test)"
   ]
  },
  {
   "cell_type": "code",
   "execution_count": 12,
   "metadata": {
    "ExecuteTime": {
     "end_time": "2024-12-07T12:33:42.219649700Z",
     "start_time": "2024-12-07T12:33:12.487778700Z"
    }
   },
   "outputs": [
    {
     "data": {
      "image/png": "[encoded data removed]",
      "text/plain": [
       "<Figure size 640x480 with 1 Axes>"
      ]
     },
     "metadata": {},
     "output_type": "display_data"
    }
   ],
   "source": [
    "from sklearn.ensemble import GradientBoostingRegressor\n",
    "\n",
    "model_GB = GradientBoostingRegressor(learning_rate=0.1, max_depth=7, min_samples_split=5, n_estimators=1500, criterion='squared_error')\n",
    "model_GB.fit(X_train_preprocessed, y_train)\n",
    "y_pred_GB = model_GB.predict(X_test_preprocessed)\n",
    "# Scatter plot of actual vs predicted values\n",
    "plt.scatter(y_test, y_pred_GB, color=\"black\", label=\"Data Points\")\n",
    "\n",
    "# Plot a reference line (y = x) to show perfect predictions\n",
    "x = np.linspace(min(y_test), max(y_test), 100)\n",
    "plt.plot(x, x, color=\"blue\", linewidth=2, label=\"Perfect Fit (y=x)\")\n",
    "\n",
    "# Add labels and title\n",
    "plt.xlabel('Actual Values')\n",
    "plt.ylabel('Predicted Values')\n",
    "plt.title('Actual vs Predicted Values')\n",
    "\n",
    "# Display legend\n",
    "plt.legend()\n",
    "\n",
    "# Show the plot\n",
    "plt.show()"
   ]
  },
  {
   "cell_type": "code",
   "execution_count": 13,
   "metadata": {
    "ExecuteTime": {
     "end_time": "2024-12-07T12:33:42.227866800Z",
     "start_time": "2024-12-07T12:33:42.221652700Z"
    }
   },
   "outputs": [
    {
     "data": {
      "text/plain": [
       "np.float64(2111.7762528788558)"
      ]
     },
     "execution_count": 13,
     "metadata": {},
     "output_type": "execute_result"
    }
   ],
   "source": [
    "rmse_GB = root_mean_squared_error(y_test, y_pred_GB)\n",
    "rmse_GB"
   ]
  },
  {
   "cell_type": "code",
   "execution_count": 14,
   "metadata": {
    "ExecuteTime": {
     "end_time": "2024-12-07T12:33:42.237697700Z",
     "start_time": "2024-12-07T12:33:42.226868300Z"
    }
   },
   "outputs": [
    {
     "data": {
      "text/plain": [
       "np.float64(0.13986923660770548)"
      ]
     },
     "execution_count": 14,
     "metadata": {},
     "output_type": "execute_result"
    }
   ],
   "source": [
    "rmsle_GB = root_mean_squared_log_error(y_test, y_pred_GB)\n",
    "rmsle_GB"
   ]
  },
  {
   "cell_type": "code",
   "execution_count": 15,
   "metadata": {
    "ExecuteTime": {
     "end_time": "2024-12-07T12:33:42.243764900Z",
     "start_time": "2024-12-07T12:33:42.236698700Z"
    }
   },
   "outputs": [
    {
     "data": {
      "text/plain": [
       "np.float64(1180.1599639086414)"
      ]
     },
     "execution_count": 15,
     "metadata": {},
     "output_type": "execute_result"
    }
   ],
   "source": [
    "from sklearn.metrics import mean_absolute_error\n",
    "from sklearn.metrics import mean_absolute_percentage_error\n",
    "mae_GB = mean_absolute_error(y_test, y_pred_GB)\n",
    "mae_GB"
   ]
  },
  {
   "cell_type": "code",
   "execution_count": 16,
   "metadata": {
    "ExecuteTime": {
     "end_time": "2024-12-07T12:33:42.339031500Z",
     "start_time": "2024-12-07T12:33:42.242766900Z"
    }
   },
   "outputs": [
    {
     "data": {
      "text/plain": [
       "np.float64(0.08353704061393774)"
      ]
     },
     "execution_count": 16,
     "metadata": {},
     "output_type": "execute_result"
    }
   ],
   "source": [
    "mape_GB = mean_absolute_percentage_error(y_test, y_pred_GB)\n",
    "mape_GB"
   ]
  },
  {
   "cell_type": "code",
   "execution_count": 17,
   "metadata": {
    "ExecuteTime": {
     "end_time": "2024-12-07T12:33:42.339031500Z",
     "start_time": "2024-12-07T12:33:42.250475800Z"
    }
   },
   "outputs": [
    {
     "data": {
      "text/plain": [
       "0.8086736170255081"
      ]
     },
     "execution_count": 17,
     "metadata": {},
     "output_type": "execute_result"
    }
   ],
   "source": [
    "r2_gb = r2_score(y_test, y_pred_GB)\n",
    "r2_gb"
   ]
  },
  {
   "cell_type": "code",
   "execution_count": 18,
   "metadata": {
    "ExecuteTime": {
     "end_time": "2024-12-07T12:33:42.340029100Z",
     "start_time": "2024-12-07T12:33:42.260055200Z"
    },
    "collapsed": false
   },
   "outputs": [],
   "source": [
    "from sklearn.metrics import mean_absolute_error\n",
    "from sklearn.metrics import mean_absolute_percentage_error\n",
    "metrics_df_GB = pd.DataFrame({\n",
    "    'metric': ['RMSE', 'R2', 'MAE', 'MAPE'],\n",
    "    'value': [rmse_GB, r2_gb, mae_GB, mape_GB]\n",
    "})\n",
    "metrics_df_GB.to_csv('gradient_boost_metrics.csv', sep='|', index=False, header=True)"
   ]
  },
  {
   "cell_type": "code",
   "execution_count": 19,
   "metadata": {
    "ExecuteTime": {
     "end_time": "2024-12-07T12:33:42.340029100Z",
     "start_time": "2024-12-07T12:33:42.270860500Z"
    },
    "collapsed": false
   },
   "outputs": [
    {
     "name": "stdout",
     "output_type": "stream",
     "text": [
      "     Feature  Importance\n",
      "10  latitude    0.007395\n",
      "       Feature  Importance\n",
      "11  longtitude     0.01743\n"
     ]
    }
   ],
   "source": [
    "import numpy as np\n",
    "\n",
    "# Retrieve feature importance scores\n",
    "feature_importances = model_GB.feature_importances_\n",
    "\n",
    "\n",
    "# Get feature names after transformation\n",
    "feature_names = (\n",
    "    preprocessor.named_transformers_['cat'][-1].get_feature_names_out(X_train.select_dtypes(include=object).columns)\n",
    "    if 'cat' in preprocessor.named_transformers_\n",
    "    else []\n",
    ")\n",
    "numeric_features = X_train.select_dtypes(exclude=object).columns\n",
    "all_features = np.concatenate([numeric_features, feature_names])\n",
    "\n",
    "# Create a DataFrame for feature importance\n",
    "feature_importance_df = pd.DataFrame({\n",
    "    'Feature': all_features,\n",
    "    'Importance': feature_importances\n",
    "}).sort_values(by='Importance', ascending=True)\n",
    "\n",
    "# Display the feature importance\n",
    "print(feature_importance_df[feature_importance_df['Feature'] == 'latitude'])\n",
    "print(feature_importance_df[feature_importance_df['Feature'] == 'longtitude'])"
   ]
  },
  {
   "cell_type": "code",
   "execution_count": 20,
   "metadata": {
    "ExecuteTime": {
     "end_time": "2024-12-07T12:33:42.651256Z",
     "start_time": "2024-12-07T12:33:42.291031700Z"
    },
    "collapsed": false
   },
   "outputs": [
    {
     "data": {
      "image/png": "[encoded data removed]",
      "text/plain": [
       "<Figure size 1000x600 with 1 Axes>"
      ]
     },
     "metadata": {},
     "output_type": "display_data"
    }
   ],
   "source": [
    "import matplotlib.pyplot as plt\n",
    "\n",
    "plt.figure(figsize=(10, 6))\n",
    "plt.barh(feature_importance_df['Feature'], feature_importance_df['Importance'], color='skyblue')\n",
    "plt.xlabel('Importance score')\n",
    "plt.ylabel('Feature')\n",
    "plt.title('Feature importances in Gradient Boosting Regressor')\n",
    "plt.xticks(rotation=90, ha='right')\n",
    "plt.tight_layout()\n",
    "plt.savefig('gradient_boost_importance.png')\n",
    "plt.show()\n"
   ]
  },
  {
   "cell_type": "code",
   "execution_count": 21,
   "metadata": {
    "ExecuteTime": {
     "end_time": "2024-12-07T12:33:42.773113100Z",
     "start_time": "2024-12-07T12:33:42.652257300Z"
    }
   },
   "outputs": [
    {
     "data": {
      "text/plain": [
       "['gradient_boost.pkl']"
      ]
     },
     "execution_count": 21,
     "metadata": {},
     "output_type": "execute_result"
    }
   ],
   "source": [
    "import joblib\n",
    "\n",
    "# Save the model to a file\n",
    "joblib.dump(model_GB, 'gradient_boost.pkl')"
   ]
  },
  {
   "cell_type": "code",
   "execution_count": 22,
   "metadata": {
    "ExecuteTime": {
     "end_time": "2024-12-07T12:33:42.901719700Z",
     "start_time": "2024-12-07T12:33:42.771117900Z"
    },
    "collapsed": false
   },
   "outputs": [
    {
     "ename": "FileNotFoundError",
     "evalue": "[Errno 2] No such file or directory: '../propertyApp/gradient_boost.pkl'",
     "output_type": "error",
     "traceback": [
      "\u001b[1;31m---------------------------------------------------------------------------\u001b[0m",
      "\u001b[1;31mFileNotFoundError\u001b[0m                         Traceback (most recent call last)",
      "Cell \u001b[1;32mIn[22], line 1\u001b[0m\n\u001b[1;32m----> 1\u001b[0m randomforest \u001b[38;5;241m=\u001b[39m \u001b[43mjoblib\u001b[49m\u001b[38;5;241;43m.\u001b[39;49m\u001b[43mload\u001b[49m\u001b[43m(\u001b[49m\u001b[38;5;124;43m'\u001b[39;49m\u001b[38;5;124;43m../propertyApp/gradient_boost.pkl\u001b[39;49m\u001b[38;5;124;43m'\u001b[39;49m\u001b[43m)\u001b[49m\n\u001b[0;32m      2\u001b[0m row \u001b[38;5;241m=\u001b[39m X_test\u001b[38;5;241m.\u001b[39miloc[[\u001b[38;5;241m0\u001b[39m]]\n\u001b[0;32m      3\u001b[0m row\n",
      "File \u001b[1;32mc:\\Users\\Tysia\\AppData\\Local\\Programs\\Python\\Python310\\lib\\site-packages\\joblib\\numpy_pickle.py:650\u001b[0m, in \u001b[0;36mload\u001b[1;34m(filename, mmap_mode)\u001b[0m\n\u001b[0;32m    648\u001b[0m         obj \u001b[38;5;241m=\u001b[39m _unpickle(fobj)\n\u001b[0;32m    649\u001b[0m \u001b[38;5;28;01melse\u001b[39;00m:\n\u001b[1;32m--> 650\u001b[0m     \u001b[38;5;28;01mwith\u001b[39;00m \u001b[38;5;28;43mopen\u001b[39;49m\u001b[43m(\u001b[49m\u001b[43mfilename\u001b[49m\u001b[43m,\u001b[49m\u001b[43m \u001b[49m\u001b[38;5;124;43m'\u001b[39;49m\u001b[38;5;124;43mrb\u001b[39;49m\u001b[38;5;124;43m'\u001b[39;49m\u001b[43m)\u001b[49m \u001b[38;5;28;01mas\u001b[39;00m f:\n\u001b[0;32m    651\u001b[0m         \u001b[38;5;28;01mwith\u001b[39;00m _read_fileobject(f, filename, mmap_mode) \u001b[38;5;28;01mas\u001b[39;00m fobj:\n\u001b[0;32m    652\u001b[0m             \u001b[38;5;28;01mif\u001b[39;00m \u001b[38;5;28misinstance\u001b[39m(fobj, \u001b[38;5;28mstr\u001b[39m):\n\u001b[0;32m    653\u001b[0m                 \u001b[38;5;66;03m# if the returned file object is a string, this means we\u001b[39;00m\n\u001b[0;32m    654\u001b[0m                 \u001b[38;5;66;03m# try to load a pickle file generated with an version of\u001b[39;00m\n\u001b[0;32m    655\u001b[0m                 \u001b[38;5;66;03m# Joblib so we load it with joblib compatibility function.\u001b[39;00m\n",
      "\u001b[1;31mFileNotFoundError\u001b[0m: [Errno 2] No such file or directory: '../propertyApp/gradient_boost.pkl'"
     ]
    }
   ],
   "source": [
    "randomforest = joblib.load('../propertyApp/gradient_boost.pkl')\n",
    "row = X_test.iloc[[0]]\n",
    "row"
   ]
  },
  {
   "cell_type": "code",
   "execution_count": null,
   "metadata": {
    "ExecuteTime": {
     "end_time": "2024-12-07T12:33:42.912260300Z",
     "start_time": "2024-12-07T12:33:42.901719700Z"
    },
    "collapsed": false
   },
   "outputs": [],
   "source": [
    "row_preprocessed = preprocessor.transform(row)"
   ]
  },
  {
   "cell_type": "code",
   "execution_count": null,
   "metadata": {
    "ExecuteTime": {
     "end_time": "2024-12-07T12:33:42.918567600Z",
     "start_time": "2024-12-07T12:33:42.912260300Z"
    },
    "collapsed": false
   },
   "outputs": [
    {
     "data": {
      "text/plain": [
       "array([[ 0.        ,  1.        ,  0.        ,  0.        ,  0.        ,\n",
       "         1.        ,  1.        ,  0.        ,  0.46544785,  0.35026902,\n",
       "        -1.230844  ,  0.90801327,  0.54669575, -0.87961083, -0.75232781,\n",
       "        -1.22614859, -0.38554519, -0.31495136,  0.3886627 , -0.21813504,\n",
       "        -0.69243588]])"
      ]
     },
     "execution_count": 46,
     "metadata": {},
     "output_type": "execute_result"
    }
   ],
   "source": [
    "row_preprocessed"
   ]
  },
  {
   "cell_type": "code",
   "execution_count": null,
   "metadata": {
    "ExecuteTime": {
     "end_time": "2024-12-07T12:33:42.944090300Z",
     "start_time": "2024-12-07T12:33:42.917132400Z"
    },
    "collapsed": false
   },
   "outputs": [],
   "source": []
  }
 ],
 "metadata": {
  "kernelspec": {
   "display_name": "Python 3",
   "language": "python",
   "name": "python3"
  },
  "language_info": {
   "codemirror_mode": {
    "name": "ipython",
    "version": 3
   },
   "file_extension": ".py",
   "mimetype": "text/x-python",
   "name": "python",
   "nbconvert_exporter": "python",
   "pygments_lexer": "ipython3",
   "version": "3.10.0"
  }
 },
 "nbformat": 4,
 "nbformat_minor": 2
}
