{
 "cells": [
  {
   "cell_type": "code",
   "execution_count": 1,
   "id": "initial_id",
   "metadata": {
    "collapsed": true,
    "ExecuteTime": {
     "end_time": "2024-11-22T12:10:30.109073Z",
     "start_time": "2024-11-22T12:10:29.732302300Z"
    }
   },
   "outputs": [],
   "source": [
    "import numpy as np\n",
    "import pandas as pd\n",
    "import matplotlib.pyplot as plt\n",
    "from scipy import stats\n",
    "import sklearn"
   ]
  },
  {
   "cell_type": "markdown",
   "source": [
    "## Load Data"
   ],
   "metadata": {
    "collapsed": false
   },
   "id": "10257a126a3a64a2"
  },
  {
   "cell_type": "code",
   "execution_count": 2,
   "outputs": [
    {
     "data": {
      "text/plain": "                                                   title   area  \\\n0      4-pokojowe mieszkanie 65m2 + ogródek Bezpośrednio  65.57   \n1       1 pokojowe + balkon INWESTYCYJNIe na DNI OTWARTE  26.01   \n2      Apartament inwestycyjny, ostatnie piętro, k/Sk...  24.89   \n3       Apartament inwestycyjny Śląska 12 z umową najmu!  25.72   \n4       Nowe mieszkanie, wykończone - Mariana Kołodzieja  34.38   \n...                                                  ...    ...   \n14046   INPRO S.A. - OPTIMA - mieszkanie 3-pok. 56.33 m2  56.33   \n14047   INPRO S.A. - OPTIMA - mieszkanie 3-pok. 61.44 m2  61.44   \n14048  INPRO S.A. - OPTIMA - mieszkanie 2-pok. 47.22 ...  47.00   \n14049  INPRO S.A. - OPTIMA - mieszkanie 2-pok. 46.30 ...  46.30   \n14050  INPRO S.A. - OPTIMA - mieszkanie 3-pok. 65.17 ...  65.17   \n\n       number_of_rooms  floor type_of_market  parking  elevator  \\\n0                  4.0    0.0            NaN        1         0   \n1                  1.0    2.0        primary        1         1   \n2                  1.0    5.0      secondary        0         1   \n3                  1.0    0.0      secondary        0         1   \n4                  2.0    3.0      secondary        1         1   \n...                ...    ...            ...      ...       ...   \n14046              3.0    2.0        primary        1         0   \n14047              3.0    3.0        primary        1         0   \n14048              2.0    1.0        primary        1         0   \n14049              2.0    1.0        primary        1         0   \n14050              3.0    1.0        primary        1         0   \n\n       year_of_creation  internet type_of_building  basement  \\\n0                   NaN       NaN              NaN       NaN   \n1                   NaN       0.0       Mieszkanie       0.0   \n2                2022.0       1.0       Mieszkanie       0.0   \n3                2022.0       1.0       Mieszkanie       0.0   \n4                2022.0       1.0       Mieszkanie       0.0   \n...                 ...       ...              ...       ...   \n14046            2024.0       1.0       Mieszkanie       1.0   \n14047            2024.0       1.0       Mieszkanie       1.0   \n14048            2025.0       1.0       Mieszkanie       1.0   \n14049            2025.0       1.0       Mieszkanie       1.0   \n14050            2025.0       1.0       Mieszkanie       1.0   \n\n       price_for_m2_in_PLN  balcony  garden  terrace              street  \\\n0                 12504.19        0       1        1              zakole   \n1                 15840.98        1       0        0                 NaN   \n2                 16749.98        0       0        0           śląska 12   \n3                 18500.00        0       0        0           śląska 12   \n4                 15997.67        1       0        0  mariana kołodzieja   \n...                    ...      ...     ...      ...                 ...   \n14046             10368.00        1       0        0       serdecznikowa   \n14047             10368.00        1       0        0       serdecznikowa   \n14048             10584.00        1       0        0       serdecznikowa   \n14049             10584.00        1       0        0       serdecznikowa   \n14050             10260.00        1       0        0       serdecznikowa   \n\n                  district    city   latitude  longtitude  \n0                    stogi  gdansk  54.362472   18.709969  \n1              śródmieście  gdansk  54.349020   18.651800  \n2                przymorze  gdansk  54.406171   18.576846  \n3                przymorze  gdansk  54.406171   18.576846  \n4      ujeścisko-łostowice  gdansk  54.334542   18.585750  \n...                    ...     ...        ...         ...  \n14046              dąbrowa  gdynia  54.471546   18.467438  \n14047              dąbrowa  gdynia  54.471546   18.467438  \n14048              dąbrowa  gdynia  54.471546   18.467438  \n14049              dąbrowa  gdynia  54.471546   18.467438  \n14050              dąbrowa  gdynia  54.471546   18.467438  \n\n[14051 rows x 20 columns]",
      "text/html": "<div>\n<style scoped>\n    .dataframe tbody tr th:only-of-type {\n        vertical-align: middle;\n    }\n\n    .dataframe tbody tr th {\n        vertical-align: top;\n    }\n\n    .dataframe thead th {\n        text-align: right;\n    }\n</style>\n<table border=\"1\" class=\"dataframe\">\n  <thead>\n    <tr style=\"text-align: right;\">\n      <th></th>\n      <th>title</th>\n      <th>area</th>\n      <th>number_of_rooms</th>\n      <th>floor</th>\n      <th>type_of_market</th>\n      <th>parking</th>\n      <th>elevator</th>\n      <th>year_of_creation</th>\n      <th>internet</th>\n      <th>type_of_building</th>\n      <th>basement</th>\n      <th>price_for_m2_in_PLN</th>\n      <th>balcony</th>\n      <th>garden</th>\n      <th>terrace</th>\n      <th>street</th>\n      <th>district</th>\n      <th>city</th>\n      <th>latitude</th>\n      <th>longtitude</th>\n    </tr>\n  </thead>\n  <tbody>\n    <tr>\n      <th>0</th>\n      <td>4-pokojowe mieszkanie 65m2 + ogródek Bezpośrednio</td>\n      <td>65.57</td>\n      <td>4.0</td>\n      <td>0.0</td>\n      <td>NaN</td>\n      <td>1</td>\n      <td>0</td>\n      <td>NaN</td>\n      <td>NaN</td>\n      <td>NaN</td>\n      <td>NaN</td>\n      <td>12504.19</td>\n      <td>0</td>\n      <td>1</td>\n      <td>1</td>\n      <td>zakole</td>\n      <td>stogi</td>\n      <td>gdansk</td>\n      <td>54.362472</td>\n      <td>18.709969</td>\n    </tr>\n    <tr>\n      <th>1</th>\n      <td>1 pokojowe + balkon INWESTYCYJNIe na DNI OTWARTE</td>\n      <td>26.01</td>\n      <td>1.0</td>\n      <td>2.0</td>\n      <td>primary</td>\n      <td>1</td>\n      <td>1</td>\n      <td>NaN</td>\n      <td>0.0</td>\n      <td>Mieszkanie</td>\n      <td>0.0</td>\n      <td>15840.98</td>\n      <td>1</td>\n      <td>0</td>\n      <td>0</td>\n      <td>NaN</td>\n      <td>śródmieście</td>\n      <td>gdansk</td>\n      <td>54.349020</td>\n      <td>18.651800</td>\n    </tr>\n    <tr>\n      <th>2</th>\n      <td>Apartament inwestycyjny, ostatnie piętro, k/Sk...</td>\n      <td>24.89</td>\n      <td>1.0</td>\n      <td>5.0</td>\n      <td>secondary</td>\n      <td>0</td>\n      <td>1</td>\n      <td>2022.0</td>\n      <td>1.0</td>\n      <td>Mieszkanie</td>\n      <td>0.0</td>\n      <td>16749.98</td>\n      <td>0</td>\n      <td>0</td>\n      <td>0</td>\n      <td>śląska 12</td>\n      <td>przymorze</td>\n      <td>gdansk</td>\n      <td>54.406171</td>\n      <td>18.576846</td>\n    </tr>\n    <tr>\n      <th>3</th>\n      <td>Apartament inwestycyjny Śląska 12 z umową najmu!</td>\n      <td>25.72</td>\n      <td>1.0</td>\n      <td>0.0</td>\n      <td>secondary</td>\n      <td>0</td>\n      <td>1</td>\n      <td>2022.0</td>\n      <td>1.0</td>\n      <td>Mieszkanie</td>\n      <td>0.0</td>\n      <td>18500.00</td>\n      <td>0</td>\n      <td>0</td>\n      <td>0</td>\n      <td>śląska 12</td>\n      <td>przymorze</td>\n      <td>gdansk</td>\n      <td>54.406171</td>\n      <td>18.576846</td>\n    </tr>\n    <tr>\n      <th>4</th>\n      <td>Nowe mieszkanie, wykończone - Mariana Kołodzieja</td>\n      <td>34.38</td>\n      <td>2.0</td>\n      <td>3.0</td>\n      <td>secondary</td>\n      <td>1</td>\n      <td>1</td>\n      <td>2022.0</td>\n      <td>1.0</td>\n      <td>Mieszkanie</td>\n      <td>0.0</td>\n      <td>15997.67</td>\n      <td>1</td>\n      <td>0</td>\n      <td>0</td>\n      <td>mariana kołodzieja</td>\n      <td>ujeścisko-łostowice</td>\n      <td>gdansk</td>\n      <td>54.334542</td>\n      <td>18.585750</td>\n    </tr>\n    <tr>\n      <th>...</th>\n      <td>...</td>\n      <td>...</td>\n      <td>...</td>\n      <td>...</td>\n      <td>...</td>\n      <td>...</td>\n      <td>...</td>\n      <td>...</td>\n      <td>...</td>\n      <td>...</td>\n      <td>...</td>\n      <td>...</td>\n      <td>...</td>\n      <td>...</td>\n      <td>...</td>\n      <td>...</td>\n      <td>...</td>\n      <td>...</td>\n      <td>...</td>\n      <td>...</td>\n    </tr>\n    <tr>\n      <th>14046</th>\n      <td>INPRO S.A. - OPTIMA - mieszkanie 3-pok. 56.33 m2</td>\n      <td>56.33</td>\n      <td>3.0</td>\n      <td>2.0</td>\n      <td>primary</td>\n      <td>1</td>\n      <td>0</td>\n      <td>2024.0</td>\n      <td>1.0</td>\n      <td>Mieszkanie</td>\n      <td>1.0</td>\n      <td>10368.00</td>\n      <td>1</td>\n      <td>0</td>\n      <td>0</td>\n      <td>serdecznikowa</td>\n      <td>dąbrowa</td>\n      <td>gdynia</td>\n      <td>54.471546</td>\n      <td>18.467438</td>\n    </tr>\n    <tr>\n      <th>14047</th>\n      <td>INPRO S.A. - OPTIMA - mieszkanie 3-pok. 61.44 m2</td>\n      <td>61.44</td>\n      <td>3.0</td>\n      <td>3.0</td>\n      <td>primary</td>\n      <td>1</td>\n      <td>0</td>\n      <td>2024.0</td>\n      <td>1.0</td>\n      <td>Mieszkanie</td>\n      <td>1.0</td>\n      <td>10368.00</td>\n      <td>1</td>\n      <td>0</td>\n      <td>0</td>\n      <td>serdecznikowa</td>\n      <td>dąbrowa</td>\n      <td>gdynia</td>\n      <td>54.471546</td>\n      <td>18.467438</td>\n    </tr>\n    <tr>\n      <th>14048</th>\n      <td>INPRO S.A. - OPTIMA - mieszkanie 2-pok. 47.22 ...</td>\n      <td>47.00</td>\n      <td>2.0</td>\n      <td>1.0</td>\n      <td>primary</td>\n      <td>1</td>\n      <td>0</td>\n      <td>2025.0</td>\n      <td>1.0</td>\n      <td>Mieszkanie</td>\n      <td>1.0</td>\n      <td>10584.00</td>\n      <td>1</td>\n      <td>0</td>\n      <td>0</td>\n      <td>serdecznikowa</td>\n      <td>dąbrowa</td>\n      <td>gdynia</td>\n      <td>54.471546</td>\n      <td>18.467438</td>\n    </tr>\n    <tr>\n      <th>14049</th>\n      <td>INPRO S.A. - OPTIMA - mieszkanie 2-pok. 46.30 ...</td>\n      <td>46.30</td>\n      <td>2.0</td>\n      <td>1.0</td>\n      <td>primary</td>\n      <td>1</td>\n      <td>0</td>\n      <td>2025.0</td>\n      <td>1.0</td>\n      <td>Mieszkanie</td>\n      <td>1.0</td>\n      <td>10584.00</td>\n      <td>1</td>\n      <td>0</td>\n      <td>0</td>\n      <td>serdecznikowa</td>\n      <td>dąbrowa</td>\n      <td>gdynia</td>\n      <td>54.471546</td>\n      <td>18.467438</td>\n    </tr>\n    <tr>\n      <th>14050</th>\n      <td>INPRO S.A. - OPTIMA - mieszkanie 3-pok. 65.17 ...</td>\n      <td>65.17</td>\n      <td>3.0</td>\n      <td>1.0</td>\n      <td>primary</td>\n      <td>1</td>\n      <td>0</td>\n      <td>2025.0</td>\n      <td>1.0</td>\n      <td>Mieszkanie</td>\n      <td>1.0</td>\n      <td>10260.00</td>\n      <td>1</td>\n      <td>0</td>\n      <td>0</td>\n      <td>serdecznikowa</td>\n      <td>dąbrowa</td>\n      <td>gdynia</td>\n      <td>54.471546</td>\n      <td>18.467438</td>\n    </tr>\n  </tbody>\n</table>\n<p>14051 rows × 20 columns</p>\n</div>"
     },
     "execution_count": 2,
     "metadata": {},
     "output_type": "execute_result"
    }
   ],
   "source": [
    "df = pd.read_csv('cleaned_dataset.csv', delimiter='|')\n",
    "df = df.drop(columns=['overall_price'])\n",
    "df"
   ],
   "metadata": {
    "collapsed": false,
    "ExecuteTime": {
     "end_time": "2024-11-22T12:10:30.206635400Z",
     "start_time": "2024-11-22T12:10:30.108068500Z"
    }
   },
   "id": "f8301b4c812cf260"
  },
  {
   "cell_type": "code",
   "execution_count": 3,
   "outputs": [
    {
     "data": {
      "text/plain": "title                   object\narea                   float64\nnumber_of_rooms        float64\nfloor                  float64\ntype_of_market          object\nparking                  int64\nelevator                 int64\nyear_of_creation       float64\ninternet               float64\ntype_of_building        object\nbasement               float64\nprice_for_m2_in_PLN    float64\nbalcony                  int64\ngarden                   int64\nterrace                  int64\nstreet                  object\ndistrict                object\ncity                    object\nlatitude               float64\nlongtitude             float64\ndtype: object"
     },
     "execution_count": 3,
     "metadata": {},
     "output_type": "execute_result"
    }
   ],
   "source": [
    "df.dtypes"
   ],
   "metadata": {
    "collapsed": false,
    "ExecuteTime": {
     "end_time": "2024-11-22T12:10:30.241007500Z",
     "start_time": "2024-11-22T12:10:30.201340100Z"
    }
   },
   "id": "3ce68ff80a089cae"
  },
  {
   "cell_type": "markdown",
   "source": [
    "## Inspecting NaN values"
   ],
   "metadata": {
    "collapsed": false
   },
   "id": "4be0421699ba113a"
  },
  {
   "cell_type": "code",
   "execution_count": 4,
   "outputs": [
    {
     "data": {
      "text/plain": "title                     0\narea                      1\nnumber_of_rooms           0\nfloor                   489\ntype_of_market          603\nparking                   0\nelevator                  0\nyear_of_creation       1331\ninternet                603\ntype_of_building       1746\nbasement                603\nprice_for_m2_in_PLN       1\nbalcony                   0\ngarden                    0\nterrace                   0\nstreet                 1381\ndistrict                  0\ncity                      0\nlatitude                  0\nlongtitude                0\ndtype: int64"
     },
     "execution_count": 4,
     "metadata": {},
     "output_type": "execute_result"
    }
   ],
   "source": [
    "# Calculating the number of NaN values for each column\n",
    "nan_values = df.isnull().sum()\n",
    "nan_values"
   ],
   "metadata": {
    "collapsed": false,
    "ExecuteTime": {
     "end_time": "2024-11-22T12:10:30.243590Z",
     "start_time": "2024-11-22T12:10:30.210634300Z"
    }
   },
   "id": "34e59bc495548948"
  },
  {
   "cell_type": "code",
   "execution_count": 5,
   "outputs": [],
   "source": [
    "# dropping the rows with NaN values in basement column\n",
    "df = df.dropna(subset=['basement'])"
   ],
   "metadata": {
    "collapsed": false,
    "ExecuteTime": {
     "end_time": "2024-11-22T12:10:30.243590Z",
     "start_time": "2024-11-22T12:10:30.222551400Z"
    }
   },
   "id": "967e1891b6bc7a84"
  },
  {
   "cell_type": "code",
   "execution_count": 6,
   "outputs": [
    {
     "data": {
      "text/plain": "title                     0\narea                      1\nnumber_of_rooms           0\nfloor                   489\ntype_of_market            0\nparking                   0\nelevator                  0\nyear_of_creation        728\ninternet                  0\ntype_of_building       1143\nbasement                  0\nprice_for_m2_in_PLN       1\nbalcony                   0\ngarden                    0\nterrace                   0\nstreet                 1381\ndistrict                  0\ncity                      0\nlatitude                  0\nlongtitude                0\ndtype: int64"
     },
     "execution_count": 6,
     "metadata": {},
     "output_type": "execute_result"
    }
   ],
   "source": [
    "# Calculating the number of NaN values for each column\n",
    "nan_values = df.isnull().sum()\n",
    "nan_values"
   ],
   "metadata": {
    "collapsed": false,
    "ExecuteTime": {
     "end_time": "2024-11-22T12:10:30.348123900Z",
     "start_time": "2024-11-22T12:10:30.236010700Z"
    }
   },
   "id": "84b440c35b6ad6cc"
  },
  {
   "cell_type": "markdown",
   "source": [
    "### Categorizing type_of_building column"
   ],
   "metadata": {
    "collapsed": false
   },
   "id": "feb071a2b893c714"
  },
  {
   "cell_type": "code",
   "execution_count": 7,
   "outputs": [
    {
     "data": {
      "text/plain": "type_of_building\nMieszkanie          11883\nDom bliźniak          111\nDom wolnostojący      111\nDom szeregowy         105\nwolnostojący           68\nszeregowiec            19\nDom rekreacyjny         6\nDom kamienica           1\nDom piętro domu         1\nName: count, dtype: int64"
     },
     "execution_count": 7,
     "metadata": {},
     "output_type": "execute_result"
    }
   ],
   "source": [
    "df['type_of_building'].value_counts()"
   ],
   "metadata": {
    "collapsed": false,
    "ExecuteTime": {
     "end_time": "2024-11-22T12:10:30.393626500Z",
     "start_time": "2024-11-22T12:10:30.247612900Z"
    }
   },
   "id": "5dda7d08ba70206d"
  },
  {
   "cell_type": "code",
   "execution_count": 8,
   "outputs": [
    {
     "data": {
      "text/plain": "                                                  title   area  \\\n7                           2 pokoje | nowe budownictwo  42.70   \n42    Nietuzinkowe blisko morza na Wyspie Sobieszews...  43.13   \n46             2 pokojowe mieszkanie dostępne od zaraz!  37.00   \n50     Nowa oferta mieszkań - Meva - Gdynia Grabówek M2  56.12   \n61              Nowe mieszkanie Scala w Centrum Gdańska  59.57   \n...                                                 ...    ...   \n6953                                         Sprzedane!  52.63   \n6954           Po remoncie, widok na starą Halę Targową  63.00   \n6962                         Granaria - Wyspa Spichrzów  68.19   \n6963                         Granaria - Wyspa Spichrzów  47.15   \n6966  3 Pokoje- Centrum Miasta - Nad Motławą- Riverview  50.40   \n\n      number_of_rooms  floor type_of_market  parking  elevator  \\\n7                 2.0    1.0      secondary        1         0   \n42                2.0    0.0      secondary        1         0   \n46                2.0    1.0      secondary        1         0   \n50                3.0    0.0        primary        1         0   \n61                3.0    1.0      secondary        0         1   \n...               ...    ...            ...      ...       ...   \n6953              2.0    4.0      secondary        1         0   \n6954              3.0    2.0      secondary        0         0   \n6962              1.0    1.0      secondary        0         1   \n6963              1.0    1.0      secondary        0         1   \n6966              3.0    0.0      secondary        0         0   \n\n      year_of_creation  internet type_of_building  basement  \\\n7               2015.0       0.0              NaN       1.0   \n42              2021.0       0.0              NaN       0.0   \n46              2022.0       0.0              NaN       0.0   \n50              2024.0       1.0              NaN       0.0   \n61              2023.0       0.0              NaN       0.0   \n...                ...       ...              ...       ...   \n6953            1980.0       0.0              NaN       1.0   \n6954               NaN       0.0              NaN       1.0   \n6962            2020.0       0.0              NaN       0.0   \n6963            2020.0       0.0              NaN       0.0   \n6966            2020.0       0.0              NaN       0.0   \n\n      price_for_m2_in_PLN  balcony  garden  terrace                 street  \\\n7                15456.67        1       0        0                    NaN   \n42               24345.00        0       1        1            turystyczna   \n46               13918.92        1       0        0      franciszka sokoła   \n50               13096.94        0       1        0     gerarda denhoffa 2   \n61               24005.37        1       0        0                    NaN   \n...                   ...      ...     ...      ...                    ...   \n6953             13072.39        1       0        0                falista   \n6954             14920.63        1       0        0  podwale staromiejskie   \n6962             22500.00        0       0        0               chmielna   \n6963             22500.00        0       0        0               chmielna   \n6966             19821.43        0       0        0       angielska grobla   \n\n                district    city   latitude  longtitude  \n7               grabówek  gdynia  54.517680   18.538920  \n42    wyspa sobieszewska  gdansk  54.344034   18.827022  \n46     chwarzno-wiczlino  gdynia  54.490386   18.423491  \n50              grabówek  gdynia  54.523362   18.516540  \n61           śródmieście  gdansk  54.349020   18.651800  \n...                  ...     ...        ...         ...  \n6953            grabówek  gdynia  54.521610   18.519251  \n6954         śródmieście  gdansk  54.353372   18.653097  \n6962         śródmieście  gdansk  54.346105   18.656253  \n6963         śródmieście  gdansk  54.346105   18.656253  \n6966         śródmieście  gdansk  54.350635   18.664603  \n\n[1143 rows x 20 columns]",
      "text/html": "<div>\n<style scoped>\n    .dataframe tbody tr th:only-of-type {\n        vertical-align: middle;\n    }\n\n    .dataframe tbody tr th {\n        vertical-align: top;\n    }\n\n    .dataframe thead th {\n        text-align: right;\n    }\n</style>\n<table border=\"1\" class=\"dataframe\">\n  <thead>\n    <tr style=\"text-align: right;\">\n      <th></th>\n      <th>title</th>\n      <th>area</th>\n      <th>number_of_rooms</th>\n      <th>floor</th>\n      <th>type_of_market</th>\n      <th>parking</th>\n      <th>elevator</th>\n      <th>year_of_creation</th>\n      <th>internet</th>\n      <th>type_of_building</th>\n      <th>basement</th>\n      <th>price_for_m2_in_PLN</th>\n      <th>balcony</th>\n      <th>garden</th>\n      <th>terrace</th>\n      <th>street</th>\n      <th>district</th>\n      <th>city</th>\n      <th>latitude</th>\n      <th>longtitude</th>\n    </tr>\n  </thead>\n  <tbody>\n    <tr>\n      <th>7</th>\n      <td>2 pokoje | nowe budownictwo</td>\n      <td>42.70</td>\n      <td>2.0</td>\n      <td>1.0</td>\n      <td>secondary</td>\n      <td>1</td>\n      <td>0</td>\n      <td>2015.0</td>\n      <td>0.0</td>\n      <td>NaN</td>\n      <td>1.0</td>\n      <td>15456.67</td>\n      <td>1</td>\n      <td>0</td>\n      <td>0</td>\n      <td>NaN</td>\n      <td>grabówek</td>\n      <td>gdynia</td>\n      <td>54.517680</td>\n      <td>18.538920</td>\n    </tr>\n    <tr>\n      <th>42</th>\n      <td>Nietuzinkowe blisko morza na Wyspie Sobieszews...</td>\n      <td>43.13</td>\n      <td>2.0</td>\n      <td>0.0</td>\n      <td>secondary</td>\n      <td>1</td>\n      <td>0</td>\n      <td>2021.0</td>\n      <td>0.0</td>\n      <td>NaN</td>\n      <td>0.0</td>\n      <td>24345.00</td>\n      <td>0</td>\n      <td>1</td>\n      <td>1</td>\n      <td>turystyczna</td>\n      <td>wyspa sobieszewska</td>\n      <td>gdansk</td>\n      <td>54.344034</td>\n      <td>18.827022</td>\n    </tr>\n    <tr>\n      <th>46</th>\n      <td>2 pokojowe mieszkanie dostępne od zaraz!</td>\n      <td>37.00</td>\n      <td>2.0</td>\n      <td>1.0</td>\n      <td>secondary</td>\n      <td>1</td>\n      <td>0</td>\n      <td>2022.0</td>\n      <td>0.0</td>\n      <td>NaN</td>\n      <td>0.0</td>\n      <td>13918.92</td>\n      <td>1</td>\n      <td>0</td>\n      <td>0</td>\n      <td>franciszka sokoła</td>\n      <td>chwarzno-wiczlino</td>\n      <td>gdynia</td>\n      <td>54.490386</td>\n      <td>18.423491</td>\n    </tr>\n    <tr>\n      <th>50</th>\n      <td>Nowa oferta mieszkań - Meva - Gdynia Grabówek M2</td>\n      <td>56.12</td>\n      <td>3.0</td>\n      <td>0.0</td>\n      <td>primary</td>\n      <td>1</td>\n      <td>0</td>\n      <td>2024.0</td>\n      <td>1.0</td>\n      <td>NaN</td>\n      <td>0.0</td>\n      <td>13096.94</td>\n      <td>0</td>\n      <td>1</td>\n      <td>0</td>\n      <td>gerarda denhoffa 2</td>\n      <td>grabówek</td>\n      <td>gdynia</td>\n      <td>54.523362</td>\n      <td>18.516540</td>\n    </tr>\n    <tr>\n      <th>61</th>\n      <td>Nowe mieszkanie Scala w Centrum Gdańska</td>\n      <td>59.57</td>\n      <td>3.0</td>\n      <td>1.0</td>\n      <td>secondary</td>\n      <td>0</td>\n      <td>1</td>\n      <td>2023.0</td>\n      <td>0.0</td>\n      <td>NaN</td>\n      <td>0.0</td>\n      <td>24005.37</td>\n      <td>1</td>\n      <td>0</td>\n      <td>0</td>\n      <td>NaN</td>\n      <td>śródmieście</td>\n      <td>gdansk</td>\n      <td>54.349020</td>\n      <td>18.651800</td>\n    </tr>\n    <tr>\n      <th>...</th>\n      <td>...</td>\n      <td>...</td>\n      <td>...</td>\n      <td>...</td>\n      <td>...</td>\n      <td>...</td>\n      <td>...</td>\n      <td>...</td>\n      <td>...</td>\n      <td>...</td>\n      <td>...</td>\n      <td>...</td>\n      <td>...</td>\n      <td>...</td>\n      <td>...</td>\n      <td>...</td>\n      <td>...</td>\n      <td>...</td>\n      <td>...</td>\n      <td>...</td>\n    </tr>\n    <tr>\n      <th>6953</th>\n      <td>Sprzedane!</td>\n      <td>52.63</td>\n      <td>2.0</td>\n      <td>4.0</td>\n      <td>secondary</td>\n      <td>1</td>\n      <td>0</td>\n      <td>1980.0</td>\n      <td>0.0</td>\n      <td>NaN</td>\n      <td>1.0</td>\n      <td>13072.39</td>\n      <td>1</td>\n      <td>0</td>\n      <td>0</td>\n      <td>falista</td>\n      <td>grabówek</td>\n      <td>gdynia</td>\n      <td>54.521610</td>\n      <td>18.519251</td>\n    </tr>\n    <tr>\n      <th>6954</th>\n      <td>Po remoncie, widok na starą Halę Targową</td>\n      <td>63.00</td>\n      <td>3.0</td>\n      <td>2.0</td>\n      <td>secondary</td>\n      <td>0</td>\n      <td>0</td>\n      <td>NaN</td>\n      <td>0.0</td>\n      <td>NaN</td>\n      <td>1.0</td>\n      <td>14920.63</td>\n      <td>1</td>\n      <td>0</td>\n      <td>0</td>\n      <td>podwale staromiejskie</td>\n      <td>śródmieście</td>\n      <td>gdansk</td>\n      <td>54.353372</td>\n      <td>18.653097</td>\n    </tr>\n    <tr>\n      <th>6962</th>\n      <td>Granaria - Wyspa Spichrzów</td>\n      <td>68.19</td>\n      <td>1.0</td>\n      <td>1.0</td>\n      <td>secondary</td>\n      <td>0</td>\n      <td>1</td>\n      <td>2020.0</td>\n      <td>0.0</td>\n      <td>NaN</td>\n      <td>0.0</td>\n      <td>22500.00</td>\n      <td>0</td>\n      <td>0</td>\n      <td>0</td>\n      <td>chmielna</td>\n      <td>śródmieście</td>\n      <td>gdansk</td>\n      <td>54.346105</td>\n      <td>18.656253</td>\n    </tr>\n    <tr>\n      <th>6963</th>\n      <td>Granaria - Wyspa Spichrzów</td>\n      <td>47.15</td>\n      <td>1.0</td>\n      <td>1.0</td>\n      <td>secondary</td>\n      <td>0</td>\n      <td>1</td>\n      <td>2020.0</td>\n      <td>0.0</td>\n      <td>NaN</td>\n      <td>0.0</td>\n      <td>22500.00</td>\n      <td>0</td>\n      <td>0</td>\n      <td>0</td>\n      <td>chmielna</td>\n      <td>śródmieście</td>\n      <td>gdansk</td>\n      <td>54.346105</td>\n      <td>18.656253</td>\n    </tr>\n    <tr>\n      <th>6966</th>\n      <td>3 Pokoje- Centrum Miasta - Nad Motławą- Riverview</td>\n      <td>50.40</td>\n      <td>3.0</td>\n      <td>0.0</td>\n      <td>secondary</td>\n      <td>0</td>\n      <td>0</td>\n      <td>2020.0</td>\n      <td>0.0</td>\n      <td>NaN</td>\n      <td>0.0</td>\n      <td>19821.43</td>\n      <td>0</td>\n      <td>0</td>\n      <td>0</td>\n      <td>angielska grobla</td>\n      <td>śródmieście</td>\n      <td>gdansk</td>\n      <td>54.350635</td>\n      <td>18.664603</td>\n    </tr>\n  </tbody>\n</table>\n<p>1143 rows × 20 columns</p>\n</div>"
     },
     "execution_count": 8,
     "metadata": {},
     "output_type": "execute_result"
    }
   ],
   "source": [
    "df[df['type_of_building'].isnull()]"
   ],
   "metadata": {
    "collapsed": false,
    "ExecuteTime": {
     "end_time": "2024-11-22T12:10:30.395626300Z",
     "start_time": "2024-11-22T12:10:30.258638500Z"
    }
   },
   "id": "2cc28aca083c5b9"
  },
  {
   "cell_type": "code",
   "execution_count": 9,
   "outputs": [],
   "source": [
    "df.loc[df['title'].str.contains('mieszkanie', case=False) & df['type_of_building'].isnull(), 'type_of_building'] = 'Mieszkanie'\n",
    "df.loc[df['title'].str.contains('mieszkań', case=False) & df['type_of_building'].isnull(), 'type_of_building'] = 'Mieszkanie'\n",
    "df.loc[df['title'].str.contains('dom', case=False) & df['type_of_building'].isnull(), 'type_of_building'] = 'Dom'\n",
    "df.loc[df['title'].str.contains('apartament', case=False) & df['type_of_building'].isnull(), 'type_of_building'] = 'Mieszkanie'"
   ],
   "metadata": {
    "collapsed": false,
    "ExecuteTime": {
     "end_time": "2024-11-22T12:10:30.442468Z",
     "start_time": "2024-11-22T12:10:30.284529100Z"
    }
   },
   "id": "6800d1ff5c94e3e0"
  },
  {
   "cell_type": "code",
   "execution_count": 10,
   "outputs": [
    {
     "data": {
      "text/plain": "                                                  title   area  \\\n7                           2 pokoje | nowe budownictwo  42.70   \n42    Nietuzinkowe blisko morza na Wyspie Sobieszews...  43.13   \n70       3pokoje.W.Otulinie.Parku.Gdynia.MałyKack.Taras  73.58   \n101                                    Quercus - B2.127  39.00   \n102                                     Quercus - B2.74  44.00   \n...                                                 ...    ...   \n6953                                         Sprzedane!  52.63   \n6954           Po remoncie, widok na starą Halę Targową  63.00   \n6962                         Granaria - Wyspa Spichrzów  68.19   \n6963                         Granaria - Wyspa Spichrzów  47.15   \n6966  3 Pokoje- Centrum Miasta - Nad Motławą- Riverview  50.40   \n\n      number_of_rooms  floor type_of_market  parking  elevator  \\\n7                 2.0    1.0      secondary        1         0   \n42                2.0    0.0      secondary        1         0   \n70                3.0    1.0        primary        1         0   \n101               2.0    5.0        primary        0         1   \n102               2.0    1.0        primary        0         1   \n...               ...    ...            ...      ...       ...   \n6953              2.0    4.0      secondary        1         0   \n6954              3.0    2.0      secondary        0         0   \n6962              1.0    1.0      secondary        0         1   \n6963              1.0    1.0      secondary        0         1   \n6966              3.0    0.0      secondary        0         0   \n\n      year_of_creation  internet type_of_building  basement  \\\n7               2015.0       0.0              NaN       1.0   \n42              2021.0       0.0              NaN       0.0   \n70              2024.0       0.0              NaN       0.0   \n101             2025.0       0.0              NaN       0.0   \n102             2025.0       0.0              NaN       0.0   \n...                ...       ...              ...       ...   \n6953            1980.0       0.0              NaN       1.0   \n6954               NaN       0.0              NaN       1.0   \n6962            2020.0       0.0              NaN       0.0   \n6963            2020.0       0.0              NaN       0.0   \n6966            2020.0       0.0              NaN       0.0   \n\n      price_for_m2_in_PLN  balcony  garden  terrace                 street  \\\n7                15456.67        1       0        0                    NaN   \n42               24345.00        0       1        1            turystyczna   \n70               19135.00        1       0        0      wzgórze bernadowo   \n101              11818.59        0       0        0           wielkopolska   \n102              10756.48        0       0        0           wielkopolska   \n...                   ...      ...     ...      ...                    ...   \n6953             13072.39        1       0        0                falista   \n6954             14920.63        1       0        0  podwale staromiejskie   \n6962             22500.00        0       0        0               chmielna   \n6963             22500.00        0       0        0               chmielna   \n6966             19821.43        0       0        0       angielska grobla   \n\n                 district    city   latitude  longtitude  \n7                grabówek  gdynia  54.517680   18.538920  \n42     wyspa sobieszewska  gdansk  54.344034   18.827022  \n70              mały kack  gdynia  54.468501   18.513716  \n101   ujeścisko-łostowice  gdansk  54.319110   18.591801  \n102   ujeścisko-łostowice  gdansk  54.319110   18.591801  \n...                   ...     ...        ...         ...  \n6953             grabówek  gdynia  54.521610   18.519251  \n6954          śródmieście  gdansk  54.353372   18.653097  \n6962          śródmieście  gdansk  54.346105   18.656253  \n6963          śródmieście  gdansk  54.346105   18.656253  \n6966          śródmieście  gdansk  54.350635   18.664603  \n\n[611 rows x 20 columns]",
      "text/html": "<div>\n<style scoped>\n    .dataframe tbody tr th:only-of-type {\n        vertical-align: middle;\n    }\n\n    .dataframe tbody tr th {\n        vertical-align: top;\n    }\n\n    .dataframe thead th {\n        text-align: right;\n    }\n</style>\n<table border=\"1\" class=\"dataframe\">\n  <thead>\n    <tr style=\"text-align: right;\">\n      <th></th>\n      <th>title</th>\n      <th>area</th>\n      <th>number_of_rooms</th>\n      <th>floor</th>\n      <th>type_of_market</th>\n      <th>parking</th>\n      <th>elevator</th>\n      <th>year_of_creation</th>\n      <th>internet</th>\n      <th>type_of_building</th>\n      <th>basement</th>\n      <th>price_for_m2_in_PLN</th>\n      <th>balcony</th>\n      <th>garden</th>\n      <th>terrace</th>\n      <th>street</th>\n      <th>district</th>\n      <th>city</th>\n      <th>latitude</th>\n      <th>longtitude</th>\n    </tr>\n  </thead>\n  <tbody>\n    <tr>\n      <th>7</th>\n      <td>2 pokoje | nowe budownictwo</td>\n      <td>42.70</td>\n      <td>2.0</td>\n      <td>1.0</td>\n      <td>secondary</td>\n      <td>1</td>\n      <td>0</td>\n      <td>2015.0</td>\n      <td>0.0</td>\n      <td>NaN</td>\n      <td>1.0</td>\n      <td>15456.67</td>\n      <td>1</td>\n      <td>0</td>\n      <td>0</td>\n      <td>NaN</td>\n      <td>grabówek</td>\n      <td>gdynia</td>\n      <td>54.517680</td>\n      <td>18.538920</td>\n    </tr>\n    <tr>\n      <th>42</th>\n      <td>Nietuzinkowe blisko morza na Wyspie Sobieszews...</td>\n      <td>43.13</td>\n      <td>2.0</td>\n      <td>0.0</td>\n      <td>secondary</td>\n      <td>1</td>\n      <td>0</td>\n      <td>2021.0</td>\n      <td>0.0</td>\n      <td>NaN</td>\n      <td>0.0</td>\n      <td>24345.00</td>\n      <td>0</td>\n      <td>1</td>\n      <td>1</td>\n      <td>turystyczna</td>\n      <td>wyspa sobieszewska</td>\n      <td>gdansk</td>\n      <td>54.344034</td>\n      <td>18.827022</td>\n    </tr>\n    <tr>\n      <th>70</th>\n      <td>3pokoje.W.Otulinie.Parku.Gdynia.MałyKack.Taras</td>\n      <td>73.58</td>\n      <td>3.0</td>\n      <td>1.0</td>\n      <td>primary</td>\n      <td>1</td>\n      <td>0</td>\n      <td>2024.0</td>\n      <td>0.0</td>\n      <td>NaN</td>\n      <td>0.0</td>\n      <td>19135.00</td>\n      <td>1</td>\n      <td>0</td>\n      <td>0</td>\n      <td>wzgórze bernadowo</td>\n      <td>mały kack</td>\n      <td>gdynia</td>\n      <td>54.468501</td>\n      <td>18.513716</td>\n    </tr>\n    <tr>\n      <th>101</th>\n      <td>Quercus - B2.127</td>\n      <td>39.00</td>\n      <td>2.0</td>\n      <td>5.0</td>\n      <td>primary</td>\n      <td>0</td>\n      <td>1</td>\n      <td>2025.0</td>\n      <td>0.0</td>\n      <td>NaN</td>\n      <td>0.0</td>\n      <td>11818.59</td>\n      <td>0</td>\n      <td>0</td>\n      <td>0</td>\n      <td>wielkopolska</td>\n      <td>ujeścisko-łostowice</td>\n      <td>gdansk</td>\n      <td>54.319110</td>\n      <td>18.591801</td>\n    </tr>\n    <tr>\n      <th>102</th>\n      <td>Quercus - B2.74</td>\n      <td>44.00</td>\n      <td>2.0</td>\n      <td>1.0</td>\n      <td>primary</td>\n      <td>0</td>\n      <td>1</td>\n      <td>2025.0</td>\n      <td>0.0</td>\n      <td>NaN</td>\n      <td>0.0</td>\n      <td>10756.48</td>\n      <td>0</td>\n      <td>0</td>\n      <td>0</td>\n      <td>wielkopolska</td>\n      <td>ujeścisko-łostowice</td>\n      <td>gdansk</td>\n      <td>54.319110</td>\n      <td>18.591801</td>\n    </tr>\n    <tr>\n      <th>...</th>\n      <td>...</td>\n      <td>...</td>\n      <td>...</td>\n      <td>...</td>\n      <td>...</td>\n      <td>...</td>\n      <td>...</td>\n      <td>...</td>\n      <td>...</td>\n      <td>...</td>\n      <td>...</td>\n      <td>...</td>\n      <td>...</td>\n      <td>...</td>\n      <td>...</td>\n      <td>...</td>\n      <td>...</td>\n      <td>...</td>\n      <td>...</td>\n      <td>...</td>\n    </tr>\n    <tr>\n      <th>6953</th>\n      <td>Sprzedane!</td>\n      <td>52.63</td>\n      <td>2.0</td>\n      <td>4.0</td>\n      <td>secondary</td>\n      <td>1</td>\n      <td>0</td>\n      <td>1980.0</td>\n      <td>0.0</td>\n      <td>NaN</td>\n      <td>1.0</td>\n      <td>13072.39</td>\n      <td>1</td>\n      <td>0</td>\n      <td>0</td>\n      <td>falista</td>\n      <td>grabówek</td>\n      <td>gdynia</td>\n      <td>54.521610</td>\n      <td>18.519251</td>\n    </tr>\n    <tr>\n      <th>6954</th>\n      <td>Po remoncie, widok na starą Halę Targową</td>\n      <td>63.00</td>\n      <td>3.0</td>\n      <td>2.0</td>\n      <td>secondary</td>\n      <td>0</td>\n      <td>0</td>\n      <td>NaN</td>\n      <td>0.0</td>\n      <td>NaN</td>\n      <td>1.0</td>\n      <td>14920.63</td>\n      <td>1</td>\n      <td>0</td>\n      <td>0</td>\n      <td>podwale staromiejskie</td>\n      <td>śródmieście</td>\n      <td>gdansk</td>\n      <td>54.353372</td>\n      <td>18.653097</td>\n    </tr>\n    <tr>\n      <th>6962</th>\n      <td>Granaria - Wyspa Spichrzów</td>\n      <td>68.19</td>\n      <td>1.0</td>\n      <td>1.0</td>\n      <td>secondary</td>\n      <td>0</td>\n      <td>1</td>\n      <td>2020.0</td>\n      <td>0.0</td>\n      <td>NaN</td>\n      <td>0.0</td>\n      <td>22500.00</td>\n      <td>0</td>\n      <td>0</td>\n      <td>0</td>\n      <td>chmielna</td>\n      <td>śródmieście</td>\n      <td>gdansk</td>\n      <td>54.346105</td>\n      <td>18.656253</td>\n    </tr>\n    <tr>\n      <th>6963</th>\n      <td>Granaria - Wyspa Spichrzów</td>\n      <td>47.15</td>\n      <td>1.0</td>\n      <td>1.0</td>\n      <td>secondary</td>\n      <td>0</td>\n      <td>1</td>\n      <td>2020.0</td>\n      <td>0.0</td>\n      <td>NaN</td>\n      <td>0.0</td>\n      <td>22500.00</td>\n      <td>0</td>\n      <td>0</td>\n      <td>0</td>\n      <td>chmielna</td>\n      <td>śródmieście</td>\n      <td>gdansk</td>\n      <td>54.346105</td>\n      <td>18.656253</td>\n    </tr>\n    <tr>\n      <th>6966</th>\n      <td>3 Pokoje- Centrum Miasta - Nad Motławą- Riverview</td>\n      <td>50.40</td>\n      <td>3.0</td>\n      <td>0.0</td>\n      <td>secondary</td>\n      <td>0</td>\n      <td>0</td>\n      <td>2020.0</td>\n      <td>0.0</td>\n      <td>NaN</td>\n      <td>0.0</td>\n      <td>19821.43</td>\n      <td>0</td>\n      <td>0</td>\n      <td>0</td>\n      <td>angielska grobla</td>\n      <td>śródmieście</td>\n      <td>gdansk</td>\n      <td>54.350635</td>\n      <td>18.664603</td>\n    </tr>\n  </tbody>\n</table>\n<p>611 rows × 20 columns</p>\n</div>"
     },
     "execution_count": 10,
     "metadata": {},
     "output_type": "execute_result"
    }
   ],
   "source": [
    "df[df['type_of_building'].isnull()]"
   ],
   "metadata": {
    "collapsed": false,
    "ExecuteTime": {
     "end_time": "2024-11-22T12:10:30.584465700Z",
     "start_time": "2024-11-22T12:10:30.340124400Z"
    }
   },
   "id": "dd1c41aaeff0ee00"
  },
  {
   "cell_type": "code",
   "execution_count": 11,
   "outputs": [],
   "source": [
    "df = df.dropna(subset=['type_of_building'])"
   ],
   "metadata": {
    "collapsed": false,
    "ExecuteTime": {
     "end_time": "2024-11-22T12:10:30.584465700Z",
     "start_time": "2024-11-22T12:10:30.366988800Z"
    }
   },
   "id": "37e07e4b68c4fdbe"
  },
  {
   "cell_type": "code",
   "execution_count": 12,
   "outputs": [
    {
     "data": {
      "text/plain": "type_of_building\nMieszkanie          12411\nDom bliźniak          111\nDom wolnostojący      111\nDom szeregowy         105\nwolnostojący           68\nszeregowiec            19\nDom rekreacyjny         6\nDom                     4\nDom kamienica           1\nDom piętro domu         1\nName: count, dtype: int64"
     },
     "execution_count": 12,
     "metadata": {},
     "output_type": "execute_result"
    }
   ],
   "source": [
    "df['type_of_building'].value_counts()"
   ],
   "metadata": {
    "collapsed": false,
    "ExecuteTime": {
     "end_time": "2024-11-22T12:10:30.615086500Z",
     "start_time": "2024-11-22T12:10:30.378538500Z"
    }
   },
   "id": "9b68370056a1c221"
  },
  {
   "cell_type": "code",
   "execution_count": 13,
   "outputs": [],
   "source": [
    "# If the type_of_building column is mieszkanie leave it else = dom\n",
    "df['type_of_building'] = np.where(df['type_of_building'] == 'Mieszkanie', 'Apartment', 'House')"
   ],
   "metadata": {
    "collapsed": false,
    "ExecuteTime": {
     "end_time": "2024-11-22T12:10:30.694087300Z",
     "start_time": "2024-11-22T12:10:30.386590600Z"
    }
   },
   "id": "41ab58f860bfe9c3"
  },
  {
   "cell_type": "code",
   "execution_count": 14,
   "outputs": [
    {
     "data": {
      "text/plain": "type_of_building\nApartment    12411\nHouse          426\nName: count, dtype: int64"
     },
     "execution_count": 14,
     "metadata": {},
     "output_type": "execute_result"
    }
   ],
   "source": [
    "df['type_of_building'].value_counts()"
   ],
   "metadata": {
    "collapsed": false,
    "ExecuteTime": {
     "end_time": "2024-11-22T12:10:30.695088600Z",
     "start_time": "2024-11-22T12:10:30.398629500Z"
    }
   },
   "id": "c19e4b622a24ddb2"
  },
  {
   "cell_type": "code",
   "execution_count": 15,
   "outputs": [
    {
     "data": {
      "text/plain": "                                                   title    area  \\\n1       1 pokojowe + balkon INWESTYCYJNIe na DNI OTWARTE   26.01   \n2      Apartament inwestycyjny, ostatnie piętro, k/Sk...   24.89   \n3       Apartament inwestycyjny Śląska 12 z umową najmu!   25.72   \n4       Nowe mieszkanie, wykończone - Mariana Kołodzieja   34.38   \n5      Wyjątkowe mieszkanie w centrum Gdyni, blisko l...  101.58   \n...                                                  ...     ...   \n14046   INPRO S.A. - OPTIMA - mieszkanie 3-pok. 56.33 m2   56.33   \n14047   INPRO S.A. - OPTIMA - mieszkanie 3-pok. 61.44 m2   61.44   \n14048  INPRO S.A. - OPTIMA - mieszkanie 2-pok. 47.22 ...   47.00   \n14049  INPRO S.A. - OPTIMA - mieszkanie 2-pok. 46.30 ...   46.30   \n14050  INPRO S.A. - OPTIMA - mieszkanie 3-pok. 65.17 ...   65.17   \n\n       number_of_rooms  floor type_of_market  parking  elevator  \\\n1                  1.0    2.0        primary        1         1   \n2                  1.0    5.0      secondary        0         1   \n3                  1.0    0.0      secondary        0         1   \n4                  2.0    3.0      secondary        1         1   \n5                  4.0    5.0      secondary        0         1   \n...                ...    ...            ...      ...       ...   \n14046              3.0    2.0        primary        1         0   \n14047              3.0    3.0        primary        1         0   \n14048              2.0    1.0        primary        1         0   \n14049              2.0    1.0        primary        1         0   \n14050              3.0    1.0        primary        1         0   \n\n       year_of_creation  internet type_of_building  basement  \\\n1                   NaN       0.0        Apartment       0.0   \n2                2022.0       1.0        Apartment       0.0   \n3                2022.0       1.0        Apartment       0.0   \n4                2022.0       1.0        Apartment       0.0   \n5                1997.0       1.0        Apartment       0.0   \n...                 ...       ...              ...       ...   \n14046            2024.0       1.0        Apartment       1.0   \n14047            2024.0       1.0        Apartment       1.0   \n14048            2025.0       1.0        Apartment       1.0   \n14049            2025.0       1.0        Apartment       1.0   \n14050            2025.0       1.0        Apartment       1.0   \n\n       price_for_m2_in_PLN  balcony  garden  terrace              street  \\\n1                 15840.98        1       0        0                 NaN   \n2                 16749.98        0       0        0           śląska 12   \n3                 18500.00        0       0        0           śląska 12   \n4                 15997.67        1       0        0  mariana kołodzieja   \n5                 11468.79        0       0        0    janusza korczaka   \n...                    ...      ...     ...      ...                 ...   \n14046             10368.00        1       0        0       serdecznikowa   \n14047             10368.00        1       0        0       serdecznikowa   \n14048             10584.00        1       0        0       serdecznikowa   \n14049             10584.00        1       0        0       serdecznikowa   \n14050             10260.00        1       0        0       serdecznikowa   \n\n                  district    city   latitude  longtitude  \n1              śródmieście  gdansk  54.349020   18.651800  \n2                przymorze  gdansk  54.406171   18.576846  \n3                przymorze  gdansk  54.406171   18.576846  \n4      ujeścisko-łostowice  gdansk  54.334542   18.585750  \n5                  redłowo  gdynia  54.494118   18.543134  \n...                    ...     ...        ...         ...  \n14046              dąbrowa  gdynia  54.471546   18.467438  \n14047              dąbrowa  gdynia  54.471546   18.467438  \n14048              dąbrowa  gdynia  54.471546   18.467438  \n14049              dąbrowa  gdynia  54.471546   18.467438  \n14050              dąbrowa  gdynia  54.471546   18.467438  \n\n[12837 rows x 20 columns]",
      "text/html": "<div>\n<style scoped>\n    .dataframe tbody tr th:only-of-type {\n        vertical-align: middle;\n    }\n\n    .dataframe tbody tr th {\n        vertical-align: top;\n    }\n\n    .dataframe thead th {\n        text-align: right;\n    }\n</style>\n<table border=\"1\" class=\"dataframe\">\n  <thead>\n    <tr style=\"text-align: right;\">\n      <th></th>\n      <th>title</th>\n      <th>area</th>\n      <th>number_of_rooms</th>\n      <th>floor</th>\n      <th>type_of_market</th>\n      <th>parking</th>\n      <th>elevator</th>\n      <th>year_of_creation</th>\n      <th>internet</th>\n      <th>type_of_building</th>\n      <th>basement</th>\n      <th>price_for_m2_in_PLN</th>\n      <th>balcony</th>\n      <th>garden</th>\n      <th>terrace</th>\n      <th>street</th>\n      <th>district</th>\n      <th>city</th>\n      <th>latitude</th>\n      <th>longtitude</th>\n    </tr>\n  </thead>\n  <tbody>\n    <tr>\n      <th>1</th>\n      <td>1 pokojowe + balkon INWESTYCYJNIe na DNI OTWARTE</td>\n      <td>26.01</td>\n      <td>1.0</td>\n      <td>2.0</td>\n      <td>primary</td>\n      <td>1</td>\n      <td>1</td>\n      <td>NaN</td>\n      <td>0.0</td>\n      <td>Apartment</td>\n      <td>0.0</td>\n      <td>15840.98</td>\n      <td>1</td>\n      <td>0</td>\n      <td>0</td>\n      <td>NaN</td>\n      <td>śródmieście</td>\n      <td>gdansk</td>\n      <td>54.349020</td>\n      <td>18.651800</td>\n    </tr>\n    <tr>\n      <th>2</th>\n      <td>Apartament inwestycyjny, ostatnie piętro, k/Sk...</td>\n      <td>24.89</td>\n      <td>1.0</td>\n      <td>5.0</td>\n      <td>secondary</td>\n      <td>0</td>\n      <td>1</td>\n      <td>2022.0</td>\n      <td>1.0</td>\n      <td>Apartment</td>\n      <td>0.0</td>\n      <td>16749.98</td>\n      <td>0</td>\n      <td>0</td>\n      <td>0</td>\n      <td>śląska 12</td>\n      <td>przymorze</td>\n      <td>gdansk</td>\n      <td>54.406171</td>\n      <td>18.576846</td>\n    </tr>\n    <tr>\n      <th>3</th>\n      <td>Apartament inwestycyjny Śląska 12 z umową najmu!</td>\n      <td>25.72</td>\n      <td>1.0</td>\n      <td>0.0</td>\n      <td>secondary</td>\n      <td>0</td>\n      <td>1</td>\n      <td>2022.0</td>\n      <td>1.0</td>\n      <td>Apartment</td>\n      <td>0.0</td>\n      <td>18500.00</td>\n      <td>0</td>\n      <td>0</td>\n      <td>0</td>\n      <td>śląska 12</td>\n      <td>przymorze</td>\n      <td>gdansk</td>\n      <td>54.406171</td>\n      <td>18.576846</td>\n    </tr>\n    <tr>\n      <th>4</th>\n      <td>Nowe mieszkanie, wykończone - Mariana Kołodzieja</td>\n      <td>34.38</td>\n      <td>2.0</td>\n      <td>3.0</td>\n      <td>secondary</td>\n      <td>1</td>\n      <td>1</td>\n      <td>2022.0</td>\n      <td>1.0</td>\n      <td>Apartment</td>\n      <td>0.0</td>\n      <td>15997.67</td>\n      <td>1</td>\n      <td>0</td>\n      <td>0</td>\n      <td>mariana kołodzieja</td>\n      <td>ujeścisko-łostowice</td>\n      <td>gdansk</td>\n      <td>54.334542</td>\n      <td>18.585750</td>\n    </tr>\n    <tr>\n      <th>5</th>\n      <td>Wyjątkowe mieszkanie w centrum Gdyni, blisko l...</td>\n      <td>101.58</td>\n      <td>4.0</td>\n      <td>5.0</td>\n      <td>secondary</td>\n      <td>0</td>\n      <td>1</td>\n      <td>1997.0</td>\n      <td>1.0</td>\n      <td>Apartment</td>\n      <td>0.0</td>\n      <td>11468.79</td>\n      <td>0</td>\n      <td>0</td>\n      <td>0</td>\n      <td>janusza korczaka</td>\n      <td>redłowo</td>\n      <td>gdynia</td>\n      <td>54.494118</td>\n      <td>18.543134</td>\n    </tr>\n    <tr>\n      <th>...</th>\n      <td>...</td>\n      <td>...</td>\n      <td>...</td>\n      <td>...</td>\n      <td>...</td>\n      <td>...</td>\n      <td>...</td>\n      <td>...</td>\n      <td>...</td>\n      <td>...</td>\n      <td>...</td>\n      <td>...</td>\n      <td>...</td>\n      <td>...</td>\n      <td>...</td>\n      <td>...</td>\n      <td>...</td>\n      <td>...</td>\n      <td>...</td>\n      <td>...</td>\n    </tr>\n    <tr>\n      <th>14046</th>\n      <td>INPRO S.A. - OPTIMA - mieszkanie 3-pok. 56.33 m2</td>\n      <td>56.33</td>\n      <td>3.0</td>\n      <td>2.0</td>\n      <td>primary</td>\n      <td>1</td>\n      <td>0</td>\n      <td>2024.0</td>\n      <td>1.0</td>\n      <td>Apartment</td>\n      <td>1.0</td>\n      <td>10368.00</td>\n      <td>1</td>\n      <td>0</td>\n      <td>0</td>\n      <td>serdecznikowa</td>\n      <td>dąbrowa</td>\n      <td>gdynia</td>\n      <td>54.471546</td>\n      <td>18.467438</td>\n    </tr>\n    <tr>\n      <th>14047</th>\n      <td>INPRO S.A. - OPTIMA - mieszkanie 3-pok. 61.44 m2</td>\n      <td>61.44</td>\n      <td>3.0</td>\n      <td>3.0</td>\n      <td>primary</td>\n      <td>1</td>\n      <td>0</td>\n      <td>2024.0</td>\n      <td>1.0</td>\n      <td>Apartment</td>\n      <td>1.0</td>\n      <td>10368.00</td>\n      <td>1</td>\n      <td>0</td>\n      <td>0</td>\n      <td>serdecznikowa</td>\n      <td>dąbrowa</td>\n      <td>gdynia</td>\n      <td>54.471546</td>\n      <td>18.467438</td>\n    </tr>\n    <tr>\n      <th>14048</th>\n      <td>INPRO S.A. - OPTIMA - mieszkanie 2-pok. 47.22 ...</td>\n      <td>47.00</td>\n      <td>2.0</td>\n      <td>1.0</td>\n      <td>primary</td>\n      <td>1</td>\n      <td>0</td>\n      <td>2025.0</td>\n      <td>1.0</td>\n      <td>Apartment</td>\n      <td>1.0</td>\n      <td>10584.00</td>\n      <td>1</td>\n      <td>0</td>\n      <td>0</td>\n      <td>serdecznikowa</td>\n      <td>dąbrowa</td>\n      <td>gdynia</td>\n      <td>54.471546</td>\n      <td>18.467438</td>\n    </tr>\n    <tr>\n      <th>14049</th>\n      <td>INPRO S.A. - OPTIMA - mieszkanie 2-pok. 46.30 ...</td>\n      <td>46.30</td>\n      <td>2.0</td>\n      <td>1.0</td>\n      <td>primary</td>\n      <td>1</td>\n      <td>0</td>\n      <td>2025.0</td>\n      <td>1.0</td>\n      <td>Apartment</td>\n      <td>1.0</td>\n      <td>10584.00</td>\n      <td>1</td>\n      <td>0</td>\n      <td>0</td>\n      <td>serdecznikowa</td>\n      <td>dąbrowa</td>\n      <td>gdynia</td>\n      <td>54.471546</td>\n      <td>18.467438</td>\n    </tr>\n    <tr>\n      <th>14050</th>\n      <td>INPRO S.A. - OPTIMA - mieszkanie 3-pok. 65.17 ...</td>\n      <td>65.17</td>\n      <td>3.0</td>\n      <td>1.0</td>\n      <td>primary</td>\n      <td>1</td>\n      <td>0</td>\n      <td>2025.0</td>\n      <td>1.0</td>\n      <td>Apartment</td>\n      <td>1.0</td>\n      <td>10260.00</td>\n      <td>1</td>\n      <td>0</td>\n      <td>0</td>\n      <td>serdecznikowa</td>\n      <td>dąbrowa</td>\n      <td>gdynia</td>\n      <td>54.471546</td>\n      <td>18.467438</td>\n    </tr>\n  </tbody>\n</table>\n<p>12837 rows × 20 columns</p>\n</div>"
     },
     "execution_count": 15,
     "metadata": {},
     "output_type": "execute_result"
    }
   ],
   "source": [
    "df"
   ],
   "metadata": {
    "collapsed": false,
    "ExecuteTime": {
     "end_time": "2024-11-22T12:10:30.737100300Z",
     "start_time": "2024-11-22T12:10:30.410987600Z"
    }
   },
   "id": "71ec4a357726ac28"
  },
  {
   "cell_type": "code",
   "execution_count": 16,
   "outputs": [
    {
     "data": {
      "text/plain": "title                     0\narea                      1\nnumber_of_rooms           0\nfloor                   472\ntype_of_market            0\nparking                   0\nelevator                  0\nyear_of_creation        624\ninternet                  0\ntype_of_building          0\nbasement                  0\nprice_for_m2_in_PLN       1\nbalcony                   0\ngarden                    0\nterrace                   0\nstreet                 1267\ndistrict                  0\ncity                      0\nlatitude                  0\nlongtitude                0\ndtype: int64"
     },
     "execution_count": 16,
     "metadata": {},
     "output_type": "execute_result"
    }
   ],
   "source": [
    "# Calculating the number of NaN values for each column\n",
    "nan_values = df.isnull().sum()\n",
    "nan_values"
   ],
   "metadata": {
    "collapsed": false,
    "ExecuteTime": {
     "end_time": "2024-11-22T12:10:30.776100500Z",
     "start_time": "2024-11-22T12:10:30.443468100Z"
    }
   },
   "id": "f70997c1c5a42c5b"
  },
  {
   "cell_type": "code",
   "execution_count": 17,
   "outputs": [
    {
     "data": {
      "text/plain": "                                                  title    area  \\\n1      1 pokojowe + balkon INWESTYCYJNIe na DNI OTWARTE   26.01   \n6      Mieszkanie w centrum, 500 m. od \"Starego Miasta\"   51.81   \n20    lokal INWESTYCYJNIE >25m2 cenaBrutto ODLICZ VA...   28.67   \n21                        3 pokoje / blisko SKM / Oliwa   56.20   \n28    Mieszkanie 5 pokojowe, Wrzeszcz ul. Politechni...   82.00   \n...                                                 ...     ...   \n6875     Apartament nad morzem Gdynia | Orłowo | 136 m²  136.24   \n6878  Przestronne 4-pokojowe mieszkanie, Osiedle HOR...   74.12   \n6886          Mieszkanie z potencjałem przy samym lesie   44.50   \n6930        Orlovo Park Nowa Inwestycja w Gdyni, Orłowo   87.47   \n6965                            3 apartamenty w Gdańsku   70.00   \n\n      number_of_rooms  floor type_of_market  parking  elevator  \\\n1                 1.0    2.0        primary        1         1   \n6                 3.0    3.0      secondary        0         1   \n20                1.0    1.0        primary        1         1   \n21                3.0    2.0      secondary        1         1   \n28                5.0    2.0      secondary        0         0   \n...               ...    ...            ...      ...       ...   \n6875              4.0    1.0        primary        1         1   \n6878              4.0    6.0        primary        1         1   \n6886              2.0    0.0      secondary        0         0   \n6930              3.0    0.0        primary        1         1   \n6965              4.0    1.0      secondary        0         0   \n\n      year_of_creation  internet type_of_building  basement  \\\n1                  NaN       0.0        Apartment       0.0   \n6                  NaN       1.0        Apartment       0.0   \n20                 NaN       0.0        Apartment       0.0   \n21                 NaN       0.0        Apartment       1.0   \n28                 NaN       1.0        Apartment       1.0   \n...                ...       ...              ...       ...   \n6875               NaN       1.0            House       0.0   \n6878               NaN       1.0        Apartment       1.0   \n6886               NaN       0.0        Apartment       1.0   \n6930               NaN       1.0        Apartment       0.0   \n6965               NaN       0.0        Apartment       0.0   \n\n      price_for_m2_in_PLN  balcony  garden  terrace              street  \\\n1                15840.98        1       0        0                 NaN   \n6                13317.89        1       0        0                 NaN   \n20               15313.95        1       0        0                 NaN   \n21               12437.72        1       0        0     al. grunwaldzka   \n28                9634.15        1       0        0  politechniczna 16a   \n...                   ...      ...     ...      ...                 ...   \n6875             19744.57        1       0        0                 NaN   \n6878             10700.22        1       0        1     starowiejska 65   \n6886              9415.73        1       0        0          swarzewska   \n6930             22750.66        0       1        1                 NaN   \n6965             19285.71        0       0        0                 NaN   \n\n            district    city   latitude  longtitude  \n1        śródmieście  gdansk  54.349020   18.651800  \n6        śródmieście  gdansk  54.349020   18.651800  \n20       śródmieście  gdansk  54.349020   18.651800  \n21             oliwa  gdansk  54.392494   18.583594  \n28    wrzeszcz górny  gdansk  54.373953   18.616613  \n...              ...     ...        ...         ...  \n6875        chylonia  gdynia  54.545488   18.464193  \n6878         letnica  gdansk  54.394466   18.647388  \n6886        chylonia  gdynia  54.537917   18.463613  \n6930          orłowo  gdynia  54.476907   18.548787  \n6965     śródmieście  gdansk  54.349020   18.651800  \n\n[624 rows x 20 columns]",
      "text/html": "<div>\n<style scoped>\n    .dataframe tbody tr th:only-of-type {\n        vertical-align: middle;\n    }\n\n    .dataframe tbody tr th {\n        vertical-align: top;\n    }\n\n    .dataframe thead th {\n        text-align: right;\n    }\n</style>\n<table border=\"1\" class=\"dataframe\">\n  <thead>\n    <tr style=\"text-align: right;\">\n      <th></th>\n      <th>title</th>\n      <th>area</th>\n      <th>number_of_rooms</th>\n      <th>floor</th>\n      <th>type_of_market</th>\n      <th>parking</th>\n      <th>elevator</th>\n      <th>year_of_creation</th>\n      <th>internet</th>\n      <th>type_of_building</th>\n      <th>basement</th>\n      <th>price_for_m2_in_PLN</th>\n      <th>balcony</th>\n      <th>garden</th>\n      <th>terrace</th>\n      <th>street</th>\n      <th>district</th>\n      <th>city</th>\n      <th>latitude</th>\n      <th>longtitude</th>\n    </tr>\n  </thead>\n  <tbody>\n    <tr>\n      <th>1</th>\n      <td>1 pokojowe + balkon INWESTYCYJNIe na DNI OTWARTE</td>\n      <td>26.01</td>\n      <td>1.0</td>\n      <td>2.0</td>\n      <td>primary</td>\n      <td>1</td>\n      <td>1</td>\n      <td>NaN</td>\n      <td>0.0</td>\n      <td>Apartment</td>\n      <td>0.0</td>\n      <td>15840.98</td>\n      <td>1</td>\n      <td>0</td>\n      <td>0</td>\n      <td>NaN</td>\n      <td>śródmieście</td>\n      <td>gdansk</td>\n      <td>54.349020</td>\n      <td>18.651800</td>\n    </tr>\n    <tr>\n      <th>6</th>\n      <td>Mieszkanie w centrum, 500 m. od \"Starego Miasta\"</td>\n      <td>51.81</td>\n      <td>3.0</td>\n      <td>3.0</td>\n      <td>secondary</td>\n      <td>0</td>\n      <td>1</td>\n      <td>NaN</td>\n      <td>1.0</td>\n      <td>Apartment</td>\n      <td>0.0</td>\n      <td>13317.89</td>\n      <td>1</td>\n      <td>0</td>\n      <td>0</td>\n      <td>NaN</td>\n      <td>śródmieście</td>\n      <td>gdansk</td>\n      <td>54.349020</td>\n      <td>18.651800</td>\n    </tr>\n    <tr>\n      <th>20</th>\n      <td>lokal INWESTYCYJNIE &gt;25m2 cenaBrutto ODLICZ VA...</td>\n      <td>28.67</td>\n      <td>1.0</td>\n      <td>1.0</td>\n      <td>primary</td>\n      <td>1</td>\n      <td>1</td>\n      <td>NaN</td>\n      <td>0.0</td>\n      <td>Apartment</td>\n      <td>0.0</td>\n      <td>15313.95</td>\n      <td>1</td>\n      <td>0</td>\n      <td>0</td>\n      <td>NaN</td>\n      <td>śródmieście</td>\n      <td>gdansk</td>\n      <td>54.349020</td>\n      <td>18.651800</td>\n    </tr>\n    <tr>\n      <th>21</th>\n      <td>3 pokoje / blisko SKM / Oliwa</td>\n      <td>56.20</td>\n      <td>3.0</td>\n      <td>2.0</td>\n      <td>secondary</td>\n      <td>1</td>\n      <td>1</td>\n      <td>NaN</td>\n      <td>0.0</td>\n      <td>Apartment</td>\n      <td>1.0</td>\n      <td>12437.72</td>\n      <td>1</td>\n      <td>0</td>\n      <td>0</td>\n      <td>al. grunwaldzka</td>\n      <td>oliwa</td>\n      <td>gdansk</td>\n      <td>54.392494</td>\n      <td>18.583594</td>\n    </tr>\n    <tr>\n      <th>28</th>\n      <td>Mieszkanie 5 pokojowe, Wrzeszcz ul. Politechni...</td>\n      <td>82.00</td>\n      <td>5.0</td>\n      <td>2.0</td>\n      <td>secondary</td>\n      <td>0</td>\n      <td>0</td>\n      <td>NaN</td>\n      <td>1.0</td>\n      <td>Apartment</td>\n      <td>1.0</td>\n      <td>9634.15</td>\n      <td>1</td>\n      <td>0</td>\n      <td>0</td>\n      <td>politechniczna 16a</td>\n      <td>wrzeszcz górny</td>\n      <td>gdansk</td>\n      <td>54.373953</td>\n      <td>18.616613</td>\n    </tr>\n    <tr>\n      <th>...</th>\n      <td>...</td>\n      <td>...</td>\n      <td>...</td>\n      <td>...</td>\n      <td>...</td>\n      <td>...</td>\n      <td>...</td>\n      <td>...</td>\n      <td>...</td>\n      <td>...</td>\n      <td>...</td>\n      <td>...</td>\n      <td>...</td>\n      <td>...</td>\n      <td>...</td>\n      <td>...</td>\n      <td>...</td>\n      <td>...</td>\n      <td>...</td>\n      <td>...</td>\n    </tr>\n    <tr>\n      <th>6875</th>\n      <td>Apartament nad morzem Gdynia | Orłowo | 136 m²</td>\n      <td>136.24</td>\n      <td>4.0</td>\n      <td>1.0</td>\n      <td>primary</td>\n      <td>1</td>\n      <td>1</td>\n      <td>NaN</td>\n      <td>1.0</td>\n      <td>House</td>\n      <td>0.0</td>\n      <td>19744.57</td>\n      <td>1</td>\n      <td>0</td>\n      <td>0</td>\n      <td>NaN</td>\n      <td>chylonia</td>\n      <td>gdynia</td>\n      <td>54.545488</td>\n      <td>18.464193</td>\n    </tr>\n    <tr>\n      <th>6878</th>\n      <td>Przestronne 4-pokojowe mieszkanie, Osiedle HOR...</td>\n      <td>74.12</td>\n      <td>4.0</td>\n      <td>6.0</td>\n      <td>primary</td>\n      <td>1</td>\n      <td>1</td>\n      <td>NaN</td>\n      <td>1.0</td>\n      <td>Apartment</td>\n      <td>1.0</td>\n      <td>10700.22</td>\n      <td>1</td>\n      <td>0</td>\n      <td>1</td>\n      <td>starowiejska 65</td>\n      <td>letnica</td>\n      <td>gdansk</td>\n      <td>54.394466</td>\n      <td>18.647388</td>\n    </tr>\n    <tr>\n      <th>6886</th>\n      <td>Mieszkanie z potencjałem przy samym lesie</td>\n      <td>44.50</td>\n      <td>2.0</td>\n      <td>0.0</td>\n      <td>secondary</td>\n      <td>0</td>\n      <td>0</td>\n      <td>NaN</td>\n      <td>0.0</td>\n      <td>Apartment</td>\n      <td>1.0</td>\n      <td>9415.73</td>\n      <td>1</td>\n      <td>0</td>\n      <td>0</td>\n      <td>swarzewska</td>\n      <td>chylonia</td>\n      <td>gdynia</td>\n      <td>54.537917</td>\n      <td>18.463613</td>\n    </tr>\n    <tr>\n      <th>6930</th>\n      <td>Orlovo Park Nowa Inwestycja w Gdyni, Orłowo</td>\n      <td>87.47</td>\n      <td>3.0</td>\n      <td>0.0</td>\n      <td>primary</td>\n      <td>1</td>\n      <td>1</td>\n      <td>NaN</td>\n      <td>1.0</td>\n      <td>Apartment</td>\n      <td>0.0</td>\n      <td>22750.66</td>\n      <td>0</td>\n      <td>1</td>\n      <td>1</td>\n      <td>NaN</td>\n      <td>orłowo</td>\n      <td>gdynia</td>\n      <td>54.476907</td>\n      <td>18.548787</td>\n    </tr>\n    <tr>\n      <th>6965</th>\n      <td>3 apartamenty w Gdańsku</td>\n      <td>70.00</td>\n      <td>4.0</td>\n      <td>1.0</td>\n      <td>secondary</td>\n      <td>0</td>\n      <td>0</td>\n      <td>NaN</td>\n      <td>0.0</td>\n      <td>Apartment</td>\n      <td>0.0</td>\n      <td>19285.71</td>\n      <td>0</td>\n      <td>0</td>\n      <td>0</td>\n      <td>NaN</td>\n      <td>śródmieście</td>\n      <td>gdansk</td>\n      <td>54.349020</td>\n      <td>18.651800</td>\n    </tr>\n  </tbody>\n</table>\n<p>624 rows × 20 columns</p>\n</div>"
     },
     "execution_count": 17,
     "metadata": {},
     "output_type": "execute_result"
    }
   ],
   "source": [
    "# Inspection of the rows with NaN values in the year_of_creation column\n",
    "df[df['year_of_creation'].isnull()]"
   ],
   "metadata": {
    "collapsed": false,
    "ExecuteTime": {
     "end_time": "2024-11-22T12:10:30.802095700Z",
     "start_time": "2024-11-22T12:10:30.455559300Z"
    }
   },
   "id": "1c86d56e634f280d"
  },
  {
   "cell_type": "code",
   "execution_count": 18,
   "outputs": [],
   "source": [
    "# Droping the rows with NaN values in the year_of_creation column\n",
    "df = df.dropna(subset=['year_of_creation'])"
   ],
   "metadata": {
    "collapsed": false,
    "ExecuteTime": {
     "end_time": "2024-11-22T12:10:30.802095700Z",
     "start_time": "2024-11-22T12:10:30.479148600Z"
    }
   },
   "id": "1eef9031a34834be"
  },
  {
   "cell_type": "code",
   "execution_count": 19,
   "outputs": [
    {
     "data": {
      "text/plain": "title                    0\narea                     1\nnumber_of_rooms          0\nfloor                  452\ntype_of_market           0\nparking                  0\nelevator                 0\nyear_of_creation         0\ninternet                 0\ntype_of_building         0\nbasement                 0\nprice_for_m2_in_PLN      1\nbalcony                  0\ngarden                   0\nterrace                  0\nstreet                 999\ndistrict                 0\ncity                     0\nlatitude                 0\nlongtitude               0\ndtype: int64"
     },
     "execution_count": 19,
     "metadata": {},
     "output_type": "execute_result"
    }
   ],
   "source": [
    "# Calculating the number of NaN values for each column\n",
    "nan_values = df.isnull().sum()\n",
    "nan_values"
   ],
   "metadata": {
    "collapsed": false,
    "ExecuteTime": {
     "end_time": "2024-11-22T12:10:30.804092400Z",
     "start_time": "2024-11-22T12:10:30.488017900Z"
    }
   },
   "id": "c493a316b96d4b3"
  },
  {
   "cell_type": "code",
   "execution_count": 20,
   "outputs": [],
   "source": [
    "# Dropping the rows with NaN values in area column\n",
    "df = df.dropna(subset=['area'])"
   ],
   "metadata": {
    "collapsed": false,
    "ExecuteTime": {
     "end_time": "2024-11-22T12:10:30.804092400Z",
     "start_time": "2024-11-22T12:10:30.500073100Z"
    }
   },
   "id": "fd9af2fcba36a4"
  },
  {
   "cell_type": "code",
   "execution_count": 21,
   "outputs": [
    {
     "data": {
      "text/plain": "title                    0\narea                     0\nnumber_of_rooms          0\nfloor                  452\ntype_of_market           0\nparking                  0\nelevator                 0\nyear_of_creation         0\ninternet                 0\ntype_of_building         0\nbasement                 0\nprice_for_m2_in_PLN      0\nbalcony                  0\ngarden                   0\nterrace                  0\nstreet                 999\ndistrict                 0\ncity                     0\nlatitude                 0\nlongtitude               0\ndtype: int64"
     },
     "execution_count": 21,
     "metadata": {},
     "output_type": "execute_result"
    }
   ],
   "source": [
    "# Calculating the number of NaN values for each column\n",
    "nan_values = df.isnull().sum()\n",
    "nan_values"
   ],
   "metadata": {
    "collapsed": false,
    "ExecuteTime": {
     "end_time": "2024-11-22T12:10:30.806094500Z",
     "start_time": "2024-11-22T12:10:30.509113900Z"
    }
   },
   "id": "c14330ab028a81d8"
  },
  {
   "cell_type": "code",
   "execution_count": 22,
   "outputs": [
    {
     "data": {
      "text/plain": "                                                   title   area  \\\n304    nowe mieszkanie/lokal użytkowy 66m2 gdynia orłowo  66.01   \n440                            5A - Nodo - Gdańsk Jasień  92.48   \n478    NEGOCJUJ-IdealnyApartamentBezpośrednioOdDewelo...  87.39   \n482    NEGOCJUJ-IdealnyApartamentBezpośrednioOdDewelo...  87.39   \n686    Wiśniowa Aleja -nowe osiedle, 3 pokoje z ogrodem!  69.63   \n...                                                  ...    ...   \n14021  INPRO S.A. - OPTIMA - mieszkanie 3-pok. 61.20 ...  61.00   \n14034  INPRO S.A. - OPTIMA - mieszkanie 3-pok. 61.93 ...  61.93   \n14036  INPRO S.A. - OPTIMA - mieszkanie 2-pok. 42.62 ...  42.60   \n14038  INPRO S.A. - OPTIMA - mieszkanie 2-pok. 44.66 ...  44.66   \n14041  INPRO S.A. - OPTIMA - mieszkanie 2-pok. 48.01 ...  48.01   \n\n       number_of_rooms  floor type_of_market  parking  elevator  \\\n304                3.0    NaN      secondary        1         1   \n440                4.0    NaN        primary        1         0   \n478                4.0    NaN        primary        1         1   \n482                4.0    NaN        primary        1         1   \n686                3.0    NaN        primary        1         1   \n...                ...    ...            ...      ...       ...   \n14021              3.0    NaN        primary        1         0   \n14034              3.0    NaN        primary        1         0   \n14036              2.0    NaN        primary        1         0   \n14038              2.0    NaN        primary        1         0   \n14041              2.0    NaN        primary        1         0   \n\n       year_of_creation  internet type_of_building  basement  \\\n304              2022.0       1.0        Apartment       0.0   \n440              2025.0       0.0            House       0.0   \n478              2024.0       1.0        Apartment       1.0   \n482              2024.0       1.0        Apartment       1.0   \n686              2024.0       1.0        Apartment       0.0   \n...                 ...       ...              ...       ...   \n14021            2024.0       1.0        Apartment       1.0   \n14034            2024.0       1.0        Apartment       1.0   \n14036            2025.0       1.0        Apartment       1.0   \n14038            2025.0       1.0        Apartment       1.0   \n14041            2024.0       1.0        Apartment       1.0   \n\n       price_for_m2_in_PLN  balcony  garden  terrace          street  \\\n304               17724.59        0       1        1      wrocławska   \n440                8531.57        0       1        0      lubowidzka   \n478               13300.00        1       0        1             NaN   \n482               13300.00        1       0        1             NaN   \n686               10771.22        0       1        0     czereśniowa   \n...                    ...      ...     ...      ...             ...   \n14021              1015.00        0       0        0   serdecznikowa   \n14034             10260.00        0       0        0   serdecznikowa   \n14036             10800.00        0       0        0   serdecznikowa   \n14038             10908.00        0       0        0   serdecznikowa   \n14041             10368.00        0       0        0   serdecznikowa   \n\n                  district    city   latitude  longtitude  \n304                 orłowo  gdynia  54.475629   18.552093  \n440                 jasień  gdansk  54.340089   18.560014  \n478                letnica  gdansk  54.337888   18.671963  \n482                letnica  gdansk  54.337888   18.671963  \n686    ujeścisko-łostowice  gdansk  54.319110   18.591801  \n...                    ...     ...        ...         ...  \n14021              dąbrowa  gdynia  54.471546   18.467438  \n14034              dąbrowa  gdynia  54.471546   18.467438  \n14036              dąbrowa  gdynia  54.471546   18.467438  \n14038              dąbrowa  gdynia  54.471546   18.467438  \n14041              dąbrowa  gdynia  54.471546   18.467438  \n\n[452 rows x 20 columns]",
      "text/html": "<div>\n<style scoped>\n    .dataframe tbody tr th:only-of-type {\n        vertical-align: middle;\n    }\n\n    .dataframe tbody tr th {\n        vertical-align: top;\n    }\n\n    .dataframe thead th {\n        text-align: right;\n    }\n</style>\n<table border=\"1\" class=\"dataframe\">\n  <thead>\n    <tr style=\"text-align: right;\">\n      <th></th>\n      <th>title</th>\n      <th>area</th>\n      <th>number_of_rooms</th>\n      <th>floor</th>\n      <th>type_of_market</th>\n      <th>parking</th>\n      <th>elevator</th>\n      <th>year_of_creation</th>\n      <th>internet</th>\n      <th>type_of_building</th>\n      <th>basement</th>\n      <th>price_for_m2_in_PLN</th>\n      <th>balcony</th>\n      <th>garden</th>\n      <th>terrace</th>\n      <th>street</th>\n      <th>district</th>\n      <th>city</th>\n      <th>latitude</th>\n      <th>longtitude</th>\n    </tr>\n  </thead>\n  <tbody>\n    <tr>\n      <th>304</th>\n      <td>nowe mieszkanie/lokal użytkowy 66m2 gdynia orłowo</td>\n      <td>66.01</td>\n      <td>3.0</td>\n      <td>NaN</td>\n      <td>secondary</td>\n      <td>1</td>\n      <td>1</td>\n      <td>2022.0</td>\n      <td>1.0</td>\n      <td>Apartment</td>\n      <td>0.0</td>\n      <td>17724.59</td>\n      <td>0</td>\n      <td>1</td>\n      <td>1</td>\n      <td>wrocławska</td>\n      <td>orłowo</td>\n      <td>gdynia</td>\n      <td>54.475629</td>\n      <td>18.552093</td>\n    </tr>\n    <tr>\n      <th>440</th>\n      <td>5A - Nodo - Gdańsk Jasień</td>\n      <td>92.48</td>\n      <td>4.0</td>\n      <td>NaN</td>\n      <td>primary</td>\n      <td>1</td>\n      <td>0</td>\n      <td>2025.0</td>\n      <td>0.0</td>\n      <td>House</td>\n      <td>0.0</td>\n      <td>8531.57</td>\n      <td>0</td>\n      <td>1</td>\n      <td>0</td>\n      <td>lubowidzka</td>\n      <td>jasień</td>\n      <td>gdansk</td>\n      <td>54.340089</td>\n      <td>18.560014</td>\n    </tr>\n    <tr>\n      <th>478</th>\n      <td>NEGOCJUJ-IdealnyApartamentBezpośrednioOdDewelo...</td>\n      <td>87.39</td>\n      <td>4.0</td>\n      <td>NaN</td>\n      <td>primary</td>\n      <td>1</td>\n      <td>1</td>\n      <td>2024.0</td>\n      <td>1.0</td>\n      <td>Apartment</td>\n      <td>1.0</td>\n      <td>13300.00</td>\n      <td>1</td>\n      <td>0</td>\n      <td>1</td>\n      <td>NaN</td>\n      <td>letnica</td>\n      <td>gdansk</td>\n      <td>54.337888</td>\n      <td>18.671963</td>\n    </tr>\n    <tr>\n      <th>482</th>\n      <td>NEGOCJUJ-IdealnyApartamentBezpośrednioOdDewelo...</td>\n      <td>87.39</td>\n      <td>4.0</td>\n      <td>NaN</td>\n      <td>primary</td>\n      <td>1</td>\n      <td>1</td>\n      <td>2024.0</td>\n      <td>1.0</td>\n      <td>Apartment</td>\n      <td>1.0</td>\n      <td>13300.00</td>\n      <td>1</td>\n      <td>0</td>\n      <td>1</td>\n      <td>NaN</td>\n      <td>letnica</td>\n      <td>gdansk</td>\n      <td>54.337888</td>\n      <td>18.671963</td>\n    </tr>\n    <tr>\n      <th>686</th>\n      <td>Wiśniowa Aleja -nowe osiedle, 3 pokoje z ogrodem!</td>\n      <td>69.63</td>\n      <td>3.0</td>\n      <td>NaN</td>\n      <td>primary</td>\n      <td>1</td>\n      <td>1</td>\n      <td>2024.0</td>\n      <td>1.0</td>\n      <td>Apartment</td>\n      <td>0.0</td>\n      <td>10771.22</td>\n      <td>0</td>\n      <td>1</td>\n      <td>0</td>\n      <td>czereśniowa</td>\n      <td>ujeścisko-łostowice</td>\n      <td>gdansk</td>\n      <td>54.319110</td>\n      <td>18.591801</td>\n    </tr>\n    <tr>\n      <th>...</th>\n      <td>...</td>\n      <td>...</td>\n      <td>...</td>\n      <td>...</td>\n      <td>...</td>\n      <td>...</td>\n      <td>...</td>\n      <td>...</td>\n      <td>...</td>\n      <td>...</td>\n      <td>...</td>\n      <td>...</td>\n      <td>...</td>\n      <td>...</td>\n      <td>...</td>\n      <td>...</td>\n      <td>...</td>\n      <td>...</td>\n      <td>...</td>\n      <td>...</td>\n    </tr>\n    <tr>\n      <th>14021</th>\n      <td>INPRO S.A. - OPTIMA - mieszkanie 3-pok. 61.20 ...</td>\n      <td>61.00</td>\n      <td>3.0</td>\n      <td>NaN</td>\n      <td>primary</td>\n      <td>1</td>\n      <td>0</td>\n      <td>2024.0</td>\n      <td>1.0</td>\n      <td>Apartment</td>\n      <td>1.0</td>\n      <td>1015.00</td>\n      <td>0</td>\n      <td>0</td>\n      <td>0</td>\n      <td>serdecznikowa</td>\n      <td>dąbrowa</td>\n      <td>gdynia</td>\n      <td>54.471546</td>\n      <td>18.467438</td>\n    </tr>\n    <tr>\n      <th>14034</th>\n      <td>INPRO S.A. - OPTIMA - mieszkanie 3-pok. 61.93 ...</td>\n      <td>61.93</td>\n      <td>3.0</td>\n      <td>NaN</td>\n      <td>primary</td>\n      <td>1</td>\n      <td>0</td>\n      <td>2024.0</td>\n      <td>1.0</td>\n      <td>Apartment</td>\n      <td>1.0</td>\n      <td>10260.00</td>\n      <td>0</td>\n      <td>0</td>\n      <td>0</td>\n      <td>serdecznikowa</td>\n      <td>dąbrowa</td>\n      <td>gdynia</td>\n      <td>54.471546</td>\n      <td>18.467438</td>\n    </tr>\n    <tr>\n      <th>14036</th>\n      <td>INPRO S.A. - OPTIMA - mieszkanie 2-pok. 42.62 ...</td>\n      <td>42.60</td>\n      <td>2.0</td>\n      <td>NaN</td>\n      <td>primary</td>\n      <td>1</td>\n      <td>0</td>\n      <td>2025.0</td>\n      <td>1.0</td>\n      <td>Apartment</td>\n      <td>1.0</td>\n      <td>10800.00</td>\n      <td>0</td>\n      <td>0</td>\n      <td>0</td>\n      <td>serdecznikowa</td>\n      <td>dąbrowa</td>\n      <td>gdynia</td>\n      <td>54.471546</td>\n      <td>18.467438</td>\n    </tr>\n    <tr>\n      <th>14038</th>\n      <td>INPRO S.A. - OPTIMA - mieszkanie 2-pok. 44.66 ...</td>\n      <td>44.66</td>\n      <td>2.0</td>\n      <td>NaN</td>\n      <td>primary</td>\n      <td>1</td>\n      <td>0</td>\n      <td>2025.0</td>\n      <td>1.0</td>\n      <td>Apartment</td>\n      <td>1.0</td>\n      <td>10908.00</td>\n      <td>0</td>\n      <td>0</td>\n      <td>0</td>\n      <td>serdecznikowa</td>\n      <td>dąbrowa</td>\n      <td>gdynia</td>\n      <td>54.471546</td>\n      <td>18.467438</td>\n    </tr>\n    <tr>\n      <th>14041</th>\n      <td>INPRO S.A. - OPTIMA - mieszkanie 2-pok. 48.01 ...</td>\n      <td>48.01</td>\n      <td>2.0</td>\n      <td>NaN</td>\n      <td>primary</td>\n      <td>1</td>\n      <td>0</td>\n      <td>2024.0</td>\n      <td>1.0</td>\n      <td>Apartment</td>\n      <td>1.0</td>\n      <td>10368.00</td>\n      <td>0</td>\n      <td>0</td>\n      <td>0</td>\n      <td>serdecznikowa</td>\n      <td>dąbrowa</td>\n      <td>gdynia</td>\n      <td>54.471546</td>\n      <td>18.467438</td>\n    </tr>\n  </tbody>\n</table>\n<p>452 rows × 20 columns</p>\n</div>"
     },
     "execution_count": 22,
     "metadata": {},
     "output_type": "execute_result"
    }
   ],
   "source": [
    "# Inspecting the rows with floor column == None\n",
    "df[df['floor'].isnull()]"
   ],
   "metadata": {
    "collapsed": false,
    "ExecuteTime": {
     "end_time": "2024-11-22T12:10:30.814088700Z",
     "start_time": "2024-11-22T12:10:30.519204300Z"
    }
   },
   "id": "db430db490f8d038"
  },
  {
   "cell_type": "code",
   "execution_count": 23,
   "outputs": [],
   "source": [
    "# if the floor is null and type_of_building is Dom then floor = 0\n",
    "df.loc[df['type_of_building'] == 'Dom', 'floor'] = 0"
   ],
   "metadata": {
    "collapsed": false,
    "ExecuteTime": {
     "end_time": "2024-11-22T12:10:30.814088700Z",
     "start_time": "2024-11-22T12:10:30.536211500Z"
    }
   },
   "id": "e73c6f324d382f5e"
  },
  {
   "cell_type": "code",
   "execution_count": 24,
   "outputs": [
    {
     "data": {
      "text/plain": "                                                   title   area  \\\n304    nowe mieszkanie/lokal użytkowy 66m2 gdynia orłowo  66.01   \n440                            5A - Nodo - Gdańsk Jasień  92.48   \n478    NEGOCJUJ-IdealnyApartamentBezpośrednioOdDewelo...  87.39   \n482    NEGOCJUJ-IdealnyApartamentBezpośrednioOdDewelo...  87.39   \n686    Wiśniowa Aleja -nowe osiedle, 3 pokoje z ogrodem!  69.63   \n...                                                  ...    ...   \n14021  INPRO S.A. - OPTIMA - mieszkanie 3-pok. 61.20 ...  61.00   \n14034  INPRO S.A. - OPTIMA - mieszkanie 3-pok. 61.93 ...  61.93   \n14036  INPRO S.A. - OPTIMA - mieszkanie 2-pok. 42.62 ...  42.60   \n14038  INPRO S.A. - OPTIMA - mieszkanie 2-pok. 44.66 ...  44.66   \n14041  INPRO S.A. - OPTIMA - mieszkanie 2-pok. 48.01 ...  48.01   \n\n       number_of_rooms  floor type_of_market  parking  elevator  \\\n304                3.0    NaN      secondary        1         1   \n440                4.0    NaN        primary        1         0   \n478                4.0    NaN        primary        1         1   \n482                4.0    NaN        primary        1         1   \n686                3.0    NaN        primary        1         1   \n...                ...    ...            ...      ...       ...   \n14021              3.0    NaN        primary        1         0   \n14034              3.0    NaN        primary        1         0   \n14036              2.0    NaN        primary        1         0   \n14038              2.0    NaN        primary        1         0   \n14041              2.0    NaN        primary        1         0   \n\n       year_of_creation  internet type_of_building  basement  \\\n304              2022.0       1.0        Apartment       0.0   \n440              2025.0       0.0            House       0.0   \n478              2024.0       1.0        Apartment       1.0   \n482              2024.0       1.0        Apartment       1.0   \n686              2024.0       1.0        Apartment       0.0   \n...                 ...       ...              ...       ...   \n14021            2024.0       1.0        Apartment       1.0   \n14034            2024.0       1.0        Apartment       1.0   \n14036            2025.0       1.0        Apartment       1.0   \n14038            2025.0       1.0        Apartment       1.0   \n14041            2024.0       1.0        Apartment       1.0   \n\n       price_for_m2_in_PLN  balcony  garden  terrace          street  \\\n304               17724.59        0       1        1      wrocławska   \n440                8531.57        0       1        0      lubowidzka   \n478               13300.00        1       0        1             NaN   \n482               13300.00        1       0        1             NaN   \n686               10771.22        0       1        0     czereśniowa   \n...                    ...      ...     ...      ...             ...   \n14021              1015.00        0       0        0   serdecznikowa   \n14034             10260.00        0       0        0   serdecznikowa   \n14036             10800.00        0       0        0   serdecznikowa   \n14038             10908.00        0       0        0   serdecznikowa   \n14041             10368.00        0       0        0   serdecznikowa   \n\n                  district    city   latitude  longtitude  \n304                 orłowo  gdynia  54.475629   18.552093  \n440                 jasień  gdansk  54.340089   18.560014  \n478                letnica  gdansk  54.337888   18.671963  \n482                letnica  gdansk  54.337888   18.671963  \n686    ujeścisko-łostowice  gdansk  54.319110   18.591801  \n...                    ...     ...        ...         ...  \n14021              dąbrowa  gdynia  54.471546   18.467438  \n14034              dąbrowa  gdynia  54.471546   18.467438  \n14036              dąbrowa  gdynia  54.471546   18.467438  \n14038              dąbrowa  gdynia  54.471546   18.467438  \n14041              dąbrowa  gdynia  54.471546   18.467438  \n\n[452 rows x 20 columns]",
      "text/html": "<div>\n<style scoped>\n    .dataframe tbody tr th:only-of-type {\n        vertical-align: middle;\n    }\n\n    .dataframe tbody tr th {\n        vertical-align: top;\n    }\n\n    .dataframe thead th {\n        text-align: right;\n    }\n</style>\n<table border=\"1\" class=\"dataframe\">\n  <thead>\n    <tr style=\"text-align: right;\">\n      <th></th>\n      <th>title</th>\n      <th>area</th>\n      <th>number_of_rooms</th>\n      <th>floor</th>\n      <th>type_of_market</th>\n      <th>parking</th>\n      <th>elevator</th>\n      <th>year_of_creation</th>\n      <th>internet</th>\n      <th>type_of_building</th>\n      <th>basement</th>\n      <th>price_for_m2_in_PLN</th>\n      <th>balcony</th>\n      <th>garden</th>\n      <th>terrace</th>\n      <th>street</th>\n      <th>district</th>\n      <th>city</th>\n      <th>latitude</th>\n      <th>longtitude</th>\n    </tr>\n  </thead>\n  <tbody>\n    <tr>\n      <th>304</th>\n      <td>nowe mieszkanie/lokal użytkowy 66m2 gdynia orłowo</td>\n      <td>66.01</td>\n      <td>3.0</td>\n      <td>NaN</td>\n      <td>secondary</td>\n      <td>1</td>\n      <td>1</td>\n      <td>2022.0</td>\n      <td>1.0</td>\n      <td>Apartment</td>\n      <td>0.0</td>\n      <td>17724.59</td>\n      <td>0</td>\n      <td>1</td>\n      <td>1</td>\n      <td>wrocławska</td>\n      <td>orłowo</td>\n      <td>gdynia</td>\n      <td>54.475629</td>\n      <td>18.552093</td>\n    </tr>\n    <tr>\n      <th>440</th>\n      <td>5A - Nodo - Gdańsk Jasień</td>\n      <td>92.48</td>\n      <td>4.0</td>\n      <td>NaN</td>\n      <td>primary</td>\n      <td>1</td>\n      <td>0</td>\n      <td>2025.0</td>\n      <td>0.0</td>\n      <td>House</td>\n      <td>0.0</td>\n      <td>8531.57</td>\n      <td>0</td>\n      <td>1</td>\n      <td>0</td>\n      <td>lubowidzka</td>\n      <td>jasień</td>\n      <td>gdansk</td>\n      <td>54.340089</td>\n      <td>18.560014</td>\n    </tr>\n    <tr>\n      <th>478</th>\n      <td>NEGOCJUJ-IdealnyApartamentBezpośrednioOdDewelo...</td>\n      <td>87.39</td>\n      <td>4.0</td>\n      <td>NaN</td>\n      <td>primary</td>\n      <td>1</td>\n      <td>1</td>\n      <td>2024.0</td>\n      <td>1.0</td>\n      <td>Apartment</td>\n      <td>1.0</td>\n      <td>13300.00</td>\n      <td>1</td>\n      <td>0</td>\n      <td>1</td>\n      <td>NaN</td>\n      <td>letnica</td>\n      <td>gdansk</td>\n      <td>54.337888</td>\n      <td>18.671963</td>\n    </tr>\n    <tr>\n      <th>482</th>\n      <td>NEGOCJUJ-IdealnyApartamentBezpośrednioOdDewelo...</td>\n      <td>87.39</td>\n      <td>4.0</td>\n      <td>NaN</td>\n      <td>primary</td>\n      <td>1</td>\n      <td>1</td>\n      <td>2024.0</td>\n      <td>1.0</td>\n      <td>Apartment</td>\n      <td>1.0</td>\n      <td>13300.00</td>\n      <td>1</td>\n      <td>0</td>\n      <td>1</td>\n      <td>NaN</td>\n      <td>letnica</td>\n      <td>gdansk</td>\n      <td>54.337888</td>\n      <td>18.671963</td>\n    </tr>\n    <tr>\n      <th>686</th>\n      <td>Wiśniowa Aleja -nowe osiedle, 3 pokoje z ogrodem!</td>\n      <td>69.63</td>\n      <td>3.0</td>\n      <td>NaN</td>\n      <td>primary</td>\n      <td>1</td>\n      <td>1</td>\n      <td>2024.0</td>\n      <td>1.0</td>\n      <td>Apartment</td>\n      <td>0.0</td>\n      <td>10771.22</td>\n      <td>0</td>\n      <td>1</td>\n      <td>0</td>\n      <td>czereśniowa</td>\n      <td>ujeścisko-łostowice</td>\n      <td>gdansk</td>\n      <td>54.319110</td>\n      <td>18.591801</td>\n    </tr>\n    <tr>\n      <th>...</th>\n      <td>...</td>\n      <td>...</td>\n      <td>...</td>\n      <td>...</td>\n      <td>...</td>\n      <td>...</td>\n      <td>...</td>\n      <td>...</td>\n      <td>...</td>\n      <td>...</td>\n      <td>...</td>\n      <td>...</td>\n      <td>...</td>\n      <td>...</td>\n      <td>...</td>\n      <td>...</td>\n      <td>...</td>\n      <td>...</td>\n      <td>...</td>\n      <td>...</td>\n    </tr>\n    <tr>\n      <th>14021</th>\n      <td>INPRO S.A. - OPTIMA - mieszkanie 3-pok. 61.20 ...</td>\n      <td>61.00</td>\n      <td>3.0</td>\n      <td>NaN</td>\n      <td>primary</td>\n      <td>1</td>\n      <td>0</td>\n      <td>2024.0</td>\n      <td>1.0</td>\n      <td>Apartment</td>\n      <td>1.0</td>\n      <td>1015.00</td>\n      <td>0</td>\n      <td>0</td>\n      <td>0</td>\n      <td>serdecznikowa</td>\n      <td>dąbrowa</td>\n      <td>gdynia</td>\n      <td>54.471546</td>\n      <td>18.467438</td>\n    </tr>\n    <tr>\n      <th>14034</th>\n      <td>INPRO S.A. - OPTIMA - mieszkanie 3-pok. 61.93 ...</td>\n      <td>61.93</td>\n      <td>3.0</td>\n      <td>NaN</td>\n      <td>primary</td>\n      <td>1</td>\n      <td>0</td>\n      <td>2024.0</td>\n      <td>1.0</td>\n      <td>Apartment</td>\n      <td>1.0</td>\n      <td>10260.00</td>\n      <td>0</td>\n      <td>0</td>\n      <td>0</td>\n      <td>serdecznikowa</td>\n      <td>dąbrowa</td>\n      <td>gdynia</td>\n      <td>54.471546</td>\n      <td>18.467438</td>\n    </tr>\n    <tr>\n      <th>14036</th>\n      <td>INPRO S.A. - OPTIMA - mieszkanie 2-pok. 42.62 ...</td>\n      <td>42.60</td>\n      <td>2.0</td>\n      <td>NaN</td>\n      <td>primary</td>\n      <td>1</td>\n      <td>0</td>\n      <td>2025.0</td>\n      <td>1.0</td>\n      <td>Apartment</td>\n      <td>1.0</td>\n      <td>10800.00</td>\n      <td>0</td>\n      <td>0</td>\n      <td>0</td>\n      <td>serdecznikowa</td>\n      <td>dąbrowa</td>\n      <td>gdynia</td>\n      <td>54.471546</td>\n      <td>18.467438</td>\n    </tr>\n    <tr>\n      <th>14038</th>\n      <td>INPRO S.A. - OPTIMA - mieszkanie 2-pok. 44.66 ...</td>\n      <td>44.66</td>\n      <td>2.0</td>\n      <td>NaN</td>\n      <td>primary</td>\n      <td>1</td>\n      <td>0</td>\n      <td>2025.0</td>\n      <td>1.0</td>\n      <td>Apartment</td>\n      <td>1.0</td>\n      <td>10908.00</td>\n      <td>0</td>\n      <td>0</td>\n      <td>0</td>\n      <td>serdecznikowa</td>\n      <td>dąbrowa</td>\n      <td>gdynia</td>\n      <td>54.471546</td>\n      <td>18.467438</td>\n    </tr>\n    <tr>\n      <th>14041</th>\n      <td>INPRO S.A. - OPTIMA - mieszkanie 2-pok. 48.01 ...</td>\n      <td>48.01</td>\n      <td>2.0</td>\n      <td>NaN</td>\n      <td>primary</td>\n      <td>1</td>\n      <td>0</td>\n      <td>2024.0</td>\n      <td>1.0</td>\n      <td>Apartment</td>\n      <td>1.0</td>\n      <td>10368.00</td>\n      <td>0</td>\n      <td>0</td>\n      <td>0</td>\n      <td>serdecznikowa</td>\n      <td>dąbrowa</td>\n      <td>gdynia</td>\n      <td>54.471546</td>\n      <td>18.467438</td>\n    </tr>\n  </tbody>\n</table>\n<p>452 rows × 20 columns</p>\n</div>"
     },
     "execution_count": 24,
     "metadata": {},
     "output_type": "execute_result"
    }
   ],
   "source": [
    "df[df['floor'].isnull()]"
   ],
   "metadata": {
    "collapsed": false,
    "ExecuteTime": {
     "end_time": "2024-11-22T12:10:30.816102600Z",
     "start_time": "2024-11-22T12:10:30.542978600Z"
    }
   },
   "id": "7f640116673f93bd"
  },
  {
   "cell_type": "code",
   "execution_count": 25,
   "outputs": [],
   "source": [
    "df.dropna(subset=['floor'], inplace=True)"
   ],
   "metadata": {
    "collapsed": false,
    "ExecuteTime": {
     "end_time": "2024-11-22T12:10:30.816102600Z",
     "start_time": "2024-11-22T12:10:30.561965100Z"
    }
   },
   "id": "826be606181b4fbe"
  },
  {
   "cell_type": "code",
   "execution_count": 26,
   "outputs": [
    {
     "data": {
      "text/plain": "title                    0\narea                     0\nnumber_of_rooms          0\nfloor                    0\ntype_of_market           0\nparking                  0\nelevator                 0\nyear_of_creation         0\ninternet                 0\ntype_of_building         0\nbasement                 0\nprice_for_m2_in_PLN      0\nbalcony                  0\ngarden                   0\nterrace                  0\nstreet                 983\ndistrict                 0\ncity                     0\nlatitude                 0\nlongtitude               0\ndtype: int64"
     },
     "execution_count": 26,
     "metadata": {},
     "output_type": "execute_result"
    }
   ],
   "source": [
    "df.isna().sum()"
   ],
   "metadata": {
    "collapsed": false,
    "ExecuteTime": {
     "end_time": "2024-11-22T12:10:30.817094400Z",
     "start_time": "2024-11-22T12:10:30.572586100Z"
    }
   },
   "id": "798bf740c2791fe6"
  },
  {
   "cell_type": "code",
   "execution_count": 27,
   "outputs": [
    {
     "data": {
      "text/plain": "                                                   title    area  \\\n2      Apartament inwestycyjny, ostatnie piętro, k/Sk...   24.89   \n3       Apartament inwestycyjny Śląska 12 z umową najmu!   25.72   \n4       Nowe mieszkanie, wykończone - Mariana Kołodzieja   34.38   \n5      Wyjątkowe mieszkanie w centrum Gdyni, blisko l...  101.58   \n10      Mieszkanie w świetnej lokalizacji Gdynia Dąbrowa   68.00   \n...                                                  ...     ...   \n14046   INPRO S.A. - OPTIMA - mieszkanie 3-pok. 56.33 m2   56.33   \n14047   INPRO S.A. - OPTIMA - mieszkanie 3-pok. 61.44 m2   61.44   \n14048  INPRO S.A. - OPTIMA - mieszkanie 2-pok. 47.22 ...   47.00   \n14049  INPRO S.A. - OPTIMA - mieszkanie 2-pok. 46.30 ...   46.30   \n14050  INPRO S.A. - OPTIMA - mieszkanie 3-pok. 65.17 ...   65.17   \n\n       number_of_rooms  floor type_of_market  parking  elevator  \\\n2                  1.0    5.0      secondary        0         1   \n3                  1.0    0.0      secondary        0         1   \n4                  2.0    3.0      secondary        1         1   \n5                  4.0    5.0      secondary        0         1   \n10                 3.0    1.0      secondary        0         0   \n...                ...    ...            ...      ...       ...   \n14046              3.0    2.0        primary        1         0   \n14047              3.0    3.0        primary        1         0   \n14048              2.0    1.0        primary        1         0   \n14049              2.0    1.0        primary        1         0   \n14050              3.0    1.0        primary        1         0   \n\n       year_of_creation  internet type_of_building  basement  \\\n2                2022.0       1.0        Apartment       0.0   \n3                2022.0       1.0        Apartment       0.0   \n4                2022.0       1.0        Apartment       0.0   \n5                1997.0       1.0        Apartment       0.0   \n10               2000.0       1.0        Apartment       1.0   \n...                 ...       ...              ...       ...   \n14046            2024.0       1.0        Apartment       1.0   \n14047            2024.0       1.0        Apartment       1.0   \n14048            2025.0       1.0        Apartment       1.0   \n14049            2025.0       1.0        Apartment       1.0   \n14050            2025.0       1.0        Apartment       1.0   \n\n       price_for_m2_in_PLN  balcony  garden  terrace              street  \\\n2                 16749.98        0       0        0           śląska 12   \n3                 18500.00        0       0        0           śląska 12   \n4                 15997.67        1       0        0  mariana kołodzieja   \n5                 11468.79        0       0        0    janusza korczaka   \n10                10279.41        1       0        0            oliwkowa   \n...                    ...      ...     ...      ...                 ...   \n14046             10368.00        1       0        0       serdecznikowa   \n14047             10368.00        1       0        0       serdecznikowa   \n14048             10584.00        1       0        0       serdecznikowa   \n14049             10584.00        1       0        0       serdecznikowa   \n14050             10260.00        1       0        0       serdecznikowa   \n\n                  district    city   latitude  longtitude  \n2                przymorze  gdansk  54.406171   18.576846  \n3                przymorze  gdansk  54.406171   18.576846  \n4      ujeścisko-łostowice  gdansk  54.334542   18.585750  \n5                  redłowo  gdynia  54.494118   18.543134  \n10                 dąbrowa  gdynia  54.471180   18.470508  \n...                    ...     ...        ...         ...  \n14046              dąbrowa  gdynia  54.471546   18.467438  \n14047              dąbrowa  gdynia  54.471546   18.467438  \n14048              dąbrowa  gdynia  54.471546   18.467438  \n14049              dąbrowa  gdynia  54.471546   18.467438  \n14050              dąbrowa  gdynia  54.471546   18.467438  \n\n[11760 rows x 20 columns]",
      "text/html": "<div>\n<style scoped>\n    .dataframe tbody tr th:only-of-type {\n        vertical-align: middle;\n    }\n\n    .dataframe tbody tr th {\n        vertical-align: top;\n    }\n\n    .dataframe thead th {\n        text-align: right;\n    }\n</style>\n<table border=\"1\" class=\"dataframe\">\n  <thead>\n    <tr style=\"text-align: right;\">\n      <th></th>\n      <th>title</th>\n      <th>area</th>\n      <th>number_of_rooms</th>\n      <th>floor</th>\n      <th>type_of_market</th>\n      <th>parking</th>\n      <th>elevator</th>\n      <th>year_of_creation</th>\n      <th>internet</th>\n      <th>type_of_building</th>\n      <th>basement</th>\n      <th>price_for_m2_in_PLN</th>\n      <th>balcony</th>\n      <th>garden</th>\n      <th>terrace</th>\n      <th>street</th>\n      <th>district</th>\n      <th>city</th>\n      <th>latitude</th>\n      <th>longtitude</th>\n    </tr>\n  </thead>\n  <tbody>\n    <tr>\n      <th>2</th>\n      <td>Apartament inwestycyjny, ostatnie piętro, k/Sk...</td>\n      <td>24.89</td>\n      <td>1.0</td>\n      <td>5.0</td>\n      <td>secondary</td>\n      <td>0</td>\n      <td>1</td>\n      <td>2022.0</td>\n      <td>1.0</td>\n      <td>Apartment</td>\n      <td>0.0</td>\n      <td>16749.98</td>\n      <td>0</td>\n      <td>0</td>\n      <td>0</td>\n      <td>śląska 12</td>\n      <td>przymorze</td>\n      <td>gdansk</td>\n      <td>54.406171</td>\n      <td>18.576846</td>\n    </tr>\n    <tr>\n      <th>3</th>\n      <td>Apartament inwestycyjny Śląska 12 z umową najmu!</td>\n      <td>25.72</td>\n      <td>1.0</td>\n      <td>0.0</td>\n      <td>secondary</td>\n      <td>0</td>\n      <td>1</td>\n      <td>2022.0</td>\n      <td>1.0</td>\n      <td>Apartment</td>\n      <td>0.0</td>\n      <td>18500.00</td>\n      <td>0</td>\n      <td>0</td>\n      <td>0</td>\n      <td>śląska 12</td>\n      <td>przymorze</td>\n      <td>gdansk</td>\n      <td>54.406171</td>\n      <td>18.576846</td>\n    </tr>\n    <tr>\n      <th>4</th>\n      <td>Nowe mieszkanie, wykończone - Mariana Kołodzieja</td>\n      <td>34.38</td>\n      <td>2.0</td>\n      <td>3.0</td>\n      <td>secondary</td>\n      <td>1</td>\n      <td>1</td>\n      <td>2022.0</td>\n      <td>1.0</td>\n      <td>Apartment</td>\n      <td>0.0</td>\n      <td>15997.67</td>\n      <td>1</td>\n      <td>0</td>\n      <td>0</td>\n      <td>mariana kołodzieja</td>\n      <td>ujeścisko-łostowice</td>\n      <td>gdansk</td>\n      <td>54.334542</td>\n      <td>18.585750</td>\n    </tr>\n    <tr>\n      <th>5</th>\n      <td>Wyjątkowe mieszkanie w centrum Gdyni, blisko l...</td>\n      <td>101.58</td>\n      <td>4.0</td>\n      <td>5.0</td>\n      <td>secondary</td>\n      <td>0</td>\n      <td>1</td>\n      <td>1997.0</td>\n      <td>1.0</td>\n      <td>Apartment</td>\n      <td>0.0</td>\n      <td>11468.79</td>\n      <td>0</td>\n      <td>0</td>\n      <td>0</td>\n      <td>janusza korczaka</td>\n      <td>redłowo</td>\n      <td>gdynia</td>\n      <td>54.494118</td>\n      <td>18.543134</td>\n    </tr>\n    <tr>\n      <th>10</th>\n      <td>Mieszkanie w świetnej lokalizacji Gdynia Dąbrowa</td>\n      <td>68.00</td>\n      <td>3.0</td>\n      <td>1.0</td>\n      <td>secondary</td>\n      <td>0</td>\n      <td>0</td>\n      <td>2000.0</td>\n      <td>1.0</td>\n      <td>Apartment</td>\n      <td>1.0</td>\n      <td>10279.41</td>\n      <td>1</td>\n      <td>0</td>\n      <td>0</td>\n      <td>oliwkowa</td>\n      <td>dąbrowa</td>\n      <td>gdynia</td>\n      <td>54.471180</td>\n      <td>18.470508</td>\n    </tr>\n    <tr>\n      <th>...</th>\n      <td>...</td>\n      <td>...</td>\n      <td>...</td>\n      <td>...</td>\n      <td>...</td>\n      <td>...</td>\n      <td>...</td>\n      <td>...</td>\n      <td>...</td>\n      <td>...</td>\n      <td>...</td>\n      <td>...</td>\n      <td>...</td>\n      <td>...</td>\n      <td>...</td>\n      <td>...</td>\n      <td>...</td>\n      <td>...</td>\n      <td>...</td>\n      <td>...</td>\n    </tr>\n    <tr>\n      <th>14046</th>\n      <td>INPRO S.A. - OPTIMA - mieszkanie 3-pok. 56.33 m2</td>\n      <td>56.33</td>\n      <td>3.0</td>\n      <td>2.0</td>\n      <td>primary</td>\n      <td>1</td>\n      <td>0</td>\n      <td>2024.0</td>\n      <td>1.0</td>\n      <td>Apartment</td>\n      <td>1.0</td>\n      <td>10368.00</td>\n      <td>1</td>\n      <td>0</td>\n      <td>0</td>\n      <td>serdecznikowa</td>\n      <td>dąbrowa</td>\n      <td>gdynia</td>\n      <td>54.471546</td>\n      <td>18.467438</td>\n    </tr>\n    <tr>\n      <th>14047</th>\n      <td>INPRO S.A. - OPTIMA - mieszkanie 3-pok. 61.44 m2</td>\n      <td>61.44</td>\n      <td>3.0</td>\n      <td>3.0</td>\n      <td>primary</td>\n      <td>1</td>\n      <td>0</td>\n      <td>2024.0</td>\n      <td>1.0</td>\n      <td>Apartment</td>\n      <td>1.0</td>\n      <td>10368.00</td>\n      <td>1</td>\n      <td>0</td>\n      <td>0</td>\n      <td>serdecznikowa</td>\n      <td>dąbrowa</td>\n      <td>gdynia</td>\n      <td>54.471546</td>\n      <td>18.467438</td>\n    </tr>\n    <tr>\n      <th>14048</th>\n      <td>INPRO S.A. - OPTIMA - mieszkanie 2-pok. 47.22 ...</td>\n      <td>47.00</td>\n      <td>2.0</td>\n      <td>1.0</td>\n      <td>primary</td>\n      <td>1</td>\n      <td>0</td>\n      <td>2025.0</td>\n      <td>1.0</td>\n      <td>Apartment</td>\n      <td>1.0</td>\n      <td>10584.00</td>\n      <td>1</td>\n      <td>0</td>\n      <td>0</td>\n      <td>serdecznikowa</td>\n      <td>dąbrowa</td>\n      <td>gdynia</td>\n      <td>54.471546</td>\n      <td>18.467438</td>\n    </tr>\n    <tr>\n      <th>14049</th>\n      <td>INPRO S.A. - OPTIMA - mieszkanie 2-pok. 46.30 ...</td>\n      <td>46.30</td>\n      <td>2.0</td>\n      <td>1.0</td>\n      <td>primary</td>\n      <td>1</td>\n      <td>0</td>\n      <td>2025.0</td>\n      <td>1.0</td>\n      <td>Apartment</td>\n      <td>1.0</td>\n      <td>10584.00</td>\n      <td>1</td>\n      <td>0</td>\n      <td>0</td>\n      <td>serdecznikowa</td>\n      <td>dąbrowa</td>\n      <td>gdynia</td>\n      <td>54.471546</td>\n      <td>18.467438</td>\n    </tr>\n    <tr>\n      <th>14050</th>\n      <td>INPRO S.A. - OPTIMA - mieszkanie 3-pok. 65.17 ...</td>\n      <td>65.17</td>\n      <td>3.0</td>\n      <td>1.0</td>\n      <td>primary</td>\n      <td>1</td>\n      <td>0</td>\n      <td>2025.0</td>\n      <td>1.0</td>\n      <td>Apartment</td>\n      <td>1.0</td>\n      <td>10260.00</td>\n      <td>1</td>\n      <td>0</td>\n      <td>0</td>\n      <td>serdecznikowa</td>\n      <td>dąbrowa</td>\n      <td>gdynia</td>\n      <td>54.471546</td>\n      <td>18.467438</td>\n    </tr>\n  </tbody>\n</table>\n<p>11760 rows × 20 columns</p>\n</div>"
     },
     "execution_count": 27,
     "metadata": {},
     "output_type": "execute_result"
    }
   ],
   "source": [
    "df"
   ],
   "metadata": {
    "collapsed": false,
    "ExecuteTime": {
     "end_time": "2024-11-22T12:10:30.947779800Z",
     "start_time": "2024-11-22T12:10:30.578472800Z"
    }
   },
   "id": "42517be6dabf004"
  },
  {
   "cell_type": "markdown",
   "source": [
    "### Categorizing the floor column"
   ],
   "metadata": {
    "collapsed": false
   },
   "id": "49a197467963f91b"
  },
  {
   "cell_type": "code",
   "execution_count": 28,
   "outputs": [
    {
     "data": {
      "text/plain": "floor\n1.0    2936\n0.0    2248\n2.0    2179\n3.0    1971\n4.0    1258\n5.0     464\n6.0     221\n7.0     208\n8.0     176\n9.0      99\nName: count, dtype: int64"
     },
     "execution_count": 28,
     "metadata": {},
     "output_type": "execute_result"
    }
   ],
   "source": [
    "df['floor'].value_counts()"
   ],
   "metadata": {
    "collapsed": false,
    "ExecuteTime": {
     "end_time": "2024-11-22T12:10:30.949785300Z",
     "start_time": "2024-11-22T12:10:30.602174100Z"
    }
   },
   "id": "c13c4645513ee842"
  },
  {
   "cell_type": "code",
   "execution_count": 29,
   "outputs": [],
   "source": [
    "# Histogram of the floor column"
   ],
   "metadata": {
    "collapsed": false,
    "ExecuteTime": {
     "end_time": "2024-11-22T12:10:31.131468500Z",
     "start_time": "2024-11-22T12:10:30.609270900Z"
    }
   },
   "id": "856c4a70c95b001f"
  },
  {
   "cell_type": "code",
   "execution_count": 30,
   "outputs": [
    {
     "data": {
      "text/plain": "<Axes: >"
     },
     "execution_count": 30,
     "metadata": {},
     "output_type": "execute_result"
    },
    {
     "data": {
      "text/plain": "<Figure size 640x480 with 1 Axes>",
      "image/png": "[encoded data removed]"
     },
     "metadata": {},
     "output_type": "display_data"
    }
   ],
   "source": [
    "df['floor'].hist()"
   ],
   "metadata": {
    "collapsed": false,
    "ExecuteTime": {
     "end_time": "2024-11-22T12:10:31.598467400Z",
     "start_time": "2024-11-22T12:10:30.617094800Z"
    }
   },
   "id": "ce9a0339623f7187"
  },
  {
   "cell_type": "code",
   "execution_count": 31,
   "outputs": [],
   "source": [
    "# Categorizing into 4 categories: 0, 1-3, 4-7, 8+\n",
    "df['floor'] = pd.cut(df['floor'], bins=[-1, 0, 3, 7, np.inf], labels=['0', '1-3', '4-7', '8+'])"
   ],
   "metadata": {
    "collapsed": false,
    "ExecuteTime": {
     "end_time": "2024-11-22T12:10:31.598467400Z",
     "start_time": "2024-11-22T12:10:30.931209300Z"
    }
   },
   "id": "1c61b0e59189e721"
  },
  {
   "cell_type": "code",
   "execution_count": 32,
   "outputs": [
    {
     "data": {
      "text/plain": "floor\n1-3    7086\n0      2248\n4-7    2151\n8+      275\nName: count, dtype: int64"
     },
     "execution_count": 32,
     "metadata": {},
     "output_type": "execute_result"
    }
   ],
   "source": [
    "df['floor'].value_counts()"
   ],
   "metadata": {
    "collapsed": false,
    "ExecuteTime": {
     "end_time": "2024-11-22T12:10:31.638471400Z",
     "start_time": "2024-11-22T12:10:30.941629900Z"
    }
   },
   "id": "3ebf318919e83cf8"
  },
  {
   "cell_type": "code",
   "execution_count": 33,
   "outputs": [
    {
     "data": {
      "text/plain": "                                                   title    area  \\\n2      Apartament inwestycyjny, ostatnie piętro, k/Sk...   24.89   \n3       Apartament inwestycyjny Śląska 12 z umową najmu!   25.72   \n4       Nowe mieszkanie, wykończone - Mariana Kołodzieja   34.38   \n5      Wyjątkowe mieszkanie w centrum Gdyni, blisko l...  101.58   \n10      Mieszkanie w świetnej lokalizacji Gdynia Dąbrowa   68.00   \n...                                                  ...     ...   \n14046   INPRO S.A. - OPTIMA - mieszkanie 3-pok. 56.33 m2   56.33   \n14047   INPRO S.A. - OPTIMA - mieszkanie 3-pok. 61.44 m2   61.44   \n14048  INPRO S.A. - OPTIMA - mieszkanie 2-pok. 47.22 ...   47.00   \n14049  INPRO S.A. - OPTIMA - mieszkanie 2-pok. 46.30 ...   46.30   \n14050  INPRO S.A. - OPTIMA - mieszkanie 3-pok. 65.17 ...   65.17   \n\n       number_of_rooms floor type_of_market  parking  elevator  \\\n2                  1.0   4-7      secondary        0         1   \n3                  1.0     0      secondary        0         1   \n4                  2.0   1-3      secondary        1         1   \n5                  4.0   4-7      secondary        0         1   \n10                 3.0   1-3      secondary        0         0   \n...                ...   ...            ...      ...       ...   \n14046              3.0   1-3        primary        1         0   \n14047              3.0   1-3        primary        1         0   \n14048              2.0   1-3        primary        1         0   \n14049              2.0   1-3        primary        1         0   \n14050              3.0   1-3        primary        1         0   \n\n       year_of_creation  internet type_of_building  basement  \\\n2                2022.0       1.0        Apartment       0.0   \n3                2022.0       1.0        Apartment       0.0   \n4                2022.0       1.0        Apartment       0.0   \n5                1997.0       1.0        Apartment       0.0   \n10               2000.0       1.0        Apartment       1.0   \n...                 ...       ...              ...       ...   \n14046            2024.0       1.0        Apartment       1.0   \n14047            2024.0       1.0        Apartment       1.0   \n14048            2025.0       1.0        Apartment       1.0   \n14049            2025.0       1.0        Apartment       1.0   \n14050            2025.0       1.0        Apartment       1.0   \n\n       price_for_m2_in_PLN  balcony  garden  terrace              street  \\\n2                 16749.98        0       0        0           śląska 12   \n3                 18500.00        0       0        0           śląska 12   \n4                 15997.67        1       0        0  mariana kołodzieja   \n5                 11468.79        0       0        0    janusza korczaka   \n10                10279.41        1       0        0            oliwkowa   \n...                    ...      ...     ...      ...                 ...   \n14046             10368.00        1       0        0       serdecznikowa   \n14047             10368.00        1       0        0       serdecznikowa   \n14048             10584.00        1       0        0       serdecznikowa   \n14049             10584.00        1       0        0       serdecznikowa   \n14050             10260.00        1       0        0       serdecznikowa   \n\n                  district    city   latitude  longtitude  \n2                przymorze  gdansk  54.406171   18.576846  \n3                przymorze  gdansk  54.406171   18.576846  \n4      ujeścisko-łostowice  gdansk  54.334542   18.585750  \n5                  redłowo  gdynia  54.494118   18.543134  \n10                 dąbrowa  gdynia  54.471180   18.470508  \n...                    ...     ...        ...         ...  \n14046              dąbrowa  gdynia  54.471546   18.467438  \n14047              dąbrowa  gdynia  54.471546   18.467438  \n14048              dąbrowa  gdynia  54.471546   18.467438  \n14049              dąbrowa  gdynia  54.471546   18.467438  \n14050              dąbrowa  gdynia  54.471546   18.467438  \n\n[11760 rows x 20 columns]",
      "text/html": "<div>\n<style scoped>\n    .dataframe tbody tr th:only-of-type {\n        vertical-align: middle;\n    }\n\n    .dataframe tbody tr th {\n        vertical-align: top;\n    }\n\n    .dataframe thead th {\n        text-align: right;\n    }\n</style>\n<table border=\"1\" class=\"dataframe\">\n  <thead>\n    <tr style=\"text-align: right;\">\n      <th></th>\n      <th>title</th>\n      <th>area</th>\n      <th>number_of_rooms</th>\n      <th>floor</th>\n      <th>type_of_market</th>\n      <th>parking</th>\n      <th>elevator</th>\n      <th>year_of_creation</th>\n      <th>internet</th>\n      <th>type_of_building</th>\n      <th>basement</th>\n      <th>price_for_m2_in_PLN</th>\n      <th>balcony</th>\n      <th>garden</th>\n      <th>terrace</th>\n      <th>street</th>\n      <th>district</th>\n      <th>city</th>\n      <th>latitude</th>\n      <th>longtitude</th>\n    </tr>\n  </thead>\n  <tbody>\n    <tr>\n      <th>2</th>\n      <td>Apartament inwestycyjny, ostatnie piętro, k/Sk...</td>\n      <td>24.89</td>\n      <td>1.0</td>\n      <td>4-7</td>\n      <td>secondary</td>\n      <td>0</td>\n      <td>1</td>\n      <td>2022.0</td>\n      <td>1.0</td>\n      <td>Apartment</td>\n      <td>0.0</td>\n      <td>16749.98</td>\n      <td>0</td>\n      <td>0</td>\n      <td>0</td>\n      <td>śląska 12</td>\n      <td>przymorze</td>\n      <td>gdansk</td>\n      <td>54.406171</td>\n      <td>18.576846</td>\n    </tr>\n    <tr>\n      <th>3</th>\n      <td>Apartament inwestycyjny Śląska 12 z umową najmu!</td>\n      <td>25.72</td>\n      <td>1.0</td>\n      <td>0</td>\n      <td>secondary</td>\n      <td>0</td>\n      <td>1</td>\n      <td>2022.0</td>\n      <td>1.0</td>\n      <td>Apartment</td>\n      <td>0.0</td>\n      <td>18500.00</td>\n      <td>0</td>\n      <td>0</td>\n      <td>0</td>\n      <td>śląska 12</td>\n      <td>przymorze</td>\n      <td>gdansk</td>\n      <td>54.406171</td>\n      <td>18.576846</td>\n    </tr>\n    <tr>\n      <th>4</th>\n      <td>Nowe mieszkanie, wykończone - Mariana Kołodzieja</td>\n      <td>34.38</td>\n      <td>2.0</td>\n      <td>1-3</td>\n      <td>secondary</td>\n      <td>1</td>\n      <td>1</td>\n      <td>2022.0</td>\n      <td>1.0</td>\n      <td>Apartment</td>\n      <td>0.0</td>\n      <td>15997.67</td>\n      <td>1</td>\n      <td>0</td>\n      <td>0</td>\n      <td>mariana kołodzieja</td>\n      <td>ujeścisko-łostowice</td>\n      <td>gdansk</td>\n      <td>54.334542</td>\n      <td>18.585750</td>\n    </tr>\n    <tr>\n      <th>5</th>\n      <td>Wyjątkowe mieszkanie w centrum Gdyni, blisko l...</td>\n      <td>101.58</td>\n      <td>4.0</td>\n      <td>4-7</td>\n      <td>secondary</td>\n      <td>0</td>\n      <td>1</td>\n      <td>1997.0</td>\n      <td>1.0</td>\n      <td>Apartment</td>\n      <td>0.0</td>\n      <td>11468.79</td>\n      <td>0</td>\n      <td>0</td>\n      <td>0</td>\n      <td>janusza korczaka</td>\n      <td>redłowo</td>\n      <td>gdynia</td>\n      <td>54.494118</td>\n      <td>18.543134</td>\n    </tr>\n    <tr>\n      <th>10</th>\n      <td>Mieszkanie w świetnej lokalizacji Gdynia Dąbrowa</td>\n      <td>68.00</td>\n      <td>3.0</td>\n      <td>1-3</td>\n      <td>secondary</td>\n      <td>0</td>\n      <td>0</td>\n      <td>2000.0</td>\n      <td>1.0</td>\n      <td>Apartment</td>\n      <td>1.0</td>\n      <td>10279.41</td>\n      <td>1</td>\n      <td>0</td>\n      <td>0</td>\n      <td>oliwkowa</td>\n      <td>dąbrowa</td>\n      <td>gdynia</td>\n      <td>54.471180</td>\n      <td>18.470508</td>\n    </tr>\n    <tr>\n      <th>...</th>\n      <td>...</td>\n      <td>...</td>\n      <td>...</td>\n      <td>...</td>\n      <td>...</td>\n      <td>...</td>\n      <td>...</td>\n      <td>...</td>\n      <td>...</td>\n      <td>...</td>\n      <td>...</td>\n      <td>...</td>\n      <td>...</td>\n      <td>...</td>\n      <td>...</td>\n      <td>...</td>\n      <td>...</td>\n      <td>...</td>\n      <td>...</td>\n      <td>...</td>\n    </tr>\n    <tr>\n      <th>14046</th>\n      <td>INPRO S.A. - OPTIMA - mieszkanie 3-pok. 56.33 m2</td>\n      <td>56.33</td>\n      <td>3.0</td>\n      <td>1-3</td>\n      <td>primary</td>\n      <td>1</td>\n      <td>0</td>\n      <td>2024.0</td>\n      <td>1.0</td>\n      <td>Apartment</td>\n      <td>1.0</td>\n      <td>10368.00</td>\n      <td>1</td>\n      <td>0</td>\n      <td>0</td>\n      <td>serdecznikowa</td>\n      <td>dąbrowa</td>\n      <td>gdynia</td>\n      <td>54.471546</td>\n      <td>18.467438</td>\n    </tr>\n    <tr>\n      <th>14047</th>\n      <td>INPRO S.A. - OPTIMA - mieszkanie 3-pok. 61.44 m2</td>\n      <td>61.44</td>\n      <td>3.0</td>\n      <td>1-3</td>\n      <td>primary</td>\n      <td>1</td>\n      <td>0</td>\n      <td>2024.0</td>\n      <td>1.0</td>\n      <td>Apartment</td>\n      <td>1.0</td>\n      <td>10368.00</td>\n      <td>1</td>\n      <td>0</td>\n      <td>0</td>\n      <td>serdecznikowa</td>\n      <td>dąbrowa</td>\n      <td>gdynia</td>\n      <td>54.471546</td>\n      <td>18.467438</td>\n    </tr>\n    <tr>\n      <th>14048</th>\n      <td>INPRO S.A. - OPTIMA - mieszkanie 2-pok. 47.22 ...</td>\n      <td>47.00</td>\n      <td>2.0</td>\n      <td>1-3</td>\n      <td>primary</td>\n      <td>1</td>\n      <td>0</td>\n      <td>2025.0</td>\n      <td>1.0</td>\n      <td>Apartment</td>\n      <td>1.0</td>\n      <td>10584.00</td>\n      <td>1</td>\n      <td>0</td>\n      <td>0</td>\n      <td>serdecznikowa</td>\n      <td>dąbrowa</td>\n      <td>gdynia</td>\n      <td>54.471546</td>\n      <td>18.467438</td>\n    </tr>\n    <tr>\n      <th>14049</th>\n      <td>INPRO S.A. - OPTIMA - mieszkanie 2-pok. 46.30 ...</td>\n      <td>46.30</td>\n      <td>2.0</td>\n      <td>1-3</td>\n      <td>primary</td>\n      <td>1</td>\n      <td>0</td>\n      <td>2025.0</td>\n      <td>1.0</td>\n      <td>Apartment</td>\n      <td>1.0</td>\n      <td>10584.00</td>\n      <td>1</td>\n      <td>0</td>\n      <td>0</td>\n      <td>serdecznikowa</td>\n      <td>dąbrowa</td>\n      <td>gdynia</td>\n      <td>54.471546</td>\n      <td>18.467438</td>\n    </tr>\n    <tr>\n      <th>14050</th>\n      <td>INPRO S.A. - OPTIMA - mieszkanie 3-pok. 65.17 ...</td>\n      <td>65.17</td>\n      <td>3.0</td>\n      <td>1-3</td>\n      <td>primary</td>\n      <td>1</td>\n      <td>0</td>\n      <td>2025.0</td>\n      <td>1.0</td>\n      <td>Apartment</td>\n      <td>1.0</td>\n      <td>10260.00</td>\n      <td>1</td>\n      <td>0</td>\n      <td>0</td>\n      <td>serdecznikowa</td>\n      <td>dąbrowa</td>\n      <td>gdynia</td>\n      <td>54.471546</td>\n      <td>18.467438</td>\n    </tr>\n  </tbody>\n</table>\n<p>11760 rows × 20 columns</p>\n</div>"
     },
     "execution_count": 33,
     "metadata": {},
     "output_type": "execute_result"
    }
   ],
   "source": [
    "df"
   ],
   "metadata": {
    "collapsed": false,
    "ExecuteTime": {
     "end_time": "2024-11-22T12:10:31.659466800Z",
     "start_time": "2024-11-22T12:10:30.959781Z"
    }
   },
   "id": "f8d10b973afb6bb2"
  },
  {
   "cell_type": "code",
   "execution_count": 34,
   "outputs": [],
   "source": [
    "# Saving the cleaned data to a csv file\n",
    "df.to_csv('cleaned_dataset_without_na.csv', sep='|', index=False)"
   ],
   "metadata": {
    "collapsed": false,
    "ExecuteTime": {
     "end_time": "2024-11-22T12:10:31.917882900Z",
     "start_time": "2024-11-22T12:10:30.983089500Z"
    }
   },
   "id": "57433c0372ed3503"
  }
 ],
 "metadata": {
  "kernelspec": {
   "display_name": "Python 3",
   "language": "python",
   "name": "python3"
  },
  "language_info": {
   "codemirror_mode": {
    "name": "ipython",
    "version": 2
   },
   "file_extension": ".py",
   "mimetype": "text/x-python",
   "name": "python",
   "nbconvert_exporter": "python",
   "pygments_lexer": "ipython2",
   "version": "2.7.6"
  }
 },
 "nbformat": 4,
 "nbformat_minor": 5
}
