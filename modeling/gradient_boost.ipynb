{
 "cells": [
  {
   "cell_type": "code",
   "execution_count": 1,
   "metadata": {},
   "outputs": [],
   "source": [
    "from sklearn.linear_model import LinearRegression\n",
    "from sklearn.model_selection import train_test_split\n",
    "from sklearn.preprocessing import StandardScaler, OneHotEncoder\n",
    "from sklearn.pipeline import make_pipeline\n",
    "from sklearn.compose import ColumnTransformer, make_column_selector\n",
    "from sklearn.metrics import mean_squared_error\n",
    "from sklearn.metrics import root_mean_squared_error\n",
    "from sklearn.metrics import root_mean_squared_log_error\n",
    "from sklearn.metrics import r2_score\n",
    "\n",
    "import pandas as pd\n",
    "import numpy as np\n",
    "import matplotlib.pyplot as plt"
   ]
  },
  {
   "cell_type": "code",
   "execution_count": 2,
   "metadata": {},
   "outputs": [
    {
     "data": {
      "text/html": [
       "<div>\n",
       "<style scoped>\n",
       "    .dataframe tbody tr th:only-of-type {\n",
       "        vertical-align: middle;\n",
       "    }\n",
       "\n",
       "    .dataframe tbody tr th {\n",
       "        vertical-align: top;\n",
       "    }\n",
       "\n",
       "    .dataframe thead th {\n",
       "        text-align: right;\n",
       "    }\n",
       "</style>\n",
       "<table border=\"1\" class=\"dataframe\">\n",
       "  <thead>\n",
       "    <tr style=\"text-align: right;\">\n",
       "      <th></th>\n",
       "      <th>title</th>\n",
       "      <th>area</th>\n",
       "      <th>number_of_rooms</th>\n",
       "      <th>floor</th>\n",
       "      <th>type_of_market</th>\n",
       "      <th>parking</th>\n",
       "      <th>elevator</th>\n",
       "      <th>year_of_creation</th>\n",
       "      <th>internet</th>\n",
       "      <th>type_of_building</th>\n",
       "      <th>basement</th>\n",
       "      <th>price_for_m2_in_PLN</th>\n",
       "      <th>balcony</th>\n",
       "      <th>garden</th>\n",
       "      <th>terrace</th>\n",
       "      <th>street</th>\n",
       "      <th>district</th>\n",
       "      <th>city</th>\n",
       "      <th>latitude</th>\n",
       "      <th>longtitude</th>\n",
       "    </tr>\n",
       "  </thead>\n",
       "  <tbody>\n",
       "    <tr>\n",
       "      <th>0</th>\n",
       "      <td>Apartament inwestycyjny, ostatnie piętro, k/Sk...</td>\n",
       "      <td>24.89</td>\n",
       "      <td>1.0</td>\n",
       "      <td>4-6</td>\n",
       "      <td>secondary</td>\n",
       "      <td>0</td>\n",
       "      <td>1</td>\n",
       "      <td>2022.0</td>\n",
       "      <td>1.0</td>\n",
       "      <td>Mieszkanie</td>\n",
       "      <td>0.0</td>\n",
       "      <td>16749.98</td>\n",
       "      <td>0</td>\n",
       "      <td>0</td>\n",
       "      <td>0</td>\n",
       "      <td>śląska 12</td>\n",
       "      <td>przymorze</td>\n",
       "      <td>gdansk</td>\n",
       "      <td>54.406171</td>\n",
       "      <td>18.576846</td>\n",
       "    </tr>\n",
       "    <tr>\n",
       "      <th>1</th>\n",
       "      <td>Apartament inwestycyjny Śląska 12 z umową najmu!</td>\n",
       "      <td>25.72</td>\n",
       "      <td>1.0</td>\n",
       "      <td>0</td>\n",
       "      <td>secondary</td>\n",
       "      <td>0</td>\n",
       "      <td>1</td>\n",
       "      <td>2022.0</td>\n",
       "      <td>1.0</td>\n",
       "      <td>Mieszkanie</td>\n",
       "      <td>0.0</td>\n",
       "      <td>18500.00</td>\n",
       "      <td>0</td>\n",
       "      <td>0</td>\n",
       "      <td>0</td>\n",
       "      <td>śląska 12</td>\n",
       "      <td>przymorze</td>\n",
       "      <td>gdansk</td>\n",
       "      <td>54.406171</td>\n",
       "      <td>18.576846</td>\n",
       "    </tr>\n",
       "    <tr>\n",
       "      <th>2</th>\n",
       "      <td>Nowe mieszkanie, wykończone - Mariana Kołodzieja</td>\n",
       "      <td>34.38</td>\n",
       "      <td>2.0</td>\n",
       "      <td>1-3</td>\n",
       "      <td>secondary</td>\n",
       "      <td>1</td>\n",
       "      <td>1</td>\n",
       "      <td>2022.0</td>\n",
       "      <td>1.0</td>\n",
       "      <td>Mieszkanie</td>\n",
       "      <td>0.0</td>\n",
       "      <td>15997.67</td>\n",
       "      <td>1</td>\n",
       "      <td>0</td>\n",
       "      <td>0</td>\n",
       "      <td>mariana kołodzieja</td>\n",
       "      <td>ujeścisko-łostowice</td>\n",
       "      <td>gdansk</td>\n",
       "      <td>54.334542</td>\n",
       "      <td>18.585750</td>\n",
       "    </tr>\n",
       "    <tr>\n",
       "      <th>3</th>\n",
       "      <td>Wyjątkowe mieszkanie w centrum Gdyni, blisko l...</td>\n",
       "      <td>101.58</td>\n",
       "      <td>4.0</td>\n",
       "      <td>4-6</td>\n",
       "      <td>secondary</td>\n",
       "      <td>0</td>\n",
       "      <td>1</td>\n",
       "      <td>1997.0</td>\n",
       "      <td>1.0</td>\n",
       "      <td>Mieszkanie</td>\n",
       "      <td>0.0</td>\n",
       "      <td>11468.79</td>\n",
       "      <td>0</td>\n",
       "      <td>0</td>\n",
       "      <td>0</td>\n",
       "      <td>janusza korczaka</td>\n",
       "      <td>redłowo</td>\n",
       "      <td>gdynia</td>\n",
       "      <td>54.494118</td>\n",
       "      <td>18.543134</td>\n",
       "    </tr>\n",
       "    <tr>\n",
       "      <th>4</th>\n",
       "      <td>Mieszkanie w świetnej lokalizacji Gdynia Dąbrowa</td>\n",
       "      <td>68.00</td>\n",
       "      <td>3.0</td>\n",
       "      <td>1-3</td>\n",
       "      <td>secondary</td>\n",
       "      <td>0</td>\n",
       "      <td>0</td>\n",
       "      <td>2000.0</td>\n",
       "      <td>1.0</td>\n",
       "      <td>Mieszkanie</td>\n",
       "      <td>1.0</td>\n",
       "      <td>10279.41</td>\n",
       "      <td>1</td>\n",
       "      <td>0</td>\n",
       "      <td>0</td>\n",
       "      <td>oliwkowa</td>\n",
       "      <td>dąbrowa</td>\n",
       "      <td>gdynia</td>\n",
       "      <td>54.471180</td>\n",
       "      <td>18.470508</td>\n",
       "    </tr>\n",
       "  </tbody>\n",
       "</table>\n",
       "</div>"
      ],
      "text/plain": [
       "                                               title    area  number_of_rooms  \\\n",
       "0  Apartament inwestycyjny, ostatnie piętro, k/Sk...   24.89              1.0   \n",
       "1   Apartament inwestycyjny Śląska 12 z umową najmu!   25.72              1.0   \n",
       "2   Nowe mieszkanie, wykończone - Mariana Kołodzieja   34.38              2.0   \n",
       "3  Wyjątkowe mieszkanie w centrum Gdyni, blisko l...  101.58              4.0   \n",
       "4   Mieszkanie w świetnej lokalizacji Gdynia Dąbrowa   68.00              3.0   \n",
       "\n",
       "  floor type_of_market  parking  elevator  year_of_creation  internet  \\\n",
       "0   4-6      secondary        0         1            2022.0       1.0   \n",
       "1     0      secondary        0         1            2022.0       1.0   \n",
       "2   1-3      secondary        1         1            2022.0       1.0   \n",
       "3   4-6      secondary        0         1            1997.0       1.0   \n",
       "4   1-3      secondary        0         0            2000.0       1.0   \n",
       "\n",
       "  type_of_building  basement  price_for_m2_in_PLN  balcony  garden  terrace  \\\n",
       "0       Mieszkanie       0.0             16749.98        0       0        0   \n",
       "1       Mieszkanie       0.0             18500.00        0       0        0   \n",
       "2       Mieszkanie       0.0             15997.67        1       0        0   \n",
       "3       Mieszkanie       0.0             11468.79        0       0        0   \n",
       "4       Mieszkanie       1.0             10279.41        1       0        0   \n",
       "\n",
       "               street             district    city   latitude  longtitude  \n",
       "0           śląska 12            przymorze  gdansk  54.406171   18.576846  \n",
       "1           śląska 12            przymorze  gdansk  54.406171   18.576846  \n",
       "2  mariana kołodzieja  ujeścisko-łostowice  gdansk  54.334542   18.585750  \n",
       "3    janusza korczaka              redłowo  gdynia  54.494118   18.543134  \n",
       "4            oliwkowa              dąbrowa  gdynia  54.471180   18.470508  "
      ]
     },
     "execution_count": 2,
     "metadata": {},
     "output_type": "execute_result"
    }
   ],
   "source": [
    "data = pd.read_csv('../cleaned_dataset_without_na.csv', delimiter='|')\n",
    "data.head()"
   ]
  },
  {
   "cell_type": "code",
   "execution_count": 3,
   "metadata": {},
   "outputs": [],
   "source": [
    "data = data.drop('title', axis=1)\n",
    "threshold_low = 5000  # Set your threshold value here\n",
    "threshold_high = 30000\n",
    "data = data[data['price_for_m2_in_PLN'] >= threshold_low]\n",
    "data = data[data['price_for_m2_in_PLN'] <= threshold_high]\n"
   ]
  },
  {
   "cell_type": "code",
   "execution_count": 4,
   "metadata": {},
   "outputs": [],
   "source": [
    "data_numerical = data.drop(['city', 'district', 'type_of_market', 'type_of_building', 'floor', 'street'], axis=1)"
   ]
  },
  {
   "cell_type": "code",
   "execution_count": 5,
   "metadata": {},
   "outputs": [],
   "source": [
    "A = data.drop(['price_for_m2_in_PLN', 'street'], axis=1)\n",
    "b = data['price_for_m2_in_PLN']\n",
    "X_train, X_test, y_train, y_test = train_test_split(A, b, test_size=0.2, random_state=0)"
   ]
  },
  {
   "cell_type": "code",
   "execution_count": 6,
   "metadata": {},
   "outputs": [],
   "source": [
    "num_pipeline = make_pipeline(StandardScaler())\n",
    "cat_pipeline = make_pipeline(OneHotEncoder(handle_unknown=\"ignore\"))\n",
    "preprocessor = ColumnTransformer([(\"cat\", cat_pipeline, make_column_selector(dtype_include=object)),], remainder=num_pipeline)\n",
    "preprocessor = preprocessor.fit(X_train, y_train)\n",
    "X_train_preprocessed = preprocessor.transform(X_train)\n",
    "X_test_preprocessed = preprocessor.transform(X_test)"
   ]
  },
  {
   "cell_type": "code",
   "execution_count": 7,
   "metadata": {},
   "outputs": [
    {
     "data": {
      "image/png": "[encoded data removed]",
      "text/plain": [
       "<Figure size 640x480 with 1 Axes>"
      ]
     },
     "metadata": {},
     "output_type": "display_data"
    }
   ],
   "source": [
    "from sklearn.ensemble import GradientBoostingRegressor\n",
    "\n",
    "model_GB = GradientBoostingRegressor(learning_rate=0.1, max_depth=7, min_samples_split=5, n_estimators=1500, criterion='squared_error')\n",
    "model_GB.fit(X_train_preprocessed, y_train)\n",
    "y_pred_GB = model_GB.predict(X_test_preprocessed)\n",
    "# Scatter plot of actual vs predicted values\n",
    "plt.scatter(y_test, y_pred_GB, color=\"black\", label=\"Data Points\")\n",
    "\n",
    "# Plot a reference line (y = x) to show perfect predictions\n",
    "x = np.linspace(min(y_test), max(y_test), 100)\n",
    "plt.plot(x, x, color=\"blue\", linewidth=2, label=\"Perfect Fit (y=x)\")\n",
    "\n",
    "# Add labels and title\n",
    "plt.xlabel('Actual Values')\n",
    "plt.ylabel('Predicted Values')\n",
    "plt.title('Actual vs Predicted Values')\n",
    "\n",
    "# Display legend\n",
    "plt.legend()\n",
    "\n",
    "# Show the plot\n",
    "plt.show()"
   ]
  },
  {
   "cell_type": "code",
   "execution_count": 8,
   "metadata": {},
   "outputs": [
    {
     "data": {
      "text/plain": [
       "2146.7104898966395"
      ]
     },
     "execution_count": 8,
     "metadata": {},
     "output_type": "execute_result"
    }
   ],
   "source": [
    "rmse_GB = root_mean_squared_error(y_test, y_pred_GB)\n",
    "rmse_GB"
   ]
  },
  {
   "cell_type": "code",
   "execution_count": 9,
   "metadata": {},
   "outputs": [
    {
     "data": {
      "text/plain": [
       "0.14218861628733054"
      ]
     },
     "execution_count": 9,
     "metadata": {},
     "output_type": "execute_result"
    }
   ],
   "source": [
    "rmsle_GB = root_mean_squared_log_error(y_test, y_pred_GB)\n",
    "rmsle_GB"
   ]
  },
  {
   "cell_type": "code",
   "execution_count": 10,
   "metadata": {},
   "outputs": [
    {
     "data": {
      "text/plain": [
       "1274.4135515925427"
      ]
     },
     "execution_count": 10,
     "metadata": {},
     "output_type": "execute_result"
    }
   ],
   "source": [
    "from sklearn.metrics import mean_absolute_error\n",
    "from sklearn.metrics import mean_absolute_percentage_error\n",
    "mae_GB = mean_absolute_error(y_test, y_pred_GB)\n",
    "mae_GB"
   ]
  },
  {
   "cell_type": "code",
   "execution_count": 11,
   "metadata": {},
   "outputs": [
    {
     "data": {
      "text/plain": [
       "0.08996531349886178"
      ]
     },
     "execution_count": 11,
     "metadata": {},
     "output_type": "execute_result"
    }
   ],
   "source": [
    "mape_GB = mean_absolute_percentage_error(y_test, y_pred_GB)\n",
    "mape_GB"
   ]
  },
  {
   "cell_type": "code",
   "execution_count": 12,
   "metadata": {},
   "outputs": [
    {
     "data": {
      "text/plain": [
       "0.809650991747572"
      ]
     },
     "execution_count": 12,
     "metadata": {},
     "output_type": "execute_result"
    }
   ],
   "source": [
    "r2_gb = r2_score(y_test, y_pred_GB)\n",
    "r2_gb"
   ]
  },
  {
   "cell_type": "code",
   "execution_count": null,
   "metadata": {},
   "outputs": [],
   "source": []
  }
 ],
 "metadata": {
  "kernelspec": {
   "display_name": "Python 3",
   "language": "python",
   "name": "python3"
  },
  "language_info": {
   "codemirror_mode": {
    "name": "ipython",
    "version": 3
   },
   "file_extension": ".py",
   "mimetype": "text/x-python",
   "name": "python",
   "nbconvert_exporter": "python",
   "pygments_lexer": "ipython3",
   "version": "3.11.7"
  }
 },
 "nbformat": 4,
 "nbformat_minor": 2
}
