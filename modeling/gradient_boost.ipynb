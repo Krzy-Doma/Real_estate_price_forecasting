{
 "cells": [
  {
   "cell_type": "code",
   "execution_count": 17,
   "metadata": {
    "ExecuteTime": {
     "end_time": "2024-12-03T16:52:12.344247300Z",
     "start_time": "2024-12-03T16:52:12.292815900Z"
    }
   },
   "outputs": [],
   "source": [
    "from sklearn.linear_model import LinearRegression\n",
    "from sklearn.model_selection import train_test_split\n",
    "from sklearn.preprocessing import StandardScaler, OneHotEncoder\n",
    "from sklearn.pipeline import make_pipeline\n",
    "from sklearn.compose import ColumnTransformer, make_column_selector\n",
    "from sklearn.metrics import mean_squared_error\n",
    "from sklearn.metrics import root_mean_squared_error\n",
    "from sklearn.metrics import root_mean_squared_log_error\n",
    "from sklearn.metrics import r2_score\n",
    "\n",
    "import pandas as pd\n",
    "import numpy as np\n",
    "import matplotlib.pyplot as plt"
   ]
  },
  {
   "cell_type": "code",
   "execution_count": 18,
   "metadata": {
    "ExecuteTime": {
     "end_time": "2024-12-03T16:52:12.855466600Z",
     "start_time": "2024-12-03T16:52:12.800029200Z"
    }
   },
   "outputs": [
    {
     "data": {
      "text/plain": "                                               title    area  number_of_rooms  \\\n0  Apartament inwestycyjny, ostatnie piętro, k/Sk...   24.89              1.0   \n1   Apartament inwestycyjny Śląska 12 z umową najmu!   25.72              1.0   \n2   Nowe mieszkanie, wykończone - Mariana Kołodzieja   34.38              2.0   \n3  Wyjątkowe mieszkanie w centrum Gdyni, blisko l...  101.58              4.0   \n4   Mieszkanie w świetnej lokalizacji Gdynia Dąbrowa   68.00              3.0   \n\n  floor type_of_market  parking  elevator  year_of_creation  internet  \\\n0   4-7      secondary        0         1            2022.0       1.0   \n1     0      secondary        0         1            2022.0       1.0   \n2   1-3      secondary        1         1            2022.0       1.0   \n3   4-7      secondary        0         1            1997.0       1.0   \n4   1-3      secondary        0         0            2000.0       1.0   \n\n  type_of_building  basement  price_for_m2_in_PLN  balcony  garden  terrace  \\\n0        Apartment       0.0             16749.98        0       0        0   \n1        Apartment       0.0             18500.00        0       0        0   \n2        Apartment       0.0             15997.67        1       0        0   \n3        Apartment       0.0             11468.79        0       0        0   \n4        Apartment       1.0             10279.41        1       0        0   \n\n               street             district    city   latitude  longtitude  \n0           śląska 12            przymorze  gdansk  54.406171   18.576846  \n1           śląska 12            przymorze  gdansk  54.406171   18.576846  \n2  mariana kołodzieja  ujeścisko-łostowice  gdansk  54.334542   18.585750  \n3    janusza korczaka              redłowo  gdynia  54.494118   18.543134  \n4            oliwkowa              dąbrowa  gdynia  54.471180   18.470508  ",
      "text/html": "<div>\n<style scoped>\n    .dataframe tbody tr th:only-of-type {\n        vertical-align: middle;\n    }\n\n    .dataframe tbody tr th {\n        vertical-align: top;\n    }\n\n    .dataframe thead th {\n        text-align: right;\n    }\n</style>\n<table border=\"1\" class=\"dataframe\">\n  <thead>\n    <tr style=\"text-align: right;\">\n      <th></th>\n      <th>title</th>\n      <th>area</th>\n      <th>number_of_rooms</th>\n      <th>floor</th>\n      <th>type_of_market</th>\n      <th>parking</th>\n      <th>elevator</th>\n      <th>year_of_creation</th>\n      <th>internet</th>\n      <th>type_of_building</th>\n      <th>basement</th>\n      <th>price_for_m2_in_PLN</th>\n      <th>balcony</th>\n      <th>garden</th>\n      <th>terrace</th>\n      <th>street</th>\n      <th>district</th>\n      <th>city</th>\n      <th>latitude</th>\n      <th>longtitude</th>\n    </tr>\n  </thead>\n  <tbody>\n    <tr>\n      <th>0</th>\n      <td>Apartament inwestycyjny, ostatnie piętro, k/Sk...</td>\n      <td>24.89</td>\n      <td>1.0</td>\n      <td>4-7</td>\n      <td>secondary</td>\n      <td>0</td>\n      <td>1</td>\n      <td>2022.0</td>\n      <td>1.0</td>\n      <td>Apartment</td>\n      <td>0.0</td>\n      <td>16749.98</td>\n      <td>0</td>\n      <td>0</td>\n      <td>0</td>\n      <td>śląska 12</td>\n      <td>przymorze</td>\n      <td>gdansk</td>\n      <td>54.406171</td>\n      <td>18.576846</td>\n    </tr>\n    <tr>\n      <th>1</th>\n      <td>Apartament inwestycyjny Śląska 12 z umową najmu!</td>\n      <td>25.72</td>\n      <td>1.0</td>\n      <td>0</td>\n      <td>secondary</td>\n      <td>0</td>\n      <td>1</td>\n      <td>2022.0</td>\n      <td>1.0</td>\n      <td>Apartment</td>\n      <td>0.0</td>\n      <td>18500.00</td>\n      <td>0</td>\n      <td>0</td>\n      <td>0</td>\n      <td>śląska 12</td>\n      <td>przymorze</td>\n      <td>gdansk</td>\n      <td>54.406171</td>\n      <td>18.576846</td>\n    </tr>\n    <tr>\n      <th>2</th>\n      <td>Nowe mieszkanie, wykończone - Mariana Kołodzieja</td>\n      <td>34.38</td>\n      <td>2.0</td>\n      <td>1-3</td>\n      <td>secondary</td>\n      <td>1</td>\n      <td>1</td>\n      <td>2022.0</td>\n      <td>1.0</td>\n      <td>Apartment</td>\n      <td>0.0</td>\n      <td>15997.67</td>\n      <td>1</td>\n      <td>0</td>\n      <td>0</td>\n      <td>mariana kołodzieja</td>\n      <td>ujeścisko-łostowice</td>\n      <td>gdansk</td>\n      <td>54.334542</td>\n      <td>18.585750</td>\n    </tr>\n    <tr>\n      <th>3</th>\n      <td>Wyjątkowe mieszkanie w centrum Gdyni, blisko l...</td>\n      <td>101.58</td>\n      <td>4.0</td>\n      <td>4-7</td>\n      <td>secondary</td>\n      <td>0</td>\n      <td>1</td>\n      <td>1997.0</td>\n      <td>1.0</td>\n      <td>Apartment</td>\n      <td>0.0</td>\n      <td>11468.79</td>\n      <td>0</td>\n      <td>0</td>\n      <td>0</td>\n      <td>janusza korczaka</td>\n      <td>redłowo</td>\n      <td>gdynia</td>\n      <td>54.494118</td>\n      <td>18.543134</td>\n    </tr>\n    <tr>\n      <th>4</th>\n      <td>Mieszkanie w świetnej lokalizacji Gdynia Dąbrowa</td>\n      <td>68.00</td>\n      <td>3.0</td>\n      <td>1-3</td>\n      <td>secondary</td>\n      <td>0</td>\n      <td>0</td>\n      <td>2000.0</td>\n      <td>1.0</td>\n      <td>Apartment</td>\n      <td>1.0</td>\n      <td>10279.41</td>\n      <td>1</td>\n      <td>0</td>\n      <td>0</td>\n      <td>oliwkowa</td>\n      <td>dąbrowa</td>\n      <td>gdynia</td>\n      <td>54.471180</td>\n      <td>18.470508</td>\n    </tr>\n  </tbody>\n</table>\n</div>"
     },
     "execution_count": 18,
     "metadata": {},
     "output_type": "execute_result"
    }
   ],
   "source": [
    "data = pd.read_csv('../cleaned_dataset_without_na.csv', delimiter='|')\n",
    "data.head()"
   ]
  },
  {
   "cell_type": "code",
   "execution_count": 19,
   "metadata": {
    "ExecuteTime": {
     "end_time": "2024-12-03T16:52:13.741496200Z",
     "start_time": "2024-12-03T16:52:13.693971900Z"
    }
   },
   "outputs": [],
   "source": [
    "data = data.drop('title', axis=1)\n",
    "threshold_low = 5000  # Set your threshold value here\n",
    "threshold_high = 30000\n",
    "data = data[data['price_for_m2_in_PLN'] >= threshold_low]\n",
    "data = data[data['price_for_m2_in_PLN'] <= threshold_high]\n"
   ]
  },
  {
   "cell_type": "code",
   "execution_count": 20,
   "outputs": [],
   "source": [
    "# concatenating the city and district columns\n",
    "data['city_district'] = data['city'] + '_' + data['district']"
   ],
   "metadata": {
    "collapsed": false,
    "ExecuteTime": {
     "end_time": "2024-12-03T16:52:14.465103700Z",
     "start_time": "2024-12-03T16:52:14.449227600Z"
    }
   }
  },
  {
   "cell_type": "code",
   "execution_count": 21,
   "outputs": [],
   "source": [
    "# saving the number of occurences of each district in the dataset to a dictionary\n",
    "districts = data['city_district'].value_counts().to_dict()\n",
    "# replacing the district names with the number of occurences\n",
    "data['city_district'] = data['city_district'].map(districts)"
   ],
   "metadata": {
    "collapsed": false,
    "ExecuteTime": {
     "end_time": "2024-12-03T16:52:15.419730200Z",
     "start_time": "2024-12-03T16:52:15.397757100Z"
    }
   }
  },
  {
   "cell_type": "code",
   "execution_count": 22,
   "metadata": {
    "ExecuteTime": {
     "end_time": "2024-12-03T16:52:15.859014200Z",
     "start_time": "2024-12-03T16:52:15.818248100Z"
    }
   },
   "outputs": [],
   "source": [
    "data_numerical = data.drop(['city', 'district', 'type_of_market', 'type_of_building', 'floor', 'street'], axis=1)"
   ]
  },
  {
   "cell_type": "code",
   "execution_count": 23,
   "outputs": [],
   "source": [
    "data = data.drop(['city', 'district'], axis=1)"
   ],
   "metadata": {
    "collapsed": false,
    "ExecuteTime": {
     "end_time": "2024-12-03T16:52:19.706417200Z",
     "start_time": "2024-12-03T16:52:19.677175Z"
    }
   }
  },
  {
   "cell_type": "code",
   "execution_count": 25,
   "outputs": [
    {
     "data": {
      "text/plain": "     area  number_of_rooms floor type_of_market  parking  elevator  \\\n0   24.89              1.0   4-7      secondary        0         1   \n1   25.72              1.0     0      secondary        0         1   \n2   34.38              2.0   1-3      secondary        1         1   \n3  101.58              4.0   4-7      secondary        0         1   \n4   68.00              3.0   1-3      secondary        0         0   \n\n   year_of_creation  internet type_of_building  basement  price_for_m2_in_PLN  \\\n0            2022.0       1.0        Apartment       0.0             16749.98   \n1            2022.0       1.0        Apartment       0.0             18500.00   \n2            2022.0       1.0        Apartment       0.0             15997.67   \n3            1997.0       1.0        Apartment       0.0             11468.79   \n4            2000.0       1.0        Apartment       1.0             10279.41   \n\n   balcony  garden  terrace              street   latitude  longtitude  \\\n0        0       0        0           śląska 12  54.406171   18.576846   \n1        0       0        0           śląska 12  54.406171   18.576846   \n2        1       0        0  mariana kołodzieja  54.334542   18.585750   \n3        0       0        0    janusza korczaka  54.494118   18.543134   \n4        1       0        0            oliwkowa  54.471180   18.470508   \n\n   city_district  \n0            400  \n1            400  \n2            715  \n3            124  \n4           2663  ",
      "text/html": "<div>\n<style scoped>\n    .dataframe tbody tr th:only-of-type {\n        vertical-align: middle;\n    }\n\n    .dataframe tbody tr th {\n        vertical-align: top;\n    }\n\n    .dataframe thead th {\n        text-align: right;\n    }\n</style>\n<table border=\"1\" class=\"dataframe\">\n  <thead>\n    <tr style=\"text-align: right;\">\n      <th></th>\n      <th>area</th>\n      <th>number_of_rooms</th>\n      <th>floor</th>\n      <th>type_of_market</th>\n      <th>parking</th>\n      <th>elevator</th>\n      <th>year_of_creation</th>\n      <th>internet</th>\n      <th>type_of_building</th>\n      <th>basement</th>\n      <th>price_for_m2_in_PLN</th>\n      <th>balcony</th>\n      <th>garden</th>\n      <th>terrace</th>\n      <th>street</th>\n      <th>latitude</th>\n      <th>longtitude</th>\n      <th>city_district</th>\n    </tr>\n  </thead>\n  <tbody>\n    <tr>\n      <th>0</th>\n      <td>24.89</td>\n      <td>1.0</td>\n      <td>4-7</td>\n      <td>secondary</td>\n      <td>0</td>\n      <td>1</td>\n      <td>2022.0</td>\n      <td>1.0</td>\n      <td>Apartment</td>\n      <td>0.0</td>\n      <td>16749.98</td>\n      <td>0</td>\n      <td>0</td>\n      <td>0</td>\n      <td>śląska 12</td>\n      <td>54.406171</td>\n      <td>18.576846</td>\n      <td>400</td>\n    </tr>\n    <tr>\n      <th>1</th>\n      <td>25.72</td>\n      <td>1.0</td>\n      <td>0</td>\n      <td>secondary</td>\n      <td>0</td>\n      <td>1</td>\n      <td>2022.0</td>\n      <td>1.0</td>\n      <td>Apartment</td>\n      <td>0.0</td>\n      <td>18500.00</td>\n      <td>0</td>\n      <td>0</td>\n      <td>0</td>\n      <td>śląska 12</td>\n      <td>54.406171</td>\n      <td>18.576846</td>\n      <td>400</td>\n    </tr>\n    <tr>\n      <th>2</th>\n      <td>34.38</td>\n      <td>2.0</td>\n      <td>1-3</td>\n      <td>secondary</td>\n      <td>1</td>\n      <td>1</td>\n      <td>2022.0</td>\n      <td>1.0</td>\n      <td>Apartment</td>\n      <td>0.0</td>\n      <td>15997.67</td>\n      <td>1</td>\n      <td>0</td>\n      <td>0</td>\n      <td>mariana kołodzieja</td>\n      <td>54.334542</td>\n      <td>18.585750</td>\n      <td>715</td>\n    </tr>\n    <tr>\n      <th>3</th>\n      <td>101.58</td>\n      <td>4.0</td>\n      <td>4-7</td>\n      <td>secondary</td>\n      <td>0</td>\n      <td>1</td>\n      <td>1997.0</td>\n      <td>1.0</td>\n      <td>Apartment</td>\n      <td>0.0</td>\n      <td>11468.79</td>\n      <td>0</td>\n      <td>0</td>\n      <td>0</td>\n      <td>janusza korczaka</td>\n      <td>54.494118</td>\n      <td>18.543134</td>\n      <td>124</td>\n    </tr>\n    <tr>\n      <th>4</th>\n      <td>68.00</td>\n      <td>3.0</td>\n      <td>1-3</td>\n      <td>secondary</td>\n      <td>0</td>\n      <td>0</td>\n      <td>2000.0</td>\n      <td>1.0</td>\n      <td>Apartment</td>\n      <td>1.0</td>\n      <td>10279.41</td>\n      <td>1</td>\n      <td>0</td>\n      <td>0</td>\n      <td>oliwkowa</td>\n      <td>54.471180</td>\n      <td>18.470508</td>\n      <td>2663</td>\n    </tr>\n  </tbody>\n</table>\n</div>"
     },
     "execution_count": 25,
     "metadata": {},
     "output_type": "execute_result"
    }
   ],
   "source": [
    "data.head()"
   ],
   "metadata": {
    "collapsed": false,
    "ExecuteTime": {
     "end_time": "2024-12-03T16:54:25.384137400Z",
     "start_time": "2024-12-03T16:54:25.359574Z"
    }
   }
  },
  {
   "cell_type": "code",
   "execution_count": 24,
   "metadata": {
    "ExecuteTime": {
     "end_time": "2024-12-03T16:52:20.607025800Z",
     "start_time": "2024-12-03T16:52:20.527027700Z"
    }
   },
   "outputs": [],
   "source": [
    "A = data.drop(['price_for_m2_in_PLN', 'street'], axis=1)\n",
    "b = data['price_for_m2_in_PLN']\n",
    "X_train, X_test, y_train, y_test = train_test_split(A, b, test_size=0.2, random_state=0)"
   ]
  },
  {
   "cell_type": "code",
   "execution_count": 26,
   "metadata": {
    "ExecuteTime": {
     "end_time": "2024-12-03T16:55:24.965016600Z",
     "start_time": "2024-12-03T16:55:24.937251600Z"
    }
   },
   "outputs": [],
   "source": [
    "num_pipeline = make_pipeline(StandardScaler())\n",
    "cat_pipeline = make_pipeline(OneHotEncoder(handle_unknown=\"ignore\"))\n",
    "preprocessor = ColumnTransformer([(\"cat\", cat_pipeline, make_column_selector(dtype_include=object)),], remainder=num_pipeline)\n",
    "preprocessor = preprocessor.fit(X_train, y_train)\n",
    "X_train_preprocessed = preprocessor.transform(X_train)\n",
    "X_test_preprocessed = preprocessor.transform(X_test)"
   ]
  },
  {
   "cell_type": "code",
   "execution_count": 27,
   "metadata": {
    "ExecuteTime": {
     "end_time": "2024-12-03T16:55:56.843211100Z",
     "start_time": "2024-12-03T16:55:28.586992200Z"
    }
   },
   "outputs": [
    {
     "data": {
      "text/plain": "<Figure size 640x480 with 1 Axes>",
      "image/png": "[encoded data removed]"
     },
     "metadata": {},
     "output_type": "display_data"
    }
   ],
   "source": [
    "from sklearn.ensemble import GradientBoostingRegressor\n",
    "\n",
    "model_GB = GradientBoostingRegressor(learning_rate=0.1, max_depth=7, min_samples_split=5, n_estimators=1500, criterion='squared_error')\n",
    "model_GB.fit(X_train_preprocessed, y_train)\n",
    "y_pred_GB = model_GB.predict(X_test_preprocessed)\n",
    "# Scatter plot of actual vs predicted values\n",
    "plt.scatter(y_test, y_pred_GB, color=\"black\", label=\"Data Points\")\n",
    "\n",
    "# Plot a reference line (y = x) to show perfect predictions\n",
    "x = np.linspace(min(y_test), max(y_test), 100)\n",
    "plt.plot(x, x, color=\"blue\", linewidth=2, label=\"Perfect Fit (y=x)\")\n",
    "\n",
    "# Add labels and title\n",
    "plt.xlabel('Actual Values')\n",
    "plt.ylabel('Predicted Values')\n",
    "plt.title('Actual vs Predicted Values')\n",
    "\n",
    "# Display legend\n",
    "plt.legend()\n",
    "\n",
    "# Show the plot\n",
    "plt.show()"
   ]
  },
  {
   "cell_type": "code",
   "execution_count": 28,
   "metadata": {
    "ExecuteTime": {
     "end_time": "2024-12-03T16:55:56.850409Z",
     "start_time": "2024-12-03T16:55:56.841209400Z"
    }
   },
   "outputs": [
    {
     "data": {
      "text/plain": "np.float64(2106.2798197525144)"
     },
     "execution_count": 28,
     "metadata": {},
     "output_type": "execute_result"
    }
   ],
   "source": [
    "rmse_GB = root_mean_squared_error(y_test, y_pred_GB)\n",
    "rmse_GB"
   ]
  },
  {
   "cell_type": "code",
   "execution_count": 29,
   "metadata": {
    "ExecuteTime": {
     "end_time": "2024-12-03T16:55:56.859910100Z",
     "start_time": "2024-12-03T16:55:56.849412900Z"
    }
   },
   "outputs": [
    {
     "data": {
      "text/plain": "np.float64(0.13940846685243366)"
     },
     "execution_count": 29,
     "metadata": {},
     "output_type": "execute_result"
    }
   ],
   "source": [
    "rmsle_GB = root_mean_squared_log_error(y_test, y_pred_GB)\n",
    "rmsle_GB"
   ]
  },
  {
   "cell_type": "code",
   "execution_count": 30,
   "metadata": {
    "ExecuteTime": {
     "end_time": "2024-12-03T16:55:56.866970200Z",
     "start_time": "2024-12-03T16:55:56.859910100Z"
    }
   },
   "outputs": [
    {
     "data": {
      "text/plain": "np.float64(1180.2741262704708)"
     },
     "execution_count": 30,
     "metadata": {},
     "output_type": "execute_result"
    }
   ],
   "source": [
    "from sklearn.metrics import mean_absolute_error\n",
    "from sklearn.metrics import mean_absolute_percentage_error\n",
    "mae_GB = mean_absolute_error(y_test, y_pred_GB)\n",
    "mae_GB"
   ]
  },
  {
   "cell_type": "code",
   "execution_count": 31,
   "metadata": {
    "ExecuteTime": {
     "end_time": "2024-12-03T16:55:56.979981100Z",
     "start_time": "2024-12-03T16:55:56.866970200Z"
    }
   },
   "outputs": [
    {
     "data": {
      "text/plain": "np.float64(0.08352500128816216)"
     },
     "execution_count": 31,
     "metadata": {},
     "output_type": "execute_result"
    }
   ],
   "source": [
    "mape_GB = mean_absolute_percentage_error(y_test, y_pred_GB)\n",
    "mape_GB"
   ]
  },
  {
   "cell_type": "code",
   "execution_count": 32,
   "metadata": {
    "ExecuteTime": {
     "end_time": "2024-12-03T16:55:56.980978500Z",
     "start_time": "2024-12-03T16:55:56.872982900Z"
    }
   },
   "outputs": [
    {
     "data": {
      "text/plain": "0.8096682717609152"
     },
     "execution_count": 32,
     "metadata": {},
     "output_type": "execute_result"
    }
   ],
   "source": [
    "r2_gb = r2_score(y_test, y_pred_GB)\n",
    "r2_gb"
   ]
  },
  {
   "cell_type": "code",
   "execution_count": 33,
   "metadata": {
    "ExecuteTime": {
     "end_time": "2024-12-03T16:55:56.999207300Z",
     "start_time": "2024-12-03T16:55:56.880984900Z"
    }
   },
   "outputs": [
    {
     "data": {
      "text/plain": "['gradient_boost.pkl']"
     },
     "execution_count": 33,
     "metadata": {},
     "output_type": "execute_result"
    }
   ],
   "source": [
    "import joblib\n",
    "\n",
    "# Save the model to a file\n",
    "joblib.dump(model_GB, '../propertyApp/gradient_boost.pkl')"
   ]
  },
  {
   "cell_type": "code",
   "execution_count": 37,
   "outputs": [
    {
     "data": {
      "text/plain": "       area  number_of_rooms floor type_of_market  parking  elevator  \\\n1575  70.14              3.0   1-3      secondary        0         1   \n\n      year_of_creation  internet type_of_building  basement  balcony  garden  \\\n1575            2020.0       0.0        Apartment       0.0        0       0   \n\n      terrace   latitude  longtitude  city_district  \n1575        0  54.490386   18.423491            194  ",
      "text/html": "<div>\n<style scoped>\n    .dataframe tbody tr th:only-of-type {\n        vertical-align: middle;\n    }\n\n    .dataframe tbody tr th {\n        vertical-align: top;\n    }\n\n    .dataframe thead th {\n        text-align: right;\n    }\n</style>\n<table border=\"1\" class=\"dataframe\">\n  <thead>\n    <tr style=\"text-align: right;\">\n      <th></th>\n      <th>area</th>\n      <th>number_of_rooms</th>\n      <th>floor</th>\n      <th>type_of_market</th>\n      <th>parking</th>\n      <th>elevator</th>\n      <th>year_of_creation</th>\n      <th>internet</th>\n      <th>type_of_building</th>\n      <th>basement</th>\n      <th>balcony</th>\n      <th>garden</th>\n      <th>terrace</th>\n      <th>latitude</th>\n      <th>longtitude</th>\n      <th>city_district</th>\n    </tr>\n  </thead>\n  <tbody>\n    <tr>\n      <th>1575</th>\n      <td>70.14</td>\n      <td>3.0</td>\n      <td>1-3</td>\n      <td>secondary</td>\n      <td>0</td>\n      <td>1</td>\n      <td>2020.0</td>\n      <td>0.0</td>\n      <td>Apartment</td>\n      <td>0.0</td>\n      <td>0</td>\n      <td>0</td>\n      <td>0</td>\n      <td>54.490386</td>\n      <td>18.423491</td>\n      <td>194</td>\n    </tr>\n  </tbody>\n</table>\n</div>"
     },
     "execution_count": 37,
     "metadata": {},
     "output_type": "execute_result"
    }
   ],
   "source": [
    "randomforest = joblib.load('../propertyApp/gradient_boost.pkl')\n",
    "row = X_test.iloc[[0]]\n",
    "row"
   ],
   "metadata": {
    "collapsed": false,
    "ExecuteTime": {
     "end_time": "2024-12-03T16:59:32.190401200Z",
     "start_time": "2024-12-03T16:59:32.023872300Z"
    }
   }
  },
  {
   "cell_type": "code",
   "execution_count": 38,
   "outputs": [],
   "source": [
    "row_preprocessed = preprocessor.transform(row)"
   ],
   "metadata": {
    "collapsed": false,
    "ExecuteTime": {
     "end_time": "2024-12-03T16:59:34.595407800Z",
     "start_time": "2024-12-03T16:59:34.570328600Z"
    }
   }
  },
  {
   "cell_type": "code",
   "execution_count": 39,
   "outputs": [
    {
     "data": {
      "text/plain": "array([[ 0.        ,  1.        ,  0.        ,  0.        ,  0.        ,\n         1.        ,  1.        ,  0.        ,  0.46544785,  0.35026902,\n        -1.230844  ,  0.90801327,  0.54669575, -0.87961083, -0.75232781,\n        -1.22614859, -0.38554519, -0.31495136,  0.3886627 , -0.21813504,\n        -0.69243588]])"
     },
     "execution_count": 39,
     "metadata": {},
     "output_type": "execute_result"
    }
   ],
   "source": [
    "row_preprocessed"
   ],
   "metadata": {
    "collapsed": false,
    "ExecuteTime": {
     "end_time": "2024-12-03T16:59:35.597433Z",
     "start_time": "2024-12-03T16:59:35.566000300Z"
    }
   }
  },
  {
   "cell_type": "code",
   "execution_count": null,
   "outputs": [],
   "source": [],
   "metadata": {
    "collapsed": false
   }
  }
 ],
 "metadata": {
  "kernelspec": {
   "display_name": "Python 3",
   "language": "python",
   "name": "python3"
  },
  "language_info": {
   "codemirror_mode": {
    "name": "ipython",
    "version": 3
   },
   "file_extension": ".py",
   "mimetype": "text/x-python",
   "name": "python",
   "nbconvert_exporter": "python",
   "pygments_lexer": "ipython3",
   "version": "3.11.7"
  }
 },
 "nbformat": 4,
 "nbformat_minor": 2
}
