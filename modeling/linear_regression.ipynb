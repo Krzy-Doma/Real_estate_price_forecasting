{
 "cells": [
  {
   "cell_type": "code",
   "execution_count": 1,
   "metadata": {},
   "outputs": [],
   "source": [
    "from sklearn.linear_model import LinearRegression\n",
    "from sklearn.model_selection import train_test_split\n",
    "from sklearn.preprocessing import StandardScaler, OneHotEncoder\n",
    "from sklearn.pipeline import make_pipeline\n",
    "from sklearn.compose import ColumnTransformer, make_column_selector\n",
    "from sklearn.metrics import mean_squared_error\n",
    "from sklearn.metrics import root_mean_squared_error\n",
    "from sklearn.metrics import root_mean_squared_log_error\n",
    "from sklearn.metrics import r2_score\n",
    "\n",
    "import pandas as pd\n",
    "import numpy as np\n",
    "import matplotlib.pyplot as plt"
   ]
  },
  {
   "cell_type": "code",
   "execution_count": 2,
   "metadata": {},
   "outputs": [
    {
     "data": {
      "text/html": [
       "<div>\n",
       "<style scoped>\n",
       "    .dataframe tbody tr th:only-of-type {\n",
       "        vertical-align: middle;\n",
       "    }\n",
       "\n",
       "    .dataframe tbody tr th {\n",
       "        vertical-align: top;\n",
       "    }\n",
       "\n",
       "    .dataframe thead th {\n",
       "        text-align: right;\n",
       "    }\n",
       "</style>\n",
       "<table border=\"1\" class=\"dataframe\">\n",
       "  <thead>\n",
       "    <tr style=\"text-align: right;\">\n",
       "      <th></th>\n",
       "      <th>title</th>\n",
       "      <th>area</th>\n",
       "      <th>number_of_rooms</th>\n",
       "      <th>floor</th>\n",
       "      <th>type_of_market</th>\n",
       "      <th>parking</th>\n",
       "      <th>elevator</th>\n",
       "      <th>year_of_creation</th>\n",
       "      <th>internet</th>\n",
       "      <th>type_of_building</th>\n",
       "      <th>basement</th>\n",
       "      <th>price_for_m2_in_PLN</th>\n",
       "      <th>balcony</th>\n",
       "      <th>garden</th>\n",
       "      <th>terrace</th>\n",
       "      <th>street</th>\n",
       "      <th>district</th>\n",
       "      <th>city</th>\n",
       "      <th>latitude</th>\n",
       "      <th>longtitude</th>\n",
       "    </tr>\n",
       "  </thead>\n",
       "  <tbody>\n",
       "    <tr>\n",
       "      <th>0</th>\n",
       "      <td>Apartament inwestycyjny, ostatnie piętro, k/Sk...</td>\n",
       "      <td>24.89</td>\n",
       "      <td>1.0</td>\n",
       "      <td>4-6</td>\n",
       "      <td>secondary</td>\n",
       "      <td>0</td>\n",
       "      <td>1</td>\n",
       "      <td>2022.0</td>\n",
       "      <td>1.0</td>\n",
       "      <td>Mieszkanie</td>\n",
       "      <td>0.0</td>\n",
       "      <td>16749.98</td>\n",
       "      <td>0</td>\n",
       "      <td>0</td>\n",
       "      <td>0</td>\n",
       "      <td>śląska 12</td>\n",
       "      <td>przymorze</td>\n",
       "      <td>gdansk</td>\n",
       "      <td>54.406171</td>\n",
       "      <td>18.576846</td>\n",
       "    </tr>\n",
       "    <tr>\n",
       "      <th>1</th>\n",
       "      <td>Apartament inwestycyjny Śląska 12 z umową najmu!</td>\n",
       "      <td>25.72</td>\n",
       "      <td>1.0</td>\n",
       "      <td>0</td>\n",
       "      <td>secondary</td>\n",
       "      <td>0</td>\n",
       "      <td>1</td>\n",
       "      <td>2022.0</td>\n",
       "      <td>1.0</td>\n",
       "      <td>Mieszkanie</td>\n",
       "      <td>0.0</td>\n",
       "      <td>18500.00</td>\n",
       "      <td>0</td>\n",
       "      <td>0</td>\n",
       "      <td>0</td>\n",
       "      <td>śląska 12</td>\n",
       "      <td>przymorze</td>\n",
       "      <td>gdansk</td>\n",
       "      <td>54.406171</td>\n",
       "      <td>18.576846</td>\n",
       "    </tr>\n",
       "    <tr>\n",
       "      <th>2</th>\n",
       "      <td>Nowe mieszkanie, wykończone - Mariana Kołodzieja</td>\n",
       "      <td>34.38</td>\n",
       "      <td>2.0</td>\n",
       "      <td>1-3</td>\n",
       "      <td>secondary</td>\n",
       "      <td>1</td>\n",
       "      <td>1</td>\n",
       "      <td>2022.0</td>\n",
       "      <td>1.0</td>\n",
       "      <td>Mieszkanie</td>\n",
       "      <td>0.0</td>\n",
       "      <td>15997.67</td>\n",
       "      <td>1</td>\n",
       "      <td>0</td>\n",
       "      <td>0</td>\n",
       "      <td>mariana kołodzieja</td>\n",
       "      <td>ujeścisko-łostowice</td>\n",
       "      <td>gdansk</td>\n",
       "      <td>54.334542</td>\n",
       "      <td>18.585750</td>\n",
       "    </tr>\n",
       "    <tr>\n",
       "      <th>3</th>\n",
       "      <td>Wyjątkowe mieszkanie w centrum Gdyni, blisko l...</td>\n",
       "      <td>101.58</td>\n",
       "      <td>4.0</td>\n",
       "      <td>4-6</td>\n",
       "      <td>secondary</td>\n",
       "      <td>0</td>\n",
       "      <td>1</td>\n",
       "      <td>1997.0</td>\n",
       "      <td>1.0</td>\n",
       "      <td>Mieszkanie</td>\n",
       "      <td>0.0</td>\n",
       "      <td>11468.79</td>\n",
       "      <td>0</td>\n",
       "      <td>0</td>\n",
       "      <td>0</td>\n",
       "      <td>janusza korczaka</td>\n",
       "      <td>redłowo</td>\n",
       "      <td>gdynia</td>\n",
       "      <td>54.494118</td>\n",
       "      <td>18.543134</td>\n",
       "    </tr>\n",
       "    <tr>\n",
       "      <th>4</th>\n",
       "      <td>Mieszkanie w świetnej lokalizacji Gdynia Dąbrowa</td>\n",
       "      <td>68.00</td>\n",
       "      <td>3.0</td>\n",
       "      <td>1-3</td>\n",
       "      <td>secondary</td>\n",
       "      <td>0</td>\n",
       "      <td>0</td>\n",
       "      <td>2000.0</td>\n",
       "      <td>1.0</td>\n",
       "      <td>Mieszkanie</td>\n",
       "      <td>1.0</td>\n",
       "      <td>10279.41</td>\n",
       "      <td>1</td>\n",
       "      <td>0</td>\n",
       "      <td>0</td>\n",
       "      <td>oliwkowa</td>\n",
       "      <td>dąbrowa</td>\n",
       "      <td>gdynia</td>\n",
       "      <td>54.471180</td>\n",
       "      <td>18.470508</td>\n",
       "    </tr>\n",
       "  </tbody>\n",
       "</table>\n",
       "</div>"
      ],
      "text/plain": [
       "                                               title    area  number_of_rooms  \\\n",
       "0  Apartament inwestycyjny, ostatnie piętro, k/Sk...   24.89              1.0   \n",
       "1   Apartament inwestycyjny Śląska 12 z umową najmu!   25.72              1.0   \n",
       "2   Nowe mieszkanie, wykończone - Mariana Kołodzieja   34.38              2.0   \n",
       "3  Wyjątkowe mieszkanie w centrum Gdyni, blisko l...  101.58              4.0   \n",
       "4   Mieszkanie w świetnej lokalizacji Gdynia Dąbrowa   68.00              3.0   \n",
       "\n",
       "  floor type_of_market  parking  elevator  year_of_creation  internet  \\\n",
       "0   4-6      secondary        0         1            2022.0       1.0   \n",
       "1     0      secondary        0         1            2022.0       1.0   \n",
       "2   1-3      secondary        1         1            2022.0       1.0   \n",
       "3   4-6      secondary        0         1            1997.0       1.0   \n",
       "4   1-3      secondary        0         0            2000.0       1.0   \n",
       "\n",
       "  type_of_building  basement  price_for_m2_in_PLN  balcony  garden  terrace  \\\n",
       "0       Mieszkanie       0.0             16749.98        0       0        0   \n",
       "1       Mieszkanie       0.0             18500.00        0       0        0   \n",
       "2       Mieszkanie       0.0             15997.67        1       0        0   \n",
       "3       Mieszkanie       0.0             11468.79        0       0        0   \n",
       "4       Mieszkanie       1.0             10279.41        1       0        0   \n",
       "\n",
       "               street             district    city   latitude  longtitude  \n",
       "0           śląska 12            przymorze  gdansk  54.406171   18.576846  \n",
       "1           śląska 12            przymorze  gdansk  54.406171   18.576846  \n",
       "2  mariana kołodzieja  ujeścisko-łostowice  gdansk  54.334542   18.585750  \n",
       "3    janusza korczaka              redłowo  gdynia  54.494118   18.543134  \n",
       "4            oliwkowa              dąbrowa  gdynia  54.471180   18.470508  "
      ]
     },
     "execution_count": 2,
     "metadata": {},
     "output_type": "execute_result"
    }
   ],
   "source": [
    "data = pd.read_csv('../cleaned_dataset_without_na.csv', delimiter='|')\n",
    "data.head()"
   ]
  },
  {
   "cell_type": "code",
   "execution_count": 3,
   "metadata": {},
   "outputs": [],
   "source": [
    "data = data.drop('title', axis=1)\n",
    "threshold_low = 5000  # Set your threshold value here\n",
    "threshold_high = 30000\n",
    "data = data[data['price_for_m2_in_PLN'] >= threshold_low]\n",
    "data = data[data['price_for_m2_in_PLN'] <= threshold_high]\n"
   ]
  },
  {
   "cell_type": "code",
   "execution_count": 4,
   "metadata": {},
   "outputs": [],
   "source": [
    "data_numerical = data.drop(['city', 'district', 'type_of_market', 'type_of_building', 'floor', 'street'], axis=1)"
   ]
  },
  {
   "cell_type": "code",
   "execution_count": 5,
   "metadata": {},
   "outputs": [],
   "source": [
    "A = data.drop(['price_for_m2_in_PLN', 'street'], axis=1)\n",
    "b = data['price_for_m2_in_PLN']\n",
    "X_train, X_test, y_train, y_test = train_test_split(A, b, test_size=0.2, random_state=0)"
   ]
  },
  {
   "cell_type": "code",
   "execution_count": 6,
   "metadata": {},
   "outputs": [],
   "source": [
    "num_pipeline = make_pipeline(StandardScaler())\n",
    "cat_pipeline = make_pipeline(OneHotEncoder(handle_unknown=\"ignore\"))\n",
    "preprocessor = ColumnTransformer([(\"cat\", cat_pipeline, make_column_selector(dtype_include=object)),], remainder=num_pipeline)\n",
    "preprocessor = preprocessor.fit(X_train, y_train)\n",
    "X_train_preprocessed = preprocessor.transform(X_train)\n",
    "X_test_preprocessed = preprocessor.transform(X_test)"
   ]
  },
  {
   "cell_type": "code",
   "execution_count": 7,
   "metadata": {},
   "outputs": [],
   "source": [
    "model = LinearRegression()\n",
    "model.fit(X_train_preprocessed, y_train)\n",
    "y_pred = model.predict(X_test_preprocessed)"
   ]
  },
  {
   "cell_type": "code",
   "execution_count": 8,
   "metadata": {},
   "outputs": [
    {
     "name": "stdout",
     "output_type": "stream",
     "text": [
      "One-Hot Encoding Model - Mean Squared Error: 11555182.07551038\n"
     ]
    }
   ],
   "source": [
    "mse = mean_squared_error(y_test, y_pred)\n",
    "print(f\"One-Hot Encoding Model - Mean Squared Error: {mse}\")"
   ]
  },
  {
   "cell_type": "code",
   "execution_count": 9,
   "metadata": {},
   "outputs": [
    {
     "name": "stdout",
     "output_type": "stream",
     "text": [
      "RMSE:  3399.2914078540516\n"
     ]
    }
   ],
   "source": [
    "rmse = root_mean_squared_error(y_test, y_pred)\n",
    "print(\"RMSE: \", rmse)"
   ]
  },
  {
   "cell_type": "code",
   "execution_count": 10,
   "metadata": {},
   "outputs": [
    {
     "data": {
      "text/plain": [
       "0.2226996994943309"
      ]
     },
     "execution_count": 10,
     "metadata": {},
     "output_type": "execute_result"
    }
   ],
   "source": [
    "rmsle = root_mean_squared_log_error(y_test, y_pred)\n",
    "rmsle"
   ]
  },
  {
   "cell_type": "code",
   "execution_count": 11,
   "metadata": {},
   "outputs": [
    {
     "data": {
      "text/plain": [
       "{'cat__floor_0': -360.4633495680937,\n",
       " 'cat__floor_1-3': -361.72450999218273,\n",
       " 'cat__floor_4-6': -562.6126104464112,\n",
       " 'cat__floor_8+': 1284.8004700079107,\n",
       " 'cat__type_of_market_primary': -886.7050984486643,\n",
       " 'cat__type_of_market_secondary': 886.7050984579556,\n",
       " 'cat__type_of_building_Dom': -1175.5952892064756,\n",
       " 'cat__type_of_building_Mieszkanie': 1175.5952892065352,\n",
       " 'cat__district_aniołki': 3093.6434559391346,\n",
       " 'cat__district_babie doły': -3019.292717809314,\n",
       " 'cat__district_brodwino': -3856.52792247177,\n",
       " 'cat__district_brzeźno': 4273.4229655220615,\n",
       " 'cat__district_brętowo': -447.2698596226107,\n",
       " 'cat__district_chełm': -1809.2289096059965,\n",
       " 'cat__district_chwarzno-wiczlino': -4158.917873329153,\n",
       " 'cat__district_chylonia': -2444.55563687019,\n",
       " 'cat__district_cisowa': -3486.8629163969686,\n",
       " 'cat__district_dolny sopot': 5313.399260926214,\n",
       " 'cat__district_działki leśne': 1194.4150623700914,\n",
       " 'cat__district_dąbrowa': -1703.8521830255133,\n",
       " 'cat__district_grabówek': -611.5192102107399,\n",
       " 'cat__district_górny sopot': 373.6243178411014,\n",
       " 'cat__district_jasień': -3278.690490760384,\n",
       " 'cat__district_kamienna góra': 5818.261038216869,\n",
       " 'cat__district_kamienny potok': -1512.1796600862428,\n",
       " 'cat__district_karlikowo': 1498.0561296059416,\n",
       " 'cat__district_karwiny': -2483.191018305061,\n",
       " 'cat__district_kokoszki': -4499.377580212893,\n",
       " 'cat__district_leszczynki': -1550.8401371197633,\n",
       " 'cat__district_letnica': -664.6985430122531,\n",
       " 'cat__district_matarnia': -1875.5599895072132,\n",
       " 'cat__district_mały kack': 1317.282434725995,\n",
       " 'cat__district_młyniska': 4372.932212597972,\n",
       " 'cat__district_nowy port': 18.581970359828365,\n",
       " 'cat__district_obłuże': -3455.195456778378,\n",
       " 'cat__district_oksywie': -2563.0370374772474,\n",
       " 'cat__district_oliwa': 6094.321818165281,\n",
       " 'cat__district_olszynka': -778.1192078122702,\n",
       " 'cat__district_orunia górna - gdańsk południe': -4298.071797148047,\n",
       " 'cat__district_orunia-św. wojciech-lipce': -2801.0736217434796,\n",
       " 'cat__district_orłowo': 5726.601133447852,\n",
       " 'cat__district_osiedle mickiewicza': 2744.123173380836,\n",
       " 'cat__district_osowa': -3640.510040852417,\n",
       " 'cat__district_piecki-migowo': -1480.0196107971587,\n",
       " 'cat__district_pogórze': -4185.134833386559,\n",
       " 'cat__district_przeróbka': 1224.0309442572584,\n",
       " 'cat__district_przylesie': -1247.9912920856534,\n",
       " 'cat__district_przymorze': 2744.7678985319844,\n",
       " 'cat__district_pustki cisowskie-demptowo': -4414.804275516611,\n",
       " 'cat__district_redłowo': 1894.0092580809574,\n",
       " 'cat__district_rudniki': -2721.1440001519904,\n",
       " 'cat__district_siedlce': 1083.1238174934458,\n",
       " 'cat__district_stogi': -1867.858782229518,\n",
       " 'cat__district_strzyża': 3388.7413105473856,\n",
       " 'cat__district_suchanino': 1669.0374521320264,\n",
       " 'cat__district_ujeścisko-łostowice': -3963.399829917505,\n",
       " 'cat__district_vii dwór': 2818.9988118858755,\n",
       " 'cat__district_wielki kack': -3859.048738132221,\n",
       " 'cat__district_witomino': -1827.218298912372,\n",
       " 'cat__district_wrzeszcz': 3011.7627885498823,\n",
       " 'cat__district_wrzeszcz dolny': 3935.1404059316037,\n",
       " 'cat__district_wrzeszcz górny': 2504.876716874767,\n",
       " 'cat__district_wyspa sobieszewska': 139.81268221269048,\n",
       " 'cat__district_wzgórze św. maksymiliana': 1731.8844510979125,\n",
       " 'cat__district_zaspa': 2442.3009664194915,\n",
       " 'cat__district_śródmieście': 4940.48518618349,\n",
       " 'cat__district_świemirowo': 1029.612748370702,\n",
       " 'cat__district_Żabianka-Wejhera-Jelitkowo-Tysiąclecia': 4107.941059619595,\n",
       " 'cat__city_gdansk': -2492.31333375161,\n",
       " 'cat__city_gdynia': -1849.8034217215852,\n",
       " 'cat__city_sopot': 4342.116755481685,\n",
       " 'remainder__area': 261.07161017088504,\n",
       " 'remainder__number_of_rooms': -860.4623462129244,\n",
       " 'remainder__parking': 393.30152259546446,\n",
       " 'remainder__elevator': -2.704385687912703,\n",
       " 'remainder__year_of_creation': 2139.392964688554,\n",
       " 'remainder__internet': -144.64531231013297,\n",
       " 'remainder__basement': -246.1295591833132,\n",
       " 'remainder__balcony': -259.8066504637496,\n",
       " 'remainder__garden': 43.83187197654004,\n",
       " 'remainder__terrace': 173.46649162397821,\n",
       " 'remainder__latitude': 37.758107398604565,\n",
       " 'remainder__longtitude': -23.85743902274345}"
      ]
     },
     "execution_count": 11,
     "metadata": {},
     "output_type": "execute_result"
    }
   ],
   "source": [
    "coefficients = model.coef_\n",
    "feature_names = preprocessor.get_feature_names_out()\n",
    "d = {feature_names[i]: coefficients[i] for i in range(len(feature_names))}\n",
    "d"
   ]
  },
  {
   "cell_type": "code",
   "execution_count": 12,
   "metadata": {},
   "outputs": [
    {
     "data": {
      "image/png": "[encoded data removed]",
      "text/plain": [
       "<Figure size 640x480 with 1 Axes>"
      ]
     },
     "metadata": {},
     "output_type": "display_data"
    }
   ],
   "source": [
    "# Scatter plot of actual vs predicted values\n",
    "plt.scatter(y_test, y_pred, color=\"black\", label=\"Data Points\")\n",
    "\n",
    "# Plot a reference line (y = x) to show perfect predictions\n",
    "x = np.linspace(min(y_test), max(y_test), 100)\n",
    "plt.plot(x, x, color=\"blue\", linewidth=2, label=\"Perfect Fit (y=x)\")\n",
    "\n",
    "# Add labels and title\n",
    "plt.xlabel('Actual Values')\n",
    "plt.ylabel('Predicted Values')\n",
    "plt.title('Actual vs Predicted Values')\n",
    "\n",
    "# Display legend\n",
    "plt.legend()\n",
    "\n",
    "# Show the plot\n",
    "plt.show()"
   ]
  },
  {
   "cell_type": "code",
   "execution_count": 13,
   "metadata": {},
   "outputs": [
    {
     "data": {
      "text/plain": [
       "0.522712066948386"
      ]
     },
     "execution_count": 13,
     "metadata": {},
     "output_type": "execute_result"
    }
   ],
   "source": [
    "r2_lr = r2_score(y_test, y_pred)\n",
    "r2_lr"
   ]
  }
 ],
 "metadata": {
  "kernelspec": {
   "display_name": "Python 3",
   "language": "python",
   "name": "python3"
  },
  "language_info": {
   "codemirror_mode": {
    "name": "ipython",
    "version": 3
   },
   "file_extension": ".py",
   "mimetype": "text/x-python",
   "name": "python",
   "nbconvert_exporter": "python",
   "pygments_lexer": "ipython3",
   "version": "3.11.7"
  }
 },
 "nbformat": 4,
 "nbformat_minor": 2
}
